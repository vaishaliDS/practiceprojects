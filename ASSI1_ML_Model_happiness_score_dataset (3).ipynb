{
 "cells": [
  {
   "cell_type": "code",
   "execution_count": null,
   "id": "b2654290",
   "metadata": {},
   "outputs": [],
   "source": [
    "import pandas as pd\n",
    "import numpy as np\n",
    "import seaborn as sns\n",
    "import matplotlib.pyplot as plt\n",
    "import warnings\n",
    "from sklearn.linear_model import LinearRegression\n",
    "from sklearn.metrics import mean_squared_error , mean_absolute_error,r2_score\n",
    "from sklearn.model_selection import train_test_split\n",
    "warnings.filterwarnings('ignore')\n",
    "%matplotlib inline"
   ]
  },
  {
   "cell_type": "code",
   "execution_count": null,
   "id": "a5d7c2d8",
   "metadata": {},
   "outputs": [],
   "source": [
    "df=pd.read_csv(\"happiness_score_dataset.csv\")\n",
    "df.head(5)"
   ]
  },
  {
   "cell_type": "code",
   "execution_count": null,
   "id": "9a41c3f3",
   "metadata": {},
   "outputs": [],
   "source": [
    "df.columns"
   ]
  },
  {
   "cell_type": "code",
   "execution_count": null,
   "id": "e8f96616",
   "metadata": {
    "scrolled": true
   },
   "outputs": [],
   "source": [
    "#droping 'Standard Error' column as we are not using it\n",
    "df.drop('Standard Error' ,axis=1 ,inplace=True )"
   ]
  },
  {
   "cell_type": "code",
   "execution_count": null,
   "id": "2fc3af10",
   "metadata": {},
   "outputs": [],
   "source": [
    "df=df[['Country', 'Region', 'Happiness Rank',\n",
    "       'Economy (GDP per Capita)', 'Family',\n",
    "       'Health (Life Expectancy)', 'Freedom', 'Trust (Government Corruption)',\n",
    "       'Generosity', 'Dystopia Residual', 'Happiness Score']]"
   ]
  },
  {
   "cell_type": "code",
   "execution_count": null,
   "id": "e71388ac",
   "metadata": {},
   "outputs": [],
   "source": [
    "df.head(3)"
   ]
  },
  {
   "cell_type": "code",
   "execution_count": null,
   "id": "9d9de70c",
   "metadata": {
    "scrolled": true
   },
   "outputs": [],
   "source": [
    "df.isnull()"
   ]
  },
  {
   "cell_type": "code",
   "execution_count": null,
   "id": "7a98d0c7",
   "metadata": {},
   "outputs": [],
   "source": [
    "df.isnull().sum()"
   ]
  },
  {
   "cell_type": "code",
   "execution_count": null,
   "id": "ad69486c",
   "metadata": {},
   "outputs": [],
   "source": [
    "# find unique entries in region column\n",
    "unique_df=df['Region'].unique()\n",
    "unique_df"
   ]
  },
  {
   "cell_type": "markdown",
   "id": "9787dfa0",
   "metadata": {},
   "source": [
    "**EDA**\n",
    "\n",
    "\n",
    "Scatterplot"
   ]
  },
  {
   "cell_type": "code",
   "execution_count": null,
   "id": "a84f3d5d",
   "metadata": {
    "scrolled": true
   },
   "outputs": [],
   "source": [
    "df.columns"
   ]
  },
  {
   "cell_type": "code",
   "execution_count": null,
   "id": "16f6192d",
   "metadata": {},
   "outputs": [],
   "source": [
    "sns.set_style(\"darkgrid\")\n",
    "plt.rcParams['figure.figsize']=(8,5)\n",
    "plt.rcParams['figure.facecolor']=\"FFFFCB\""
   ]
  },
  {
   "cell_type": "code",
   "execution_count": null,
   "id": "f8219427",
   "metadata": {},
   "outputs": [],
   "source": [
    "sns.pairplot(df)"
   ]
  },
  {
   "cell_type": "raw",
   "id": "e12d10dd",
   "metadata": {},
   "source": [
    "observation : from above plot we can see All features  has positive correlation with target"
   ]
  },
  {
   "cell_type": "code",
   "execution_count": null,
   "id": "42e1927b",
   "metadata": {
    "scrolled": true
   },
   "outputs": [],
   "source": [
    "plt.rcParams['figure.figsize']=(12,7)\n",
    "sns.scatterplot(y='Happiness Score' , x='Economy (GDP per Capita)',  hue='Region' ,data=df)\n",
    "plt.xlabel='Happiness Score'\n",
    "plt.ylabel='GDP per Capita'\n"
   ]
  },
  {
   "cell_type": "raw",
   "id": "4fd8cc13",
   "metadata": {},
   "source": [
    "observations:\n",
    "1)sub_saharan region has lowest GDP per capits(0-0.75) and Happiness score (3-5).\n",
    "2)Westrn Europe and North America regions has highest GDP per capita(1.2-1.5) and Happiness score (4.8 -7.8)."
   ]
  },
  {
   "cell_type": "code",
   "execution_count": null,
   "id": "d37ac93f",
   "metadata": {},
   "outputs": [],
   "source": [
    "region_grps=df.groupby(\"Region\")['Economy (GDP per Capita)'].sum()\n",
    "region_grps"
   ]
  },
  {
   "cell_type": "code",
   "execution_count": null,
   "id": "e751aec2",
   "metadata": {},
   "outputs": [],
   "source": [
    "plt.figure(figsize=(10,8))\n",
    "region_grps.plot.pie()\n",
    "plt.title('GDP by region')"
   ]
  },
  {
   "cell_type": "code",
   "execution_count": null,
   "id": "e549a3a1",
   "metadata": {},
   "outputs": [],
   "source": [
    "#total countries in each region\n",
    "cuntry_region= df.groupby('Region')['Country'].count()\n",
    "cuntry_region"
   ]
  },
  {
   "cell_type": "code",
   "execution_count": null,
   "id": "449f358c",
   "metadata": {},
   "outputs": [],
   "source": [
    "cor=df.corr()"
   ]
  },
  {
   "cell_type": "code",
   "execution_count": null,
   "id": "25d94a74",
   "metadata": {
    "scrolled": false
   },
   "outputs": [],
   "source": [
    "sns.heatmap(cor,annot=True)"
   ]
  },
  {
   "cell_type": "markdown",
   "id": "cb4d31eb",
   "metadata": {},
   "source": [
    "Observation : There is -ve correlation between Happiness Score and Happiness Rank .\n",
    "            Economy (GDP Per capita) has heighest +ve corelation with Hapiness score."
   ]
  },
  {
   "cell_type": "code",
   "execution_count": null,
   "id": "098c4163",
   "metadata": {
    "scrolled": false
   },
   "outputs": [],
   "source": [
    "cor"
   ]
  },
  {
   "cell_type": "markdown",
   "id": "e7fd3205",
   "metadata": {},
   "source": [
    "#Lets check the data distribution in all columns"
   ]
  },
  {
   "cell_type": "code",
   "execution_count": null,
   "id": "5b256ba7",
   "metadata": {},
   "outputs": [],
   "source": [
    "df.plot(kind='density',subplots =True,layout =(4,3),figsize =(15,12))\n",
    "\n",
    "plt.show()"
   ]
  },
  {
   "cell_type": "code",
   "execution_count": null,
   "id": "f1a9d055",
   "metadata": {},
   "outputs": [],
   "source": [
    "\n",
    "from sklearn.linear_model import LinearRegression\n",
    "from sklearn.metrics import accuracy_score, confusion_matrix ,classification_report\n",
    "from sklearn.model_selection import train_test_split"
   ]
  },
  {
   "cell_type": "code",
   "execution_count": null,
   "id": "5993fa80",
   "metadata": {},
   "outputs": [],
   "source": [
    "x=df.drop(['Country', 'Region','Happiness Score'],axis=1)\n",
    "\n",
    "y=df['Happiness Score']\n",
    "x.columns"
   ]
  },
  {
   "cell_type": "code",
   "execution_count": null,
   "id": "5b9079a4",
   "metadata": {},
   "outputs": [],
   "source": [
    "\n",
    "print(x.shape)\n",
    "print(y.shape)"
   ]
  },
  {
   "cell_type": "code",
   "execution_count": null,
   "id": "514f4bca",
   "metadata": {
    "scrolled": true
   },
   "outputs": [],
   "source": [
    "#checking skewness\n",
    "\n",
    "x.skew()"
   ]
  },
  {
   "cell_type": "markdown",
   "id": "e9799606",
   "metadata": {},
   "source": [
    "Observation\n",
    "#acceptable range of is -0.5 - 0.5\n",
    "we can see skewness in Family ,Health (Life Expectancy),Trust (Government Corruption), Generosity"
   ]
  },
  {
   "cell_type": "code",
   "execution_count": null,
   "id": "12617ff0",
   "metadata": {},
   "outputs": [],
   "source": []
  },
  {
   "cell_type": "code",
   "execution_count": null,
   "id": "ce20b726",
   "metadata": {
    "scrolled": true
   },
   "outputs": [],
   "source": [
    "from sklearn.preprocessing import power_transform\n",
    "\n",
    "\n",
    "x_new= power_transform(x_skew)\n",
    "\n",
    "x=pd.DataFrame(x_new )\n",
    "#chk skewness after power transform\n",
    "print(x.skew())\n"
   ]
  },
  {
   "cell_type": "markdown",
   "id": "cd76b4c6",
   "metadata": {},
   "source": [
    "Observation: we can see skewness in data is in acceptable range (0.5 to -0.5) . so we can go ahead."
   ]
  },
  {
   "cell_type": "code",
   "execution_count": null,
   "id": "06819d6e",
   "metadata": {
    "scrolled": true
   },
   "outputs": [],
   "source": [
    "#checking outliers\n",
    "#boxplot for checking outliers\n",
    "x.boxplot(figsize=(20,8))\n",
    "\n",
    "plt.show()\n"
   ]
  },
  {
   "cell_type": "markdown",
   "id": "1b052078",
   "metadata": {},
   "source": [
    "observation :we can see there are few outliers in  'Generosity','Dystopia Residual'  but they are not very far from lower and upper whiskers so no problem ."
   ]
  },
  {
   "cell_type": "code",
   "execution_count": null,
   "id": "0e31e8a5",
   "metadata": {},
   "outputs": [],
   "source": [
    "#to normalize data\n",
    "from sklearn.preprocessing import StandardScaler\n",
    "sc=StandardScaler()\n",
    "x=sc.fit_transform(x)\n",
    "x"
   ]
  },
  {
   "cell_type": "code",
   "execution_count": null,
   "id": "682dea8b",
   "metadata": {},
   "outputs": [],
   "source": [
    "Lr=LinearRegression()\n",
    "\n",
    "x_train,x_test,y_train,y_test=train_test_split(x,y,test_size=0.20,random_state=42)\n",
    "    "
   ]
  },
  {
   "cell_type": "code",
   "execution_count": null,
   "id": "2609e9ed",
   "metadata": {},
   "outputs": [],
   "source": [
    "Lr.fit(x_train,y_train)"
   ]
  },
  {
   "cell_type": "code",
   "execution_count": null,
   "id": "83aa4299",
   "metadata": {},
   "outputs": [],
   "source": [
    "#putting together coefficient and their value names\n",
    "Lr_coef=Lr.coef_\n",
    "coef_df=pd.DataFrame()\n",
    "coef_df[\"Column_name\"]=['Happiness Rank', 'Economy (GDP per Capita)', 'Family',\n",
    "       'Health (Life Expectancy)', 'Freedom', 'Trust (Government Corruption)',\n",
    "       'Generosity', 'Dystopia Residual']\n",
    "coef_df[\"Coefficient_value\"]=Lr_coef\n",
    "coef_df"
   ]
  },
  {
   "cell_type": "code",
   "execution_count": null,
   "id": "b0f7cbd5",
   "metadata": {},
   "outputs": [],
   "source": [
    "plt.rcParams['figure.figsize']=(16,8)\n",
    "plt.bar(coef_df[\"Column_name\"],coef_df[\"Coefficient_value\"])\n",
    "\n",
    "Lr.intercept_"
   ]
  },
  {
   "cell_type": "code",
   "execution_count": null,
   "id": "b3829caf",
   "metadata": {},
   "outputs": [],
   "source": [
    "Lr.score(x_train,y_train)"
   ]
  },
  {
   "cell_type": "code",
   "execution_count": null,
   "id": "fe23b594",
   "metadata": {},
   "outputs": [],
   "source": [
    "# Predict value\n",
    "pred =Lr.predict(x_test)\n",
    "Df=pd.DataFrame()\n",
    "Df['Actual_result_price']=y_test\n",
    "Df['predict_result_price']=pred\n",
    "print(Df.head(15))\n",
    "r_square=r2_score(pred,y_test)\n",
    "print(\"\")\n",
    "print(\"R squerred error on test set:\",r_square*100)\n"
   ]
  },
  {
   "cell_type": "code",
   "execution_count": null,
   "id": "89304ffe",
   "metadata": {},
   "outputs": [],
   "source": [
    "print(\"Error :\")\n",
    "print(\"Mean absolute error :\" ,mean_absolute_error(y_test,pred))\n",
    "print(\"Mean squared error :\" ,mean_squared_error(y_test,pred))\n",
    "\n",
    "print(\"root Mean Squred Error :\" ,np.sqrt(mean_squared_error(y_test,pred)))"
   ]
  },
  {
   "cell_type": "markdown",
   "id": "3ed3c86f",
   "metadata": {},
   "source": [
    "**Regularization L1 and L2**"
   ]
  },
  {
   "cell_type": "code",
   "execution_count": null,
   "id": "4f394c37",
   "metadata": {},
   "outputs": [],
   "source": [
    "from sklearn.linear_model import Lasso ,Ridge"
   ]
  },
  {
   "cell_type": "code",
   "execution_count": null,
   "id": "2ceedb06",
   "metadata": {},
   "outputs": [],
   "source": [
    "ls=Lasso(alpha=0.01) \n",
    "#ls=Lasso(alpha=1.0) #    default\n",
    "ls.fit(x_train , y_train)\n",
    "ls.score(x_train , y_train)"
   ]
  },
  {
   "cell_type": "code",
   "execution_count": null,
   "id": "2961967b",
   "metadata": {
    "scrolled": true
   },
   "outputs": [],
   "source": [
    "#putting together coefficient and their value names\n",
    "Lr_coef=Lr.coef_\n",
    "coef_df=pd.DataFrame()\n",
    "coef_df[\"Column_name\"]=['Happiness Rank', 'Economy (GDP per Capita)', 'Family',\n",
    "       'Health (Life Expectancy)', 'Freedom', 'Trust (Government Corruption)',\n",
    "       'Generosity', 'Dystopia Residual']\n",
    "coef_df[\"Coefficient_value\"]=Lr_coef\n",
    "coef_df"
   ]
  },
  {
   "cell_type": "code",
   "execution_count": null,
   "id": "d733a3b6",
   "metadata": {},
   "outputs": [],
   "source": [
    "# Predict value\n",
    "pred =Lr.predict(x_test)\n",
    "Df=pd.DataFrame()\n",
    "Df['Actual_result_price']=y_test\n",
    "Df['predict_result_price']=pred\n",
    "print(Df.head(15))\n",
    "r_square=r2_score(pred,y_test)\n",
    "print(\"\")\n",
    "print(\"R squerred error on test set:\",r_square*100)\n"
   ]
  },
  {
   "cell_type": "code",
   "execution_count": null,
   "id": "e9e7f5b6",
   "metadata": {},
   "outputs": [],
   "source": [
    "plt.rcParams['figure.figsize']=(16,8)\n",
    "plt.bar(coef_df[\"Column_name\"],coef_df[\"Coefficient_value\"])\n",
    "\n",
    "Lr.intercept_"
   ]
  },
  {
   "cell_type": "code",
   "execution_count": null,
   "id": "b44eb247",
   "metadata": {},
   "outputs": [],
   "source": [
    "from sklearn.linear_model import Ridge"
   ]
  },
  {
   "cell_type": "code",
   "execution_count": null,
   "id": "4cb63931",
   "metadata": {},
   "outputs": [],
   "source": [
    "Rdg=Ridge(alpha=1)\n",
    "Rdg.fit(x_train , y_train)\n",
    "pred=Rdg.predict(x_test)"
   ]
  },
  {
   "cell_type": "code",
   "execution_count": null,
   "id": "2943bede",
   "metadata": {},
   "outputs": [],
   "source": [
    "#putting together coefficient and their value names\n",
    "Lr_coef=Lr.coef_\n",
    "coef_df=pd.DataFrame()\n",
    "coef_df[\"Column_name\"]=['Happiness Rank', 'Economy (GDP per Capita)', 'Family',\n",
    "       'Health (Life Expectancy)', 'Freedom', 'Trust (Government Corruption)',\n",
    "       'Generosity', 'Dystopia Residual']\n",
    "coef_df[\"Coefficient_value\"]=Lr_coef\n",
    "coef_df"
   ]
  },
  {
   "cell_type": "code",
   "execution_count": null,
   "id": "06583a37",
   "metadata": {},
   "outputs": [],
   "source": [
    "# Predict value\n",
    "pred =Lr.predict(x_test)\n",
    "Df=pd.DataFrame()\n",
    "Df['Actual_result_price']=y_test\n",
    "Df['predict_result_price']=pred\n",
    "print(Df.head(15))\n",
    "r_square=r2_score(pred,y_test)\n",
    "print(\"\")\n",
    "print(\"R squerred error on test set:\",r_square*100)\n"
   ]
  },
  {
   "cell_type": "code",
   "execution_count": null,
   "id": "0b2260a1",
   "metadata": {},
   "outputs": [],
   "source": [
    "plt.rcParams['figure.figsize']=(16,8)\n",
    "plt.bar(coef_df[\"Column_name\"],coef_df[\"Coefficient_value\"])\n",
    "\n",
    "Lr.intercept_"
   ]
  },
  {
   "cell_type": "code",
   "execution_count": null,
   "id": "020ccd89",
   "metadata": {},
   "outputs": [],
   "source": []
  }
 ],
 "metadata": {
  "kernelspec": {
   "display_name": "Python 3",
   "language": "python",
   "name": "python3"
  },
  "language_info": {
   "codemirror_mode": {
    "name": "ipython",
    "version": 3
   },
   "file_extension": ".py",
   "mimetype": "text/x-python",
   "name": "python",
   "nbconvert_exporter": "python",
   "pygments_lexer": "ipython3",
   "version": "3.8.8"
  }
 },
 "nbformat": 4,
 "nbformat_minor": 5
}
