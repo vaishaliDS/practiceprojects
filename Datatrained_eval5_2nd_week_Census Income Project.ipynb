{
 "cells": [
  {
   "cell_type": "markdown",
   "id": "b24af743",
   "metadata": {},
   "source": [
    "### evaluation Project - 5"
   ]
  },
  {
   "cell_type": "markdown",
   "id": "426c1b5c",
   "metadata": {},
   "source": [
    "**evaluation Project - 5\n",
    "Census Income Project\n",
    "Problem Statement:**\n",
    "\n",
    "\n",
    "This data was extracted from the 1994 Census bureau database by Ronny Kohavi and Barry Becker (Data Mining and Visualization, Silicon Graphics). A set of reasonably clean records was extracted using the following conditions: ((AAGE>16) && (AGI>100) && (AFNLWGT>1) && (HRSWK>0)). The prediction task is to determine whether a person makes over $50K a year.\n",
    "\n",
    "Description of fnlwgt (final weight)\n",
    "The weights on the Current Population Survey (CPS) files are controlled to independent estimates of the civilian non-institutional population of the US. These are prepared monthly for us by Population Division here at the Census Bureau. We use 3 sets of controls. These are:\n",
    "\n",
    "A single cell estimate of the population 16+ for each state.\n",
    "\n",
    "Controls for Hispanic Origin by age and sex.\n",
    "\n",
    "Controls by Race, age and sex.\n",
    "\n",
    "We use all three sets of controls in our weighting program and \"rake\" through them 6 times so that by the end we come back to all the controls we used. The term estimate refers to population totals derived from CPS by creating \"weighted tallies\" of any specified socio-economic characteristics of the population. People with similar demographic characteristics should have similar weights. There is one important caveat to remember about this statement. That is that since the CPS sample is actually a collection of 51 state samples, each with its own probability of selection, the statement only applies within state.\n",
    "\n",
    "\n",
    "\n",
    "To download the dataset, use the link given below. \n",
    "\n",
    "Downlaod Files:\n",
    "https://raw.githubusercontent.com/dsrscientist/dataset1/master/census_income.csv"
   ]
  },
  {
   "cell_type": "code",
   "execution_count": 1,
   "id": "852ca2cc",
   "metadata": {},
   "outputs": [],
   "source": [
    "import pandas as pd\n",
    "import numpy as np\n",
    "import matplotlib.pyplot as plt\n",
    "import seaborn as sns\n",
    "\n",
    "import warnings\n",
    "warnings.filterwarnings('ignore')\n",
    "\n"
   ]
  },
  {
   "cell_type": "code",
   "execution_count": 2,
   "id": "fc29a052",
   "metadata": {},
   "outputs": [
    {
     "data": {
      "text/html": [
       "<div>\n",
       "<style scoped>\n",
       "    .dataframe tbody tr th:only-of-type {\n",
       "        vertical-align: middle;\n",
       "    }\n",
       "\n",
       "    .dataframe tbody tr th {\n",
       "        vertical-align: top;\n",
       "    }\n",
       "\n",
       "    .dataframe thead th {\n",
       "        text-align: right;\n",
       "    }\n",
       "</style>\n",
       "<table border=\"1\" class=\"dataframe\">\n",
       "  <thead>\n",
       "    <tr style=\"text-align: right;\">\n",
       "      <th></th>\n",
       "      <th>Age</th>\n",
       "      <th>Workclass</th>\n",
       "      <th>Fnlwgt</th>\n",
       "      <th>Education</th>\n",
       "      <th>Education_num</th>\n",
       "      <th>Marital_status</th>\n",
       "      <th>Occupation</th>\n",
       "      <th>Relationship</th>\n",
       "      <th>Race</th>\n",
       "      <th>Sex</th>\n",
       "      <th>Capital_gain</th>\n",
       "      <th>Capital_loss</th>\n",
       "      <th>Hours_per_week</th>\n",
       "      <th>Native_country</th>\n",
       "      <th>Income</th>\n",
       "    </tr>\n",
       "  </thead>\n",
       "  <tbody>\n",
       "    <tr>\n",
       "      <th>0</th>\n",
       "      <td>50</td>\n",
       "      <td>Self-emp-not-inc</td>\n",
       "      <td>83311</td>\n",
       "      <td>Bachelors</td>\n",
       "      <td>13</td>\n",
       "      <td>Married-civ-spouse</td>\n",
       "      <td>Exec-managerial</td>\n",
       "      <td>Husband</td>\n",
       "      <td>White</td>\n",
       "      <td>Male</td>\n",
       "      <td>0</td>\n",
       "      <td>0</td>\n",
       "      <td>13</td>\n",
       "      <td>United-States</td>\n",
       "      <td>&lt;=50K</td>\n",
       "    </tr>\n",
       "    <tr>\n",
       "      <th>1</th>\n",
       "      <td>38</td>\n",
       "      <td>Private</td>\n",
       "      <td>215646</td>\n",
       "      <td>HS-grad</td>\n",
       "      <td>9</td>\n",
       "      <td>Divorced</td>\n",
       "      <td>Handlers-cleaners</td>\n",
       "      <td>Not-in-family</td>\n",
       "      <td>White</td>\n",
       "      <td>Male</td>\n",
       "      <td>0</td>\n",
       "      <td>0</td>\n",
       "      <td>40</td>\n",
       "      <td>United-States</td>\n",
       "      <td>&lt;=50K</td>\n",
       "    </tr>\n",
       "    <tr>\n",
       "      <th>2</th>\n",
       "      <td>53</td>\n",
       "      <td>Private</td>\n",
       "      <td>234721</td>\n",
       "      <td>11th</td>\n",
       "      <td>7</td>\n",
       "      <td>Married-civ-spouse</td>\n",
       "      <td>Handlers-cleaners</td>\n",
       "      <td>Husband</td>\n",
       "      <td>Black</td>\n",
       "      <td>Male</td>\n",
       "      <td>0</td>\n",
       "      <td>0</td>\n",
       "      <td>40</td>\n",
       "      <td>United-States</td>\n",
       "      <td>&lt;=50K</td>\n",
       "    </tr>\n",
       "    <tr>\n",
       "      <th>3</th>\n",
       "      <td>28</td>\n",
       "      <td>Private</td>\n",
       "      <td>338409</td>\n",
       "      <td>Bachelors</td>\n",
       "      <td>13</td>\n",
       "      <td>Married-civ-spouse</td>\n",
       "      <td>Prof-specialty</td>\n",
       "      <td>Wife</td>\n",
       "      <td>Black</td>\n",
       "      <td>Female</td>\n",
       "      <td>0</td>\n",
       "      <td>0</td>\n",
       "      <td>40</td>\n",
       "      <td>Cuba</td>\n",
       "      <td>&lt;=50K</td>\n",
       "    </tr>\n",
       "    <tr>\n",
       "      <th>4</th>\n",
       "      <td>37</td>\n",
       "      <td>Private</td>\n",
       "      <td>284582</td>\n",
       "      <td>Masters</td>\n",
       "      <td>14</td>\n",
       "      <td>Married-civ-spouse</td>\n",
       "      <td>Exec-managerial</td>\n",
       "      <td>Wife</td>\n",
       "      <td>White</td>\n",
       "      <td>Female</td>\n",
       "      <td>0</td>\n",
       "      <td>0</td>\n",
       "      <td>40</td>\n",
       "      <td>United-States</td>\n",
       "      <td>&lt;=50K</td>\n",
       "    </tr>\n",
       "  </tbody>\n",
       "</table>\n",
       "</div>"
      ],
      "text/plain": [
       "   Age          Workclass  Fnlwgt   Education  Education_num  \\\n",
       "0   50   Self-emp-not-inc   83311   Bachelors             13   \n",
       "1   38            Private  215646     HS-grad              9   \n",
       "2   53            Private  234721        11th              7   \n",
       "3   28            Private  338409   Bachelors             13   \n",
       "4   37            Private  284582     Masters             14   \n",
       "\n",
       "        Marital_status          Occupation    Relationship    Race      Sex  \\\n",
       "0   Married-civ-spouse     Exec-managerial         Husband   White     Male   \n",
       "1             Divorced   Handlers-cleaners   Not-in-family   White     Male   \n",
       "2   Married-civ-spouse   Handlers-cleaners         Husband   Black     Male   \n",
       "3   Married-civ-spouse      Prof-specialty            Wife   Black   Female   \n",
       "4   Married-civ-spouse     Exec-managerial            Wife   White   Female   \n",
       "\n",
       "   Capital_gain  Capital_loss  Hours_per_week  Native_country  Income  \n",
       "0             0             0              13   United-States   <=50K  \n",
       "1             0             0              40   United-States   <=50K  \n",
       "2             0             0              40   United-States   <=50K  \n",
       "3             0             0              40            Cuba   <=50K  \n",
       "4             0             0              40   United-States   <=50K  "
      ]
     },
     "execution_count": 2,
     "metadata": {},
     "output_type": "execute_result"
    }
   ],
   "source": [
    "df=pd.read_csv('census_income.csv')\n",
    "df.head()"
   ]
  },
  {
   "cell_type": "code",
   "execution_count": 3,
   "id": "73cf1ef7",
   "metadata": {},
   "outputs": [
    {
     "data": {
      "text/plain": [
       "(32560, 15)"
      ]
     },
     "execution_count": 3,
     "metadata": {},
     "output_type": "execute_result"
    }
   ],
   "source": [
    "df.shape"
   ]
  },
  {
   "cell_type": "code",
   "execution_count": 4,
   "id": "6d62a7c8",
   "metadata": {},
   "outputs": [
    {
     "data": {
      "text/plain": [
       "Index(['Age', 'Workclass', 'Fnlwgt', 'Education', 'Education_num',\n",
       "       'Marital_status', 'Occupation', 'Relationship', 'Race', 'Sex',\n",
       "       'Capital_gain', 'Capital_loss', 'Hours_per_week', 'Native_country',\n",
       "       'Income'],\n",
       "      dtype='object')"
      ]
     },
     "execution_count": 4,
     "metadata": {},
     "output_type": "execute_result"
    }
   ],
   "source": [
    "df.columns"
   ]
  },
  {
   "cell_type": "code",
   "execution_count": 5,
   "id": "cd492797",
   "metadata": {},
   "outputs": [
    {
     "name": "stdout",
     "output_type": "stream",
     "text": [
      "<class 'pandas.core.frame.DataFrame'>\n",
      "RangeIndex: 32560 entries, 0 to 32559\n",
      "Data columns (total 15 columns):\n",
      " #   Column          Non-Null Count  Dtype \n",
      "---  ------          --------------  ----- \n",
      " 0   Age             32560 non-null  int64 \n",
      " 1   Workclass       32560 non-null  object\n",
      " 2   Fnlwgt          32560 non-null  int64 \n",
      " 3   Education       32560 non-null  object\n",
      " 4   Education_num   32560 non-null  int64 \n",
      " 5   Marital_status  32560 non-null  object\n",
      " 6   Occupation      32560 non-null  object\n",
      " 7   Relationship    32560 non-null  object\n",
      " 8   Race            32560 non-null  object\n",
      " 9   Sex             32560 non-null  object\n",
      " 10  Capital_gain    32560 non-null  int64 \n",
      " 11  Capital_loss    32560 non-null  int64 \n",
      " 12  Hours_per_week  32560 non-null  int64 \n",
      " 13  Native_country  32560 non-null  object\n",
      " 14  Income          32560 non-null  object\n",
      "dtypes: int64(6), object(9)\n",
      "memory usage: 3.7+ MB\n"
     ]
    }
   ],
   "source": [
    "df.info()"
   ]
  },
  {
   "cell_type": "markdown",
   "id": "ccab5919",
   "metadata": {},
   "source": [
    "**1) Categorical features(9) :**['Workclass','Education',  'Education_num',\n",
    "       'Marital_status', 'Occupation', 'Relationship', 'Race', 'Sex',\n",
    "       'Hours_per_week', 'Native_country','Income']\n",
    "**2) Continuous features(6) :**['Age',  'Fnlwgt','Capital_gain', 'Capital_loss']\n",
    "**3) There are no null values present in dataset**"
   ]
  },
  {
   "cell_type": "code",
   "execution_count": 6,
   "id": "0df8848e",
   "metadata": {},
   "outputs": [
    {
     "data": {
      "text/plain": [
       "Age               0\n",
       "Workclass         0\n",
       "Fnlwgt            0\n",
       "Education         0\n",
       "Education_num     0\n",
       "Marital_status    0\n",
       "Occupation        0\n",
       "Relationship      0\n",
       "Race              0\n",
       "Sex               0\n",
       "Capital_gain      0\n",
       "Capital_loss      0\n",
       "Hours_per_week    0\n",
       "Native_country    0\n",
       "Income            0\n",
       "dtype: int64"
      ]
     },
     "execution_count": 6,
     "metadata": {},
     "output_type": "execute_result"
    }
   ],
   "source": [
    "\n",
    "df.isnull().sum()"
   ]
  },
  {
   "cell_type": "markdown",
   "id": "ae678fcb",
   "metadata": {},
   "source": [
    "#### There are no null values present in dataset ."
   ]
  },
  {
   "cell_type": "code",
   "execution_count": 7,
   "id": "0f7ff035",
   "metadata": {},
   "outputs": [
    {
     "data": {
      "text/plain": [
       " Private             22696\n",
       " Self-emp-not-inc     2541\n",
       " Local-gov            2093\n",
       " ?                    1836\n",
       " State-gov            1297\n",
       " Self-emp-inc         1116\n",
       " Federal-gov           960\n",
       " Without-pay            14\n",
       " Never-worked            7\n",
       "Name: Workclass, dtype: int64"
      ]
     },
     "execution_count": 7,
     "metadata": {},
     "output_type": "execute_result"
    }
   ],
   "source": [
    "df['Workclass'].value_counts()"
   ]
  },
  {
   "cell_type": "markdown",
   "id": "1f56043d",
   "metadata": {},
   "source": [
    "#### We found 1836 '?' marks in Workclass which are as good as Null values present in Workclass ."
   ]
  },
  {
   "cell_type": "code",
   "execution_count": 8,
   "id": "88d5e7af",
   "metadata": {
    "scrolled": true
   },
   "outputs": [
    {
     "data": {
      "text/html": [
       "<div>\n",
       "<style scoped>\n",
       "    .dataframe tbody tr th:only-of-type {\n",
       "        vertical-align: middle;\n",
       "    }\n",
       "\n",
       "    .dataframe tbody tr th {\n",
       "        vertical-align: top;\n",
       "    }\n",
       "\n",
       "    .dataframe thead th {\n",
       "        text-align: right;\n",
       "    }\n",
       "</style>\n",
       "<table border=\"1\" class=\"dataframe\">\n",
       "  <thead>\n",
       "    <tr style=\"text-align: right;\">\n",
       "      <th></th>\n",
       "      <th>Age</th>\n",
       "      <th>Workclass</th>\n",
       "      <th>Fnlwgt</th>\n",
       "      <th>Education</th>\n",
       "      <th>Education_num</th>\n",
       "      <th>Marital_status</th>\n",
       "      <th>Occupation</th>\n",
       "      <th>Relationship</th>\n",
       "      <th>Race</th>\n",
       "      <th>Sex</th>\n",
       "      <th>Capital_gain</th>\n",
       "      <th>Capital_loss</th>\n",
       "      <th>Hours_per_week</th>\n",
       "      <th>Native_country</th>\n",
       "      <th>Income</th>\n",
       "    </tr>\n",
       "  </thead>\n",
       "  <tbody>\n",
       "    <tr>\n",
       "      <th>26</th>\n",
       "      <td>54</td>\n",
       "      <td>?</td>\n",
       "      <td>180211</td>\n",
       "      <td>Some-college</td>\n",
       "      <td>10</td>\n",
       "      <td>Married-civ-spouse</td>\n",
       "      <td>?</td>\n",
       "      <td>Husband</td>\n",
       "      <td>Asian-Pac-Islander</td>\n",
       "      <td>Male</td>\n",
       "      <td>0</td>\n",
       "      <td>0</td>\n",
       "      <td>60</td>\n",
       "      <td>South</td>\n",
       "      <td>&gt;50K</td>\n",
       "    </tr>\n",
       "    <tr>\n",
       "      <th>60</th>\n",
       "      <td>32</td>\n",
       "      <td>?</td>\n",
       "      <td>293936</td>\n",
       "      <td>7th-8th</td>\n",
       "      <td>4</td>\n",
       "      <td>Married-spouse-absent</td>\n",
       "      <td>?</td>\n",
       "      <td>Not-in-family</td>\n",
       "      <td>White</td>\n",
       "      <td>Male</td>\n",
       "      <td>0</td>\n",
       "      <td>0</td>\n",
       "      <td>40</td>\n",
       "      <td>?</td>\n",
       "      <td>&lt;=50K</td>\n",
       "    </tr>\n",
       "    <tr>\n",
       "      <th>68</th>\n",
       "      <td>25</td>\n",
       "      <td>?</td>\n",
       "      <td>200681</td>\n",
       "      <td>Some-college</td>\n",
       "      <td>10</td>\n",
       "      <td>Never-married</td>\n",
       "      <td>?</td>\n",
       "      <td>Own-child</td>\n",
       "      <td>White</td>\n",
       "      <td>Male</td>\n",
       "      <td>0</td>\n",
       "      <td>0</td>\n",
       "      <td>40</td>\n",
       "      <td>United-States</td>\n",
       "      <td>&lt;=50K</td>\n",
       "    </tr>\n",
       "    <tr>\n",
       "      <th>76</th>\n",
       "      <td>67</td>\n",
       "      <td>?</td>\n",
       "      <td>212759</td>\n",
       "      <td>10th</td>\n",
       "      <td>6</td>\n",
       "      <td>Married-civ-spouse</td>\n",
       "      <td>?</td>\n",
       "      <td>Husband</td>\n",
       "      <td>White</td>\n",
       "      <td>Male</td>\n",
       "      <td>0</td>\n",
       "      <td>0</td>\n",
       "      <td>2</td>\n",
       "      <td>United-States</td>\n",
       "      <td>&lt;=50K</td>\n",
       "    </tr>\n",
       "    <tr>\n",
       "      <th>105</th>\n",
       "      <td>17</td>\n",
       "      <td>?</td>\n",
       "      <td>304873</td>\n",
       "      <td>10th</td>\n",
       "      <td>6</td>\n",
       "      <td>Never-married</td>\n",
       "      <td>?</td>\n",
       "      <td>Own-child</td>\n",
       "      <td>White</td>\n",
       "      <td>Female</td>\n",
       "      <td>34095</td>\n",
       "      <td>0</td>\n",
       "      <td>32</td>\n",
       "      <td>United-States</td>\n",
       "      <td>&lt;=50K</td>\n",
       "    </tr>\n",
       "  </tbody>\n",
       "</table>\n",
       "</div>"
      ],
      "text/plain": [
       "     Age Workclass  Fnlwgt      Education  Education_num  \\\n",
       "26    54         ?  180211   Some-college             10   \n",
       "60    32         ?  293936        7th-8th              4   \n",
       "68    25         ?  200681   Some-college             10   \n",
       "76    67         ?  212759           10th              6   \n",
       "105   17         ?  304873           10th              6   \n",
       "\n",
       "             Marital_status Occupation    Relationship                 Race  \\\n",
       "26       Married-civ-spouse          ?         Husband   Asian-Pac-Islander   \n",
       "60    Married-spouse-absent          ?   Not-in-family                White   \n",
       "68            Never-married          ?       Own-child                White   \n",
       "76       Married-civ-spouse          ?         Husband                White   \n",
       "105           Never-married          ?       Own-child                White   \n",
       "\n",
       "         Sex  Capital_gain  Capital_loss  Hours_per_week  Native_country  \\\n",
       "26      Male             0             0              60           South   \n",
       "60      Male             0             0              40               ?   \n",
       "68      Male             0             0              40   United-States   \n",
       "76      Male             0             0               2   United-States   \n",
       "105   Female         34095             0              32   United-States   \n",
       "\n",
       "     Income  \n",
       "26     >50K  \n",
       "60    <=50K  \n",
       "68    <=50K  \n",
       "76    <=50K  \n",
       "105   <=50K  "
      ]
     },
     "execution_count": 8,
     "metadata": {},
     "output_type": "execute_result"
    }
   ],
   "source": [
    "\n",
    "df.loc[df['Workclass']==' ?'].head()"
   ]
  },
  {
   "cell_type": "markdown",
   "id": "4d1e2876",
   "metadata": {},
   "source": [
    "#### from above information we can see ['Workclass','Occupation','Native_country'] have '?' in these features which is like null values will have to deal with it."
   ]
  },
  {
   "cell_type": "code",
   "execution_count": 9,
   "id": "83f6cac7",
   "metadata": {},
   "outputs": [
    {
     "data": {
      "text/plain": [
       " Prof-specialty       4140\n",
       " Craft-repair         4099\n",
       " Exec-managerial      4066\n",
       " Adm-clerical         3769\n",
       " Sales                3650\n",
       " Other-service        3295\n",
       " Machine-op-inspct    2002\n",
       " ?                    1843\n",
       " Transport-moving     1597\n",
       " Handlers-cleaners    1370\n",
       " Farming-fishing       994\n",
       " Tech-support          928\n",
       " Protective-serv       649\n",
       " Priv-house-serv       149\n",
       " Armed-Forces            9\n",
       "Name: Occupation, dtype: int64"
      ]
     },
     "execution_count": 9,
     "metadata": {},
     "output_type": "execute_result"
    }
   ],
   "source": [
    "df['Occupation'].value_counts()"
   ]
  },
  {
   "cell_type": "code",
   "execution_count": 10,
   "id": "6345d2f2",
   "metadata": {},
   "outputs": [
    {
     "data": {
      "text/html": [
       "<div>\n",
       "<style scoped>\n",
       "    .dataframe tbody tr th:only-of-type {\n",
       "        vertical-align: middle;\n",
       "    }\n",
       "\n",
       "    .dataframe tbody tr th {\n",
       "        vertical-align: top;\n",
       "    }\n",
       "\n",
       "    .dataframe thead th {\n",
       "        text-align: right;\n",
       "    }\n",
       "</style>\n",
       "<table border=\"1\" class=\"dataframe\">\n",
       "  <thead>\n",
       "    <tr style=\"text-align: right;\">\n",
       "      <th></th>\n",
       "      <th>Age</th>\n",
       "      <th>Workclass</th>\n",
       "      <th>Fnlwgt</th>\n",
       "      <th>Education</th>\n",
       "      <th>Education_num</th>\n",
       "      <th>Marital_status</th>\n",
       "      <th>Occupation</th>\n",
       "      <th>Relationship</th>\n",
       "      <th>Race</th>\n",
       "      <th>Sex</th>\n",
       "      <th>Capital_gain</th>\n",
       "      <th>Capital_loss</th>\n",
       "      <th>Hours_per_week</th>\n",
       "      <th>Native_country</th>\n",
       "      <th>Income</th>\n",
       "    </tr>\n",
       "  </thead>\n",
       "  <tbody>\n",
       "    <tr>\n",
       "      <th>26</th>\n",
       "      <td>54</td>\n",
       "      <td>?</td>\n",
       "      <td>180211</td>\n",
       "      <td>Some-college</td>\n",
       "      <td>10</td>\n",
       "      <td>Married-civ-spouse</td>\n",
       "      <td>?</td>\n",
       "      <td>Husband</td>\n",
       "      <td>Asian-Pac-Islander</td>\n",
       "      <td>Male</td>\n",
       "      <td>0</td>\n",
       "      <td>0</td>\n",
       "      <td>60</td>\n",
       "      <td>South</td>\n",
       "      <td>&gt;50K</td>\n",
       "    </tr>\n",
       "    <tr>\n",
       "      <th>60</th>\n",
       "      <td>32</td>\n",
       "      <td>?</td>\n",
       "      <td>293936</td>\n",
       "      <td>7th-8th</td>\n",
       "      <td>4</td>\n",
       "      <td>Married-spouse-absent</td>\n",
       "      <td>?</td>\n",
       "      <td>Not-in-family</td>\n",
       "      <td>White</td>\n",
       "      <td>Male</td>\n",
       "      <td>0</td>\n",
       "      <td>0</td>\n",
       "      <td>40</td>\n",
       "      <td>?</td>\n",
       "      <td>&lt;=50K</td>\n",
       "    </tr>\n",
       "    <tr>\n",
       "      <th>68</th>\n",
       "      <td>25</td>\n",
       "      <td>?</td>\n",
       "      <td>200681</td>\n",
       "      <td>Some-college</td>\n",
       "      <td>10</td>\n",
       "      <td>Never-married</td>\n",
       "      <td>?</td>\n",
       "      <td>Own-child</td>\n",
       "      <td>White</td>\n",
       "      <td>Male</td>\n",
       "      <td>0</td>\n",
       "      <td>0</td>\n",
       "      <td>40</td>\n",
       "      <td>United-States</td>\n",
       "      <td>&lt;=50K</td>\n",
       "    </tr>\n",
       "    <tr>\n",
       "      <th>76</th>\n",
       "      <td>67</td>\n",
       "      <td>?</td>\n",
       "      <td>212759</td>\n",
       "      <td>10th</td>\n",
       "      <td>6</td>\n",
       "      <td>Married-civ-spouse</td>\n",
       "      <td>?</td>\n",
       "      <td>Husband</td>\n",
       "      <td>White</td>\n",
       "      <td>Male</td>\n",
       "      <td>0</td>\n",
       "      <td>0</td>\n",
       "      <td>2</td>\n",
       "      <td>United-States</td>\n",
       "      <td>&lt;=50K</td>\n",
       "    </tr>\n",
       "    <tr>\n",
       "      <th>105</th>\n",
       "      <td>17</td>\n",
       "      <td>?</td>\n",
       "      <td>304873</td>\n",
       "      <td>10th</td>\n",
       "      <td>6</td>\n",
       "      <td>Never-married</td>\n",
       "      <td>?</td>\n",
       "      <td>Own-child</td>\n",
       "      <td>White</td>\n",
       "      <td>Female</td>\n",
       "      <td>34095</td>\n",
       "      <td>0</td>\n",
       "      <td>32</td>\n",
       "      <td>United-States</td>\n",
       "      <td>&lt;=50K</td>\n",
       "    </tr>\n",
       "  </tbody>\n",
       "</table>\n",
       "</div>"
      ],
      "text/plain": [
       "     Age Workclass  Fnlwgt      Education  Education_num  \\\n",
       "26    54         ?  180211   Some-college             10   \n",
       "60    32         ?  293936        7th-8th              4   \n",
       "68    25         ?  200681   Some-college             10   \n",
       "76    67         ?  212759           10th              6   \n",
       "105   17         ?  304873           10th              6   \n",
       "\n",
       "             Marital_status Occupation    Relationship                 Race  \\\n",
       "26       Married-civ-spouse          ?         Husband   Asian-Pac-Islander   \n",
       "60    Married-spouse-absent          ?   Not-in-family                White   \n",
       "68            Never-married          ?       Own-child                White   \n",
       "76       Married-civ-spouse          ?         Husband                White   \n",
       "105           Never-married          ?       Own-child                White   \n",
       "\n",
       "         Sex  Capital_gain  Capital_loss  Hours_per_week  Native_country  \\\n",
       "26      Male             0             0              60           South   \n",
       "60      Male             0             0              40               ?   \n",
       "68      Male             0             0              40   United-States   \n",
       "76      Male             0             0               2   United-States   \n",
       "105   Female         34095             0              32   United-States   \n",
       "\n",
       "     Income  \n",
       "26     >50K  \n",
       "60    <=50K  \n",
       "68    <=50K  \n",
       "76    <=50K  \n",
       "105   <=50K  "
      ]
     },
     "execution_count": 10,
     "metadata": {},
     "output_type": "execute_result"
    }
   ],
   "source": [
    "\n",
    "df.loc[df['Occupation']==' ?'].head()"
   ]
  },
  {
   "cell_type": "code",
   "execution_count": 11,
   "id": "fcbadfb5",
   "metadata": {},
   "outputs": [
    {
     "data": {
      "text/plain": [
       " United-States                 29169\n",
       " Mexico                          643\n",
       " ?                               583\n",
       " Philippines                     198\n",
       " Germany                         137\n",
       " Canada                          121\n",
       " Puerto-Rico                     114\n",
       " El-Salvador                     106\n",
       " India                           100\n",
       " Cuba                             95\n",
       " England                          90\n",
       " Jamaica                          81\n",
       " South                            80\n",
       " China                            75\n",
       " Italy                            73\n",
       " Dominican-Republic               70\n",
       " Vietnam                          67\n",
       " Guatemala                        64\n",
       " Japan                            62\n",
       " Poland                           60\n",
       " Columbia                         59\n",
       " Taiwan                           51\n",
       " Haiti                            44\n",
       " Iran                             43\n",
       " Portugal                         37\n",
       " Nicaragua                        34\n",
       " Peru                             31\n",
       " France                           29\n",
       " Greece                           29\n",
       " Ecuador                          28\n",
       " Ireland                          24\n",
       " Hong                             20\n",
       " Trinadad&Tobago                  19\n",
       " Cambodia                         19\n",
       " Thailand                         18\n",
       " Laos                             18\n",
       " Yugoslavia                       16\n",
       " Outlying-US(Guam-USVI-etc)       14\n",
       " Hungary                          13\n",
       " Honduras                         13\n",
       " Scotland                         12\n",
       " Holand-Netherlands                1\n",
       "Name: Native_country, dtype: int64"
      ]
     },
     "execution_count": 11,
     "metadata": {},
     "output_type": "execute_result"
    }
   ],
   "source": [
    "df['Native_country'].value_counts()"
   ]
  },
  {
   "cell_type": "code",
   "execution_count": 12,
   "id": "ffba80cd",
   "metadata": {},
   "outputs": [
    {
     "data": {
      "text/html": [
       "<div>\n",
       "<style scoped>\n",
       "    .dataframe tbody tr th:only-of-type {\n",
       "        vertical-align: middle;\n",
       "    }\n",
       "\n",
       "    .dataframe tbody tr th {\n",
       "        vertical-align: top;\n",
       "    }\n",
       "\n",
       "    .dataframe thead th {\n",
       "        text-align: right;\n",
       "    }\n",
       "</style>\n",
       "<table border=\"1\" class=\"dataframe\">\n",
       "  <thead>\n",
       "    <tr style=\"text-align: right;\">\n",
       "      <th></th>\n",
       "      <th>Age</th>\n",
       "      <th>Workclass</th>\n",
       "      <th>Fnlwgt</th>\n",
       "      <th>Education</th>\n",
       "      <th>Education_num</th>\n",
       "      <th>Marital_status</th>\n",
       "      <th>Occupation</th>\n",
       "      <th>Relationship</th>\n",
       "      <th>Race</th>\n",
       "      <th>Sex</th>\n",
       "      <th>Capital_gain</th>\n",
       "      <th>Capital_loss</th>\n",
       "      <th>Hours_per_week</th>\n",
       "      <th>Native_country</th>\n",
       "      <th>Income</th>\n",
       "    </tr>\n",
       "  </thead>\n",
       "  <tbody>\n",
       "    <tr>\n",
       "      <th>13</th>\n",
       "      <td>40</td>\n",
       "      <td>Private</td>\n",
       "      <td>121772</td>\n",
       "      <td>Assoc-voc</td>\n",
       "      <td>11</td>\n",
       "      <td>Married-civ-spouse</td>\n",
       "      <td>Craft-repair</td>\n",
       "      <td>Husband</td>\n",
       "      <td>Asian-Pac-Islander</td>\n",
       "      <td>Male</td>\n",
       "      <td>0</td>\n",
       "      <td>0</td>\n",
       "      <td>40</td>\n",
       "      <td>?</td>\n",
       "      <td>&gt;50K</td>\n",
       "    </tr>\n",
       "    <tr>\n",
       "      <th>37</th>\n",
       "      <td>31</td>\n",
       "      <td>Private</td>\n",
       "      <td>84154</td>\n",
       "      <td>Some-college</td>\n",
       "      <td>10</td>\n",
       "      <td>Married-civ-spouse</td>\n",
       "      <td>Sales</td>\n",
       "      <td>Husband</td>\n",
       "      <td>White</td>\n",
       "      <td>Male</td>\n",
       "      <td>0</td>\n",
       "      <td>0</td>\n",
       "      <td>38</td>\n",
       "      <td>?</td>\n",
       "      <td>&gt;50K</td>\n",
       "    </tr>\n",
       "    <tr>\n",
       "      <th>50</th>\n",
       "      <td>18</td>\n",
       "      <td>Private</td>\n",
       "      <td>226956</td>\n",
       "      <td>HS-grad</td>\n",
       "      <td>9</td>\n",
       "      <td>Never-married</td>\n",
       "      <td>Other-service</td>\n",
       "      <td>Own-child</td>\n",
       "      <td>White</td>\n",
       "      <td>Female</td>\n",
       "      <td>0</td>\n",
       "      <td>0</td>\n",
       "      <td>30</td>\n",
       "      <td>?</td>\n",
       "      <td>&lt;=50K</td>\n",
       "    </tr>\n",
       "    <tr>\n",
       "      <th>60</th>\n",
       "      <td>32</td>\n",
       "      <td>?</td>\n",
       "      <td>293936</td>\n",
       "      <td>7th-8th</td>\n",
       "      <td>4</td>\n",
       "      <td>Married-spouse-absent</td>\n",
       "      <td>?</td>\n",
       "      <td>Not-in-family</td>\n",
       "      <td>White</td>\n",
       "      <td>Male</td>\n",
       "      <td>0</td>\n",
       "      <td>0</td>\n",
       "      <td>40</td>\n",
       "      <td>?</td>\n",
       "      <td>&lt;=50K</td>\n",
       "    </tr>\n",
       "    <tr>\n",
       "      <th>92</th>\n",
       "      <td>30</td>\n",
       "      <td>Private</td>\n",
       "      <td>117747</td>\n",
       "      <td>HS-grad</td>\n",
       "      <td>9</td>\n",
       "      <td>Married-civ-spouse</td>\n",
       "      <td>Sales</td>\n",
       "      <td>Wife</td>\n",
       "      <td>Asian-Pac-Islander</td>\n",
       "      <td>Female</td>\n",
       "      <td>0</td>\n",
       "      <td>1573</td>\n",
       "      <td>35</td>\n",
       "      <td>?</td>\n",
       "      <td>&lt;=50K</td>\n",
       "    </tr>\n",
       "  </tbody>\n",
       "</table>\n",
       "</div>"
      ],
      "text/plain": [
       "    Age Workclass  Fnlwgt      Education  Education_num  \\\n",
       "13   40   Private  121772      Assoc-voc             11   \n",
       "37   31   Private   84154   Some-college             10   \n",
       "50   18   Private  226956        HS-grad              9   \n",
       "60   32         ?  293936        7th-8th              4   \n",
       "92   30   Private  117747        HS-grad              9   \n",
       "\n",
       "            Marital_status      Occupation    Relationship  \\\n",
       "13      Married-civ-spouse    Craft-repair         Husband   \n",
       "37      Married-civ-spouse           Sales         Husband   \n",
       "50           Never-married   Other-service       Own-child   \n",
       "60   Married-spouse-absent               ?   Not-in-family   \n",
       "92      Married-civ-spouse           Sales            Wife   \n",
       "\n",
       "                   Race      Sex  Capital_gain  Capital_loss  Hours_per_week  \\\n",
       "13   Asian-Pac-Islander     Male             0             0              40   \n",
       "37                White     Male             0             0              38   \n",
       "50                White   Female             0             0              30   \n",
       "60                White     Male             0             0              40   \n",
       "92   Asian-Pac-Islander   Female             0          1573              35   \n",
       "\n",
       "   Native_country  Income  \n",
       "13              ?    >50K  \n",
       "37              ?    >50K  \n",
       "50              ?   <=50K  \n",
       "60              ?   <=50K  \n",
       "92              ?   <=50K  "
      ]
     },
     "execution_count": 12,
     "metadata": {},
     "output_type": "execute_result"
    }
   ],
   "source": [
    "df.loc[df['Native_country']==' ?'].head()"
   ]
  },
  {
   "cell_type": "raw",
   "id": "f13f4464",
   "metadata": {},
   "source": [
    "There are '?' in : \n",
    "'Workclass'= 1836,\n",
    "'Occupation'= 1843,\n",
    "'Native_country'=583\n",
    "We will delete tha data  "
   ]
  },
  {
   "cell_type": "markdown",
   "id": "a6744522",
   "metadata": {},
   "source": [
    "#### filling randomly '?' Null values."
   ]
  },
  {
   "cell_type": "code",
   "execution_count": 13,
   "id": "a6e566d6",
   "metadata": {},
   "outputs": [],
   "source": [
    "cols=['Workclass','Occupation','Native_country'] \n",
    "for i in cols:\n",
    "    df.drop(df[df[i] == ' ?'].index,inplace=True)"
   ]
  },
  {
   "cell_type": "code",
   "execution_count": 14,
   "id": "6f165d87",
   "metadata": {},
   "outputs": [
    {
     "name": "stdout",
     "output_type": "stream",
     "text": [
      "NO of '?'inWorkclass 0\n",
      "Workclass unique values [' Exec-managerial' ' Handlers-cleaners' ' Prof-specialty'\n",
      " ' Other-service' ' Adm-clerical' ' Sales' ' Transport-moving'\n",
      " ' Farming-fishing' ' Machine-op-inspct' ' Tech-support' ' Craft-repair'\n",
      " ' Protective-serv' ' Armed-Forces' ' Priv-house-serv']\n",
      "NO of '?'inOccupation 0\n",
      "Occupation unique values [' Exec-managerial' ' Handlers-cleaners' ' Prof-specialty'\n",
      " ' Other-service' ' Adm-clerical' ' Sales' ' Transport-moving'\n",
      " ' Farming-fishing' ' Machine-op-inspct' ' Tech-support' ' Craft-repair'\n",
      " ' Protective-serv' ' Armed-Forces' ' Priv-house-serv']\n",
      "NO of '?'inNative_country 0\n",
      "Native_country unique values [' Exec-managerial' ' Handlers-cleaners' ' Prof-specialty'\n",
      " ' Other-service' ' Adm-clerical' ' Sales' ' Transport-moving'\n",
      " ' Farming-fishing' ' Machine-op-inspct' ' Tech-support' ' Craft-repair'\n",
      " ' Protective-serv' ' Armed-Forces' ' Priv-house-serv']\n"
     ]
    }
   ],
   "source": [
    "cols=['Workclass','Occupation','Native_country'] \n",
    "for i in cols:\n",
    "    print(f\"NO of '?'in{i}\",len(df.loc[df[i]=='?']))\n",
    "    print(f'{i} unique values',df['Occupation'].unique())"
   ]
  },
  {
   "cell_type": "markdown",
   "id": "3cb12348",
   "metadata": {},
   "source": [
    "#### from this we can see there are no values left with '?' in dataset"
   ]
  },
  {
   "cell_type": "code",
   "execution_count": 15,
   "id": "4deed741",
   "metadata": {},
   "outputs": [
    {
     "data": {
      "text/plain": [
       "Text(0.5, 1.0, 'Workclass vs Income')"
      ]
     },
     "execution_count": 15,
     "metadata": {},
     "output_type": "execute_result"
    },
    {
     "data": {
      "image/png": "[encoded data removed]",
      "text/plain": [
       "<Figure size 435.25x360 with 1 Axes>"
      ]
     },
     "metadata": {
      "needs_background": "light"
     },
     "output_type": "display_data"
    }
   ],
   "source": [
    "#Lets check the Workclass vs Income \n",
    "sns.catplot(y='Workclass',x='Income',data=df,hue='Sex')\n",
    "plt.title(\"Workclass vs Income\")"
   ]
  },
  {
   "cell_type": "markdown",
   "id": "d7c42788",
   "metadata": {},
   "source": [
    "#### We can see there very few Females have income>50K compaired to Mails."
   ]
  },
  {
   "cell_type": "code",
   "execution_count": 16,
   "id": "39ea4018",
   "metadata": {},
   "outputs": [
    {
     "data": {
      "text/plain": [
       "<AxesSubplot:xlabel='Occupation', ylabel='count'>"
      ]
     },
     "execution_count": 16,
     "metadata": {},
     "output_type": "execute_result"
    },
    {
     "data": {
      "image/png": "[encoded data removed]",
      "text/plain": [
       "<Figure size 2520x720 with 1 Axes>"
      ]
     },
     "metadata": {
      "needs_background": "light"
     },
     "output_type": "display_data"
    }
   ],
   "source": [
    "#Lets check the Workclass vs Income \n",
    "plt.figure(figsize=(35,10))\n",
    "sns.countplot(x='Occupation',data=df,hue='Income')\n"
   ]
  },
  {
   "cell_type": "markdown",
   "id": "b0edfc08",
   "metadata": {},
   "source": [
    "####  Exec-managerial and  ' Prof-specialty' has highest salaries almost(40-45%) of professionals has salry >50K .\"Occupations\" decides \"Income\" ."
   ]
  },
  {
   "cell_type": "code",
   "execution_count": 17,
   "id": "dcd3e0de",
   "metadata": {},
   "outputs": [
    {
     "data": {
      "text/plain": [
       "Text(0.5, 1.0, 'Occupation vs Income')"
      ]
     },
     "execution_count": 17,
     "metadata": {},
     "output_type": "execute_result"
    },
    {
     "data": {
      "image/png": "[encoded data removed]",
      "text/plain": [
       "<Figure size 435.25x360 with 1 Axes>"
      ]
     },
     "metadata": {
      "needs_background": "light"
     },
     "output_type": "display_data"
    }
   ],
   "source": [
    "#Lets check the Occupation vs Income \n",
    "sns.catplot(y='Occupation',x='Income',data=df,hue='Sex')\n",
    "plt.title(\"Occupation vs Income\")"
   ]
  },
  {
   "cell_type": "markdown",
   "id": "8f4e2e1e",
   "metadata": {},
   "source": [
    "#### Very few ' Armed-Forces' ,' Priv-house-serv' has \"Income\" >50k ."
   ]
  },
  {
   "cell_type": "code",
   "execution_count": 18,
   "id": "92e1ee62",
   "metadata": {},
   "outputs": [
    {
     "data": {
      "text/plain": [
       "Text(0.5, 1.0, 'Education ')"
      ]
     },
     "execution_count": 18,
     "metadata": {},
     "output_type": "execute_result"
    },
    {
     "data": {
      "image/png": "[encoded data removed]",
      "text/plain": [
       "<Figure size 2160x576 with 1 Axes>"
      ]
     },
     "metadata": {
      "needs_background": "light"
     },
     "output_type": "display_data"
    }
   ],
   "source": [
    "#Lets check the Occupation\n",
    "plt.figure(figsize=(30,8))\n",
    "sns.countplot(x='Education',data=df,hue='Income')\n",
    "\n",
    "plt.title(\"Education \")"
   ]
  },
  {
   "cell_type": "markdown",
   "id": "c0bdd125",
   "metadata": {},
   "source": [
    "#### Almost 70% of ' Prof-school' candidates has heighest Income >50K .Then ' Doctorate' ,' Bachelors' comes .Education Decides the Income . \n",
    "#### No ' Preschool'  and ' 1st-4th' candidate has Income >50K"
   ]
  },
  {
   "cell_type": "code",
   "execution_count": 19,
   "id": "57d32e0b",
   "metadata": {},
   "outputs": [
    {
     "data": {
      "text/plain": [
       "Text(0.5, 1.0, 'Native_country')"
      ]
     },
     "execution_count": 19,
     "metadata": {},
     "output_type": "execute_result"
    },
    {
     "data": {
      "image/png": "[encoded data removed]",
      "text/plain": [
       "<Figure size 2160x576 with 1 Axes>"
      ]
     },
     "metadata": {
      "needs_background": "light"
     },
     "output_type": "display_data"
    }
   ],
   "source": [
    "#Lets check the Native_country \n",
    "plt.figure(figsize=(30,8))\n",
    "sns.countplot(x='Native_country',data=df,hue='Income')\n",
    "\n",
    "plt.title(\"Native_country\")"
   ]
  },
  {
   "cell_type": "code",
   "execution_count": 20,
   "id": "81e9cf7c",
   "metadata": {},
   "outputs": [
    {
     "data": {
      "text/plain": [
       " United-States                 27503\n",
       " Mexico                          610\n",
       " Philippines                     188\n",
       " Germany                         128\n",
       " Puerto-Rico                     109\n",
       " Canada                          107\n",
       " India                           100\n",
       " El-Salvador                     100\n",
       " Cuba                             92\n",
       " England                          86\n",
       " Jamaica                          80\n",
       " South                            71\n",
       " Italy                            68\n",
       " China                            68\n",
       " Dominican-Republic               67\n",
       " Vietnam                          64\n",
       " Guatemala                        63\n",
       " Japan                            59\n",
       " Columbia                         56\n",
       " Poland                           56\n",
       " Haiti                            42\n",
       " Iran                             42\n",
       " Taiwan                           42\n",
       " Portugal                         34\n",
       " Nicaragua                        33\n",
       " Peru                             30\n",
       " Greece                           29\n",
       " Ecuador                          27\n",
       " France                           27\n",
       " Ireland                          24\n",
       " Hong                             19\n",
       " Trinadad&Tobago                  18\n",
       " Cambodia                         18\n",
       " Thailand                         17\n",
       " Laos                             17\n",
       " Yugoslavia                       16\n",
       " Outlying-US(Guam-USVI-etc)       14\n",
       " Hungary                          13\n",
       " Honduras                         12\n",
       " Scotland                         11\n",
       " Holand-Netherlands                1\n",
       "Name: Native_country, dtype: int64"
      ]
     },
     "execution_count": 20,
     "metadata": {},
     "output_type": "execute_result"
    }
   ],
   "source": [
    "df['Native_country'].value_counts()"
   ]
  },
  {
   "cell_type": "code",
   "execution_count": 21,
   "id": "45e7bf57",
   "metadata": {},
   "outputs": [
    {
     "data": {
      "text/plain": [
       "<AxesSubplot:xlabel='Education', ylabel='Hours_per_week'>"
      ]
     },
     "execution_count": 21,
     "metadata": {},
     "output_type": "execute_result"
    },
    {
     "data": {
      "image/png": "[encoded data removed]",
      "text/plain": [
       "<Figure size 1440x576 with 1 Axes>"
      ]
     },
     "metadata": {
      "needs_background": "light"
     },
     "output_type": "display_data"
    }
   ],
   "source": [
    "plt.figure(figsize=(20,8))\n",
    "sns.barplot(x='Education',y='Hours_per_week',data=df,hue='Sex')\n",
    "##Checking the distribution of Education and  Hours_per_week as Sex ###"
   ]
  },
  {
   "cell_type": "markdown",
   "id": "f522794b",
   "metadata": {},
   "source": [
    "#### Females works for less Hours_per_week than Males"
   ]
  },
  {
   "cell_type": "code",
   "execution_count": 22,
   "id": "3db19018",
   "metadata": {},
   "outputs": [
    {
     "data": {
      "text/plain": [
       "Text(0.5, 1.0, 'Occupation vs Income')"
      ]
     },
     "execution_count": 22,
     "metadata": {},
     "output_type": "execute_result"
    },
    {
     "data": {
      "image/png": "[encoded data removed]",
      "text/plain": [
       "<Figure size 432x288 with 1 Axes>"
      ]
     },
     "metadata": {
      "needs_background": "light"
     },
     "output_type": "display_data"
    }
   ],
   "source": [
    "#Lets check the Occupation vs Income \n",
    "sns.countplot(x='Income' ,data =df)\n",
    "plt.title(\"Occupation vs Income\")"
   ]
  },
  {
   "cell_type": "code",
   "execution_count": 23,
   "id": "be14522d",
   "metadata": {},
   "outputs": [
    {
     "data": {
      "text/plain": [
       " <=50K    22653\n",
       " >50K      7508\n",
       "Name: Income, dtype: int64"
      ]
     },
     "execution_count": 23,
     "metadata": {},
     "output_type": "execute_result"
    }
   ],
   "source": [
    "df['Income'].value_counts()"
   ]
  },
  {
   "cell_type": "markdown",
   "id": "d01e6319",
   "metadata": {},
   "source": [
    "#### Distribution of data is imbalanced 75% , 25% ,so will not only consider accuracy but also have to consider F1 score too."
   ]
  },
  {
   "cell_type": "markdown",
   "id": "57c28064",
   "metadata": {},
   "source": [
    "### Categorical data conversion using LabelEncoder"
   ]
  },
  {
   "cell_type": "code",
   "execution_count": 26,
   "id": "fa488c3f",
   "metadata": {
    "scrolled": true
   },
   "outputs": [
    {
     "data": {
      "text/html": [
       "<div>\n",
       "<style scoped>\n",
       "    .dataframe tbody tr th:only-of-type {\n",
       "        vertical-align: middle;\n",
       "    }\n",
       "\n",
       "    .dataframe tbody tr th {\n",
       "        vertical-align: top;\n",
       "    }\n",
       "\n",
       "    .dataframe thead th {\n",
       "        text-align: right;\n",
       "    }\n",
       "</style>\n",
       "<table border=\"1\" class=\"dataframe\">\n",
       "  <thead>\n",
       "    <tr style=\"text-align: right;\">\n",
       "      <th></th>\n",
       "      <th>Age</th>\n",
       "      <th>Workclass</th>\n",
       "      <th>Fnlwgt</th>\n",
       "      <th>Education</th>\n",
       "      <th>Education_num</th>\n",
       "      <th>Marital_status</th>\n",
       "      <th>Occupation</th>\n",
       "      <th>Relationship</th>\n",
       "      <th>Race</th>\n",
       "      <th>Sex</th>\n",
       "      <th>Capital_gain</th>\n",
       "      <th>Capital_loss</th>\n",
       "      <th>Hours_per_week</th>\n",
       "      <th>Native_country</th>\n",
       "      <th>Income</th>\n",
       "    </tr>\n",
       "  </thead>\n",
       "  <tbody>\n",
       "    <tr>\n",
       "      <th>0</th>\n",
       "      <td>50</td>\n",
       "      <td>4</td>\n",
       "      <td>83311</td>\n",
       "      <td>9</td>\n",
       "      <td>12</td>\n",
       "      <td>2</td>\n",
       "      <td>3</td>\n",
       "      <td>0</td>\n",
       "      <td>4</td>\n",
       "      <td>1</td>\n",
       "      <td>0</td>\n",
       "      <td>0</td>\n",
       "      <td>12</td>\n",
       "      <td>38</td>\n",
       "      <td>0</td>\n",
       "    </tr>\n",
       "    <tr>\n",
       "      <th>1</th>\n",
       "      <td>38</td>\n",
       "      <td>2</td>\n",
       "      <td>215646</td>\n",
       "      <td>11</td>\n",
       "      <td>8</td>\n",
       "      <td>0</td>\n",
       "      <td>5</td>\n",
       "      <td>1</td>\n",
       "      <td>4</td>\n",
       "      <td>1</td>\n",
       "      <td>0</td>\n",
       "      <td>0</td>\n",
       "      <td>39</td>\n",
       "      <td>38</td>\n",
       "      <td>0</td>\n",
       "    </tr>\n",
       "    <tr>\n",
       "      <th>2</th>\n",
       "      <td>53</td>\n",
       "      <td>2</td>\n",
       "      <td>234721</td>\n",
       "      <td>1</td>\n",
       "      <td>6</td>\n",
       "      <td>2</td>\n",
       "      <td>5</td>\n",
       "      <td>0</td>\n",
       "      <td>2</td>\n",
       "      <td>1</td>\n",
       "      <td>0</td>\n",
       "      <td>0</td>\n",
       "      <td>39</td>\n",
       "      <td>38</td>\n",
       "      <td>0</td>\n",
       "    </tr>\n",
       "    <tr>\n",
       "      <th>3</th>\n",
       "      <td>28</td>\n",
       "      <td>2</td>\n",
       "      <td>338409</td>\n",
       "      <td>9</td>\n",
       "      <td>12</td>\n",
       "      <td>2</td>\n",
       "      <td>9</td>\n",
       "      <td>5</td>\n",
       "      <td>2</td>\n",
       "      <td>0</td>\n",
       "      <td>0</td>\n",
       "      <td>0</td>\n",
       "      <td>39</td>\n",
       "      <td>4</td>\n",
       "      <td>0</td>\n",
       "    </tr>\n",
       "    <tr>\n",
       "      <th>4</th>\n",
       "      <td>37</td>\n",
       "      <td>2</td>\n",
       "      <td>284582</td>\n",
       "      <td>12</td>\n",
       "      <td>13</td>\n",
       "      <td>2</td>\n",
       "      <td>3</td>\n",
       "      <td>5</td>\n",
       "      <td>4</td>\n",
       "      <td>0</td>\n",
       "      <td>0</td>\n",
       "      <td>0</td>\n",
       "      <td>39</td>\n",
       "      <td>38</td>\n",
       "      <td>0</td>\n",
       "    </tr>\n",
       "  </tbody>\n",
       "</table>\n",
       "</div>"
      ],
      "text/plain": [
       "   Age  Workclass  Fnlwgt  Education  Education_num  Marital_status  \\\n",
       "0   50          4   83311          9             12               2   \n",
       "1   38          2  215646         11              8               0   \n",
       "2   53          2  234721          1              6               2   \n",
       "3   28          2  338409          9             12               2   \n",
       "4   37          2  284582         12             13               2   \n",
       "\n",
       "   Occupation  Relationship  Race  Sex  Capital_gain  Capital_loss  \\\n",
       "0           3             0     4    1             0             0   \n",
       "1           5             1     4    1             0             0   \n",
       "2           5             0     2    1             0             0   \n",
       "3           9             5     2    0             0             0   \n",
       "4           3             5     4    0             0             0   \n",
       "\n",
       "   Hours_per_week  Native_country  Income  \n",
       "0              12              38       0  \n",
       "1              39              38       0  \n",
       "2              39              38       0  \n",
       "3              39               4       0  \n",
       "4              39              38       0  "
      ]
     },
     "execution_count": 26,
     "metadata": {},
     "output_type": "execute_result"
    }
   ],
   "source": [
    "from sklearn.preprocessing import LabelEncoder\n",
    "cols=['Workclass','Education', 'Education_num', 'Marital_status', 'Occupation', 'Relationship', \n",
    "       'Race', 'Sex', 'Hours_per_week', 'Native_country','Income']\n",
    "# Creating a instance of label Encoder.\n",
    "le = LabelEncoder()\n",
    " \n",
    "# Using .fit_transform function to fit label\n",
    "for i in cols :\n",
    "    df[i] = le.fit_transform(df[i])\n",
    " \n",
    "# printing label\n",
    "df.head()"
   ]
  },
  {
   "cell_type": "markdown",
   "id": "ed44fad2",
   "metadata": {},
   "source": [
    "#### We can see all categorical data got converted into integer data but scale of it is not same , so need to transform into same scale using standard scaler"
   ]
  },
  {
   "cell_type": "markdown",
   "id": "9c3f4372",
   "metadata": {},
   "source": [
    "### Correlation"
   ]
  },
  {
   "cell_type": "code",
   "execution_count": 27,
   "id": "5160dd4a",
   "metadata": {
    "scrolled": true
   },
   "outputs": [
    {
     "data": {
      "text/html": [
       "<div>\n",
       "<style scoped>\n",
       "    .dataframe tbody tr th:only-of-type {\n",
       "        vertical-align: middle;\n",
       "    }\n",
       "\n",
       "    .dataframe tbody tr th {\n",
       "        vertical-align: top;\n",
       "    }\n",
       "\n",
       "    .dataframe thead th {\n",
       "        text-align: right;\n",
       "    }\n",
       "</style>\n",
       "<table border=\"1\" class=\"dataframe\">\n",
       "  <thead>\n",
       "    <tr style=\"text-align: right;\">\n",
       "      <th></th>\n",
       "      <th>Age</th>\n",
       "      <th>Workclass</th>\n",
       "      <th>Fnlwgt</th>\n",
       "      <th>Education</th>\n",
       "      <th>Education_num</th>\n",
       "      <th>Marital_status</th>\n",
       "      <th>Occupation</th>\n",
       "      <th>Relationship</th>\n",
       "      <th>Race</th>\n",
       "      <th>Sex</th>\n",
       "      <th>Capital_gain</th>\n",
       "      <th>Capital_loss</th>\n",
       "      <th>Hours_per_week</th>\n",
       "      <th>Native_country</th>\n",
       "      <th>Income</th>\n",
       "    </tr>\n",
       "  </thead>\n",
       "  <tbody>\n",
       "    <tr>\n",
       "      <th>Age</th>\n",
       "      <td>1.000000</td>\n",
       "      <td>0.080548</td>\n",
       "      <td>-0.076511</td>\n",
       "      <td>-0.001111</td>\n",
       "      <td>0.043525</td>\n",
       "      <td>-0.276378</td>\n",
       "      <td>-0.005680</td>\n",
       "      <td>-0.246456</td>\n",
       "      <td>0.023373</td>\n",
       "      <td>0.081992</td>\n",
       "      <td>0.080154</td>\n",
       "      <td>0.060166</td>\n",
       "      <td>0.102451</td>\n",
       "      <td>-0.001905</td>\n",
       "      <td>0.242000</td>\n",
       "    </tr>\n",
       "    <tr>\n",
       "      <th>Workclass</th>\n",
       "      <td>0.080548</td>\n",
       "      <td>1.000000</td>\n",
       "      <td>-0.032395</td>\n",
       "      <td>0.017892</td>\n",
       "      <td>0.037729</td>\n",
       "      <td>-0.034338</td>\n",
       "      <td>0.015719</td>\n",
       "      <td>-0.067401</td>\n",
       "      <td>0.044700</td>\n",
       "      <td>0.074917</td>\n",
       "      <td>0.035340</td>\n",
       "      <td>0.007226</td>\n",
       "      <td>0.049054</td>\n",
       "      <td>0.007644</td>\n",
       "      <td>0.018103</td>\n",
       "    </tr>\n",
       "    <tr>\n",
       "      <th>Fnlwgt</th>\n",
       "      <td>-0.076511</td>\n",
       "      <td>-0.032395</td>\n",
       "      <td>1.000000</td>\n",
       "      <td>-0.027115</td>\n",
       "      <td>-0.044954</td>\n",
       "      <td>0.032197</td>\n",
       "      <td>0.000152</td>\n",
       "      <td>0.009289</td>\n",
       "      <td>-0.023882</td>\n",
       "      <td>0.025387</td>\n",
       "      <td>0.000427</td>\n",
       "      <td>-0.009757</td>\n",
       "      <td>-0.022581</td>\n",
       "      <td>-0.066709</td>\n",
       "      <td>-0.008978</td>\n",
       "    </tr>\n",
       "    <tr>\n",
       "      <th>Education</th>\n",
       "      <td>-0.001111</td>\n",
       "      <td>0.017892</td>\n",
       "      <td>-0.027115</td>\n",
       "      <td>1.000000</td>\n",
       "      <td>0.345431</td>\n",
       "      <td>-0.040654</td>\n",
       "      <td>-0.038231</td>\n",
       "      <td>-0.012720</td>\n",
       "      <td>0.011158</td>\n",
       "      <td>-0.027880</td>\n",
       "      <td>0.030577</td>\n",
       "      <td>0.015025</td>\n",
       "      <td>0.060629</td>\n",
       "      <td>0.078794</td>\n",
       "      <td>0.078981</td>\n",
       "    </tr>\n",
       "    <tr>\n",
       "      <th>Education_num</th>\n",
       "      <td>0.043525</td>\n",
       "      <td>0.037729</td>\n",
       "      <td>-0.044954</td>\n",
       "      <td>0.345431</td>\n",
       "      <td>1.000000</td>\n",
       "      <td>-0.063457</td>\n",
       "      <td>0.087778</td>\n",
       "      <td>-0.091928</td>\n",
       "      <td>0.032791</td>\n",
       "      <td>0.006131</td>\n",
       "      <td>0.124413</td>\n",
       "      <td>0.079656</td>\n",
       "      <td>0.154690</td>\n",
       "      <td>0.091547</td>\n",
       "      <td>0.335317</td>\n",
       "    </tr>\n",
       "    <tr>\n",
       "      <th>Marital_status</th>\n",
       "      <td>-0.276378</td>\n",
       "      <td>-0.034338</td>\n",
       "      <td>0.032197</td>\n",
       "      <td>-0.040654</td>\n",
       "      <td>-0.063457</td>\n",
       "      <td>1.000000</td>\n",
       "      <td>0.022702</td>\n",
       "      <td>0.177975</td>\n",
       "      <td>-0.068641</td>\n",
       "      <td>-0.119837</td>\n",
       "      <td>-0.042424</td>\n",
       "      <td>-0.035197</td>\n",
       "      <td>-0.191256</td>\n",
       "      <td>-0.025911</td>\n",
       "      <td>-0.193504</td>\n",
       "    </tr>\n",
       "    <tr>\n",
       "      <th>Occupation</th>\n",
       "      <td>-0.005680</td>\n",
       "      <td>0.015719</td>\n",
       "      <td>0.000152</td>\n",
       "      <td>-0.038231</td>\n",
       "      <td>0.087778</td>\n",
       "      <td>0.022702</td>\n",
       "      <td>1.000000</td>\n",
       "      <td>-0.053742</td>\n",
       "      <td>0.000736</td>\n",
       "      <td>0.062350</td>\n",
       "      <td>0.022170</td>\n",
       "      <td>0.014597</td>\n",
       "      <td>0.017495</td>\n",
       "      <td>-0.003470</td>\n",
       "      <td>0.051551</td>\n",
       "    </tr>\n",
       "    <tr>\n",
       "      <th>Relationship</th>\n",
       "      <td>-0.246456</td>\n",
       "      <td>-0.067401</td>\n",
       "      <td>0.009289</td>\n",
       "      <td>-0.012720</td>\n",
       "      <td>-0.091928</td>\n",
       "      <td>0.177975</td>\n",
       "      <td>-0.053742</td>\n",
       "      <td>1.000000</td>\n",
       "      <td>-0.117140</td>\n",
       "      <td>-0.584876</td>\n",
       "      <td>-0.058258</td>\n",
       "      <td>-0.063569</td>\n",
       "      <td>-0.260494</td>\n",
       "      <td>-0.010806</td>\n",
       "      <td>-0.251009</td>\n",
       "    </tr>\n",
       "    <tr>\n",
       "      <th>Race</th>\n",
       "      <td>0.023373</td>\n",
       "      <td>0.044700</td>\n",
       "      <td>-0.023882</td>\n",
       "      <td>0.011158</td>\n",
       "      <td>0.032791</td>\n",
       "      <td>-0.068641</td>\n",
       "      <td>0.000736</td>\n",
       "      <td>-0.117140</td>\n",
       "      <td>1.000000</td>\n",
       "      <td>0.089178</td>\n",
       "      <td>0.014351</td>\n",
       "      <td>0.023520</td>\n",
       "      <td>0.049021</td>\n",
       "      <td>0.124511</td>\n",
       "      <td>0.071666</td>\n",
       "    </tr>\n",
       "    <tr>\n",
       "      <th>Sex</th>\n",
       "      <td>0.081992</td>\n",
       "      <td>0.074917</td>\n",
       "      <td>0.025387</td>\n",
       "      <td>-0.027880</td>\n",
       "      <td>0.006131</td>\n",
       "      <td>-0.119837</td>\n",
       "      <td>0.062350</td>\n",
       "      <td>-0.584876</td>\n",
       "      <td>0.089178</td>\n",
       "      <td>1.000000</td>\n",
       "      <td>0.048811</td>\n",
       "      <td>0.047017</td>\n",
       "      <td>0.233435</td>\n",
       "      <td>0.000612</td>\n",
       "      <td>0.216715</td>\n",
       "    </tr>\n",
       "    <tr>\n",
       "      <th>Capital_gain</th>\n",
       "      <td>0.080154</td>\n",
       "      <td>0.035340</td>\n",
       "      <td>0.000427</td>\n",
       "      <td>0.030577</td>\n",
       "      <td>0.124413</td>\n",
       "      <td>-0.042424</td>\n",
       "      <td>0.022170</td>\n",
       "      <td>-0.058258</td>\n",
       "      <td>0.014351</td>\n",
       "      <td>0.048811</td>\n",
       "      <td>1.000000</td>\n",
       "      <td>-0.032228</td>\n",
       "      <td>0.081130</td>\n",
       "      <td>0.008529</td>\n",
       "      <td>0.221200</td>\n",
       "    </tr>\n",
       "    <tr>\n",
       "      <th>Capital_loss</th>\n",
       "      <td>0.060166</td>\n",
       "      <td>0.007226</td>\n",
       "      <td>-0.009757</td>\n",
       "      <td>0.015025</td>\n",
       "      <td>0.079656</td>\n",
       "      <td>-0.035197</td>\n",
       "      <td>0.014597</td>\n",
       "      <td>-0.063569</td>\n",
       "      <td>0.023520</td>\n",
       "      <td>0.047017</td>\n",
       "      <td>-0.032228</td>\n",
       "      <td>1.000000</td>\n",
       "      <td>0.052928</td>\n",
       "      <td>0.009388</td>\n",
       "      <td>0.150050</td>\n",
       "    </tr>\n",
       "    <tr>\n",
       "      <th>Hours_per_week</th>\n",
       "      <td>0.102451</td>\n",
       "      <td>0.049054</td>\n",
       "      <td>-0.022581</td>\n",
       "      <td>0.060629</td>\n",
       "      <td>0.154690</td>\n",
       "      <td>-0.191256</td>\n",
       "      <td>0.017495</td>\n",
       "      <td>-0.260494</td>\n",
       "      <td>0.049021</td>\n",
       "      <td>0.233435</td>\n",
       "      <td>0.081130</td>\n",
       "      <td>0.052928</td>\n",
       "      <td>1.000000</td>\n",
       "      <td>0.008348</td>\n",
       "      <td>0.232328</td>\n",
       "    </tr>\n",
       "    <tr>\n",
       "      <th>Native_country</th>\n",
       "      <td>-0.001905</td>\n",
       "      <td>0.007644</td>\n",
       "      <td>-0.066709</td>\n",
       "      <td>0.078794</td>\n",
       "      <td>0.091547</td>\n",
       "      <td>-0.025911</td>\n",
       "      <td>-0.003470</td>\n",
       "      <td>-0.010806</td>\n",
       "      <td>0.124511</td>\n",
       "      <td>0.000612</td>\n",
       "      <td>0.008529</td>\n",
       "      <td>0.009388</td>\n",
       "      <td>0.008348</td>\n",
       "      <td>1.000000</td>\n",
       "      <td>0.023273</td>\n",
       "    </tr>\n",
       "    <tr>\n",
       "      <th>Income</th>\n",
       "      <td>0.242000</td>\n",
       "      <td>0.018103</td>\n",
       "      <td>-0.008978</td>\n",
       "      <td>0.078981</td>\n",
       "      <td>0.335317</td>\n",
       "      <td>-0.193504</td>\n",
       "      <td>0.051551</td>\n",
       "      <td>-0.251009</td>\n",
       "      <td>0.071666</td>\n",
       "      <td>0.216715</td>\n",
       "      <td>0.221200</td>\n",
       "      <td>0.150050</td>\n",
       "      <td>0.232328</td>\n",
       "      <td>0.023273</td>\n",
       "      <td>1.000000</td>\n",
       "    </tr>\n",
       "  </tbody>\n",
       "</table>\n",
       "</div>"
      ],
      "text/plain": [
       "                     Age  Workclass    Fnlwgt  Education  Education_num  \\\n",
       "Age             1.000000   0.080548 -0.076511  -0.001111       0.043525   \n",
       "Workclass       0.080548   1.000000 -0.032395   0.017892       0.037729   \n",
       "Fnlwgt         -0.076511  -0.032395  1.000000  -0.027115      -0.044954   \n",
       "Education      -0.001111   0.017892 -0.027115   1.000000       0.345431   \n",
       "Education_num   0.043525   0.037729 -0.044954   0.345431       1.000000   \n",
       "Marital_status -0.276378  -0.034338  0.032197  -0.040654      -0.063457   \n",
       "Occupation     -0.005680   0.015719  0.000152  -0.038231       0.087778   \n",
       "Relationship   -0.246456  -0.067401  0.009289  -0.012720      -0.091928   \n",
       "Race            0.023373   0.044700 -0.023882   0.011158       0.032791   \n",
       "Sex             0.081992   0.074917  0.025387  -0.027880       0.006131   \n",
       "Capital_gain    0.080154   0.035340  0.000427   0.030577       0.124413   \n",
       "Capital_loss    0.060166   0.007226 -0.009757   0.015025       0.079656   \n",
       "Hours_per_week  0.102451   0.049054 -0.022581   0.060629       0.154690   \n",
       "Native_country -0.001905   0.007644 -0.066709   0.078794       0.091547   \n",
       "Income          0.242000   0.018103 -0.008978   0.078981       0.335317   \n",
       "\n",
       "                Marital_status  Occupation  Relationship      Race       Sex  \\\n",
       "Age                  -0.276378   -0.005680     -0.246456  0.023373  0.081992   \n",
       "Workclass            -0.034338    0.015719     -0.067401  0.044700  0.074917   \n",
       "Fnlwgt                0.032197    0.000152      0.009289 -0.023882  0.025387   \n",
       "Education            -0.040654   -0.038231     -0.012720  0.011158 -0.027880   \n",
       "Education_num        -0.063457    0.087778     -0.091928  0.032791  0.006131   \n",
       "Marital_status        1.000000    0.022702      0.177975 -0.068641 -0.119837   \n",
       "Occupation            0.022702    1.000000     -0.053742  0.000736  0.062350   \n",
       "Relationship          0.177975   -0.053742      1.000000 -0.117140 -0.584876   \n",
       "Race                 -0.068641    0.000736     -0.117140  1.000000  0.089178   \n",
       "Sex                  -0.119837    0.062350     -0.584876  0.089178  1.000000   \n",
       "Capital_gain         -0.042424    0.022170     -0.058258  0.014351  0.048811   \n",
       "Capital_loss         -0.035197    0.014597     -0.063569  0.023520  0.047017   \n",
       "Hours_per_week       -0.191256    0.017495     -0.260494  0.049021  0.233435   \n",
       "Native_country       -0.025911   -0.003470     -0.010806  0.124511  0.000612   \n",
       "Income               -0.193504    0.051551     -0.251009  0.071666  0.216715   \n",
       "\n",
       "                Capital_gain  Capital_loss  Hours_per_week  Native_country  \\\n",
       "Age                 0.080154      0.060166        0.102451       -0.001905   \n",
       "Workclass           0.035340      0.007226        0.049054        0.007644   \n",
       "Fnlwgt              0.000427     -0.009757       -0.022581       -0.066709   \n",
       "Education           0.030577      0.015025        0.060629        0.078794   \n",
       "Education_num       0.124413      0.079656        0.154690        0.091547   \n",
       "Marital_status     -0.042424     -0.035197       -0.191256       -0.025911   \n",
       "Occupation          0.022170      0.014597        0.017495       -0.003470   \n",
       "Relationship       -0.058258     -0.063569       -0.260494       -0.010806   \n",
       "Race                0.014351      0.023520        0.049021        0.124511   \n",
       "Sex                 0.048811      0.047017        0.233435        0.000612   \n",
       "Capital_gain        1.000000     -0.032228        0.081130        0.008529   \n",
       "Capital_loss       -0.032228      1.000000        0.052928        0.009388   \n",
       "Hours_per_week      0.081130      0.052928        1.000000        0.008348   \n",
       "Native_country      0.008529      0.009388        0.008348        1.000000   \n",
       "Income              0.221200      0.150050        0.232328        0.023273   \n",
       "\n",
       "                  Income  \n",
       "Age             0.242000  \n",
       "Workclass       0.018103  \n",
       "Fnlwgt         -0.008978  \n",
       "Education       0.078981  \n",
       "Education_num   0.335317  \n",
       "Marital_status -0.193504  \n",
       "Occupation      0.051551  \n",
       "Relationship   -0.251009  \n",
       "Race            0.071666  \n",
       "Sex             0.216715  \n",
       "Capital_gain    0.221200  \n",
       "Capital_loss    0.150050  \n",
       "Hours_per_week  0.232328  \n",
       "Native_country  0.023273  \n",
       "Income          1.000000  "
      ]
     },
     "execution_count": 27,
     "metadata": {},
     "output_type": "execute_result"
    }
   ],
   "source": [
    "df.corr()"
   ]
  },
  {
   "cell_type": "code",
   "execution_count": 28,
   "id": "528be11a",
   "metadata": {},
   "outputs": [
    {
     "data": {
      "text/plain": [
       "<AxesSubplot:>"
      ]
     },
     "execution_count": 28,
     "metadata": {},
     "output_type": "execute_result"
    },
    {
     "data": {
      "image/png": "[encoded data removed]",
      "text/plain": [
       "<Figure size 1080x576 with 2 Axes>"
      ]
     },
     "metadata": {
      "needs_background": "light"
     },
     "output_type": "display_data"
    }
   ],
   "source": [
    "#correlation matrix\n",
    "plt.figure(figsize=(15,8))\n",
    "\n",
    "sns.heatmap(df.corr(),annot=True)"
   ]
  },
  {
   "cell_type": "code",
   "execution_count": 29,
   "id": "cd7f1cff",
   "metadata": {},
   "outputs": [
    {
     "data": {
      "text/plain": [
       "Income            1.00\n",
       "Education_num     0.34\n",
       "Age               0.24\n",
       "Hours_per_week    0.23\n",
       "Capital_gain      0.22\n",
       "Sex               0.22\n",
       "Capital_loss      0.15\n",
       "Education         0.08\n",
       "Race              0.07\n",
       "Occupation        0.05\n",
       "Native_country    0.02\n",
       "Workclass         0.02\n",
       "Fnlwgt           -0.01\n",
       "Marital_status   -0.19\n",
       "Relationship     -0.25\n",
       "Name: Income, dtype: float64"
      ]
     },
     "execution_count": 29,
     "metadata": {},
     "output_type": "execute_result"
    }
   ],
   "source": [
    "## correlation with target\n",
    "corr=round(df.corr()['Income'].sort_values(ascending=False),2)\n",
    "corr"
   ]
  },
  {
   "cell_type": "markdown",
   "id": "4aaabedc",
   "metadata": {},
   "source": [
    "**+vely correlated features :**  ['Education_num','Age','Hours_per_week','Capital_gain','Sex','Capital_loss',\n",
    "                                'Education','Race', 'Occupation', 'Native_country', 'Workclass']\n",
    "    \n",
    "**+vely correlated features :**  ['Fnlwgt','Marital_status','Relationship',]"
   ]
  },
  {
   "cell_type": "code",
   "execution_count": 30,
   "id": "b5b28522",
   "metadata": {},
   "outputs": [
    {
     "data": {
      "text/plain": [
       "Text(0.5, 1.0, 'Correlation with target')"
      ]
     },
     "execution_count": 30,
     "metadata": {},
     "output_type": "execute_result"
    },
    {
     "data": {
      "image/png": "[encoded data removed]",
      "text/plain": [
       "<Figure size 432x288 with 1 Axes>"
      ]
     },
     "metadata": {
      "needs_background": "light"
     },
     "output_type": "display_data"
    }
   ],
   "source": [
    "df.corr()['Income'].sort_values(ascending=False).drop(['Income']).plot(kind='bar')\n",
    "plt.xlabel('Features',fontsize=20)\n",
    "plt.ylabel('Income')\n",
    "plt.title('Correlation with target')"
   ]
  },
  {
   "cell_type": "markdown",
   "id": "015f9d10",
   "metadata": {},
   "source": [
    "### Data splitting for Training model"
   ]
  },
  {
   "cell_type": "code",
   "execution_count": 42,
   "id": "80fbd756",
   "metadata": {},
   "outputs": [],
   "source": [
    "x=df.drop(['Income'],axis=1)\n",
    "y=df['Income']"
   ]
  },
  {
   "cell_type": "code",
   "execution_count": 43,
   "id": "0d5e92bd",
   "metadata": {},
   "outputs": [
    {
     "name": "stdout",
     "output_type": "stream",
     "text": [
      "x shape : (30161, 14) yshape : (30161,)\n"
     ]
    }
   ],
   "source": [
    "print(\"x shape :\",x.shape,\"yshape :\",y.shape)"
   ]
  },
  {
   "cell_type": "markdown",
   "id": "7b9bbfaf",
   "metadata": {},
   "source": [
    "### Checking Skewness"
   ]
  },
  {
   "cell_type": "code",
   "execution_count": 44,
   "id": "074b77ff",
   "metadata": {},
   "outputs": [
    {
     "data": {
      "text/plain": [
       "Age                0.530223\n",
       "Workclass          1.154786\n",
       "Fnlwgt             1.459212\n",
       "Education         -0.944971\n",
       "Education_num     -0.305328\n",
       "Marital_status    -0.009387\n",
       "Occupation         0.110420\n",
       "Relationship       0.820275\n",
       "Race              -2.506976\n",
       "Sex               -0.750584\n",
       "Capital_gain      11.902511\n",
       "Capital_loss       4.526294\n",
       "Hours_per_week     0.165144\n",
       "Native_country    -4.178826\n",
       "dtype: float64"
      ]
     },
     "execution_count": 44,
     "metadata": {},
     "output_type": "execute_result"
    }
   ],
   "source": [
    "x.skew()"
   ]
  },
  {
   "cell_type": "markdown",
   "id": "40f14b92",
   "metadata": {},
   "source": [
    "### skewness removal using power transform:"
   ]
  },
  {
   "cell_type": "code",
   "execution_count": 47,
   "id": "05c1e45a",
   "metadata": {},
   "outputs": [
    {
     "name": "stdout",
     "output_type": "stream",
     "text": [
      "[[ 0.92168672  1.76422881 -1.08947753 ... -0.22285067 -2.34876409\n",
      "   0.29780123]\n",
      " [ 0.10118222 -0.13178115  0.39891017 ... -0.22285067 -0.07775358\n",
      "   0.29780123]\n",
      " [ 1.10205308 -0.13178115  0.56256174 ... -0.22285067 -0.07775358\n",
      "   0.29780123]\n",
      " ...\n",
      " [ 1.38543653 -0.13178115 -0.21923333 ... -0.22285067 -0.07775358\n",
      "   0.29780123]\n",
      " [-1.39525882 -0.13178115  0.2719342  ... -0.22285067 -1.76597858\n",
      "   0.29780123]\n",
      " [ 1.04285056  0.885767    0.98172114 ... -0.22285067 -0.07775358\n",
      "   0.29780123]] \n",
      " <class 'numpy.ndarray'>\n",
      "            Age  Workclass    Fnlwgt  Education  Education_num  \\\n",
      "0      0.921687   1.764229 -1.089478  -0.492303       1.157829   \n",
      "1      0.101182  -0.131781  0.398910   0.082837      -0.482400   \n",
      "2      1.102053  -0.131781  0.562562  -2.092199      -1.226159   \n",
      "3     -0.757066  -0.131781  1.339460  -0.492303       1.157829   \n",
      "4      0.023961  -0.131781  0.956769   0.392095       1.595157   \n",
      "...         ...        ...       ...        ...            ...   \n",
      "30156 -0.855518  -0.131781  0.746582  -1.005540       0.730776   \n",
      "30157  0.250947  -0.131781 -0.192785   0.082837      -0.482400   \n",
      "30158  1.385437  -0.131781 -0.219233   0.082837      -0.482400   \n",
      "30159 -1.395259  -0.131781  0.271934   0.082837      -0.482400   \n",
      "30160  1.042851   0.885767  0.981721   0.082837      -0.482400   \n",
      "\n",
      "       Marital_status  Occupation  Relationship      Race       Sex  \\\n",
      "0           -0.363182   -0.637276     -1.081605  0.403729  0.692823   \n",
      "1           -1.772166   -0.106908      0.167207  0.403729  0.692823   \n",
      "2           -0.363182   -0.106908     -1.081605 -2.486277  0.692823   \n",
      "3           -0.363182    0.783597      1.552150 -2.486277 -1.443370   \n",
      "4           -0.363182   -0.637276      1.552150  0.403729 -1.443370   \n",
      "...               ...         ...           ...       ...       ...   \n",
      "30156       -0.363182    1.363834      1.552150  0.403729 -1.443370   \n",
      "30157       -0.363182    0.132617     -1.081605  0.403729  0.692823   \n",
      "30158        2.199010   -1.704274      1.362672  0.403729 -1.443370   \n",
      "30159        0.944759   -1.704274      1.110943  0.403729  0.692823   \n",
      "30160       -0.363182   -0.637276      1.552150  0.403729 -1.443370   \n",
      "\n",
      "       Capital_gain  Capital_loss  Hours_per_week  Native_country  \n",
      "0         -0.303052     -0.222851       -2.348764        0.297801  \n",
      "1         -0.303052     -0.222851       -0.077754        0.297801  \n",
      "2         -0.303052     -0.222851       -0.077754        0.297801  \n",
      "3         -0.303052     -0.222851       -0.077754       -3.371734  \n",
      "4         -0.303052     -0.222851       -0.077754        0.297801  \n",
      "...             ...           ...             ...             ...  \n",
      "30156     -0.303052     -0.222851       -0.247695        0.297801  \n",
      "30157     -0.303052     -0.222851       -0.077754        0.297801  \n",
      "30158     -0.303052     -0.222851       -0.077754        0.297801  \n",
      "30159     -0.303052     -0.222851       -1.765979        0.297801  \n",
      "30160      3.299821     -0.222851       -0.077754        0.297801  \n",
      "\n",
      "[30161 rows x 14 columns]\n"
     ]
    }
   ],
   "source": [
    "#### skewness removal using power transform:\n",
    "from sklearn.preprocessing import PowerTransformer\n",
    "# power transform the raw data\n",
    "\n",
    "power = PowerTransformer(method='yeo-johnson', standardize=True)\n",
    "data_trans = power.fit_transform(x)\n",
    "print(data_trans ,'\\n',type(data_trans))\n",
    "\n",
    "# putting 'numpy.ndarray' data into dataframe\n",
    "x=pd.DataFrame(data_trans ,columns=x.columns)\n",
    "print(x)"
   ]
  },
  {
   "cell_type": "code",
   "execution_count": 99,
   "id": "b441aef0",
   "metadata": {},
   "outputs": [],
   "source": [
    "from sklearn.preprocessing import LabelEncoder\n",
    "from sklearn.model_selection import train_test_split ,RandomizedSearchCV\n",
    "from sklearn.preprocessing import StandardScaler\n",
    "from sklearn.linear_model import LogisticRegression\n",
    "from sklearn.neighbors import KNeighborsClassifier\n",
    "from sklearn.tree import DecisionTreeClassifier\n",
    "from sklearn.ensemble import RandomForestClassifier\n",
    "from sklearn.ensemble import AdaBoostClassifier\n",
    "from sklearn.svm import SVC\n",
    "from sklearn.ensemble import GradientBoostingClassifier\n",
    "from xgboost import XGBClassifier\n",
    "from sklearn.metrics import accuracy_score,confusion_matrix,classification_report\n",
    "\n",
    "import warnings \n",
    "warnings.filterwarnings('ignore')\n",
    "lr=LogisticRegression()"
   ]
  },
  {
   "cell_type": "markdown",
   "id": "c703bd44",
   "metadata": {},
   "source": [
    "**will try to find out best value Random State** "
   ]
  },
  {
   "cell_type": "code",
   "execution_count": 56,
   "id": "d04fc7a8",
   "metadata": {},
   "outputs": [
    {
     "name": "stdout",
     "output_type": "stream",
     "text": [
      "max accuracy score is : 83.6 at random state : 481\n"
     ]
    }
   ],
   "source": [
    "max_accu = 0\n",
    "max_randst = 0\n",
    "for i in range (0,1000):\n",
    "    x_train,x_test,y_train,y_test = train_test_split(x,y,test_size=0.2, random_state=i)\n",
    "    lr.fit(x_train,y_train)\n",
    "    \n",
    "    pred_lr=lr.predict(x_test)\n",
    "    accu_score= accuracy_score(y_test,pred_lr)\n",
    "    if max_accu<accu_score:\n",
    "        max_accu= accu_score\n",
    "        max_randst= i\n",
    "print(\"max accuracy score is :\", round(max_accu*100 ,1),\"at random state :\",max_randst)"
   ]
  },
  {
   "cell_type": "markdown",
   "id": "a50400d5",
   "metadata": {},
   "source": [
    "### Data Scaling using standard scaler"
   ]
  },
  {
   "cell_type": "code",
   "execution_count": 62,
   "id": "951a6d17",
   "metadata": {},
   "outputs": [],
   "source": [
    "from sklearn.preprocessing import StandardScaler\n",
    "x_train,x_test,y_train,y_test = train_test_split(x,y,test_size=0.2, random_state=481)\n",
    "\n",
    "from sklearn.preprocessing import StandardScaler\n",
    "\n",
    "# fit scaler on training data\n",
    "sc = StandardScaler().fit(x_train)\n",
    "\n",
    "# transform training data\n",
    "x_train_sc = sc.transform(x_train)\n",
    "\n",
    "# transform testing dataabs\n",
    "x_test_sc = sc.transform(x_test)"
   ]
  },
  {
   "cell_type": "markdown",
   "id": "98118855",
   "metadata": {},
   "source": [
    "### Model Creation"
   ]
  },
  {
   "cell_type": "code",
   "execution_count": 63,
   "id": "afe630d6",
   "metadata": {},
   "outputs": [
    {
     "name": "stdout",
     "output_type": "stream",
     "text": [
      "Model is created\n"
     ]
    }
   ],
   "source": [
    "lr=LogisticRegression() #Logistic Regression\n",
    "knn=KNeighborsClassifier() #KNearest Neibour \n",
    "dt=DecisionTreeClassifier() # Deciesion Tree\n",
    "rf=RandomForestClassifier() # Random Forest\n",
    "adb=AdaBoostClassifier()    # Adaboost Classifier \n",
    "svc=SVC()              # support vactor classifier        \n",
    "gdboost=GradientBoostingClassifier() #Gradient Boosting Classifier \n",
    "xgboost=XGBClassifier()  #Xtrim Gredient Boosting Classifier \n",
    "model=[lr,knn,dt,rf,adb,svc,gdboost,xgboost]\n",
    "print(\"Model is created\")"
   ]
  },
  {
   "cell_type": "markdown",
   "id": "4b97f09e",
   "metadata": {},
   "source": [
    "####  Train out the models."
   ]
  },
  {
   "cell_type": "code",
   "execution_count": 85,
   "id": "5b75dbba",
   "metadata": {},
   "outputs": [],
   "source": [
    "Model_report = pd.DataFrame(columns=['Model_name','Accuracy_Score','Confusion_matrix'])"
   ]
  },
  {
   "cell_type": "code",
   "execution_count": 86,
   "id": "93782106",
   "metadata": {},
   "outputs": [
    {
     "name": "stdout",
     "output_type": "stream",
     "text": [
      "LogisticRegression() Accuracy score is : 83.57 \n",
      "\n",
      "LogisticRegression() confusion_matrix is : [[4266  318]\n",
      " [ 673  776]] \n",
      "\n",
      "LogisticRegression() classification_report is :\n",
      "               precision    recall  f1-score   support\n",
      "\n",
      "           0       0.86      0.93      0.90      4584\n",
      "           1       0.71      0.54      0.61      1449\n",
      "\n",
      "    accuracy                           0.84      6033\n",
      "   macro avg       0.79      0.73      0.75      6033\n",
      "weighted avg       0.83      0.84      0.83      6033\n",
      " \n",
      "\n",
      "\n",
      "_______________________________________________________________________\n",
      "\n",
      "KNeighborsClassifier() Accuracy score is : 82.45 \n",
      "\n",
      "KNeighborsClassifier() confusion_matrix is : [[4063  521]\n",
      " [ 538  911]] \n",
      "\n",
      "KNeighborsClassifier() classification_report is :\n",
      "               precision    recall  f1-score   support\n",
      "\n",
      "           0       0.88      0.89      0.88      4584\n",
      "           1       0.64      0.63      0.63      1449\n",
      "\n",
      "    accuracy                           0.82      6033\n",
      "   macro avg       0.76      0.76      0.76      6033\n",
      "weighted avg       0.82      0.82      0.82      6033\n",
      " \n",
      "\n",
      "\n",
      "_______________________________________________________________________\n",
      "\n",
      "DecisionTreeClassifier() Accuracy score is : 80.26 \n",
      "\n",
      "DecisionTreeClassifier() confusion_matrix is : [[3935  649]\n",
      " [ 542  907]] \n",
      "\n",
      "DecisionTreeClassifier() classification_report is :\n",
      "               precision    recall  f1-score   support\n",
      "\n",
      "           0       0.88      0.86      0.87      4584\n",
      "           1       0.58      0.63      0.60      1449\n",
      "\n",
      "    accuracy                           0.80      6033\n",
      "   macro avg       0.73      0.74      0.74      6033\n",
      "weighted avg       0.81      0.80      0.80      6033\n",
      " \n",
      "\n",
      "\n",
      "_______________________________________________________________________\n",
      "\n",
      "RandomForestClassifier() Accuracy score is : 85.78 \n",
      "\n",
      "RandomForestClassifier() confusion_matrix is : [[4231  353]\n",
      " [ 505  944]] \n",
      "\n",
      "RandomForestClassifier() classification_report is :\n",
      "               precision    recall  f1-score   support\n",
      "\n",
      "           0       0.89      0.92      0.91      4584\n",
      "           1       0.73      0.65      0.69      1449\n",
      "\n",
      "    accuracy                           0.86      6033\n",
      "   macro avg       0.81      0.79      0.80      6033\n",
      "weighted avg       0.85      0.86      0.86      6033\n",
      " \n",
      "\n",
      "\n",
      "_______________________________________________________________________\n",
      "\n",
      "AdaBoostClassifier() Accuracy score is : 86.23 \n",
      "\n",
      "AdaBoostClassifier() confusion_matrix is : [[4266  318]\n",
      " [ 513  936]] \n",
      "\n",
      "AdaBoostClassifier() classification_report is :\n",
      "               precision    recall  f1-score   support\n",
      "\n",
      "           0       0.89      0.93      0.91      4584\n",
      "           1       0.75      0.65      0.69      1449\n",
      "\n",
      "    accuracy                           0.86      6033\n",
      "   macro avg       0.82      0.79      0.80      6033\n",
      "weighted avg       0.86      0.86      0.86      6033\n",
      " \n",
      "\n",
      "\n",
      "_______________________________________________________________________\n",
      "\n",
      "SVC() Accuracy score is : 84.4 \n",
      "\n",
      "SVC() confusion_matrix is : [[4258  326]\n",
      " [ 615  834]] \n",
      "\n",
      "SVC() classification_report is :\n",
      "               precision    recall  f1-score   support\n",
      "\n",
      "           0       0.87      0.93      0.90      4584\n",
      "           1       0.72      0.58      0.64      1449\n",
      "\n",
      "    accuracy                           0.84      6033\n",
      "   macro avg       0.80      0.75      0.77      6033\n",
      "weighted avg       0.84      0.84      0.84      6033\n",
      " \n",
      "\n",
      "\n",
      "_______________________________________________________________________\n",
      "\n",
      "GradientBoostingClassifier() Accuracy score is : 86.84 \n",
      "\n",
      "GradientBoostingClassifier() confusion_matrix is : [[4313  271]\n",
      " [ 523  926]] \n",
      "\n",
      "GradientBoostingClassifier() classification_report is :\n",
      "               precision    recall  f1-score   support\n",
      "\n",
      "           0       0.89      0.94      0.92      4584\n",
      "           1       0.77      0.64      0.70      1449\n",
      "\n",
      "    accuracy                           0.87      6033\n",
      "   macro avg       0.83      0.79      0.81      6033\n",
      "weighted avg       0.86      0.87      0.86      6033\n",
      " \n",
      "\n",
      "\n",
      "_______________________________________________________________________\n",
      "\n",
      "[00:50:32] WARNING: C:/Users/Administrator/workspace/xgboost-win64_release_1.5.1/src/learner.cc:1115: Starting in XGBoost 1.3.0, the default evaluation metric used with the objective 'binary:logistic' was changed from 'error' to 'logloss'. Explicitly set eval_metric if you'd like to restore the old behavior.\n",
      "XGBClassifier(base_score=0.5, booster='gbtree', colsample_bylevel=1,\n",
      "              colsample_bynode=1, colsample_bytree=1, enable_categorical=False,\n",
      "              gamma=0, gpu_id=-1, importance_type=None,\n",
      "              interaction_constraints='', learning_rate=0.300000012,\n",
      "              max_delta_step=0, max_depth=6, min_child_weight=1, missing=nan,\n",
      "              monotone_constraints='()', n_estimators=100, n_jobs=8,\n",
      "              num_parallel_tree=1, predictor='auto', random_state=0,\n",
      "              reg_alpha=0, reg_lambda=1, scale_pos_weight=1, subsample=1,\n",
      "              tree_method='exact', validate_parameters=1, verbosity=None) Accuracy score is : 87.19 \n",
      "\n",
      "XGBClassifier(base_score=0.5, booster='gbtree', colsample_bylevel=1,\n",
      "              colsample_bynode=1, colsample_bytree=1, enable_categorical=False,\n",
      "              gamma=0, gpu_id=-1, importance_type=None,\n",
      "              interaction_constraints='', learning_rate=0.300000012,\n",
      "              max_delta_step=0, max_depth=6, min_child_weight=1, missing=nan,\n",
      "              monotone_constraints='()', n_estimators=100, n_jobs=8,\n",
      "              num_parallel_tree=1, predictor='auto', random_state=0,\n",
      "              reg_alpha=0, reg_lambda=1, scale_pos_weight=1, subsample=1,\n",
      "              tree_method='exact', validate_parameters=1, verbosity=None) confusion_matrix is : [[4251  333]\n",
      " [ 440 1009]] \n",
      "\n",
      "XGBClassifier(base_score=0.5, booster='gbtree', colsample_bylevel=1,\n",
      "              colsample_bynode=1, colsample_bytree=1, enable_categorical=False,\n",
      "              gamma=0, gpu_id=-1, importance_type=None,\n",
      "              interaction_constraints='', learning_rate=0.300000012,\n",
      "              max_delta_step=0, max_depth=6, min_child_weight=1, missing=nan,\n",
      "              monotone_constraints='()', n_estimators=100, n_jobs=8,\n",
      "              num_parallel_tree=1, predictor='auto', random_state=0,\n",
      "              reg_alpha=0, reg_lambda=1, scale_pos_weight=1, subsample=1,\n",
      "              tree_method='exact', validate_parameters=1, verbosity=None) classification_report is :\n",
      "               precision    recall  f1-score   support\n",
      "\n",
      "           0       0.91      0.93      0.92      4584\n",
      "           1       0.75      0.70      0.72      1449\n",
      "\n",
      "    accuracy                           0.87      6033\n",
      "   macro avg       0.83      0.81      0.82      6033\n",
      "weighted avg       0.87      0.87      0.87      6033\n",
      " \n",
      "\n",
      "\n",
      "_______________________________________________________________________\n",
      "\n"
     ]
    }
   ],
   "source": [
    "for i in model:\n",
    "    i.fit(x_train_sc, y_train)\n",
    "   \n",
    "    pred =i.predict(x_test_sc)\n",
    "    accu=round(accuracy_score(y_test,pred)*100 ,2)\n",
    "    confu_mat=confusion_matrix(y_test,pred)\n",
    "    class_report = classification_report(y_test,pred)\n",
    "    print(f\"{i} Accuracy score is :\",round(accuracy_score(y_test,pred)*100 ,2),'\\n')\n",
    "    print(f\"{i} confusion_matrix is :\",confusion_matrix(y_test,pred),'\\n')\n",
    "    print(f\"{i} classification_report is :\\n\" ,classification_report(y_test,pred),'\\n\\n')\n",
    "    print(\"_______________________________________________________________________\\n\")\n",
    "    Model_report=Model_report.append({\n",
    "                                   'Model_name':i,\n",
    "                                   'Accuracy_Score':accu,\n",
    "                                   'Confusion_matrix':confu_mat\n",
    "                                   },ignore_index=True)\n"
   ]
  },
  {
   "cell_type": "code",
   "execution_count": 96,
   "id": "f08068c5",
   "metadata": {},
   "outputs": [],
   "source": [
    "Model_report['Model_name'][6]='GradientBoostingClassifier()'"
   ]
  },
  {
   "cell_type": "code",
   "execution_count": 97,
   "id": "9ed3b901",
   "metadata": {},
   "outputs": [
    {
     "data": {
      "text/html": [
       "<div>\n",
       "<style scoped>\n",
       "    .dataframe tbody tr th:only-of-type {\n",
       "        vertical-align: middle;\n",
       "    }\n",
       "\n",
       "    .dataframe tbody tr th {\n",
       "        vertical-align: top;\n",
       "    }\n",
       "\n",
       "    .dataframe thead th {\n",
       "        text-align: right;\n",
       "    }\n",
       "</style>\n",
       "<table border=\"1\" class=\"dataframe\">\n",
       "  <thead>\n",
       "    <tr style=\"text-align: right;\">\n",
       "      <th></th>\n",
       "      <th>Model_name</th>\n",
       "      <th>Accuracy_Score</th>\n",
       "      <th>Confusion_matrix</th>\n",
       "    </tr>\n",
       "  </thead>\n",
       "  <tbody>\n",
       "    <tr>\n",
       "      <th>0</th>\n",
       "      <td>LogisticRegression()</td>\n",
       "      <td>83.57</td>\n",
       "      <td>[[4266, 318], [673, 776]]</td>\n",
       "    </tr>\n",
       "    <tr>\n",
       "      <th>1</th>\n",
       "      <td>KNeighborsClassifier()</td>\n",
       "      <td>82.45</td>\n",
       "      <td>[[4063, 521], [538, 911]]</td>\n",
       "    </tr>\n",
       "    <tr>\n",
       "      <th>2</th>\n",
       "      <td>DecisionTreeClassifier()</td>\n",
       "      <td>80.26</td>\n",
       "      <td>[[3935, 649], [542, 907]]</td>\n",
       "    </tr>\n",
       "    <tr>\n",
       "      <th>3</th>\n",
       "      <td>RandomForestClassifier()</td>\n",
       "      <td>85.78</td>\n",
       "      <td>[[4231, 353], [505, 944]]</td>\n",
       "    </tr>\n",
       "    <tr>\n",
       "      <th>4</th>\n",
       "      <td>AdaBoostClassifier()</td>\n",
       "      <td>86.23</td>\n",
       "      <td>[[4266, 318], [513, 936]]</td>\n",
       "    </tr>\n",
       "    <tr>\n",
       "      <th>5</th>\n",
       "      <td>SVC()</td>\n",
       "      <td>84.40</td>\n",
       "      <td>[[4258, 326], [615, 834]]</td>\n",
       "    </tr>\n",
       "    <tr>\n",
       "      <th>6</th>\n",
       "      <td>GradientBoostingClassifier()</td>\n",
       "      <td>86.84</td>\n",
       "      <td>[[4313, 271], [523, 926]]</td>\n",
       "    </tr>\n",
       "    <tr>\n",
       "      <th>7</th>\n",
       "      <td>XGBClassifier(base_score=0.5, booster='gbtree'...</td>\n",
       "      <td>87.19</td>\n",
       "      <td>[[4251, 333], [440, 1009]]</td>\n",
       "    </tr>\n",
       "  </tbody>\n",
       "</table>\n",
       "</div>"
      ],
      "text/plain": [
       "                                          Model_name  Accuracy_Score  \\\n",
       "0                               LogisticRegression()           83.57   \n",
       "1                             KNeighborsClassifier()           82.45   \n",
       "2                           DecisionTreeClassifier()           80.26   \n",
       "3                           RandomForestClassifier()           85.78   \n",
       "4                               AdaBoostClassifier()           86.23   \n",
       "5                                              SVC()           84.40   \n",
       "6                       GradientBoostingClassifier()           86.84   \n",
       "7  XGBClassifier(base_score=0.5, booster='gbtree'...           87.19   \n",
       "\n",
       "             Confusion_matrix  \n",
       "0   [[4266, 318], [673, 776]]  \n",
       "1   [[4063, 521], [538, 911]]  \n",
       "2   [[3935, 649], [542, 907]]  \n",
       "3   [[4231, 353], [505, 944]]  \n",
       "4   [[4266, 318], [513, 936]]  \n",
       "5   [[4258, 326], [615, 834]]  \n",
       "6   [[4313, 271], [523, 926]]  \n",
       "7  [[4251, 333], [440, 1009]]  "
      ]
     },
     "execution_count": 97,
     "metadata": {},
     "output_type": "execute_result"
    }
   ],
   "source": [
    "Model_report"
   ]
  },
  {
   "cell_type": "markdown",
   "id": "33548660",
   "metadata": {},
   "source": [
    "#### After seeing Accuracy score ,Confusion Matrix ,Classification report will choose will go with XGBoost Classifier"
   ]
  },
  {
   "cell_type": "markdown",
   "id": "2e247ef8",
   "metadata": {},
   "source": [
    "#### Hyper Parameter Tunning of XGBoost"
   ]
  },
  {
   "cell_type": "code",
   "execution_count": 100,
   "id": "2785bf11",
   "metadata": {},
   "outputs": [
    {
     "name": "stdout",
     "output_type": "stream",
     "text": [
      "Fitting 5 folds for each of 25 candidates, totalling 125 fits\n",
      "[01:22:08] WARNING: C:/Users/Administrator/workspace/xgboost-win64_release_1.5.1/src/learner.cc:1115: Starting in XGBoost 1.3.0, the default evaluation metric used with the objective 'binary:logistic' was changed from 'error' to 'logloss'. Explicitly set eval_metric if you'd like to restore the old behavior.\n"
     ]
    },
    {
     "data": {
      "text/plain": [
       "{'subsample': 0.7999999999999999,\n",
       " 'n_estimators': 750,\n",
       " 'max_depth': 3,\n",
       " 'learning_rate': 0.1,\n",
       " 'colsample_bytree': 0.7,\n",
       " 'colsample_bylevel': 0.8999999999999999}"
      ]
     },
     "execution_count": 100,
     "metadata": {},
     "output_type": "execute_result"
    }
   ],
   "source": [
    "params = {'max_depth': [3, 6, 10, 15],\n",
    "              'learning_rate': [0.01, 0.1, 0.2, 0.3, 0.4],\n",
    "              'subsample': np.arange(0.5, 1.0, 0.1),\n",
    "              'colsample_bytree': np.arange(0.5, 1.0, 0.1),\n",
    "              'colsample_bylevel': np.arange(0.5, 1.0, 0.1),\n",
    "              'n_estimators': [100, 250, 500, 750],\n",
    "              \n",
    "             }\n",
    "\n",
    "    \n",
    "clf = RandomizedSearchCV(estimator=xgboost,\n",
    "                             param_distributions=params,\n",
    "                             scoring='accuracy',\n",
    "                             n_iter=25,\n",
    "                             n_jobs=4,\n",
    "                             verbose=1)\n",
    "\n",
    "clf.fit(x_train_sc, y_train)\n",
    "\n",
    "clf.best_params_\n"
   ]
  },
  {
   "cell_type": "code",
   "execution_count": 101,
   "id": "38698986",
   "metadata": {},
   "outputs": [
    {
     "data": {
      "text/plain": [
       "XGBClassifier(base_score=0.5, booster='gbtree',\n",
       "              colsample_bylevel=0.8999999999999999, colsample_bynode=1,\n",
       "              colsample_bytree=0.7, enable_categorical=False, gamma=0,\n",
       "              gpu_id=-1, importance_type=None, interaction_constraints='',\n",
       "              learning_rate=0.1, max_delta_step=0, max_depth=3,\n",
       "              min_child_weight=1, missing=nan, monotone_constraints='()',\n",
       "              n_estimators=750, n_jobs=8, num_parallel_tree=1, predictor='auto',\n",
       "              random_state=0, reg_alpha=0, reg_lambda=1, scale_pos_weight=1,\n",
       "              subsample=0.7999999999999999, tree_method='exact',\n",
       "              validate_parameters=1, verbosity=None)"
      ]
     },
     "execution_count": 101,
     "metadata": {},
     "output_type": "execute_result"
    }
   ],
   "source": [
    "clf.best_estimator_"
   ]
  },
  {
   "cell_type": "code",
   "execution_count": 102,
   "id": "65ec2d3d",
   "metadata": {},
   "outputs": [
    {
     "data": {
      "text/plain": [
       "0.8718713741090668"
      ]
     },
     "execution_count": 102,
     "metadata": {},
     "output_type": "execute_result"
    }
   ],
   "source": [
    "#prediction with best parameter\n",
    "clf_pred=clf.best_estimator_.predict(x_test_sc) \n",
    "# best score \n",
    "accuracy_score(y_test,clf_pred)"
   ]
  },
  {
   "cell_type": "markdown",
   "id": "0dcd029c",
   "metadata": {},
   "source": [
    "#### ROC AUC plot"
   ]
  },
  {
   "cell_type": "code",
   "execution_count": 103,
   "id": "c723f60c",
   "metadata": {},
   "outputs": [
    {
     "data": {
      "text/plain": [
       "Text(0.5, 1.0, 'ROC AUC PLOT')"
      ]
     },
     "execution_count": 103,
     "metadata": {},
     "output_type": "execute_result"
    },
    {
     "data": {
      "image/png": "[encoded data removed]",
      "text/plain": [
       "<Figure size 432x288 with 1 Axes>"
      ]
     },
     "metadata": {
      "needs_background": "light"
     },
     "output_type": "display_data"
    }
   ],
   "source": [
    "from sklearn.metrics import plot_roc_curve\n",
    "plot_roc_curve(clf.best_estimator_,x_test_sc , y_test)\n",
    "plt.title(\"ROC AUC PLOT\")"
   ]
  },
  {
   "cell_type": "markdown",
   "id": "f430188b",
   "metadata": {},
   "source": [
    "### We have got AUC =0.92 and accuracy = 0.8712 which is very good"
   ]
  },
  {
   "cell_type": "markdown",
   "id": "c0233d8d",
   "metadata": {},
   "source": [
    "#### Saving model in pickel format"
   ]
  },
  {
   "cell_type": "code",
   "execution_count": 104,
   "id": "ade63778",
   "metadata": {},
   "outputs": [
    {
     "data": {
      "text/plain": [
       "['Census_Income_Project.pkl']"
      ]
     },
     "execution_count": 104,
     "metadata": {},
     "output_type": "execute_result"
    }
   ],
   "source": [
    "import joblib\n",
    "joblib.dump(clf.best_estimator_,\"Census_Income_Project.pkl\")"
   ]
  },
  {
   "cell_type": "code",
   "execution_count": null,
   "id": "1c045b73",
   "metadata": {},
   "outputs": [],
   "source": []
  }
 ],
 "metadata": {
  "kernelspec": {
   "display_name": "Python 3",
   "language": "python",
   "name": "python3"
  },
  "language_info": {
   "codemirror_mode": {
    "name": "ipython",
    "version": 3
   },
   "file_extension": ".py",
   "mimetype": "text/x-python",
   "name": "python",
   "nbconvert_exporter": "python",
   "pygments_lexer": "ipython3",
   "version": "3.8.8"
  }
 },
 "nbformat": 4,
 "nbformat_minor": 5
}
