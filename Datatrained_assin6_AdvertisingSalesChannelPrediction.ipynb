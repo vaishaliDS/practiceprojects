{
 "cells": [
  {
   "cell_type": "code",
   "execution_count": 145,
   "id": "68fac8ea",
   "metadata": {},
   "outputs": [],
   "source": [
    "import pandas as pd\n",
    "import numpy as np\n",
    "import matplotlib.pyplot as plt\n",
    "import seaborn as sns\n",
    "import warnings\n",
    "warnings.filterwarnings('ignore')"
   ]
  },
  {
   "cell_type": "code",
   "execution_count": 146,
   "id": "bf8188e9",
   "metadata": {},
   "outputs": [
    {
     "data": {
      "text/html": [
       "<div>\n",
       "<style scoped>\n",
       "    .dataframe tbody tr th:only-of-type {\n",
       "        vertical-align: middle;\n",
       "    }\n",
       "\n",
       "    .dataframe tbody tr th {\n",
       "        vertical-align: top;\n",
       "    }\n",
       "\n",
       "    .dataframe thead th {\n",
       "        text-align: right;\n",
       "    }\n",
       "</style>\n",
       "<table border=\"1\" class=\"dataframe\">\n",
       "  <thead>\n",
       "    <tr style=\"text-align: right;\">\n",
       "      <th></th>\n",
       "      <th>Unnamed: 0</th>\n",
       "      <th>TV</th>\n",
       "      <th>radio</th>\n",
       "      <th>newspaper</th>\n",
       "      <th>sales</th>\n",
       "    </tr>\n",
       "  </thead>\n",
       "  <tbody>\n",
       "    <tr>\n",
       "      <th>0</th>\n",
       "      <td>1</td>\n",
       "      <td>230.1</td>\n",
       "      <td>37.8</td>\n",
       "      <td>69.2</td>\n",
       "      <td>22.1</td>\n",
       "    </tr>\n",
       "    <tr>\n",
       "      <th>1</th>\n",
       "      <td>2</td>\n",
       "      <td>44.5</td>\n",
       "      <td>39.3</td>\n",
       "      <td>45.1</td>\n",
       "      <td>10.4</td>\n",
       "    </tr>\n",
       "    <tr>\n",
       "      <th>2</th>\n",
       "      <td>3</td>\n",
       "      <td>17.2</td>\n",
       "      <td>45.9</td>\n",
       "      <td>69.3</td>\n",
       "      <td>9.3</td>\n",
       "    </tr>\n",
       "    <tr>\n",
       "      <th>3</th>\n",
       "      <td>4</td>\n",
       "      <td>151.5</td>\n",
       "      <td>41.3</td>\n",
       "      <td>58.5</td>\n",
       "      <td>18.5</td>\n",
       "    </tr>\n",
       "    <tr>\n",
       "      <th>4</th>\n",
       "      <td>5</td>\n",
       "      <td>180.8</td>\n",
       "      <td>10.8</td>\n",
       "      <td>58.4</td>\n",
       "      <td>12.9</td>\n",
       "    </tr>\n",
       "  </tbody>\n",
       "</table>\n",
       "</div>"
      ],
      "text/plain": [
       "   Unnamed: 0     TV  radio  newspaper  sales\n",
       "0           1  230.1   37.8       69.2   22.1\n",
       "1           2   44.5   39.3       45.1   10.4\n",
       "2           3   17.2   45.9       69.3    9.3\n",
       "3           4  151.5   41.3       58.5   18.5\n",
       "4           5  180.8   10.8       58.4   12.9"
      ]
     },
     "execution_count": 146,
     "metadata": {},
     "output_type": "execute_result"
    }
   ],
   "source": [
    "adv_df=pd.read_csv('Advertising.csv',)\n",
    "adv_df.head()\n"
   ]
  },
  {
   "cell_type": "code",
   "execution_count": 147,
   "id": "85896abe",
   "metadata": {},
   "outputs": [
    {
     "data": {
      "text/plain": [
       "Index(['Unnamed: 0', 'TV', 'radio', 'newspaper', 'sales'], dtype='object')"
      ]
     },
     "execution_count": 147,
     "metadata": {},
     "output_type": "execute_result"
    }
   ],
   "source": [
    "adv_df.columns"
   ]
  },
  {
   "cell_type": "code",
   "execution_count": 148,
   "id": "24bf26b5",
   "metadata": {},
   "outputs": [
    {
     "data": {
      "text/html": [
       "<div>\n",
       "<style scoped>\n",
       "    .dataframe tbody tr th:only-of-type {\n",
       "        vertical-align: middle;\n",
       "    }\n",
       "\n",
       "    .dataframe tbody tr th {\n",
       "        vertical-align: top;\n",
       "    }\n",
       "\n",
       "    .dataframe thead th {\n",
       "        text-align: right;\n",
       "    }\n",
       "</style>\n",
       "<table border=\"1\" class=\"dataframe\">\n",
       "  <thead>\n",
       "    <tr style=\"text-align: right;\">\n",
       "      <th></th>\n",
       "      <th>TV</th>\n",
       "      <th>radio</th>\n",
       "      <th>newspaper</th>\n",
       "      <th>sales</th>\n",
       "    </tr>\n",
       "  </thead>\n",
       "  <tbody>\n",
       "    <tr>\n",
       "      <th>0</th>\n",
       "      <td>230.1</td>\n",
       "      <td>37.8</td>\n",
       "      <td>69.2</td>\n",
       "      <td>22.1</td>\n",
       "    </tr>\n",
       "    <tr>\n",
       "      <th>1</th>\n",
       "      <td>44.5</td>\n",
       "      <td>39.3</td>\n",
       "      <td>45.1</td>\n",
       "      <td>10.4</td>\n",
       "    </tr>\n",
       "    <tr>\n",
       "      <th>2</th>\n",
       "      <td>17.2</td>\n",
       "      <td>45.9</td>\n",
       "      <td>69.3</td>\n",
       "      <td>9.3</td>\n",
       "    </tr>\n",
       "    <tr>\n",
       "      <th>3</th>\n",
       "      <td>151.5</td>\n",
       "      <td>41.3</td>\n",
       "      <td>58.5</td>\n",
       "      <td>18.5</td>\n",
       "    </tr>\n",
       "    <tr>\n",
       "      <th>4</th>\n",
       "      <td>180.8</td>\n",
       "      <td>10.8</td>\n",
       "      <td>58.4</td>\n",
       "      <td>12.9</td>\n",
       "    </tr>\n",
       "  </tbody>\n",
       "</table>\n",
       "</div>"
      ],
      "text/plain": [
       "      TV  radio  newspaper  sales\n",
       "0  230.1   37.8       69.2   22.1\n",
       "1   44.5   39.3       45.1   10.4\n",
       "2   17.2   45.9       69.3    9.3\n",
       "3  151.5   41.3       58.5   18.5\n",
       "4  180.8   10.8       58.4   12.9"
      ]
     },
     "execution_count": 148,
     "metadata": {},
     "output_type": "execute_result"
    }
   ],
   "source": [
    "#first column is of no use so will drop it\n",
    "df=adv_df.iloc[:,1:]\n",
    "df.head()"
   ]
  },
  {
   "cell_type": "markdown",
   "id": "83ab188d",
   "metadata": {},
   "source": [
    "we can see sales column contains continuous data we can conclude this is \"Regression problem\"."
   ]
  },
  {
   "cell_type": "code",
   "execution_count": 149,
   "id": "fe90e3b6",
   "metadata": {},
   "outputs": [
    {
     "data": {
      "text/plain": [
       "Index(['TV', 'radio', 'newspaper', 'sales'], dtype='object')"
      ]
     },
     "execution_count": 149,
     "metadata": {},
     "output_type": "execute_result"
    }
   ],
   "source": [
    "df.columns"
   ]
  },
  {
   "cell_type": "code",
   "execution_count": 150,
   "id": "14f31056",
   "metadata": {},
   "outputs": [
    {
     "name": "stdout",
     "output_type": "stream",
     "text": [
      "<class 'pandas.core.frame.DataFrame'>\n",
      "RangeIndex: 200 entries, 0 to 199\n",
      "Data columns (total 4 columns):\n",
      " #   Column     Non-Null Count  Dtype  \n",
      "---  ------     --------------  -----  \n",
      " 0   TV         200 non-null    float64\n",
      " 1   radio      200 non-null    float64\n",
      " 2   newspaper  200 non-null    float64\n",
      " 3   sales      200 non-null    float64\n",
      "dtypes: float64(4)\n",
      "memory usage: 6.4 KB\n"
     ]
    }
   ],
   "source": [
    "\n",
    "df.info()"
   ]
  },
  {
   "cell_type": "code",
   "execution_count": 151,
   "id": "ff721262",
   "metadata": {
    "scrolled": true
   },
   "outputs": [
    {
     "data": {
      "text/html": [
       "<div>\n",
       "<style scoped>\n",
       "    .dataframe tbody tr th:only-of-type {\n",
       "        vertical-align: middle;\n",
       "    }\n",
       "\n",
       "    .dataframe tbody tr th {\n",
       "        vertical-align: top;\n",
       "    }\n",
       "\n",
       "    .dataframe thead th {\n",
       "        text-align: right;\n",
       "    }\n",
       "</style>\n",
       "<table border=\"1\" class=\"dataframe\">\n",
       "  <thead>\n",
       "    <tr style=\"text-align: right;\">\n",
       "      <th></th>\n",
       "      <th>TV</th>\n",
       "      <th>radio</th>\n",
       "      <th>newspaper</th>\n",
       "      <th>sales</th>\n",
       "    </tr>\n",
       "  </thead>\n",
       "  <tbody>\n",
       "    <tr>\n",
       "      <th>count</th>\n",
       "      <td>200.000000</td>\n",
       "      <td>200.000000</td>\n",
       "      <td>200.000000</td>\n",
       "      <td>200.000000</td>\n",
       "    </tr>\n",
       "    <tr>\n",
       "      <th>mean</th>\n",
       "      <td>147.042500</td>\n",
       "      <td>23.264000</td>\n",
       "      <td>30.554000</td>\n",
       "      <td>14.022500</td>\n",
       "    </tr>\n",
       "    <tr>\n",
       "      <th>std</th>\n",
       "      <td>85.854236</td>\n",
       "      <td>14.846809</td>\n",
       "      <td>21.778621</td>\n",
       "      <td>5.217457</td>\n",
       "    </tr>\n",
       "    <tr>\n",
       "      <th>min</th>\n",
       "      <td>0.700000</td>\n",
       "      <td>0.000000</td>\n",
       "      <td>0.300000</td>\n",
       "      <td>1.600000</td>\n",
       "    </tr>\n",
       "    <tr>\n",
       "      <th>25%</th>\n",
       "      <td>74.375000</td>\n",
       "      <td>9.975000</td>\n",
       "      <td>12.750000</td>\n",
       "      <td>10.375000</td>\n",
       "    </tr>\n",
       "    <tr>\n",
       "      <th>50%</th>\n",
       "      <td>149.750000</td>\n",
       "      <td>22.900000</td>\n",
       "      <td>25.750000</td>\n",
       "      <td>12.900000</td>\n",
       "    </tr>\n",
       "    <tr>\n",
       "      <th>75%</th>\n",
       "      <td>218.825000</td>\n",
       "      <td>36.525000</td>\n",
       "      <td>45.100000</td>\n",
       "      <td>17.400000</td>\n",
       "    </tr>\n",
       "    <tr>\n",
       "      <th>max</th>\n",
       "      <td>296.400000</td>\n",
       "      <td>49.600000</td>\n",
       "      <td>114.000000</td>\n",
       "      <td>27.000000</td>\n",
       "    </tr>\n",
       "  </tbody>\n",
       "</table>\n",
       "</div>"
      ],
      "text/plain": [
       "               TV       radio   newspaper       sales\n",
       "count  200.000000  200.000000  200.000000  200.000000\n",
       "mean   147.042500   23.264000   30.554000   14.022500\n",
       "std     85.854236   14.846809   21.778621    5.217457\n",
       "min      0.700000    0.000000    0.300000    1.600000\n",
       "25%     74.375000    9.975000   12.750000   10.375000\n",
       "50%    149.750000   22.900000   25.750000   12.900000\n",
       "75%    218.825000   36.525000   45.100000   17.400000\n",
       "max    296.400000   49.600000  114.000000   27.000000"
      ]
     },
     "execution_count": 151,
     "metadata": {},
     "output_type": "execute_result"
    }
   ],
   "source": [
    "df.describe()"
   ]
  },
  {
   "cell_type": "markdown",
   "id": "5c61d25f",
   "metadata": {},
   "source": [
    "from above info are getting min max, 25% ,50%,75% mean , std info of each feature."
   ]
  },
  {
   "cell_type": "markdown",
   "id": "af1a6197",
   "metadata": {},
   "source": [
    "#### Checking null values"
   ]
  },
  {
   "cell_type": "code",
   "execution_count": 152,
   "id": "1f630ca2",
   "metadata": {
    "scrolled": false
   },
   "outputs": [
    {
     "data": {
      "text/plain": [
       "TV           0\n",
       "radio        0\n",
       "newspaper    0\n",
       "sales        0\n",
       "dtype: int64"
      ]
     },
     "execution_count": 152,
     "metadata": {},
     "output_type": "execute_result"
    }
   ],
   "source": [
    "df.isnull().sum()"
   ]
  },
  {
   "cell_type": "markdown",
   "id": "469ae687",
   "metadata": {},
   "source": [
    "We can see there is no null value present in dataset."
   ]
  },
  {
   "cell_type": "markdown",
   "id": "9c9269c6",
   "metadata": {},
   "source": [
    "### EDA"
   ]
  },
  {
   "cell_type": "code",
   "execution_count": 153,
   "id": "43fdc066",
   "metadata": {},
   "outputs": [],
   "source": [
    "sns.set_style('darkgrid')\n",
    "plt.rcParams['figure.figsize']=(18,8)\n",
    "plt.rcParams['figure.facecolor']='FFFFCB'\n"
   ]
  },
  {
   "cell_type": "code",
   "execution_count": 154,
   "id": "a7c9af07",
   "metadata": {
    "scrolled": true
   },
   "outputs": [
    {
     "data": {
      "text/plain": [
       "Text(0.5, 1.0, 'TV vs Sales')"
      ]
     },
     "execution_count": 154,
     "metadata": {},
     "output_type": "execute_result"
    },
    {
     "data": {
      "image/png": "[encoded data removed]",
      "text/plain": [
       "<Figure size 1296x576 with 1 Axes>"
      ]
     },
     "metadata": {},
     "output_type": "display_data"
    }
   ],
   "source": [
    "# TV vs Sales\n",
    "sns.scatterplot(x='TV' ,y='sales' ,data=df)\n",
    "plt.title('TV vs Sales')"
   ]
  },
  {
   "cell_type": "markdown",
   "id": "8796ed8f",
   "metadata": {},
   "source": [
    "There is +ve correlation between Tv and Sales"
   ]
  },
  {
   "cell_type": "code",
   "execution_count": 155,
   "id": "6a29c26f",
   "metadata": {
    "scrolled": true
   },
   "outputs": [
    {
     "data": {
      "text/plain": [
       "Text(0.5, 1.0, 'Radio vs Sales')"
      ]
     },
     "execution_count": 155,
     "metadata": {},
     "output_type": "execute_result"
    },
    {
     "data": {
      "image/png": "[encoded data removed]",
      "text/plain": [
       "<Figure size 1296x576 with 1 Axes>"
      ]
     },
     "metadata": {},
     "output_type": "display_data"
    }
   ],
   "source": [
    "# radio vs Sales\n",
    "sns.barplot(x='radio' ,y='sales' ,data=df)\n",
    "plt.title('Radio vs Sales')"
   ]
  },
  {
   "cell_type": "markdown",
   "id": "6efc3a16",
   "metadata": {},
   "source": [
    "There is +ve correlation between Tv and Sales"
   ]
  },
  {
   "cell_type": "code",
   "execution_count": 156,
   "id": "41ba6cc3",
   "metadata": {},
   "outputs": [
    {
     "data": {
      "text/plain": [
       "Text(0.5, 1.0, 'newspaper vs Sales')"
      ]
     },
     "execution_count": 156,
     "metadata": {},
     "output_type": "execute_result"
    },
    {
     "data": {
      "image/png": "[encoded data removed]",
      "text/plain": [
       "<Figure size 1296x576 with 1 Axes>"
      ]
     },
     "metadata": {},
     "output_type": "display_data"
    }
   ],
   "source": [
    "\n",
    "# newspaper vs Sales\n",
    "sns.scatterplot(x='newspaper' ,y='sales' ,data=df)\n",
    "plt.title('newspaper vs Sales')"
   ]
  },
  {
   "cell_type": "markdown",
   "id": "1301adf6",
   "metadata": {},
   "source": [
    "around 70% sale is between range 5-50."
   ]
  },
  {
   "cell_type": "code",
   "execution_count": 157,
   "id": "601cd794",
   "metadata": {},
   "outputs": [
    {
     "data": {
      "text/plain": [
       "<AxesSubplot:>"
      ]
     },
     "execution_count": 157,
     "metadata": {},
     "output_type": "execute_result"
    },
    {
     "data": {
      "image/png": "[encoded data removed]",
      "text/plain": [
       "<Figure size 1296x576 with 1 Axes>"
      ]
     },
     "metadata": {},
     "output_type": "display_data"
    }
   ],
   "source": [
    "df['sales'].hist()"
   ]
  },
  {
   "cell_type": "code",
   "execution_count": 158,
   "id": "8a84eacc",
   "metadata": {},
   "outputs": [
    {
     "data": {
      "text/plain": [
       "<seaborn.axisgrid.PairGrid at 0x2274f56a5b0>"
      ]
     },
     "execution_count": 158,
     "metadata": {},
     "output_type": "execute_result"
    },
    {
     "data": {
      "image/png": "[encoded data removed]",
      "text/plain": [
       "<Figure size 720x720 with 20 Axes>"
      ]
     },
     "metadata": {},
     "output_type": "display_data"
    }
   ],
   "source": [
    "sns.pairplot(df)"
   ]
  },
  {
   "cell_type": "markdown",
   "id": "21f08788",
   "metadata": {},
   "source": [
    "#### Finding Correlation"
   ]
  },
  {
   "cell_type": "code",
   "execution_count": 159,
   "id": "e49a5fef",
   "metadata": {},
   "outputs": [
    {
     "data": {
      "text/html": [
       "<div>\n",
       "<style scoped>\n",
       "    .dataframe tbody tr th:only-of-type {\n",
       "        vertical-align: middle;\n",
       "    }\n",
       "\n",
       "    .dataframe tbody tr th {\n",
       "        vertical-align: top;\n",
       "    }\n",
       "\n",
       "    .dataframe thead th {\n",
       "        text-align: right;\n",
       "    }\n",
       "</style>\n",
       "<table border=\"1\" class=\"dataframe\">\n",
       "  <thead>\n",
       "    <tr style=\"text-align: right;\">\n",
       "      <th></th>\n",
       "      <th>TV</th>\n",
       "      <th>radio</th>\n",
       "      <th>newspaper</th>\n",
       "      <th>sales</th>\n",
       "    </tr>\n",
       "  </thead>\n",
       "  <tbody>\n",
       "    <tr>\n",
       "      <th>TV</th>\n",
       "      <td>1.000000</td>\n",
       "      <td>0.054809</td>\n",
       "      <td>0.056648</td>\n",
       "      <td>0.782224</td>\n",
       "    </tr>\n",
       "    <tr>\n",
       "      <th>radio</th>\n",
       "      <td>0.054809</td>\n",
       "      <td>1.000000</td>\n",
       "      <td>0.354104</td>\n",
       "      <td>0.576223</td>\n",
       "    </tr>\n",
       "    <tr>\n",
       "      <th>newspaper</th>\n",
       "      <td>0.056648</td>\n",
       "      <td>0.354104</td>\n",
       "      <td>1.000000</td>\n",
       "      <td>0.228299</td>\n",
       "    </tr>\n",
       "    <tr>\n",
       "      <th>sales</th>\n",
       "      <td>0.782224</td>\n",
       "      <td>0.576223</td>\n",
       "      <td>0.228299</td>\n",
       "      <td>1.000000</td>\n",
       "    </tr>\n",
       "  </tbody>\n",
       "</table>\n",
       "</div>"
      ],
      "text/plain": [
       "                 TV     radio  newspaper     sales\n",
       "TV         1.000000  0.054809   0.056648  0.782224\n",
       "radio      0.054809  1.000000   0.354104  0.576223\n",
       "newspaper  0.056648  0.354104   1.000000  0.228299\n",
       "sales      0.782224  0.576223   0.228299  1.000000"
      ]
     },
     "execution_count": 159,
     "metadata": {},
     "output_type": "execute_result"
    }
   ],
   "source": [
    "#correlation matrix\n",
    "df.corr()"
   ]
  },
  {
   "cell_type": "code",
   "execution_count": 160,
   "id": "fda32d18",
   "metadata": {},
   "outputs": [
    {
     "data": {
      "text/plain": [
       "<AxesSubplot:>"
      ]
     },
     "execution_count": 160,
     "metadata": {},
     "output_type": "execute_result"
    },
    {
     "data": {
      "image/png": "[encoded data removed]",
      "text/plain": [
       "<Figure size 1296x576 with 2 Axes>"
      ]
     },
     "metadata": {},
     "output_type": "display_data"
    }
   ],
   "source": [
    "sns.heatmap(df.corr())"
   ]
  },
  {
   "cell_type": "markdown",
   "id": "c0f4d150",
   "metadata": {},
   "source": [
    "All features are positively correlated with each other"
   ]
  },
  {
   "cell_type": "code",
   "execution_count": 161,
   "id": "8fdb0cb8",
   "metadata": {},
   "outputs": [
    {
     "data": {
      "text/plain": [
       "sales        1.000000\n",
       "TV           0.782224\n",
       "radio        0.576223\n",
       "newspaper    0.228299\n",
       "Name: sales, dtype: float64"
      ]
     },
     "execution_count": 161,
     "metadata": {},
     "output_type": "execute_result"
    }
   ],
   "source": [
    "#findingout correlation between independent features and dependent features\n",
    "df.corr()['sales'].sort_values(ascending=False)"
   ]
  },
  {
   "cell_type": "raw",
   "id": "ee6ae92f",
   "metadata": {},
   "source": [
    "1) Tv is having heighest correlation with Sales around 0.77 .\n",
    "2) Radio is having moderate correlation with Sales around 0.57 .\n",
    "3) Newspaper is having lowest correlation with sales around 0.22 ."
   ]
  },
  {
   "cell_type": "code",
   "execution_count": 162,
   "id": "9c76fcd3",
   "metadata": {},
   "outputs": [
    {
     "data": {
      "text/plain": [
       "Text(0.5, 1.0, 'Correlation with target')"
      ]
     },
     "execution_count": 162,
     "metadata": {},
     "output_type": "execute_result"
    },
    {
     "data": {
      "image/png": "[encoded data removed]",
      "text/plain": [
       "<Figure size 1296x576 with 1 Axes>"
      ]
     },
     "metadata": {},
     "output_type": "display_data"
    }
   ],
   "source": [
    "#Correlation with target\n",
    "df.corr()['sales'].sort_values(ascending=False).drop(['sales']).plot(kind='bar')\n",
    "plt.xlabel('Features',fontsize=20)\n",
    "plt.ylabel('sales')\n",
    "plt.title('Correlation with target')"
   ]
  },
  {
   "cell_type": "markdown",
   "id": "0517c1a4",
   "metadata": {},
   "source": [
    "#### Checking Data Skewness"
   ]
  },
  {
   "cell_type": "code",
   "execution_count": 163,
   "id": "d1c52131",
   "metadata": {},
   "outputs": [
    {
     "data": {
      "text/plain": [
       "TV          -0.069853\n",
       "radio        0.094175\n",
       "newspaper    0.894720\n",
       "sales        0.407571\n",
       "dtype: float64"
      ]
     },
     "execution_count": 163,
     "metadata": {},
     "output_type": "execute_result"
    }
   ],
   "source": [
    "df.skew()"
   ]
  },
  {
   "cell_type": "markdown",
   "id": "0aed8292",
   "metadata": {},
   "source": [
    "After considering accepltable range +/-0.5 there is skewness present in newspaper"
   ]
  },
  {
   "cell_type": "markdown",
   "id": "ddd21da9",
   "metadata": {},
   "source": [
    "#### Remove Skewness by Power Transform method"
   ]
  },
  {
   "cell_type": "code",
   "execution_count": 164,
   "id": "34e845f3",
   "metadata": {},
   "outputs": [
    {
     "data": {
      "text/plain": [
       "TV          -0.315199\n",
       "radio       -0.242968\n",
       "newspaper   -0.077942\n",
       "dtype: float64"
      ]
     },
     "execution_count": 164,
     "metadata": {},
     "output_type": "execute_result"
    }
   ],
   "source": [
    "from sklearn.preprocessing import power_transform\n",
    "df_skew=df.drop('sales' , axis=1)\n",
    "df_new= power_transform( df_skew , method='yeo-johnson')\n",
    "cols=(['TV', 'radio', 'newspaper'])\n",
    "df_new=pd.DataFrame(df_new , columns=cols)\n",
    "\n",
    "#check the skewness in df\n",
    "df_new.skew()"
   ]
  },
  {
   "cell_type": "markdown",
   "id": "20beddcc",
   "metadata": {},
   "source": [
    "we can see skewness is in acceptable range"
   ]
  },
  {
   "cell_type": "code",
   "execution_count": 165,
   "id": "8b3836d1",
   "metadata": {},
   "outputs": [
    {
     "data": {
      "text/plain": [
       "('TV', 'radio', 'newspaper', 'sales')"
      ]
     },
     "execution_count": 165,
     "metadata": {},
     "output_type": "execute_result"
    }
   ],
   "source": [
    "'TV', 'radio', 'newspaper', 'sales'"
   ]
  },
  {
   "cell_type": "markdown",
   "id": "04f66f9b",
   "metadata": {},
   "source": [
    "#### Checking for Outliers"
   ]
  },
  {
   "cell_type": "code",
   "execution_count": 166,
   "id": "6c618c27",
   "metadata": {},
   "outputs": [
    {
     "data": {
      "image/png": "[encoded data removed]",
      "text/plain": [
       "<Figure size 720x504 with 1 Axes>"
      ]
     },
     "metadata": {},
     "output_type": "display_data"
    }
   ],
   "source": [
    "fig = plt.figure(figsize =(10, 7))\n",
    " \n",
    "# Creating axes instance\n",
    "ax = fig.add_axes([0, 0, 1, 1])\n",
    " \n",
    "# Creating plot\n",
    "bp = ax.boxplot(df ,data=df,labels=df.columns)\n",
    " \n",
    "# show plot\n",
    "plt.show()"
   ]
  },
  {
   "cell_type": "markdown",
   "id": "528ef93d",
   "metadata": {},
   "source": [
    "we can see 2 outliers are present in newspaper but they are also quite closer to upper whiskers level so will not romove them."
   ]
  },
  {
   "cell_type": "markdown",
   "id": "f91b7c23",
   "metadata": {},
   "source": [
    "#### will be splitting data for training purpose"
   ]
  },
  {
   "cell_type": "code",
   "execution_count": 167,
   "id": "e7e5ea0d",
   "metadata": {},
   "outputs": [
    {
     "data": {
      "text/html": [
       "<div>\n",
       "<style scoped>\n",
       "    .dataframe tbody tr th:only-of-type {\n",
       "        vertical-align: middle;\n",
       "    }\n",
       "\n",
       "    .dataframe tbody tr th {\n",
       "        vertical-align: top;\n",
       "    }\n",
       "\n",
       "    .dataframe thead th {\n",
       "        text-align: right;\n",
       "    }\n",
       "</style>\n",
       "<table border=\"1\" class=\"dataframe\">\n",
       "  <thead>\n",
       "    <tr style=\"text-align: right;\">\n",
       "      <th></th>\n",
       "      <th>TV</th>\n",
       "      <th>radio</th>\n",
       "      <th>newspaper</th>\n",
       "    </tr>\n",
       "  </thead>\n",
       "  <tbody>\n",
       "    <tr>\n",
       "      <th>0</th>\n",
       "      <td>230.1</td>\n",
       "      <td>37.8</td>\n",
       "      <td>69.2</td>\n",
       "    </tr>\n",
       "    <tr>\n",
       "      <th>1</th>\n",
       "      <td>44.5</td>\n",
       "      <td>39.3</td>\n",
       "      <td>45.1</td>\n",
       "    </tr>\n",
       "    <tr>\n",
       "      <th>2</th>\n",
       "      <td>17.2</td>\n",
       "      <td>45.9</td>\n",
       "      <td>69.3</td>\n",
       "    </tr>\n",
       "    <tr>\n",
       "      <th>3</th>\n",
       "      <td>151.5</td>\n",
       "      <td>41.3</td>\n",
       "      <td>58.5</td>\n",
       "    </tr>\n",
       "    <tr>\n",
       "      <th>4</th>\n",
       "      <td>180.8</td>\n",
       "      <td>10.8</td>\n",
       "      <td>58.4</td>\n",
       "    </tr>\n",
       "  </tbody>\n",
       "</table>\n",
       "</div>"
      ],
      "text/plain": [
       "      TV  radio  newspaper\n",
       "0  230.1   37.8       69.2\n",
       "1   44.5   39.3       45.1\n",
       "2   17.2   45.9       69.3\n",
       "3  151.5   41.3       58.5\n",
       "4  180.8   10.8       58.4"
      ]
     },
     "execution_count": 167,
     "metadata": {},
     "output_type": "execute_result"
    }
   ],
   "source": [
    "# Independent features\n",
    "x= df.drop('sales' , axis=1)\n",
    "x.head()"
   ]
  },
  {
   "cell_type": "code",
   "execution_count": 168,
   "id": "e32b6d0d",
   "metadata": {},
   "outputs": [
    {
     "data": {
      "text/plain": [
       "0    22.1\n",
       "1    10.4\n",
       "2     9.3\n",
       "3    18.5\n",
       "4    12.9\n",
       "Name: sales, dtype: float64"
      ]
     },
     "execution_count": 168,
     "metadata": {},
     "output_type": "execute_result"
    }
   ],
   "source": [
    "# target data\n",
    "y=df['sales']\n",
    "y.head()"
   ]
  },
  {
   "cell_type": "markdown",
   "id": "8eff7d51",
   "metadata": {},
   "source": [
    "## Linear regression problem"
   ]
  },
  {
   "cell_type": "code",
   "execution_count": 169,
   "id": "e244d15d",
   "metadata": {},
   "outputs": [],
   "source": [
    "from sklearn.preprocessing import MinMaxScaler \n",
    "from sklearn.model_selection import train_test_split\n",
    "from sklearn.metrics import r2_score\n",
    "from sklearn.linear_model import LinearRegression"
   ]
  },
  {
   "cell_type": "code",
   "execution_count": 170,
   "id": "806a70d9",
   "metadata": {},
   "outputs": [],
   "source": [
    "lr = LinearRegression()"
   ]
  },
  {
   "cell_type": "markdown",
   "id": "7ca65fc1",
   "metadata": {},
   "source": [
    "#### finding best value of Random State"
   ]
  },
  {
   "cell_type": "code",
   "execution_count": 171,
   "id": "f4dd2291",
   "metadata": {},
   "outputs": [
    {
     "name": "stdout",
     "output_type": "stream",
     "text": [
      "At Random State 0, the training accuracy is : 0.91\n",
      "At Random State 0, the testing accuracy is : 0.86 \n",
      "\n",
      "\n",
      "At Random State 1, the training accuracy is : 0.9\n",
      "At Random State 1, the testing accuracy is : 0.89 \n",
      "\n",
      "\n",
      "At Random State 2, the training accuracy is : 0.92\n",
      "At Random State 2, the testing accuracy is : 0.76 \n",
      "\n",
      "\n",
      "At Random State 3, the training accuracy is : 0.89\n",
      "At Random State 3, the testing accuracy is : 0.91 \n",
      "\n",
      "\n",
      "At Random State 4, the training accuracy is : 0.89\n",
      "At Random State 4, the testing accuracy is : 0.91 \n",
      "\n",
      "\n",
      "At Random State 5, the training accuracy is : 0.9\n",
      "At Random State 5, the testing accuracy is : 0.9 \n",
      "\n",
      "\n",
      "At Random State 6, the training accuracy is : 0.89\n",
      "At Random State 6, the testing accuracy is : 0.92 \n",
      "\n",
      "\n",
      "At Random State 7, the training accuracy is : 0.89\n",
      "At Random State 7, the testing accuracy is : 0.91 \n",
      "\n",
      "\n",
      "At Random State 8, the training accuracy is : 0.91\n",
      "At Random State 8, the testing accuracy is : 0.85 \n",
      "\n",
      "\n",
      "At Random State 9, the training accuracy is : 0.89\n",
      "At Random State 9, the testing accuracy is : 0.93 \n",
      "\n",
      "\n",
      "At Random State 10, the training accuracy is : 0.92\n",
      "At Random State 10, the testing accuracy is : 0.84 \n",
      "\n",
      "\n",
      "At Random State 11, the training accuracy is : 0.91\n",
      "At Random State 11, the testing accuracy is : 0.84 \n",
      "\n",
      "\n",
      "At Random State 12, the training accuracy is : 0.89\n",
      "At Random State 12, the testing accuracy is : 0.91 \n",
      "\n",
      "\n",
      "At Random State 13, the training accuracy is : 0.89\n",
      "At Random State 13, the testing accuracy is : 0.93 \n",
      "\n",
      "\n",
      "At Random State 14, the training accuracy is : 0.91\n",
      "At Random State 14, the testing accuracy is : 0.85 \n",
      "\n",
      "\n",
      "At Random State 15, the training accuracy is : 0.89\n",
      "At Random State 15, the testing accuracy is : 0.91 \n",
      "\n",
      "\n",
      "At Random State 16, the training accuracy is : 0.89\n",
      "At Random State 16, the testing accuracy is : 0.92 \n",
      "\n",
      "\n",
      "At Random State 17, the training accuracy is : 0.91\n",
      "At Random State 17, the testing accuracy is : 0.83 \n",
      "\n",
      "\n",
      "At Random State 18, the training accuracy is : 0.91\n",
      "At Random State 18, the testing accuracy is : 0.87 \n",
      "\n",
      "\n",
      "At Random State 19, the training accuracy is : 0.89\n",
      "At Random State 19, the testing accuracy is : 0.9 \n",
      "\n",
      "\n",
      "At Random State 20, the training accuracy is : 0.89\n",
      "At Random State 20, the testing accuracy is : 0.9 \n",
      "\n",
      "\n",
      "At Random State 21, the training accuracy is : 0.89\n",
      "At Random State 21, the testing accuracy is : 0.92 \n",
      "\n",
      "\n",
      "At Random State 22, the training accuracy is : 0.89\n",
      "At Random State 22, the testing accuracy is : 0.92 \n",
      "\n",
      "\n",
      "At Random State 23, the training accuracy is : 0.89\n",
      "At Random State 23, the testing accuracy is : 0.91 \n",
      "\n",
      "\n",
      "At Random State 24, the training accuracy is : 0.89\n",
      "At Random State 24, the testing accuracy is : 0.9 \n",
      "\n",
      "\n",
      "At Random State 25, the training accuracy is : 0.9\n",
      "At Random State 25, the testing accuracy is : 0.87 \n",
      "\n",
      "\n",
      "At Random State 26, the training accuracy is : 0.9\n",
      "At Random State 26, the testing accuracy is : 0.88 \n",
      "\n",
      "\n",
      "At Random State 27, the training accuracy is : 0.89\n",
      "At Random State 27, the testing accuracy is : 0.91 \n",
      "\n",
      "\n",
      "At Random State 28, the training accuracy is : 0.9\n",
      "At Random State 28, the testing accuracy is : 0.88 \n",
      "\n",
      "\n",
      "At Random State 29, the training accuracy is : 0.89\n",
      "At Random State 29, the testing accuracy is : 0.91 \n",
      "\n",
      "\n",
      "At Random State 30, the training accuracy is : 0.89\n",
      "At Random State 30, the testing accuracy is : 0.91 \n",
      "\n",
      "\n",
      "At Random State 31, the training accuracy is : 0.89\n",
      "At Random State 31, the testing accuracy is : 0.93 \n",
      "\n",
      "\n",
      "At Random State 32, the training accuracy is : 0.92\n",
      "At Random State 32, the testing accuracy is : 0.78 \n",
      "\n",
      "\n",
      "At Random State 33, the training accuracy is : 0.9\n",
      "At Random State 33, the testing accuracy is : 0.89 \n",
      "\n",
      "\n",
      "At Random State 34, the training accuracy is : 0.9\n",
      "At Random State 34, the testing accuracy is : 0.89 \n",
      "\n",
      "\n",
      "At Random State 35, the training accuracy is : 0.91\n",
      "At Random State 35, the testing accuracy is : 0.79 \n",
      "\n",
      "\n",
      "At Random State 36, the training accuracy is : 0.89\n",
      "At Random State 36, the testing accuracy is : 0.93 \n",
      "\n",
      "\n",
      "At Random State 37, the training accuracy is : 0.9\n",
      "At Random State 37, the testing accuracy is : 0.88 \n",
      "\n",
      "\n",
      "At Random State 38, the training accuracy is : 0.9\n",
      "At Random State 38, the testing accuracy is : 0.89 \n",
      "\n",
      "\n",
      "At Random State 39, the training accuracy is : 0.9\n",
      "At Random State 39, the testing accuracy is : 0.88 \n",
      "\n",
      "\n",
      "At Random State 40, the training accuracy is : 0.92\n",
      "At Random State 40, the testing accuracy is : 0.8 \n",
      "\n",
      "\n",
      "At Random State 41, the training accuracy is : 0.9\n",
      "At Random State 41, the testing accuracy is : 0.88 \n",
      "\n",
      "\n",
      "At Random State 42, the training accuracy is : 0.9\n",
      "At Random State 42, the testing accuracy is : 0.9 \n",
      "\n",
      "\n",
      "At Random State 43, the training accuracy is : 0.89\n",
      "At Random State 43, the testing accuracy is : 0.93 \n",
      "\n",
      "\n",
      "At Random State 44, the training accuracy is : 0.91\n",
      "At Random State 44, the testing accuracy is : 0.83 \n",
      "\n",
      "\n",
      "At Random State 45, the training accuracy is : 0.9\n",
      "At Random State 45, the testing accuracy is : 0.9 \n",
      "\n",
      "\n",
      "At Random State 46, the training accuracy is : 0.9\n",
      "At Random State 46, the testing accuracy is : 0.85 \n",
      "\n",
      "\n",
      "At Random State 47, the training accuracy is : 0.9\n",
      "At Random State 47, the testing accuracy is : 0.89 \n",
      "\n",
      "\n",
      "At Random State 48, the training accuracy is : 0.89\n",
      "At Random State 48, the testing accuracy is : 0.92 \n",
      "\n",
      "\n",
      "At Random State 49, the training accuracy is : 0.91\n",
      "At Random State 49, the testing accuracy is : 0.82 \n",
      "\n",
      "\n",
      "At Random State 50, the training accuracy is : 0.9\n",
      "At Random State 50, the testing accuracy is : 0.85 \n",
      "\n",
      "\n",
      "At Random State 51, the training accuracy is : 0.89\n",
      "At Random State 51, the testing accuracy is : 0.91 \n",
      "\n",
      "\n",
      "At Random State 52, the training accuracy is : 0.9\n",
      "At Random State 52, the testing accuracy is : 0.88 \n",
      "\n",
      "\n",
      "At Random State 53, the training accuracy is : 0.89\n",
      "At Random State 53, the testing accuracy is : 0.93 \n",
      "\n",
      "\n",
      "At Random State 54, the training accuracy is : 0.89\n",
      "At Random State 54, the testing accuracy is : 0.92 \n",
      "\n",
      "\n",
      "At Random State 55, the training accuracy is : 0.89\n",
      "At Random State 55, the testing accuracy is : 0.9 \n",
      "\n",
      "\n",
      "At Random State 56, the training accuracy is : 0.9\n",
      "At Random State 56, the testing accuracy is : 0.89 \n",
      "\n",
      "\n",
      "At Random State 57, the training accuracy is : 0.88\n",
      "At Random State 57, the testing accuracy is : 0.94 \n",
      "\n",
      "\n",
      "At Random State 58, the training accuracy is : 0.91\n",
      "At Random State 58, the testing accuracy is : 0.84 \n",
      "\n",
      "\n",
      "At Random State 59, the training accuracy is : 0.89\n",
      "At Random State 59, the testing accuracy is : 0.93 \n",
      "\n",
      "\n",
      "At Random State 60, the training accuracy is : 0.89\n",
      "At Random State 60, the testing accuracy is : 0.91 \n",
      "\n",
      "\n",
      "At Random State 61, the training accuracy is : 0.9\n",
      "At Random State 61, the testing accuracy is : 0.88 \n",
      "\n",
      "\n",
      "At Random State 62, the training accuracy is : 0.91\n",
      "At Random State 62, the testing accuracy is : 0.84 \n",
      "\n",
      "\n",
      "At Random State 63, the training accuracy is : 0.89\n",
      "At Random State 63, the testing accuracy is : 0.9 \n",
      "\n",
      "\n",
      "At Random State 64, the training accuracy is : 0.9\n",
      "At Random State 64, the testing accuracy is : 0.88 \n",
      "\n",
      "\n",
      "At Random State 65, the training accuracy is : 0.9\n",
      "At Random State 65, the testing accuracy is : 0.89 \n",
      "\n",
      "\n",
      "At Random State 66, the training accuracy is : 0.9\n",
      "At Random State 66, the testing accuracy is : 0.89 \n",
      "\n",
      "\n",
      "At Random State 67, the training accuracy is : 0.9\n",
      "At Random State 67, the testing accuracy is : 0.88 \n",
      "\n",
      "\n",
      "At Random State 68, the training accuracy is : 0.9\n",
      "At Random State 68, the testing accuracy is : 0.87 \n",
      "\n",
      "\n",
      "At Random State 69, the training accuracy is : 0.89\n",
      "At Random State 69, the testing accuracy is : 0.92 \n",
      "\n",
      "\n",
      "At Random State 70, the training accuracy is : 0.89\n",
      "At Random State 70, the testing accuracy is : 0.93 \n",
      "\n",
      "\n",
      "At Random State 71, the training accuracy is : 0.92\n",
      "At Random State 71, the testing accuracy is : 0.82 \n",
      "\n",
      "\n",
      "At Random State 72, the training accuracy is : 0.89\n",
      "At Random State 72, the testing accuracy is : 0.91 \n",
      "\n",
      "\n",
      "At Random State 73, the training accuracy is : 0.91\n",
      "At Random State 73, the testing accuracy is : 0.84 \n",
      "\n",
      "\n",
      "At Random State 74, the training accuracy is : 0.9\n",
      "At Random State 74, the testing accuracy is : 0.88 \n",
      "\n",
      "\n",
      "At Random State 75, the training accuracy is : 0.89\n",
      "At Random State 75, the testing accuracy is : 0.91 \n",
      "\n",
      "\n",
      "At Random State 76, the training accuracy is : 0.91\n",
      "At Random State 76, the testing accuracy is : 0.75 \n",
      "\n",
      "\n",
      "At Random State 77, the training accuracy is : 0.89\n",
      "At Random State 77, the testing accuracy is : 0.94 \n",
      "\n",
      "\n",
      "At Random State 78, the training accuracy is : 0.9\n",
      "At Random State 78, the testing accuracy is : 0.9 \n",
      "\n",
      "\n",
      "At Random State 79, the training accuracy is : 0.89\n",
      "At Random State 79, the testing accuracy is : 0.9 \n",
      "\n",
      "\n",
      "At Random State 80, the training accuracy is : 0.92\n",
      "At Random State 80, the testing accuracy is : 0.81 \n",
      "\n",
      "\n",
      "At Random State 81, the training accuracy is : 0.9\n",
      "At Random State 81, the testing accuracy is : 0.86 \n",
      "\n",
      "\n",
      "At Random State 82, the training accuracy is : 0.92\n",
      "At Random State 82, the testing accuracy is : 0.8 \n",
      "\n",
      "\n",
      "At Random State 83, the training accuracy is : 0.88\n",
      "At Random State 83, the testing accuracy is : 0.94 \n",
      "\n",
      "\n",
      "At Random State 84, the training accuracy is : 0.9\n",
      "At Random State 84, the testing accuracy is : 0.9 \n",
      "\n",
      "\n",
      "At Random State 85, the training accuracy is : 0.91\n",
      "At Random State 85, the testing accuracy is : 0.84 \n",
      "\n",
      "\n",
      "At Random State 86, the training accuracy is : 0.89\n",
      "At Random State 86, the testing accuracy is : 0.91 \n",
      "\n",
      "\n",
      "At Random State 87, the training accuracy is : 0.91\n",
      "At Random State 87, the testing accuracy is : 0.76 \n",
      "\n",
      "\n",
      "At Random State 88, the training accuracy is : 0.91\n",
      "At Random State 88, the testing accuracy is : 0.84 \n",
      "\n",
      "\n",
      "At Random State 89, the training accuracy is : 0.9\n",
      "At Random State 89, the testing accuracy is : 0.88 \n",
      "\n",
      "\n",
      "At Random State 90, the training accuracy is : 0.9\n",
      "At Random State 90, the testing accuracy is : 0.85 \n",
      "\n",
      "\n",
      "At Random State 91, the training accuracy is : 0.89\n",
      "At Random State 91, the testing accuracy is : 0.9 \n",
      "\n",
      "\n",
      "At Random State 92, the training accuracy is : 0.88\n",
      "At Random State 92, the testing accuracy is : 0.95 \n",
      "\n",
      "\n",
      "At Random State 93, the training accuracy is : 0.89\n",
      "At Random State 93, the testing accuracy is : 0.91 \n",
      "\n",
      "\n",
      "At Random State 94, the training accuracy is : 0.91\n",
      "At Random State 94, the testing accuracy is : 0.86 \n",
      "\n",
      "\n",
      "At Random State 95, the training accuracy is : 0.89\n",
      "At Random State 95, the testing accuracy is : 0.9 \n",
      "\n",
      "\n",
      "At Random State 96, the training accuracy is : 0.9\n",
      "At Random State 96, the testing accuracy is : 0.86 \n",
      "\n",
      "\n",
      "At Random State 97, the training accuracy is : 0.89\n",
      "At Random State 97, the testing accuracy is : 0.91 \n",
      "\n",
      "\n",
      "At Random State 98, the training accuracy is : 0.88\n",
      "At Random State 98, the testing accuracy is : 0.94 \n",
      "\n",
      "\n",
      "At Random State 99, the training accuracy is : 0.89\n",
      "At Random State 99, the testing accuracy is : 0.92 \n",
      "\n",
      "\n"
     ]
    }
   ],
   "source": [
    "for i in range(0,100):\n",
    "    x_train,x_test,y_train,y_test=train_test_split(x,y,random_state=i ,test_size=0.2 )\n",
    "    lr.fit(x_train,y_train)\n",
    "    pred_train= lr.predict(x_train)\n",
    "    pred_test= lr.predict(x_test)\n",
    "    training_accuracy = r2_score(y_train ,pred_train )\n",
    "    testing_accuracy = r2_score(y_test ,pred_test )\n",
    "   \n",
    "    print(f\"At Random State {i}, the training accuracy is :\",round(training_accuracy ,2))\n",
    "    print(f\"At Random State {i}, the testing accuracy is :\",round(testing_accuracy ,2),'\\n\\n')\n",
    "    diff=training_accuracy-testing_accuracy\n",
    "    "
   ]
  },
  {
   "cell_type": "markdown",
   "id": "afc03e4c",
   "metadata": {},
   "source": [
    "At random state  5 and 24 we can see training and testing accuracy is almost same . so will choose Random_state=24"
   ]
  },
  {
   "cell_type": "code",
   "execution_count": 172,
   "id": "0e64d522",
   "metadata": {},
   "outputs": [
    {
     "data": {
      "text/plain": [
       "LinearRegression()"
      ]
     },
     "execution_count": 172,
     "metadata": {},
     "output_type": "execute_result"
    }
   ],
   "source": [
    "x_train,x_test,y_train,y_test=train_test_split(x,y,random_state=24 ,test_size=0.2 )\n",
    "lr.fit(x_train,y_train)"
   ]
  },
  {
   "cell_type": "code",
   "execution_count": 173,
   "id": "02585b62",
   "metadata": {},
   "outputs": [
    {
     "name": "stdout",
     "output_type": "stream",
     "text": [
      "R2 score for linear regression is : -1.285\n"
     ]
    }
   ],
   "source": [
    "print('R2 score for linear regression is :',round(r2_score(y_test,pred_test),3))"
   ]
  },
  {
   "cell_type": "code",
   "execution_count": 174,
   "id": "48a0b7b5",
   "metadata": {},
   "outputs": [
    {
     "data": {
      "text/html": [
       "<div>\n",
       "<style scoped>\n",
       "    .dataframe tbody tr th:only-of-type {\n",
       "        vertical-align: middle;\n",
       "    }\n",
       "\n",
       "    .dataframe tbody tr th {\n",
       "        vertical-align: top;\n",
       "    }\n",
       "\n",
       "    .dataframe thead th {\n",
       "        text-align: right;\n",
       "    }\n",
       "</style>\n",
       "<table border=\"1\" class=\"dataframe\">\n",
       "  <thead>\n",
       "    <tr style=\"text-align: right;\">\n",
       "      <th></th>\n",
       "      <th>y_test</th>\n",
       "      <th>pred_test</th>\n",
       "    </tr>\n",
       "  </thead>\n",
       "  <tbody>\n",
       "    <tr>\n",
       "      <th>197</th>\n",
       "      <td>12.8</td>\n",
       "      <td>13.954466</td>\n",
       "    </tr>\n",
       "    <tr>\n",
       "      <th>109</th>\n",
       "      <td>19.8</td>\n",
       "      <td>6.560968</td>\n",
       "    </tr>\n",
       "    <tr>\n",
       "      <th>101</th>\n",
       "      <td>23.8</td>\n",
       "      <td>8.377303</td>\n",
       "    </tr>\n",
       "    <tr>\n",
       "      <th>125</th>\n",
       "      <td>10.6</td>\n",
       "      <td>8.969426</td>\n",
       "    </tr>\n",
       "    <tr>\n",
       "      <th>48</th>\n",
       "      <td>14.8</td>\n",
       "      <td>6.815364</td>\n",
       "    </tr>\n",
       "  </tbody>\n",
       "</table>\n",
       "</div>"
      ],
      "text/plain": [
       "     y_test  pred_test\n",
       "197    12.8  13.954466\n",
       "109    19.8   6.560968\n",
       "101    23.8   8.377303\n",
       "125    10.6   8.969426\n",
       "48     14.8   6.815364"
      ]
     },
     "execution_count": 174,
     "metadata": {},
     "output_type": "execute_result"
    }
   ],
   "source": [
    "#Displaying prediction result on test data\n",
    "prediction=pd.DataFrame()\n",
    "prediction['y_test']=y_test\n",
    "prediction['pred_test']=pred_test\n",
    "prediction.head()"
   ]
  },
  {
   "cell_type": "markdown",
   "id": "edb7b7d6",
   "metadata": {},
   "source": [
    "### Cross Validation of model"
   ]
  },
  {
   "cell_type": "code",
   "execution_count": 175,
   "id": "c93cbc30",
   "metadata": {},
   "outputs": [],
   "source": [
    "from sklearn.model_selection import cross_val_score"
   ]
  },
  {
   "cell_type": "code",
   "execution_count": 176,
   "id": "1b61fa03",
   "metadata": {},
   "outputs": [
    {
     "name": "stdout",
     "output_type": "stream",
     "text": [
      " At cross fold 2 CV Score is 0.891 and Training Accuracy is:-1.103 and Testing Accuracy is:-1.285\n",
      "\n",
      " At cross fold 3 CV Score is 0.892 and Training Accuracy is:-1.103 and Testing Accuracy is:-1.285\n",
      "\n",
      " At cross fold 4 CV Score is 0.89 and Training Accuracy is:-1.103 and Testing Accuracy is:-1.285\n",
      "\n",
      " At cross fold 5 CV Score is 0.887 and Training Accuracy is:-1.103 and Testing Accuracy is:-1.285\n",
      "\n",
      " At cross fold 6 CV Score is 0.89 and Training Accuracy is:-1.103 and Testing Accuracy is:-1.285\n",
      "\n",
      " At cross fold 7 CV Score is 0.886 and Training Accuracy is:-1.103 and Testing Accuracy is:-1.285\n",
      "\n",
      " At cross fold 8 CV Score is 0.883 and Training Accuracy is:-1.103 and Testing Accuracy is:-1.285\n",
      "\n",
      " At cross fold 9 CV Score is 0.882 and Training Accuracy is:-1.103 and Testing Accuracy is:-1.285\n",
      "\n",
      " At cross fold 10 CV Score is 0.885 and Training Accuracy is:-1.103 and Testing Accuracy is:-1.285\n",
      "\n",
      " At cross fold 11 CV Score is 0.877 and Training Accuracy is:-1.103 and Testing Accuracy is:-1.285\n",
      "\n"
     ]
    }
   ],
   "source": [
    "training_accuracy = r2_score(y_train ,pred_train )\n",
    "testing_accuracy = r2_score(y_test ,pred_test )\n",
    "\n",
    "for j in range(2,12):\n",
    "    reg_cvScore = cross_val_score(lr,x,y,cv=j)\n",
    "    reg_cvScore_mean = reg_cvScore.mean()\n",
    "    print(f\" At cross fold {j} CV Score is {round(reg_cvScore_mean,3)} and Training Accuracy is:{round(training_accuracy,3)} and Testing Accuracy is:{round(testing_accuracy,3)}\\n\")"
   ]
  },
  {
   "cell_type": "markdown",
   "id": "fd8434e8",
   "metadata": {},
   "source": [
    "As we can see we are getting almost same result for all CV values will take CV=6"
   ]
  },
  {
   "cell_type": "code",
   "execution_count": 185,
   "id": "bd86df6a",
   "metadata": {},
   "outputs": [],
   "source": [
    "Model_score= Model_score.append({'Model_Name':'Linear Regression','Training_Accuracy':-1.103,'Testing_Accuracy':-1.285,'CV_Score':0.89 },ignore_index=True)    "
   ]
  },
  {
   "cell_type": "code",
   "execution_count": 177,
   "id": "d2c2382a",
   "metadata": {
    "scrolled": true
   },
   "outputs": [
    {
     "data": {
      "text/plain": [
       "Text(0.5, 1.0, 'Linear Regression line')"
      ]
     },
     "execution_count": 177,
     "metadata": {},
     "output_type": "execute_result"
    },
    {
     "data": {
      "image/png": "[encoded data removed]",
      "text/plain": [
       "<Figure size 864x432 with 1 Axes>"
      ]
     },
     "metadata": {},
     "output_type": "display_data"
    }
   ],
   "source": [
    "## Drawing Best fit line\n",
    "plt.figure(figsize=(12,6))\n",
    "plt.scatter(x=y_test ,y= pred_test ,color='r')\n",
    "plt.plot(y_test ,y_test ,color='b')\n",
    "plt.xlabel('Actual sales')\n",
    "plt.ylabel('Predicted sales')\n",
    "plt.title('Linear Regression line')"
   ]
  },
  {
   "cell_type": "markdown",
   "id": "1bbbbe9c",
   "metadata": {},
   "source": [
    "### Regularization"
   ]
  },
  {
   "cell_type": "code",
   "execution_count": 178,
   "id": "a6c7e4d0",
   "metadata": {},
   "outputs": [],
   "source": [
    "from sklearn.model_selection import GridSearchCV\n",
    "from sklearn.model_selection import cross_val_score\n",
    "from sklearn.linear_model import Lasso ,Ridge"
   ]
  },
  {
   "cell_type": "code",
   "execution_count": 179,
   "id": "c0cefff3",
   "metadata": {},
   "outputs": [
    {
     "name": "stdout",
     "output_type": "stream",
     "text": [
      "0.8942946867352511\n",
      "0.9056381132644026\n"
     ]
    }
   ],
   "source": [
    "#print(model_name)\n",
    "Model_score=pd.DataFrame(columns=['Model_Name','Training_Accuracy','Testing_Accuracy','CV_Score'])\n",
    "\n",
    "model=Lasso()\n",
    "model.fit(x_train,y_train)\n",
    "pred_train= model.predict(x_train)\n",
    "pred_test= model.predict(x_test)\n",
    "training_accuracy = r2_score(y_train ,pred_train )\n",
    "testing_accuracy = r2_score(y_test ,pred_test )\n",
    "cv_score = 0\n",
    "print(training_accuracy)\n",
    "print(testing_accuracy)\n"
   ]
  },
  {
   "cell_type": "code",
   "execution_count": 180,
   "id": "86c56fa6",
   "metadata": {},
   "outputs": [
    {
     "name": "stdout",
     "output_type": "stream",
     "text": [
      "0.892\n",
      "0.892\n",
      "0.891\n",
      "0.888\n",
      "0.891\n",
      "0.887\n",
      "0.883\n",
      "0.883\n",
      "0.886\n",
      "0.878\n",
      "0.886\n",
      "0.885\n",
      "0.876\n"
     ]
    },
    {
     "data": {
      "text/html": [
       "<div>\n",
       "<style scoped>\n",
       "    .dataframe tbody tr th:only-of-type {\n",
       "        vertical-align: middle;\n",
       "    }\n",
       "\n",
       "    .dataframe tbody tr th {\n",
       "        vertical-align: top;\n",
       "    }\n",
       "\n",
       "    .dataframe thead th {\n",
       "        text-align: right;\n",
       "    }\n",
       "</style>\n",
       "<table border=\"1\" class=\"dataframe\">\n",
       "  <thead>\n",
       "    <tr style=\"text-align: right;\">\n",
       "      <th></th>\n",
       "      <th>Model_Name</th>\n",
       "      <th>Training_Accuracy</th>\n",
       "      <th>Testing_Accuracy</th>\n",
       "      <th>CV_Score</th>\n",
       "    </tr>\n",
       "  </thead>\n",
       "  <tbody>\n",
       "    <tr>\n",
       "      <th>0</th>\n",
       "      <td>Lasso</td>\n",
       "      <td>0.894</td>\n",
       "      <td>0.906</td>\n",
       "      <td>0.892</td>\n",
       "    </tr>\n",
       "  </tbody>\n",
       "</table>\n",
       "</div>"
      ],
      "text/plain": [
       "  Model_Name  Training_Accuracy  Testing_Accuracy  CV_Score\n",
       "0      Lasso              0.894             0.906     0.892"
      ]
     },
     "execution_count": 180,
     "metadata": {},
     "output_type": "execute_result"
    }
   ],
   "source": [
    "from sklearn.model_selection import cross_val_score\n",
    "\n",
    "for j in range(2,15):\n",
    "    ls_cvScore=cross_val_score(model,x,y,cv=j)\n",
    "    ls_cvScore_mean = ls_cvScore.mean()\n",
    "    print(round(ls_cvScore_mean,3))\n",
    "    if(cv_score < round(ls_cvScore_mean,3)):\n",
    "        cv_score=round(ls_cvScore_mean,3)\n",
    "\n",
    "Model_score= Model_score.append({'Model_Name':'Lasso','Training_Accuracy':round(training_accuracy,3),'Testing_Accuracy':round(testing_accuracy,3),'CV_Score':cv_score},ignore_index=True)    \n",
    "Model_score\n"
   ]
  },
  {
   "cell_type": "code",
   "execution_count": 181,
   "id": "9ce77045",
   "metadata": {},
   "outputs": [
    {
     "name": "stdout",
     "output_type": "stream",
     "text": [
      "0.894652986237678\n",
      "0.9043166969305148\n"
     ]
    }
   ],
   "source": [
    "rdg=Ridge()\n",
    "rdg.fit(x_train,y_train)\n",
    "pred_train= rdg.predict(x_train)\n",
    "pred_test= rdg.predict(x_test)\n",
    "training_accuracy = r2_score(y_train ,pred_train )\n",
    "testing_accuracy = r2_score(y_test ,pred_test )\n",
    "cv_score = 0\n",
    "print(training_accuracy)\n",
    "print(testing_accuracy)\n"
   ]
  },
  {
   "cell_type": "code",
   "execution_count": 183,
   "id": "8a6f6cd8",
   "metadata": {},
   "outputs": [
    {
     "name": "stdout",
     "output_type": "stream",
     "text": [
      "0.891\n",
      "0.892\n",
      "0.89\n",
      "0.887\n",
      "0.89\n",
      "0.886\n",
      "0.883\n",
      "0.882\n",
      "0.885\n",
      "0.877\n",
      "0.885\n",
      "0.885\n",
      "0.874\n"
     ]
    },
    {
     "data": {
      "text/html": [
       "<div>\n",
       "<style scoped>\n",
       "    .dataframe tbody tr th:only-of-type {\n",
       "        vertical-align: middle;\n",
       "    }\n",
       "\n",
       "    .dataframe tbody tr th {\n",
       "        vertical-align: top;\n",
       "    }\n",
       "\n",
       "    .dataframe thead th {\n",
       "        text-align: right;\n",
       "    }\n",
       "</style>\n",
       "<table border=\"1\" class=\"dataframe\">\n",
       "  <thead>\n",
       "    <tr style=\"text-align: right;\">\n",
       "      <th></th>\n",
       "      <th>Model_Name</th>\n",
       "      <th>Training_Accuracy</th>\n",
       "      <th>Testing_Accuracy</th>\n",
       "      <th>CV_Score</th>\n",
       "    </tr>\n",
       "  </thead>\n",
       "  <tbody>\n",
       "    <tr>\n",
       "      <th>0</th>\n",
       "      <td>Lasso</td>\n",
       "      <td>0.894</td>\n",
       "      <td>0.906</td>\n",
       "      <td>0.892</td>\n",
       "    </tr>\n",
       "    <tr>\n",
       "      <th>1</th>\n",
       "      <td>Ridge</td>\n",
       "      <td>0.895</td>\n",
       "      <td>0.904</td>\n",
       "      <td>0.892</td>\n",
       "    </tr>\n",
       "  </tbody>\n",
       "</table>\n",
       "</div>"
      ],
      "text/plain": [
       "  Model_Name  Training_Accuracy  Testing_Accuracy  CV_Score\n",
       "0      Lasso              0.894             0.906     0.892\n",
       "1      Ridge              0.895             0.904     0.892"
      ]
     },
     "execution_count": 183,
     "metadata": {},
     "output_type": "execute_result"
    }
   ],
   "source": [
    "from sklearn.model_selection import cross_val_score\n",
    "for j in range(2,15):\n",
    "    rdg_cvScore = cross_val_score(rdg ,x,y,cv=j)\n",
    "    rdg_cvScore_mean = rdg_cvScore.mean()\n",
    "    \n",
    "    print(round(rdg_cvScore_mean,3))\n",
    "    \n",
    "    if(cv_score < round(rdg_cvScore_mean,3)):\n",
    "        cv_score=round(rdg_cvScore_mean,3)\n",
    "\n",
    "Model_score= Model_score.append({'Model_Name':'Ridge','Training_Accuracy':round(training_accuracy,3),'Testing_Accuracy':round(testing_accuracy,3),'CV_Score':cv_score},ignore_index=True)    \n",
    "Model_score\n"
   ]
  },
  {
   "cell_type": "code",
   "execution_count": 186,
   "id": "b0de496b",
   "metadata": {},
   "outputs": [
    {
     "data": {
      "text/html": [
       "<div>\n",
       "<style scoped>\n",
       "    .dataframe tbody tr th:only-of-type {\n",
       "        vertical-align: middle;\n",
       "    }\n",
       "\n",
       "    .dataframe tbody tr th {\n",
       "        vertical-align: top;\n",
       "    }\n",
       "\n",
       "    .dataframe thead th {\n",
       "        text-align: right;\n",
       "    }\n",
       "</style>\n",
       "<table border=\"1\" class=\"dataframe\">\n",
       "  <thead>\n",
       "    <tr style=\"text-align: right;\">\n",
       "      <th></th>\n",
       "      <th>Model_Name</th>\n",
       "      <th>Training_Accuracy</th>\n",
       "      <th>Testing_Accuracy</th>\n",
       "      <th>CV_Score</th>\n",
       "    </tr>\n",
       "  </thead>\n",
       "  <tbody>\n",
       "    <tr>\n",
       "      <th>0</th>\n",
       "      <td>Lasso</td>\n",
       "      <td>0.894</td>\n",
       "      <td>0.906</td>\n",
       "      <td>0.892</td>\n",
       "    </tr>\n",
       "    <tr>\n",
       "      <th>1</th>\n",
       "      <td>Ridge</td>\n",
       "      <td>0.895</td>\n",
       "      <td>0.904</td>\n",
       "      <td>0.892</td>\n",
       "    </tr>\n",
       "    <tr>\n",
       "      <th>2</th>\n",
       "      <td>Linear Regression</td>\n",
       "      <td>-1.103</td>\n",
       "      <td>-1.285</td>\n",
       "      <td>0.890</td>\n",
       "    </tr>\n",
       "  </tbody>\n",
       "</table>\n",
       "</div>"
      ],
      "text/plain": [
       "          Model_Name  Training_Accuracy  Testing_Accuracy  CV_Score\n",
       "0              Lasso              0.894             0.906     0.892\n",
       "1              Ridge              0.895             0.904     0.892\n",
       "2  Linear Regression             -1.103            -1.285     0.890"
      ]
     },
     "execution_count": 186,
     "metadata": {},
     "output_type": "execute_result"
    }
   ],
   "source": [
    "Model_score"
   ]
  },
  {
   "cell_type": "markdown",
   "id": "11d3cb9e",
   "metadata": {},
   "source": [
    "### XGBoost model"
   ]
  },
  {
   "cell_type": "code",
   "execution_count": 191,
   "id": "97db60cd",
   "metadata": {},
   "outputs": [
    {
     "name": "stdout",
     "output_type": "stream",
     "text": [
      "Collecting xgboost\n",
      "  Using cached xgboost-1.5.2-py3-none-win_amd64.whl (106.6 MB)\n",
      "Requirement already satisfied: numpy in c:\\programdata\\anaconda3\\lib\\site-packages (from xgboost) (1.20.1)\n",
      "Requirement already satisfied: scipy in c:\\programdata\\anaconda3\\lib\\site-packages (from xgboost) (1.6.2)\n",
      "Installing collected packages: xgboost\n",
      "Successfully installed xgboost-1.5.2\n"
     ]
    }
   ],
   "source": [
    "!pip install xgboost"
   ]
  },
  {
   "cell_type": "code",
   "execution_count": 193,
   "id": "19885752",
   "metadata": {},
   "outputs": [],
   "source": [
    "import xgboost\n",
    "from xgboost import XGBRegressor\n"
   ]
  },
  {
   "cell_type": "code",
   "execution_count": 207,
   "id": "449c0a40",
   "metadata": {
    "scrolled": true
   },
   "outputs": [
    {
     "name": "stdout",
     "output_type": "stream",
     "text": [
      "XGBRegressor(base_score=None, booster=None, colsample_bylevel=None,\n",
      "             colsample_bynode=None, colsample_bytree=None,\n",
      "             enable_categorical=False, gamma=None, gpu_id=None,\n",
      "             importance_type=None, interaction_constraints=None,\n",
      "             learning_rate=None, max_delta_step=None, max_depth=None,\n",
      "             min_child_weight=None, missing=nan, monotone_constraints=None,\n",
      "             n_estimators=100, n_jobs=None, num_parallel_tree=None,\n",
      "             predictor=None, random_state=None, reg_alpha=None, reg_lambda=None,\n",
      "             scale_pos_weight=None, subsample=None, tree_method=None,\n",
      "             validate_parameters=None, verbosity=None)\n"
     ]
    }
   ],
   "source": [
    "xgbr= XGBRegressor()\n",
    "print(xgbr)"
   ]
  },
  {
   "cell_type": "code",
   "execution_count": 197,
   "id": "390ab73b",
   "metadata": {},
   "outputs": [
    {
     "name": "stdout",
     "output_type": "stream",
     "text": [
      "1.0\n",
      "0.979\n"
     ]
    }
   ],
   "source": [
    "xgbr.fit(x_train,y_train)\n",
    "pred_train=xgbr.predict(x_train)\n",
    "pred_test =xgbr.predict(x_test)\n",
    "training_accuracy = r2_score(y_train,pred_train)\n",
    "testing_accuracy =r2_score(y_test,pred_test)\n",
    "cv_score = 0\n",
    "print(round(training_accuracy,3))\n",
    "print(round(testing_accuracy,3))\n",
    "\n"
   ]
  },
  {
   "cell_type": "code",
   "execution_count": 215,
   "id": "ef72d353",
   "metadata": {},
   "outputs": [
    {
     "name": "stdout",
     "output_type": "stream",
     "text": [
      "CV score is : 0.975\n"
     ]
    }
   ],
   "source": [
    "for j in range(2,12):\n",
    "    xgbr_cvScore = cross_val_score(xgbr ,x,y,cv=j)\n",
    "    xgbr_cvScore_mean = xgbr_cvScore.mean()\n",
    "    \n",
    "    if (cv_score < xgbr_cvScore_mean):\n",
    "        cv_score = xgbr_cvScore_mean\n",
    "        \n",
    "print(\"CV score is :\",round(cv_score,3))\n"
   ]
  },
  {
   "cell_type": "code",
   "execution_count": 205,
   "id": "28796330",
   "metadata": {},
   "outputs": [
    {
     "data": {
      "text/html": [
       "<div>\n",
       "<style scoped>\n",
       "    .dataframe tbody tr th:only-of-type {\n",
       "        vertical-align: middle;\n",
       "    }\n",
       "\n",
       "    .dataframe tbody tr th {\n",
       "        vertical-align: top;\n",
       "    }\n",
       "\n",
       "    .dataframe thead th {\n",
       "        text-align: right;\n",
       "    }\n",
       "</style>\n",
       "<table border=\"1\" class=\"dataframe\">\n",
       "  <thead>\n",
       "    <tr style=\"text-align: right;\">\n",
       "      <th></th>\n",
       "      <th>Model_Name</th>\n",
       "      <th>Training_Accuracy</th>\n",
       "      <th>Testing_Accuracy</th>\n",
       "      <th>CV_Score</th>\n",
       "    </tr>\n",
       "  </thead>\n",
       "  <tbody>\n",
       "    <tr>\n",
       "      <th>0</th>\n",
       "      <td>Lasso</td>\n",
       "      <td>0.894</td>\n",
       "      <td>0.906</td>\n",
       "      <td>0.8920</td>\n",
       "    </tr>\n",
       "    <tr>\n",
       "      <th>1</th>\n",
       "      <td>Ridge</td>\n",
       "      <td>0.895</td>\n",
       "      <td>0.904</td>\n",
       "      <td>0.8920</td>\n",
       "    </tr>\n",
       "    <tr>\n",
       "      <th>2</th>\n",
       "      <td>Linear Regression</td>\n",
       "      <td>-1.103</td>\n",
       "      <td>-1.285</td>\n",
       "      <td>0.8900</td>\n",
       "    </tr>\n",
       "    <tr>\n",
       "      <th>3</th>\n",
       "      <td>XGboost</td>\n",
       "      <td>1.000</td>\n",
       "      <td>0.979</td>\n",
       "      <td>0.9752</td>\n",
       "    </tr>\n",
       "  </tbody>\n",
       "</table>\n",
       "</div>"
      ],
      "text/plain": [
       "          Model_Name  Training_Accuracy  Testing_Accuracy  CV_Score\n",
       "0              Lasso              0.894             0.906    0.8920\n",
       "1              Ridge              0.895             0.904    0.8920\n",
       "2  Linear Regression             -1.103            -1.285    0.8900\n",
       "3            XGboost              1.000             0.979    0.9752"
      ]
     },
     "execution_count": 205,
     "metadata": {},
     "output_type": "execute_result"
    }
   ],
   "source": [
    "Model_score= Model_score.append({'Model_Name':'XGboost','Training_Accuracy':round(training_accuracy,3),'Testing_Accuracy':round(testing_accuracy,3),'CV_Score':cv_score},ignore_index=True)    \n",
    "Model_score"
   ]
  },
  {
   "cell_type": "markdown",
   "id": "83231fa2",
   "metadata": {},
   "source": [
    "#### from the above result we can say XGBoost is performing pretty good so will select it ."
   ]
  },
  {
   "cell_type": "code",
   "execution_count": 206,
   "id": "1eacaf3f",
   "metadata": {},
   "outputs": [
    {
     "data": {
      "text/plain": [
       "[<matplotlib.lines.Line2D at 0x22752d633d0>]"
      ]
     },
     "execution_count": 206,
     "metadata": {},
     "output_type": "execute_result"
    },
    {
     "data": {
      "image/png": "[encoded data removed]",
      "text/plain": [
       "<Figure size 1296x576 with 1 Axes>"
      ]
     },
     "metadata": {},
     "output_type": "display_data"
    }
   ],
   "source": [
    "x_axis=range(len(y_test))\n",
    "plt.plot(x_axis,y_test ,label=\"Actual\")\n",
    "plt.plot(x_axis,pred_test ,label=\"Predicted\")"
   ]
  },
  {
   "cell_type": "markdown",
   "id": "988768f6",
   "metadata": {},
   "source": [
    "we can see Actual and Predicted results are almost same. "
   ]
  },
  {
   "cell_type": "markdown",
   "id": "b7816cd6",
   "metadata": {},
   "source": [
    "#### Hyper Parameter tunning"
   ]
  },
  {
   "cell_type": "code",
   "execution_count": 209,
   "id": "257ac90f",
   "metadata": {},
   "outputs": [
    {
     "data": {
      "text/plain": [
       "{'booster': 'gbtree',\n",
       " 'learning_rate': 0.05,\n",
       " 'max_depth': 2,\n",
       " 'min_child_weight': 1,\n",
       " 'n_estimators': 100}"
      ]
     },
     "execution_count": 209,
     "metadata": {},
     "output_type": "execute_result"
    }
   ],
   "source": [
    "from sklearn.model_selection import GridSearchCV\n",
    "\n",
    "n_estimators = [100, 500, 900, 1100, 1500]\n",
    "max_depth = [2, 3, 5, 10, 15]\n",
    "booster=['gbtree','gblinear']\n",
    "learning_rate=[0.05,0.1,0.15,0.20]\n",
    "min_child_weight=[1,2,3,4]\n",
    "\n",
    "# Define the grid of hyperparameters to search\n",
    "hyperparameter_grid = {\n",
    "    'n_estimators': n_estimators,\n",
    "    'max_depth':max_depth,\n",
    "    'learning_rate':learning_rate,\n",
    "    'min_child_weight':min_child_weight,\n",
    "    'booster':booster \n",
    "    }\n",
    "\n",
    "grid_cv= GridSearchCV(xgbr ,hyperparameter_grid ,scoring='accuracy' ,cv=12)\n",
    "grid_cv.fit(x_train,y_train)\n",
    "grid_cv.best_params_\n"
   ]
  },
  {
   "cell_type": "code",
   "execution_count": 217,
   "id": "9085fc39",
   "metadata": {},
   "outputs": [
    {
     "name": "stdout",
     "output_type": "stream",
     "text": [
      "Testing accuracy is: 0.971\n"
     ]
    }
   ],
   "source": [
    "#prediction with best parameter\n",
    "pred_test=grid_cv.best_estimator_.predict(x_test) \n",
    "\n",
    "testing_accuracy =r2_score(y_test,pred_test)\n",
    "cv_score = 0\n",
    "\n",
    "print(\"Testing accuracy is:\",round(testing_accuracy,3))\n",
    "\n"
   ]
  },
  {
   "cell_type": "code",
   "execution_count": 218,
   "id": "029068ac",
   "metadata": {},
   "outputs": [
    {
     "name": "stdout",
     "output_type": "stream",
     "text": [
      "CV score is : 0.975\n"
     ]
    }
   ],
   "source": [
    "for j in range(2,12):\n",
    "    xgbr_cvScore = cross_val_score(xgbr ,x,y,cv=j)\n",
    "    xgbr_cvScore_mean = xgbr_cvScore.mean()\n",
    "   \n",
    "    if (cv_score < xgbr_cvScore_mean):\n",
    "        cv_score = xgbr_cvScore_mean\n",
    "        \n",
    "print(\"CV score is :\",round(cv_score,3))"
   ]
  },
  {
   "cell_type": "markdown",
   "id": "261ad49f",
   "metadata": {},
   "source": [
    "#### We have got Testing accuracy :0.971 and CV score : 0.975 "
   ]
  },
  {
   "cell_type": "code",
   "execution_count": 220,
   "id": "3017a68b",
   "metadata": {},
   "outputs": [
    {
     "data": {
      "text/plain": [
       "['AdvertisingSalesChannelPrediction.pkl']"
      ]
     },
     "execution_count": 220,
     "metadata": {},
     "output_type": "execute_result"
    }
   ],
   "source": [
    "import joblib\n",
    "joblib.dump(grid_cv.best_estimator_,\"AdvertisingSalesChannelPrediction.pkl\")"
   ]
  },
  {
   "cell_type": "code",
   "execution_count": null,
   "id": "3ecd4e24",
   "metadata": {},
   "outputs": [],
   "source": []
  }
 ],
 "metadata": {
  "kernelspec": {
   "display_name": "Python 3",
   "language": "python",
   "name": "python3"
  },
  "language_info": {
   "codemirror_mode": {
    "name": "ipython",
    "version": 3
   },
   "file_extension": ".py",
   "mimetype": "text/x-python",
   "name": "python",
   "nbconvert_exporter": "python",
   "pygments_lexer": "ipython3",
   "version": "3.8.8"
  }
 },
 "nbformat": 4,
 "nbformat_minor": 5
}
