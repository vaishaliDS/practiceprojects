{
 "cells": [
  {
   "cell_type": "code",
   "execution_count": 45,
   "id": "8d2aab82",
   "metadata": {},
   "outputs": [],
   "source": [
    "import pandas as pd\n",
    "import numpy as np\n",
    "import matplotlib.pyplot as plt\n",
    "import seaborn as sns\n",
    "import warnings\n",
    "warnings.filterwarnings('ignore')"
   ]
  },
  {
   "cell_type": "code",
   "execution_count": 46,
   "id": "d521ea2c",
   "metadata": {},
   "outputs": [
    {
     "data": {
      "text/html": [
       "<div>\n",
       "<style scoped>\n",
       "    .dataframe tbody tr th:only-of-type {\n",
       "        vertical-align: middle;\n",
       "    }\n",
       "\n",
       "    .dataframe tbody tr th {\n",
       "        vertical-align: top;\n",
       "    }\n",
       "\n",
       "    .dataframe thead th {\n",
       "        text-align: right;\n",
       "    }\n",
       "</style>\n",
       "<table border=\"1\" class=\"dataframe\">\n",
       "  <thead>\n",
       "    <tr style=\"text-align: right;\">\n",
       "      <th></th>\n",
       "      <th>fixed acidity</th>\n",
       "      <th>volatile acidity</th>\n",
       "      <th>citric acid</th>\n",
       "      <th>residual sugar</th>\n",
       "      <th>chlorides</th>\n",
       "      <th>free sulfur dioxide</th>\n",
       "      <th>total sulfur dioxide</th>\n",
       "      <th>density</th>\n",
       "      <th>pH</th>\n",
       "      <th>sulphates</th>\n",
       "      <th>alcohol</th>\n",
       "      <th>quality</th>\n",
       "    </tr>\n",
       "  </thead>\n",
       "  <tbody>\n",
       "    <tr>\n",
       "      <th>0</th>\n",
       "      <td>7.4</td>\n",
       "      <td>0.70</td>\n",
       "      <td>0.00</td>\n",
       "      <td>1.9</td>\n",
       "      <td>0.076</td>\n",
       "      <td>11.0</td>\n",
       "      <td>34.0</td>\n",
       "      <td>0.9978</td>\n",
       "      <td>3.51</td>\n",
       "      <td>0.56</td>\n",
       "      <td>9.4</td>\n",
       "      <td>5</td>\n",
       "    </tr>\n",
       "    <tr>\n",
       "      <th>1</th>\n",
       "      <td>7.8</td>\n",
       "      <td>0.88</td>\n",
       "      <td>0.00</td>\n",
       "      <td>2.6</td>\n",
       "      <td>0.098</td>\n",
       "      <td>25.0</td>\n",
       "      <td>67.0</td>\n",
       "      <td>0.9968</td>\n",
       "      <td>3.20</td>\n",
       "      <td>0.68</td>\n",
       "      <td>9.8</td>\n",
       "      <td>5</td>\n",
       "    </tr>\n",
       "    <tr>\n",
       "      <th>2</th>\n",
       "      <td>7.8</td>\n",
       "      <td>0.76</td>\n",
       "      <td>0.04</td>\n",
       "      <td>2.3</td>\n",
       "      <td>0.092</td>\n",
       "      <td>15.0</td>\n",
       "      <td>54.0</td>\n",
       "      <td>0.9970</td>\n",
       "      <td>3.26</td>\n",
       "      <td>0.65</td>\n",
       "      <td>9.8</td>\n",
       "      <td>5</td>\n",
       "    </tr>\n",
       "    <tr>\n",
       "      <th>3</th>\n",
       "      <td>11.2</td>\n",
       "      <td>0.28</td>\n",
       "      <td>0.56</td>\n",
       "      <td>1.9</td>\n",
       "      <td>0.075</td>\n",
       "      <td>17.0</td>\n",
       "      <td>60.0</td>\n",
       "      <td>0.9980</td>\n",
       "      <td>3.16</td>\n",
       "      <td>0.58</td>\n",
       "      <td>9.8</td>\n",
       "      <td>6</td>\n",
       "    </tr>\n",
       "    <tr>\n",
       "      <th>4</th>\n",
       "      <td>7.4</td>\n",
       "      <td>0.70</td>\n",
       "      <td>0.00</td>\n",
       "      <td>1.9</td>\n",
       "      <td>0.076</td>\n",
       "      <td>11.0</td>\n",
       "      <td>34.0</td>\n",
       "      <td>0.9978</td>\n",
       "      <td>3.51</td>\n",
       "      <td>0.56</td>\n",
       "      <td>9.4</td>\n",
       "      <td>5</td>\n",
       "    </tr>\n",
       "  </tbody>\n",
       "</table>\n",
       "</div>"
      ],
      "text/plain": [
       "   fixed acidity  volatile acidity  citric acid  residual sugar  chlorides  \\\n",
       "0            7.4              0.70         0.00             1.9      0.076   \n",
       "1            7.8              0.88         0.00             2.6      0.098   \n",
       "2            7.8              0.76         0.04             2.3      0.092   \n",
       "3           11.2              0.28         0.56             1.9      0.075   \n",
       "4            7.4              0.70         0.00             1.9      0.076   \n",
       "\n",
       "   free sulfur dioxide  total sulfur dioxide  density    pH  sulphates  \\\n",
       "0                 11.0                  34.0   0.9978  3.51       0.56   \n",
       "1                 25.0                  67.0   0.9968  3.20       0.68   \n",
       "2                 15.0                  54.0   0.9970  3.26       0.65   \n",
       "3                 17.0                  60.0   0.9980  3.16       0.58   \n",
       "4                 11.0                  34.0   0.9978  3.51       0.56   \n",
       "\n",
       "   alcohol  quality  \n",
       "0      9.4        5  \n",
       "1      9.8        5  \n",
       "2      9.8        5  \n",
       "3      9.8        6  \n",
       "4      9.4        5  "
      ]
     },
     "execution_count": 46,
     "metadata": {},
     "output_type": "execute_result"
    }
   ],
   "source": [
    "#loading dataset\n",
    "df_wine=pd.read_csv('winequality-red.csv')\n",
    "df_wine.head(5)"
   ]
  },
  {
   "cell_type": "code",
   "execution_count": 47,
   "id": "928658e4",
   "metadata": {},
   "outputs": [
    {
     "data": {
      "text/plain": [
       "fixed acidity           float64\n",
       "volatile acidity        float64\n",
       "citric acid             float64\n",
       "residual sugar          float64\n",
       "chlorides               float64\n",
       "free sulfur dioxide     float64\n",
       "total sulfur dioxide    float64\n",
       "density                 float64\n",
       "pH                      float64\n",
       "sulphates               float64\n",
       "alcohol                 float64\n",
       "quality                   int64\n",
       "dtype: object"
      ]
     },
     "execution_count": 47,
     "metadata": {},
     "output_type": "execute_result"
    }
   ],
   "source": [
    "df_wine.dtypes"
   ]
  },
  {
   "cell_type": "code",
   "execution_count": 48,
   "id": "bdc9c683",
   "metadata": {},
   "outputs": [
    {
     "data": {
      "text/plain": [
       "fixed acidity           0\n",
       "volatile acidity        0\n",
       "citric acid             0\n",
       "residual sugar          0\n",
       "chlorides               0\n",
       "free sulfur dioxide     0\n",
       "total sulfur dioxide    0\n",
       "density                 0\n",
       "pH                      0\n",
       "sulphates               0\n",
       "alcohol                 0\n",
       "quality                 0\n",
       "dtype: int64"
      ]
     },
     "execution_count": 48,
     "metadata": {},
     "output_type": "execute_result"
    }
   ],
   "source": [
    "df_wine.isnull().sum()"
   ]
  },
  {
   "cell_type": "markdown",
   "id": "06dced39",
   "metadata": {},
   "source": [
    "**There is no null record found**"
   ]
  },
  {
   "cell_type": "code",
   "execution_count": 49,
   "id": "c1b50161",
   "metadata": {},
   "outputs": [
    {
     "data": {
      "text/plain": [
       "(1599, 12)"
      ]
     },
     "execution_count": 49,
     "metadata": {},
     "output_type": "execute_result"
    }
   ],
   "source": [
    "df_wine.shape"
   ]
  },
  {
   "cell_type": "code",
   "execution_count": 50,
   "id": "9913e67e",
   "metadata": {},
   "outputs": [
    {
     "data": {
      "text/plain": [
       "Index(['fixed acidity', 'volatile acidity', 'citric acid', 'residual sugar',\n",
       "       'chlorides', 'free sulfur dioxide', 'total sulfur dioxide', 'density',\n",
       "       'pH', 'sulphates', 'alcohol', 'quality'],\n",
       "      dtype='object')"
      ]
     },
     "execution_count": 50,
     "metadata": {},
     "output_type": "execute_result"
    }
   ],
   "source": [
    "df_wine.columns"
   ]
  },
  {
   "cell_type": "markdown",
   "id": "db8c2527",
   "metadata": {},
   "source": [
    "**EDA**"
   ]
  },
  {
   "cell_type": "code",
   "execution_count": 51,
   "id": "d078144e",
   "metadata": {},
   "outputs": [],
   "source": [
    "sns.set_style('darkgrid')\n",
    "plt.rcParams['figure.figsize']=(8,5)\n",
    "plt.rcParams['figure.facecolor']='FFFFCB'"
   ]
  },
  {
   "cell_type": "code",
   "execution_count": 52,
   "id": "cc96ffcb",
   "metadata": {
    "scrolled": true
   },
   "outputs": [
    {
     "data": {
      "text/plain": [
       "<AxesSubplot:xlabel='quality', ylabel='fixed acidity'>"
      ]
     },
     "execution_count": 52,
     "metadata": {},
     "output_type": "execute_result"
    },
    {
     "data": {
      "image/png": "[encoded data removed]",
      "text/plain": [
       "<Figure size 576x360 with 1 Axes>"
      ]
     },
     "metadata": {},
     "output_type": "display_data"
    }
   ],
   "source": [
    "sns.barplot(x='quality' , y='fixed acidity' ,data=df_wine)"
   ]
  },
  {
   "cell_type": "code",
   "execution_count": 53,
   "id": "57ff689a",
   "metadata": {},
   "outputs": [
    {
     "data": {
      "text/plain": [
       "<function matplotlib.pyplot.show(close=None, block=None)>"
      ]
     },
     "execution_count": 53,
     "metadata": {},
     "output_type": "execute_result"
    },
    {
     "data": {
      "image/png": "[encoded data removed]",
      "text/plain": [
       "<Figure size 576x360 with 1 Axes>"
      ]
     },
     "metadata": {},
     "output_type": "display_data"
    }
   ],
   "source": [
    "sns.barplot(x='quality',y='volatile acidity',data=df_wine)\n",
    "plt.show"
   ]
  },
  {
   "cell_type": "markdown",
   "id": "a62ab3d6",
   "metadata": {},
   "source": [
    "**we can see quality is increasing with decrease in volatile quality. there is \"-ve correlation\" relationship with some outliers**"
   ]
  },
  {
   "cell_type": "code",
   "execution_count": 54,
   "id": "fe892046",
   "metadata": {
    "scrolled": true
   },
   "outputs": [
    {
     "data": {
      "text/plain": [
       "<function matplotlib.pyplot.show(close=None, block=None)>"
      ]
     },
     "execution_count": 54,
     "metadata": {},
     "output_type": "execute_result"
    },
    {
     "data": {
      "image/png": "[encoded data removed]",
      "text/plain": [
       "<Figure size 576x360 with 1 Axes>"
      ]
     },
     "metadata": {},
     "output_type": "display_data"
    }
   ],
   "source": [
    "sns.barplot(x='quality',y='citric acid',data=df_wine)\n",
    "plt.show"
   ]
  },
  {
   "cell_type": "markdown",
   "id": "d06577c5",
   "metadata": {},
   "source": [
    "**In good quality wine citric content is more**"
   ]
  },
  {
   "cell_type": "code",
   "execution_count": 55,
   "id": "6efb6feb",
   "metadata": {},
   "outputs": [
    {
     "data": {
      "text/plain": [
       "<function matplotlib.pyplot.show(close=None, block=None)>"
      ]
     },
     "execution_count": 55,
     "metadata": {},
     "output_type": "execute_result"
    },
    {
     "data": {
      "image/png": "[encoded data removed]",
      "text/plain": [
       "<Figure size 576x360 with 1 Axes>"
      ]
     },
     "metadata": {},
     "output_type": "display_data"
    }
   ],
   "source": [
    "sns.barplot(x='quality',y='residual sugar',data=df_wine)\n",
    "plt.show"
   ]
  },
  {
   "cell_type": "code",
   "execution_count": 56,
   "id": "e1e5f534",
   "metadata": {},
   "outputs": [
    {
     "data": {
      "text/plain": [
       "<function matplotlib.pyplot.show(close=None, block=None)>"
      ]
     },
     "execution_count": 56,
     "metadata": {},
     "output_type": "execute_result"
    },
    {
     "data": {
      "image/png": "[encoded data removed]",
      "text/plain": [
       "<Figure size 576x360 with 1 Axes>"
      ]
     },
     "metadata": {},
     "output_type": "display_data"
    }
   ],
   "source": [
    "sns.barplot(x='quality',y='chlorides',data=df_wine)\n",
    "plt.show"
   ]
  },
  {
   "cell_type": "markdown",
   "id": "e2ae3e64",
   "metadata": {},
   "source": [
    "**In good quality wine chlorides content is less**"
   ]
  },
  {
   "cell_type": "code",
   "execution_count": 57,
   "id": "da58ba23",
   "metadata": {},
   "outputs": [
    {
     "data": {
      "text/plain": [
       "<function matplotlib.pyplot.show(close=None, block=None)>"
      ]
     },
     "execution_count": 57,
     "metadata": {},
     "output_type": "execute_result"
    },
    {
     "data": {
      "image/png": "[encoded data removed]",
      "text/plain": [
       "<Figure size 576x360 with 1 Axes>"
      ]
     },
     "metadata": {},
     "output_type": "display_data"
    }
   ],
   "source": [
    "sns.barplot(x='quality',y='free sulfur dioxide',data=df_wine)\n",
    "plt.show"
   ]
  },
  {
   "cell_type": "code",
   "execution_count": 58,
   "id": "fa0bc922",
   "metadata": {},
   "outputs": [
    {
     "data": {
      "text/plain": [
       "<function matplotlib.pyplot.show(close=None, block=None)>"
      ]
     },
     "execution_count": 58,
     "metadata": {},
     "output_type": "execute_result"
    },
    {
     "data": {
      "image/png": "[encoded data removed]",
      "text/plain": [
       "<Figure size 576x360 with 1 Axes>"
      ]
     },
     "metadata": {},
     "output_type": "display_data"
    }
   ],
   "source": [
    "sns.barplot(x='quality',y='total sulfur dioxide',data=df_wine)\n",
    "plt.show"
   ]
  },
  {
   "cell_type": "code",
   "execution_count": 59,
   "id": "507dfaab",
   "metadata": {},
   "outputs": [
    {
     "data": {
      "text/plain": [
       "<function matplotlib.pyplot.show(close=None, block=None)>"
      ]
     },
     "execution_count": 59,
     "metadata": {},
     "output_type": "execute_result"
    },
    {
     "data": {
      "image/png": "[encoded data removed]",
      "text/plain": [
       "<Figure size 576x360 with 1 Axes>"
      ]
     },
     "metadata": {},
     "output_type": "display_data"
    }
   ],
   "source": [
    "sns.barplot(x='quality',y='density',data=df_wine)\n",
    "plt.show"
   ]
  },
  {
   "cell_type": "markdown",
   "id": "e1229ef7",
   "metadata": {},
   "source": [
    "**Density has very less impact on quality.**"
   ]
  },
  {
   "cell_type": "code",
   "execution_count": 60,
   "id": "db40c414",
   "metadata": {
    "scrolled": true
   },
   "outputs": [
    {
     "data": {
      "text/plain": [
       "<function matplotlib.pyplot.show(close=None, block=None)>"
      ]
     },
     "execution_count": 60,
     "metadata": {},
     "output_type": "execute_result"
    },
    {
     "data": {
      "image/png": "[encoded data removed]",
      "text/plain": [
       "<Figure size 576x360 with 1 Axes>"
      ]
     },
     "metadata": {},
     "output_type": "display_data"
    }
   ],
   "source": [
    "sns.barplot(x='quality',y='pH',data=df_wine)\n",
    "plt.show"
   ]
  },
  {
   "cell_type": "markdown",
   "id": "8c427a6e",
   "metadata": {},
   "source": [
    "**ph range is between 3.3-3.4 ph is low for high quality wine**"
   ]
  },
  {
   "cell_type": "code",
   "execution_count": 61,
   "id": "be75326b",
   "metadata": {},
   "outputs": [
    {
     "data": {
      "text/plain": [
       "<function matplotlib.pyplot.show(close=None, block=None)>"
      ]
     },
     "execution_count": 61,
     "metadata": {},
     "output_type": "execute_result"
    },
    {
     "data": {
      "image/png": "[encoded data removed]",
      "text/plain": [
       "<Figure size 576x360 with 1 Axes>"
      ]
     },
     "metadata": {},
     "output_type": "display_data"
    }
   ],
   "source": [
    "sns.barplot(x='quality',y='sulphates',data=df_wine)\n",
    "plt.show"
   ]
  },
  {
   "cell_type": "markdown",
   "id": "ca3e9c80",
   "metadata": {},
   "source": [
    "**Sulphate content is more in high quality wine. It increases with quality .+ve corelation**"
   ]
  },
  {
   "cell_type": "code",
   "execution_count": 62,
   "id": "1d62f7c5",
   "metadata": {
    "scrolled": true
   },
   "outputs": [
    {
     "data": {
      "text/plain": [
       "<function matplotlib.pyplot.show(close=None, block=None)>"
      ]
     },
     "execution_count": 62,
     "metadata": {},
     "output_type": "execute_result"
    },
    {
     "data": {
      "image/png": "[encoded data removed]",
      "text/plain": [
       "<Figure size 576x360 with 1 Axes>"
      ]
     },
     "metadata": {},
     "output_type": "display_data"
    }
   ],
   "source": [
    "sns.barplot(x='quality',y='alcohol',data=df_wine)\n",
    "plt.show"
   ]
  },
  {
   "cell_type": "markdown",
   "id": "74f4816c",
   "metadata": {},
   "source": [
    "**Alcohol content in wine increases with Quality ,its +vely corelated**"
   ]
  },
  {
   "cell_type": "code",
   "execution_count": 63,
   "id": "9295c3e5",
   "metadata": {},
   "outputs": [
    {
     "data": {
      "text/plain": [
       "array([5, 6, 7, 4, 8, 3], dtype=int64)"
      ]
     },
     "execution_count": 63,
     "metadata": {},
     "output_type": "execute_result"
    }
   ],
   "source": [
    "# find out unique values\n",
    "df_unique=df_wine['quality'].unique()\n",
    "df_unique"
   ]
  },
  {
   "cell_type": "code",
   "execution_count": 64,
   "id": "346dc656",
   "metadata": {},
   "outputs": [
    {
     "data": {
      "text/plain": [
       "<AxesSubplot:>"
      ]
     },
     "execution_count": 64,
     "metadata": {},
     "output_type": "execute_result"
    },
    {
     "data": {
      "image/png": "[encoded data removed]",
      "text/plain": [
       "<Figure size 576x360 with 1 Axes>"
      ]
     },
     "metadata": {},
     "output_type": "display_data"
    }
   ],
   "source": [
    "df_wine['quality'].hist(grid=False)"
   ]
  },
  {
   "cell_type": "markdown",
   "id": "33ea4741",
   "metadata": {},
   "source": [
    "**we can see 5, 6 type quality wine data is more where as higher quality 7,8 is less**"
   ]
  },
  {
   "cell_type": "code",
   "execution_count": 65,
   "id": "1a8afb5f",
   "metadata": {},
   "outputs": [
    {
     "data": {
      "text/plain": [
       "5    681\n",
       "6    638\n",
       "7    199\n",
       "4     53\n",
       "8     18\n",
       "3     10\n",
       "Name: quality, dtype: int64"
      ]
     },
     "execution_count": 65,
     "metadata": {},
     "output_type": "execute_result"
    }
   ],
   "source": [
    "# finding no. of count for each quality value\n",
    "df_unique_count=df_wine['quality'].value_counts()\n",
    "df_unique_count"
   ]
  },
  {
   "cell_type": "code",
   "execution_count": 66,
   "id": "31416b32",
   "metadata": {
    "scrolled": true
   },
   "outputs": [
    {
     "data": {
      "text/plain": [
       "<AxesSubplot:ylabel='quality'>"
      ]
     },
     "execution_count": 66,
     "metadata": {},
     "output_type": "execute_result"
    },
    {
     "data": {
      "image/png": "[encoded data removed]",
      "text/plain": [
       "<Figure size 576x360 with 1 Axes>"
      ]
     },
     "metadata": {},
     "output_type": "display_data"
    }
   ],
   "source": [
    "# df_unique vs df_unique_count\n",
    "sns.barplot(x=df_unique ,y=df_unique_count ,data=df_wine)"
   ]
  },
  {
   "cell_type": "markdown",
   "id": "e0819dab",
   "metadata": {},
   "source": [
    "**+ve correlated factors with quality as in descending order are \n",
    "Alcohol,sulphates,citric acid,fixed acidity,residual sugar\n",
    "-ve correlation between\n",
    "volatile acidity,total sulfur dioxide,density,chlorides,pH**"
   ]
  },
  {
   "cell_type": "markdown",
   "id": "f17f646c",
   "metadata": {},
   "source": [
    "**feature selection**"
   ]
  },
  {
   "cell_type": "code",
   "execution_count": 67,
   "id": "74b4223b",
   "metadata": {},
   "outputs": [
    {
     "data": {
      "text/plain": [
       "pandas.core.frame.DataFrame"
      ]
     },
     "execution_count": 67,
     "metadata": {},
     "output_type": "execute_result"
    }
   ],
   "source": [
    "x=df_wine.drop('quality',axis=1)\n",
    "type(x)\n"
   ]
  },
  {
   "cell_type": "code",
   "execution_count": 68,
   "id": "6a2c863a",
   "metadata": {},
   "outputs": [
    {
     "data": {
      "text/plain": [
       "quality                 1.000000\n",
       "alcohol                 0.476166\n",
       "sulphates               0.251397\n",
       "citric acid             0.226373\n",
       "fixed acidity           0.124052\n",
       "residual sugar          0.013732\n",
       "free sulfur dioxide    -0.050656\n",
       "pH                     -0.057731\n",
       "chlorides              -0.128907\n",
       "density                -0.174919\n",
       "total sulfur dioxide   -0.185100\n",
       "volatile acidity       -0.390558\n",
       "Name: quality, dtype: float64"
      ]
     },
     "execution_count": 68,
     "metadata": {},
     "output_type": "execute_result"
    }
   ],
   "source": [
    "# corelation of each feature with quality(target) in descending order\n",
    "df_wine.corr()['quality'].sort_values(ascending=False)"
   ]
  },
  {
   "cell_type": "code",
   "execution_count": 69,
   "id": "0f15509a",
   "metadata": {},
   "outputs": [
    {
     "data": {
      "text/plain": [
       "Text(0.5, 1.0, 'Correlation with target')"
      ]
     },
     "execution_count": 69,
     "metadata": {},
     "output_type": "execute_result"
    },
    {
     "data": {
      "image/png": "[encoded data removed]",
      "text/plain": [
       "<Figure size 576x360 with 1 Axes>"
      ]
     },
     "metadata": {},
     "output_type": "display_data"
    }
   ],
   "source": [
    "df_wine.corr()['quality'].sort_values(ascending=False).drop(['quality']).plot(kind='bar')\n",
    "plt.xlabel('Features',fontsize=20)\n",
    "plt.ylabel('quality')\n",
    "plt.title('Correlation with target')"
   ]
  },
  {
   "cell_type": "markdown",
   "id": "e39731ae",
   "metadata": {},
   "source": [
    "**Transforming Data to remove skewness**"
   ]
  },
  {
   "cell_type": "code",
   "execution_count": 70,
   "id": "21e604bc",
   "metadata": {},
   "outputs": [
    {
     "data": {
      "text/plain": [
       "fixed acidity           0.982751\n",
       "volatile acidity        0.671593\n",
       "citric acid             0.318337\n",
       "residual sugar          4.540655\n",
       "chlorides               5.680347\n",
       "free sulfur dioxide     1.250567\n",
       "total sulfur dioxide    1.515531\n",
       "density                 0.071288\n",
       "pH                      0.193683\n",
       "sulphates               2.428672\n",
       "alcohol                 0.860829\n",
       "dtype: float64"
      ]
     },
     "execution_count": 70,
     "metadata": {},
     "output_type": "execute_result"
    }
   ],
   "source": [
    "x.skew()"
   ]
  },
  {
   "cell_type": "markdown",
   "id": "b5531e92",
   "metadata": {},
   "source": [
    "After considering acceptable range  of skewness is -/+0.5 .we can see skewness in residual sugar ,chlorides  ,free sulfur dioxide,total sulfur dioxid, sulphates is not acceptable ."
   ]
  },
  {
   "cell_type": "code",
   "execution_count": null,
   "id": "99608d31",
   "metadata": {},
   "outputs": [],
   "source": []
  },
  {
   "cell_type": "code",
   "execution_count": 71,
   "id": "57aa95ea",
   "metadata": {
    "scrolled": true
   },
   "outputs": [
    {
     "data": {
      "text/plain": [
       "fixed acidity           0.002529\n",
       "volatile acidity        0.003099\n",
       "citric acid             0.017788\n",
       "residual sugar         -0.015715\n",
       "chlorides              -0.151304\n",
       "free sulfur dioxide    -0.009948\n",
       "total sulfur dioxide   -0.003752\n",
       "density                -0.005054\n",
       "pH                     -0.002823\n",
       "sulphates               0.009985\n",
       "alcohol                 0.112372\n",
       "dtype: float64"
      ]
     },
     "execution_count": 71,
     "metadata": {},
     "output_type": "execute_result"
    }
   ],
   "source": [
    "## lets remove skewness (outlier removal) by using power_transform\n",
    "\n",
    "from sklearn.preprocessing import power_transform\n",
    "x_new =power_transform(x ,method='yeo-johnson')\n",
    "cols=['fixed acidity', 'volatile acidity', 'citric acid', 'residual sugar',\n",
    "       'chlorides', 'free sulfur dioxide', 'total sulfur dioxide', 'density',\n",
    "       'pH', 'sulphates', 'alcohol']\n",
    "x=pd.DataFrame(x_new ,columns=cols)\n",
    "# checking skewness after transforming data\n",
    "x.skew()"
   ]
  },
  {
   "cell_type": "markdown",
   "id": "20768c80",
   "metadata": {},
   "source": [
    "from the above output we can see there is no skewness present in data"
   ]
  },
  {
   "cell_type": "code",
   "execution_count": 72,
   "id": "47adf833",
   "metadata": {
    "scrolled": false
   },
   "outputs": [],
   "source": [
    "# converting catagorical data (3,4,5,6,7,8) into 2 catagories Good(1 >=7) / bad(0 )\n",
    "q=[]\n",
    "for i in df_wine['quality']:\n",
    "    if(i>=7):\n",
    "        q.append('1')\n",
    "    else:\n",
    "        q.append('0')\n",
    "df_wine['quality']=q\n",
    "y=df_wine['quality']"
   ]
  },
  {
   "cell_type": "code",
   "execution_count": 73,
   "id": "380d364b",
   "metadata": {
    "scrolled": true
   },
   "outputs": [
    {
     "data": {
      "text/plain": [
       "<AxesSubplot:>"
      ]
     },
     "execution_count": 73,
     "metadata": {},
     "output_type": "execute_result"
    },
    {
     "data": {
      "image/png": "[encoded data removed]",
      "text/plain": [
       "<Figure size 576x360 with 1 Axes>"
      ]
     },
     "metadata": {},
     "output_type": "display_data"
    }
   ],
   "source": [
    "\n",
    "y.hist(grid=False)"
   ]
  },
  {
   "cell_type": "markdown",
   "id": "f913b6cd",
   "metadata": {},
   "source": [
    "we can see form above graph that this is example of imbalance dataset"
   ]
  },
  {
   "cell_type": "markdown",
   "id": "a9983ff3",
   "metadata": {},
   "source": [
    "**Data Scaling**"
   ]
  },
  {
   "cell_type": "code",
   "execution_count": 112,
   "id": "1ef3cadc",
   "metadata": {},
   "outputs": [
    {
     "data": {
      "text/plain": [
       "array([[-4.42665887e-01,  9.95541630e-01, -1.53110932e+00, ...,\n",
       "         1.27568965e+00, -5.81649810e-01, -1.07502541e+00],\n",
       "       [-1.61307687e-01,  1.77129873e+00, -1.53110932e+00, ...,\n",
       "        -7.09517433e-01,  3.95139954e-01, -5.00859609e-01],\n",
       "       [-1.61307687e-01,  1.26980139e+00, -1.25535866e+00, ...,\n",
       "        -3.10054073e-01,  1.83771552e-01, -5.00859609e-01],\n",
       "       ...,\n",
       "       [-1.36436736e+00,  3.87065014e-04, -6.83293826e-01, ...,\n",
       "         7.18868617e-01,  8.20841495e-01,  7.34557526e-01],\n",
       "       [-1.76745837e+00,  7.28552770e-01, -7.43826364e-01, ...,\n",
       "         1.63859528e+00,  5.88343819e-01, -1.87998601e-02],\n",
       "       [-1.66263981e+00, -1.32045850e+00,  1.03107021e+00, ...,\n",
       "         5.29831617e-01,  2.56369273e-01,  7.34557526e-01]])"
      ]
     },
     "execution_count": 112,
     "metadata": {},
     "output_type": "execute_result"
    }
   ],
   "source": [
    "## Transforming data in same form\n",
    "from sklearn.preprocessing import StandardScaler\n",
    "scaler=StandardScaler()\n",
    "x=scaler.fit_transform(x)\n",
    "x"
   ]
  },
  {
   "cell_type": "code",
   "execution_count": 75,
   "id": "0fa2c37a",
   "metadata": {},
   "outputs": [
    {
     "data": {
      "text/plain": [
       "((1279, 11), (320, 11))"
      ]
     },
     "execution_count": 75,
     "metadata": {},
     "output_type": "execute_result"
    }
   ],
   "source": [
    "#separate dataset into train and test\n",
    "\n",
    "from sklearn.model_selection import train_test_split\n",
    "\n",
    "x_train,x_test,y_train,y_test = train_test_split(x,y,test_size=0.2, random_state=3)\n",
    "x_train.shape ,x_test.shape"
   ]
  },
  {
   "cell_type": "markdown",
   "id": "aa5451ca",
   "metadata": {},
   "source": [
    "**Finding Multicollinearity**"
   ]
  },
  {
   "cell_type": "code",
   "execution_count": 76,
   "id": "6c32c9f6",
   "metadata": {
    "scrolled": true
   },
   "outputs": [
    {
     "data": {
      "text/html": [
       "<div>\n",
       "<style scoped>\n",
       "    .dataframe tbody tr th:only-of-type {\n",
       "        vertical-align: middle;\n",
       "    }\n",
       "\n",
       "    .dataframe tbody tr th {\n",
       "        vertical-align: top;\n",
       "    }\n",
       "\n",
       "    .dataframe thead th {\n",
       "        text-align: right;\n",
       "    }\n",
       "</style>\n",
       "<table border=\"1\" class=\"dataframe\">\n",
       "  <thead>\n",
       "    <tr style=\"text-align: right;\">\n",
       "      <th></th>\n",
       "      <th>fixed acidity</th>\n",
       "      <th>volatile acidity</th>\n",
       "      <th>citric acid</th>\n",
       "      <th>residual sugar</th>\n",
       "      <th>chlorides</th>\n",
       "      <th>free sulfur dioxide</th>\n",
       "      <th>total sulfur dioxide</th>\n",
       "      <th>density</th>\n",
       "      <th>pH</th>\n",
       "      <th>sulphates</th>\n",
       "      <th>alcohol</th>\n",
       "    </tr>\n",
       "  </thead>\n",
       "  <tbody>\n",
       "    <tr>\n",
       "      <th>fixed acidity</th>\n",
       "      <td>1.000000</td>\n",
       "      <td>-0.256131</td>\n",
       "      <td>0.671703</td>\n",
       "      <td>0.114777</td>\n",
       "      <td>0.093705</td>\n",
       "      <td>-0.153794</td>\n",
       "      <td>-0.113181</td>\n",
       "      <td>0.668047</td>\n",
       "      <td>-0.682978</td>\n",
       "      <td>0.183006</td>\n",
       "      <td>-0.061668</td>\n",
       "    </tr>\n",
       "    <tr>\n",
       "      <th>volatile acidity</th>\n",
       "      <td>-0.256131</td>\n",
       "      <td>1.000000</td>\n",
       "      <td>-0.552496</td>\n",
       "      <td>0.001918</td>\n",
       "      <td>0.061298</td>\n",
       "      <td>-0.010504</td>\n",
       "      <td>0.076470</td>\n",
       "      <td>0.022026</td>\n",
       "      <td>0.234937</td>\n",
       "      <td>-0.260987</td>\n",
       "      <td>-0.202288</td>\n",
       "    </tr>\n",
       "    <tr>\n",
       "      <th>citric acid</th>\n",
       "      <td>0.671703</td>\n",
       "      <td>-0.552496</td>\n",
       "      <td>1.000000</td>\n",
       "      <td>0.143577</td>\n",
       "      <td>0.203823</td>\n",
       "      <td>-0.060978</td>\n",
       "      <td>0.035533</td>\n",
       "      <td>0.364947</td>\n",
       "      <td>-0.541904</td>\n",
       "      <td>0.312770</td>\n",
       "      <td>0.109903</td>\n",
       "    </tr>\n",
       "    <tr>\n",
       "      <th>residual sugar</th>\n",
       "      <td>0.114777</td>\n",
       "      <td>0.001918</td>\n",
       "      <td>0.143577</td>\n",
       "      <td>1.000000</td>\n",
       "      <td>0.055610</td>\n",
       "      <td>0.187049</td>\n",
       "      <td>0.203028</td>\n",
       "      <td>0.355283</td>\n",
       "      <td>-0.085652</td>\n",
       "      <td>0.005527</td>\n",
       "      <td>0.042075</td>\n",
       "    </tr>\n",
       "    <tr>\n",
       "      <th>chlorides</th>\n",
       "      <td>0.093705</td>\n",
       "      <td>0.061298</td>\n",
       "      <td>0.203823</td>\n",
       "      <td>0.055610</td>\n",
       "      <td>1.000000</td>\n",
       "      <td>0.005562</td>\n",
       "      <td>0.047400</td>\n",
       "      <td>0.200632</td>\n",
       "      <td>-0.265026</td>\n",
       "      <td>0.371260</td>\n",
       "      <td>-0.221141</td>\n",
       "    </tr>\n",
       "    <tr>\n",
       "      <th>free sulfur dioxide</th>\n",
       "      <td>-0.153794</td>\n",
       "      <td>-0.010504</td>\n",
       "      <td>-0.060978</td>\n",
       "      <td>0.187049</td>\n",
       "      <td>0.005562</td>\n",
       "      <td>1.000000</td>\n",
       "      <td>0.667666</td>\n",
       "      <td>-0.021946</td>\n",
       "      <td>0.070377</td>\n",
       "      <td>0.051658</td>\n",
       "      <td>-0.069408</td>\n",
       "    </tr>\n",
       "    <tr>\n",
       "      <th>total sulfur dioxide</th>\n",
       "      <td>-0.113181</td>\n",
       "      <td>0.076470</td>\n",
       "      <td>0.035533</td>\n",
       "      <td>0.203028</td>\n",
       "      <td>0.047400</td>\n",
       "      <td>0.667666</td>\n",
       "      <td>1.000000</td>\n",
       "      <td>0.071269</td>\n",
       "      <td>-0.066495</td>\n",
       "      <td>0.042947</td>\n",
       "      <td>-0.205654</td>\n",
       "    </tr>\n",
       "    <tr>\n",
       "      <th>density</th>\n",
       "      <td>0.668047</td>\n",
       "      <td>0.022026</td>\n",
       "      <td>0.364947</td>\n",
       "      <td>0.355283</td>\n",
       "      <td>0.200632</td>\n",
       "      <td>-0.021946</td>\n",
       "      <td>0.071269</td>\n",
       "      <td>1.000000</td>\n",
       "      <td>-0.341699</td>\n",
       "      <td>0.148506</td>\n",
       "      <td>-0.496180</td>\n",
       "    </tr>\n",
       "    <tr>\n",
       "      <th>pH</th>\n",
       "      <td>-0.682978</td>\n",
       "      <td>0.234937</td>\n",
       "      <td>-0.541904</td>\n",
       "      <td>-0.085652</td>\n",
       "      <td>-0.265026</td>\n",
       "      <td>0.070377</td>\n",
       "      <td>-0.066495</td>\n",
       "      <td>-0.341699</td>\n",
       "      <td>1.000000</td>\n",
       "      <td>-0.196648</td>\n",
       "      <td>0.205633</td>\n",
       "    </tr>\n",
       "    <tr>\n",
       "      <th>sulphates</th>\n",
       "      <td>0.183006</td>\n",
       "      <td>-0.260987</td>\n",
       "      <td>0.312770</td>\n",
       "      <td>0.005527</td>\n",
       "      <td>0.371260</td>\n",
       "      <td>0.051658</td>\n",
       "      <td>0.042947</td>\n",
       "      <td>0.148506</td>\n",
       "      <td>-0.196648</td>\n",
       "      <td>1.000000</td>\n",
       "      <td>0.093595</td>\n",
       "    </tr>\n",
       "    <tr>\n",
       "      <th>alcohol</th>\n",
       "      <td>-0.061668</td>\n",
       "      <td>-0.202288</td>\n",
       "      <td>0.109903</td>\n",
       "      <td>0.042075</td>\n",
       "      <td>-0.221141</td>\n",
       "      <td>-0.069408</td>\n",
       "      <td>-0.205654</td>\n",
       "      <td>-0.496180</td>\n",
       "      <td>0.205633</td>\n",
       "      <td>0.093595</td>\n",
       "      <td>1.000000</td>\n",
       "    </tr>\n",
       "  </tbody>\n",
       "</table>\n",
       "</div>"
      ],
      "text/plain": [
       "                      fixed acidity  volatile acidity  citric acid  \\\n",
       "fixed acidity              1.000000         -0.256131     0.671703   \n",
       "volatile acidity          -0.256131          1.000000    -0.552496   \n",
       "citric acid                0.671703         -0.552496     1.000000   \n",
       "residual sugar             0.114777          0.001918     0.143577   \n",
       "chlorides                  0.093705          0.061298     0.203823   \n",
       "free sulfur dioxide       -0.153794         -0.010504    -0.060978   \n",
       "total sulfur dioxide      -0.113181          0.076470     0.035533   \n",
       "density                    0.668047          0.022026     0.364947   \n",
       "pH                        -0.682978          0.234937    -0.541904   \n",
       "sulphates                  0.183006         -0.260987     0.312770   \n",
       "alcohol                   -0.061668         -0.202288     0.109903   \n",
       "\n",
       "                      residual sugar  chlorides  free sulfur dioxide  \\\n",
       "fixed acidity               0.114777   0.093705            -0.153794   \n",
       "volatile acidity            0.001918   0.061298            -0.010504   \n",
       "citric acid                 0.143577   0.203823            -0.060978   \n",
       "residual sugar              1.000000   0.055610             0.187049   \n",
       "chlorides                   0.055610   1.000000             0.005562   \n",
       "free sulfur dioxide         0.187049   0.005562             1.000000   \n",
       "total sulfur dioxide        0.203028   0.047400             0.667666   \n",
       "density                     0.355283   0.200632            -0.021946   \n",
       "pH                         -0.085652  -0.265026             0.070377   \n",
       "sulphates                   0.005527   0.371260             0.051658   \n",
       "alcohol                     0.042075  -0.221141            -0.069408   \n",
       "\n",
       "                      total sulfur dioxide   density        pH  sulphates  \\\n",
       "fixed acidity                    -0.113181  0.668047 -0.682978   0.183006   \n",
       "volatile acidity                  0.076470  0.022026  0.234937  -0.260987   \n",
       "citric acid                       0.035533  0.364947 -0.541904   0.312770   \n",
       "residual sugar                    0.203028  0.355283 -0.085652   0.005527   \n",
       "chlorides                         0.047400  0.200632 -0.265026   0.371260   \n",
       "free sulfur dioxide               0.667666 -0.021946  0.070377   0.051658   \n",
       "total sulfur dioxide              1.000000  0.071269 -0.066495   0.042947   \n",
       "density                           0.071269  1.000000 -0.341699   0.148506   \n",
       "pH                               -0.066495 -0.341699  1.000000  -0.196648   \n",
       "sulphates                         0.042947  0.148506 -0.196648   1.000000   \n",
       "alcohol                          -0.205654 -0.496180  0.205633   0.093595   \n",
       "\n",
       "                       alcohol  \n",
       "fixed acidity        -0.061668  \n",
       "volatile acidity     -0.202288  \n",
       "citric acid           0.109903  \n",
       "residual sugar        0.042075  \n",
       "chlorides            -0.221141  \n",
       "free sulfur dioxide  -0.069408  \n",
       "total sulfur dioxide -0.205654  \n",
       "density              -0.496180  \n",
       "pH                    0.205633  \n",
       "sulphates             0.093595  \n",
       "alcohol               1.000000  "
      ]
     },
     "execution_count": 76,
     "metadata": {},
     "output_type": "execute_result"
    }
   ],
   "source": [
    "## correlation metrics\n",
    "df_wine.corr() "
   ]
  },
  {
   "cell_type": "code",
   "execution_count": 77,
   "id": "9c94a1ee",
   "metadata": {},
   "outputs": [
    {
     "data": {
      "text/plain": [
       "<AxesSubplot:>"
      ]
     },
     "execution_count": 77,
     "metadata": {},
     "output_type": "execute_result"
    },
    {
     "data": {
      "image/png": "[encoded data removed]",
      "text/plain": [
       "<Figure size 864x720 with 2 Axes>"
      ]
     },
     "metadata": {},
     "output_type": "display_data"
    }
   ],
   "source": [
    "# using pearson correlation\n",
    "plt.figure(figsize=(12,10))\n",
    "cor=df_wine.corr()\n",
    "sns.heatmap(cor ,annot=True )"
   ]
  },
  {
   "cell_type": "code",
   "execution_count": 78,
   "id": "6736f4ea",
   "metadata": {},
   "outputs": [],
   "source": [
    "# function to select for highly correlated features. \n",
    "#will remove first feature which is highly correlared with any other feature\n",
    "\n",
    "def correlation(dataset , threshold):\n",
    "    col_corr =set() # set of all names of correlated features we have taken st from preventing duplicate entries of columns\n",
    "    corr_matrix = dataset.corr()\n",
    "    for i in range(len(corr_matrix.columns)):\n",
    "        for j in range(i):\n",
    "            # here will not use abs() function\n",
    "            if(corr_matrix.iloc[i,j]> threshold):\n",
    "                col_name=corr_matrix.columns[i]\n",
    "                col_corr.add(col_name)\n",
    "    return col_corr"
   ]
  },
  {
   "cell_type": "code",
   "execution_count": 83,
   "id": "ae08887a",
   "metadata": {
    "scrolled": true
   },
   "outputs": [
    {
     "data": {
      "text/plain": [
       "2"
      ]
     },
     "execution_count": 83,
     "metadata": {},
     "output_type": "execute_result"
    }
   ],
   "source": [
    "cols=['fixed acidity', 'volatile acidity', 'citric acid', 'residual sugar',\n",
    "       'chlorides', 'free sulfur dioxide', 'total sulfur dioxide', 'density',\n",
    "       'pH', 'sulphates', 'alcohol']\n",
    "x_cor=pd.DataFrame(x ,columns=cols)\n",
    "\n",
    "cor_features=correlation(x_cor ,0.66)\n",
    "len(cor_features)"
   ]
  },
  {
   "cell_type": "code",
   "execution_count": 84,
   "id": "b64b073c",
   "metadata": {},
   "outputs": [
    {
     "data": {
      "text/plain": [
       "{'density', 'total sulfur dioxide'}"
      ]
     },
     "execution_count": 84,
     "metadata": {},
     "output_type": "execute_result"
    }
   ],
   "source": [
    "cor_features"
   ]
  },
  {
   "cell_type": "markdown",
   "id": "3db03605",
   "metadata": {},
   "source": [
    "**Dealing Multicollinearity**"
   ]
  },
  {
   "cell_type": "code",
   "execution_count": null,
   "id": "db6f70d4",
   "metadata": {},
   "outputs": [],
   "source": [
    "x.columns"
   ]
  },
  {
   "cell_type": "code",
   "execution_count": null,
   "id": "b21456e5",
   "metadata": {},
   "outputs": [],
   "source": [
    "from statsmodels.stats.outliers_influence import variance_inflation_factor\n",
    "  \n",
    "# the independent variables set\n",
    "  \n",
    "# VIF dataframe\n",
    "vif_data = pd.DataFrame()\n",
    "vif_data[\"feature\"] = x.columns\n",
    "vif=[]\n",
    "\n",
    "for i in range(len(x.columns)):\n",
    "    vif.append(variance_inflation_factor(x.values ,i))\n",
    "vif_data[\"VIF\"]=vif    \n",
    "    \n",
    "print(vif_data)\n"
   ]
  },
  {
   "cell_type": "markdown",
   "id": "bc422c81",
   "metadata": {},
   "source": [
    "**so will drop the features which have VIF>5 ,here we can see fixed acidity  6.498474 and density  5.968698 will drop them**"
   ]
  },
  {
   "cell_type": "code",
   "execution_count": null,
   "id": "fc0dd1dc",
   "metadata": {},
   "outputs": [],
   "source": [
    "x_new=x.drop(['density' ,'fixed acidity'],axis=1)\n",
    "\n"
   ]
  },
  {
   "cell_type": "code",
   "execution_count": 86,
   "id": "1da8b04e",
   "metadata": {},
   "outputs": [
    {
     "data": {
      "text/html": [
       "<div>\n",
       "<style scoped>\n",
       "    .dataframe tbody tr th:only-of-type {\n",
       "        vertical-align: middle;\n",
       "    }\n",
       "\n",
       "    .dataframe tbody tr th {\n",
       "        vertical-align: top;\n",
       "    }\n",
       "\n",
       "    .dataframe thead th {\n",
       "        text-align: right;\n",
       "    }\n",
       "</style>\n",
       "<table border=\"1\" class=\"dataframe\">\n",
       "  <thead>\n",
       "    <tr style=\"text-align: right;\">\n",
       "      <th></th>\n",
       "      <th>fixed acidity</th>\n",
       "      <th>volatile acidity</th>\n",
       "      <th>citric acid</th>\n",
       "      <th>residual sugar</th>\n",
       "      <th>chlorides</th>\n",
       "      <th>free sulfur dioxide</th>\n",
       "      <th>total sulfur dioxide</th>\n",
       "      <th>density</th>\n",
       "      <th>pH</th>\n",
       "      <th>sulphates</th>\n",
       "      <th>alcohol</th>\n",
       "    </tr>\n",
       "  </thead>\n",
       "  <tbody>\n",
       "    <tr>\n",
       "      <th>0</th>\n",
       "      <td>-0.442666</td>\n",
       "      <td>0.995542</td>\n",
       "      <td>-1.531109</td>\n",
       "      <td>-0.597145</td>\n",
       "      <td>-0.172896</td>\n",
       "      <td>-0.268045</td>\n",
       "      <td>-0.124411</td>\n",
       "      <td>0.564442</td>\n",
       "      <td>1.275690</td>\n",
       "      <td>-0.581650</td>\n",
       "      <td>-1.075025</td>\n",
       "    </tr>\n",
       "    <tr>\n",
       "      <th>1</th>\n",
       "      <td>-0.161308</td>\n",
       "      <td>1.771299</td>\n",
       "      <td>-1.531109</td>\n",
       "      <td>0.556565</td>\n",
       "      <td>0.786204</td>\n",
       "      <td>0.993852</td>\n",
       "      <td>0.854954</td>\n",
       "      <td>0.036967</td>\n",
       "      <td>-0.709517</td>\n",
       "      <td>0.395140</td>\n",
       "      <td>-0.500860</td>\n",
       "    </tr>\n",
       "    <tr>\n",
       "      <th>2</th>\n",
       "      <td>-0.161308</td>\n",
       "      <td>1.269801</td>\n",
       "      <td>-1.255359</td>\n",
       "      <td>0.152372</td>\n",
       "      <td>0.560696</td>\n",
       "      <td>0.193450</td>\n",
       "      <td>0.540394</td>\n",
       "      <td>0.142851</td>\n",
       "      <td>-0.310054</td>\n",
       "      <td>0.183772</td>\n",
       "      <td>-0.500860</td>\n",
       "    </tr>\n",
       "    <tr>\n",
       "      <th>3</th>\n",
       "      <td>1.522582</td>\n",
       "      <td>-1.550050</td>\n",
       "      <td>1.398471</td>\n",
       "      <td>-0.597145</td>\n",
       "      <td>-0.226113</td>\n",
       "      <td>0.385115</td>\n",
       "      <td>0.693699</td>\n",
       "      <td>0.669354</td>\n",
       "      <td>-0.980154</td>\n",
       "      <td>-0.392318</td>\n",
       "      <td>-0.500860</td>\n",
       "    </tr>\n",
       "    <tr>\n",
       "      <th>4</th>\n",
       "      <td>-0.442666</td>\n",
       "      <td>0.995542</td>\n",
       "      <td>-1.531109</td>\n",
       "      <td>-0.597145</td>\n",
       "      <td>-0.172896</td>\n",
       "      <td>-0.268045</td>\n",
       "      <td>-0.124411</td>\n",
       "      <td>0.564442</td>\n",
       "      <td>1.275690</td>\n",
       "      <td>-0.581650</td>\n",
       "      <td>-1.075025</td>\n",
       "    </tr>\n",
       "    <tr>\n",
       "      <th>...</th>\n",
       "      <td>...</td>\n",
       "      <td>...</td>\n",
       "      <td>...</td>\n",
       "      <td>...</td>\n",
       "      <td>...</td>\n",
       "      <td>...</td>\n",
       "      <td>...</td>\n",
       "      <td>...</td>\n",
       "      <td>...</td>\n",
       "      <td>...</td>\n",
       "      <td>...</td>\n",
       "    </tr>\n",
       "    <tr>\n",
       "      <th>1594</th>\n",
       "      <td>-1.461202</td>\n",
       "      <td>0.497996</td>\n",
       "      <td>-0.993315</td>\n",
       "      <td>-0.380998</td>\n",
       "      <td>0.480036</td>\n",
       "      <td>1.397043</td>\n",
       "      <td>0.244351</td>\n",
       "      <td>-0.978746</td>\n",
       "      <td>0.906172</td>\n",
       "      <td>-0.392318</td>\n",
       "      <td>0.292864</td>\n",
       "    </tr>\n",
       "    <tr>\n",
       "      <th>1595</th>\n",
       "      <td>-1.767458</td>\n",
       "      <td>0.227895</td>\n",
       "      <td>-0.867068</td>\n",
       "      <td>-0.008632</td>\n",
       "      <td>-1.013159</td>\n",
       "      <td>1.727353</td>\n",
       "      <td>0.457504</td>\n",
       "      <td>-0.860223</td>\n",
       "      <td>1.336627</td>\n",
       "      <td>0.874884</td>\n",
       "      <td>0.888124</td>\n",
       "    </tr>\n",
       "    <tr>\n",
       "      <th>1596</th>\n",
       "      <td>-1.364367</td>\n",
       "      <td>0.000387</td>\n",
       "      <td>-0.683294</td>\n",
       "      <td>0.152372</td>\n",
       "      <td>-0.172896</td>\n",
       "      <td>1.235044</td>\n",
       "      <td>0.107498</td>\n",
       "      <td>-0.527497</td>\n",
       "      <td>0.718869</td>\n",
       "      <td>0.820841</td>\n",
       "      <td>0.734558</td>\n",
       "    </tr>\n",
       "    <tr>\n",
       "      <th>1597</th>\n",
       "      <td>-1.767458</td>\n",
       "      <td>0.728553</td>\n",
       "      <td>-0.743826</td>\n",
       "      <td>-0.380998</td>\n",
       "      <td>-0.226113</td>\n",
       "      <td>1.397043</td>\n",
       "      <td>0.244351</td>\n",
       "      <td>-0.672160</td>\n",
       "      <td>1.638595</td>\n",
       "      <td>0.588344</td>\n",
       "      <td>-0.018800</td>\n",
       "    </tr>\n",
       "    <tr>\n",
       "      <th>1598</th>\n",
       "      <td>-1.662640</td>\n",
       "      <td>-1.320459</td>\n",
       "      <td>1.031070</td>\n",
       "      <td>1.375435</td>\n",
       "      <td>-0.688299</td>\n",
       "      <td>0.473632</td>\n",
       "      <td>0.177479</td>\n",
       "      <td>-0.661432</td>\n",
       "      <td>0.529832</td>\n",
       "      <td>0.256369</td>\n",
       "      <td>0.734558</td>\n",
       "    </tr>\n",
       "  </tbody>\n",
       "</table>\n",
       "<p>1599 rows × 11 columns</p>\n",
       "</div>"
      ],
      "text/plain": [
       "      fixed acidity  volatile acidity  citric acid  residual sugar  chlorides  \\\n",
       "0         -0.442666          0.995542    -1.531109       -0.597145  -0.172896   \n",
       "1         -0.161308          1.771299    -1.531109        0.556565   0.786204   \n",
       "2         -0.161308          1.269801    -1.255359        0.152372   0.560696   \n",
       "3          1.522582         -1.550050     1.398471       -0.597145  -0.226113   \n",
       "4         -0.442666          0.995542    -1.531109       -0.597145  -0.172896   \n",
       "...             ...               ...          ...             ...        ...   \n",
       "1594      -1.461202          0.497996    -0.993315       -0.380998   0.480036   \n",
       "1595      -1.767458          0.227895    -0.867068       -0.008632  -1.013159   \n",
       "1596      -1.364367          0.000387    -0.683294        0.152372  -0.172896   \n",
       "1597      -1.767458          0.728553    -0.743826       -0.380998  -0.226113   \n",
       "1598      -1.662640         -1.320459     1.031070        1.375435  -0.688299   \n",
       "\n",
       "      free sulfur dioxide  total sulfur dioxide   density        pH  \\\n",
       "0               -0.268045             -0.124411  0.564442  1.275690   \n",
       "1                0.993852              0.854954  0.036967 -0.709517   \n",
       "2                0.193450              0.540394  0.142851 -0.310054   \n",
       "3                0.385115              0.693699  0.669354 -0.980154   \n",
       "4               -0.268045             -0.124411  0.564442  1.275690   \n",
       "...                   ...                   ...       ...       ...   \n",
       "1594             1.397043              0.244351 -0.978746  0.906172   \n",
       "1595             1.727353              0.457504 -0.860223  1.336627   \n",
       "1596             1.235044              0.107498 -0.527497  0.718869   \n",
       "1597             1.397043              0.244351 -0.672160  1.638595   \n",
       "1598             0.473632              0.177479 -0.661432  0.529832   \n",
       "\n",
       "      sulphates   alcohol  \n",
       "0     -0.581650 -1.075025  \n",
       "1      0.395140 -0.500860  \n",
       "2      0.183772 -0.500860  \n",
       "3     -0.392318 -0.500860  \n",
       "4     -0.581650 -1.075025  \n",
       "...         ...       ...  \n",
       "1594  -0.392318  0.292864  \n",
       "1595   0.874884  0.888124  \n",
       "1596   0.820841  0.734558  \n",
       "1597   0.588344 -0.018800  \n",
       "1598   0.256369  0.734558  \n",
       "\n",
       "[1599 rows x 11 columns]"
      ]
     },
     "execution_count": 86,
     "metadata": {},
     "output_type": "execute_result"
    }
   ],
   "source": [
    "x=pd.DataFrame(x_new , columns=cols )\n",
    "x"
   ]
  },
  {
   "cell_type": "markdown",
   "id": "d5c951df",
   "metadata": {},
   "source": [
    "**Outliers finding and data cleaning**"
   ]
  },
  {
   "cell_type": "code",
   "execution_count": 87,
   "id": "dc2f5081",
   "metadata": {},
   "outputs": [
    {
     "data": {
      "text/plain": [
       "<AxesSubplot:>"
      ]
     },
     "execution_count": 87,
     "metadata": {},
     "output_type": "execute_result"
    },
    {
     "data": {
      "image/png": "[encoded data removed]",
      "text/plain": [
       "<Figure size 1440x576 with 1 Axes>"
      ]
     },
     "metadata": {},
     "output_type": "display_data"
    }
   ],
   "source": [
    "x.boxplot(figsize=(20,8))"
   ]
  },
  {
   "cell_type": "raw",
   "id": "b71971e7",
   "metadata": {},
   "source": [
    "we can see outliers are present in\n",
    "['fixed acidity', 'volatile acidity','residual sugar',\n",
    "       'chlorides', 'total sulfur dioxide', 'density',\n",
    "       'pH', 'sulphates']"
   ]
  },
  {
   "cell_type": "markdown",
   "id": "cee580b9",
   "metadata": {},
   "source": [
    "**IQR Zscore method to deal with Outliers**"
   ]
  },
  {
   "cell_type": "code",
   "execution_count": 88,
   "id": "7491cfa7",
   "metadata": {},
   "outputs": [
    {
     "data": {
      "text/plain": [
       "(1599, 11)"
      ]
     },
     "execution_count": 88,
     "metadata": {},
     "output_type": "execute_result"
    }
   ],
   "source": [
    "from scipy.stats import zscore\n",
    "import numpy as np\n",
    "z=np.abs(zscore(x))\n",
    "z.shape"
   ]
  },
  {
   "cell_type": "code",
   "execution_count": 96,
   "id": "7b39aa50",
   "metadata": {
    "scrolled": true
   },
   "outputs": [
    {
     "name": "stdout",
     "output_type": "stream",
     "text": [
      "Indexes at which Outliers are present.\n",
      "(array([   7,   45,   45,   95,   95,  126,  127,  151,  170,  198,  354,\n",
      "        442,  469,  480,  517,  544,  544,  554,  555,  557,  608,  614,\n",
      "        695,  695,  797,  836,  836,  837,  837,  889,  909,  914, 1017,\n",
      "       1017, 1018, 1018, 1081, 1114, 1269, 1270, 1287, 1299, 1316, 1316,\n",
      "       1321, 1321, 1369, 1374, 1434, 1435, 1571], dtype=int64), array([ 3,  0,  8,  0,  8,  1,  1,  8,  9,  3,  7,  7,  3,  7, 10,  8, 10,\n",
      "        7,  7,  7,  7,  8,  4,  8,  4,  4,  7,  4,  7,  7,  3,  3,  3,  7,\n",
      "        3,  7,  6,  7,  7,  7,  9,  1,  3,  8,  3,  8,  9,  3,  7,  7,  4],\n",
      "      dtype=int64))\n"
     ]
    }
   ],
   "source": [
    "threshold=3\n",
    "#print index no\n",
    "print(\"Indexes at which Outliers are present.\")\n",
    "print(np.where(z>3))\n"
   ]
  },
  {
   "cell_type": "code",
   "execution_count": 97,
   "id": "a02b476d",
   "metadata": {},
   "outputs": [
    {
     "data": {
      "text/plain": [
       "51"
      ]
     },
     "execution_count": 97,
     "metadata": {},
     "output_type": "execute_result"
    }
   ],
   "source": [
    "len(np.where(z>3)[0])"
   ]
  },
  {
   "cell_type": "code",
   "execution_count": 106,
   "id": "435a30b9",
   "metadata": {},
   "outputs": [
    {
     "data": {
      "text/plain": [
       "3.1894934333958673"
      ]
     },
     "execution_count": 106,
     "metadata": {},
     "output_type": "execute_result"
    }
   ],
   "source": [
    "loss =100-data preserved\n",
    "loss =100-(1599-51)/1599*100\n",
    "loss"
   ]
  },
  {
   "cell_type": "markdown",
   "id": "90a01ab1",
   "metadata": {},
   "source": [
    "since data loss is very less will drop the outliers"
   ]
  },
  {
   "cell_type": "code",
   "execution_count": 110,
   "id": "127a1457",
   "metadata": {},
   "outputs": [],
   "source": [
    "x_new=x.drop([   7,   45,   45,   95,   95,  126,  127,  151,  170,  198,  354,\n",
    "        442,  469,  480,  517,  544,  544,  554,  555,  557,  608,  614,\n",
    "        695,  695,  797,  836,  836,  837,  837,  889,  909,  914, 1017,\n",
    "       1017, 1018, 1018, 1081, 1114, 1269, 1270, 1287, 1299, 1316, 1316,\n",
    "       1321, 1321, 1369, 1374, 1434, 1435, 1571],axis=0)"
   ]
  },
  {
   "cell_type": "code",
   "execution_count": 111,
   "id": "e194855b",
   "metadata": {},
   "outputs": [
    {
     "data": {
      "text/html": [
       "<div>\n",
       "<style scoped>\n",
       "    .dataframe tbody tr th:only-of-type {\n",
       "        vertical-align: middle;\n",
       "    }\n",
       "\n",
       "    .dataframe tbody tr th {\n",
       "        vertical-align: top;\n",
       "    }\n",
       "\n",
       "    .dataframe thead th {\n",
       "        text-align: right;\n",
       "    }\n",
       "</style>\n",
       "<table border=\"1\" class=\"dataframe\">\n",
       "  <thead>\n",
       "    <tr style=\"text-align: right;\">\n",
       "      <th></th>\n",
       "      <th>fixed acidity</th>\n",
       "      <th>volatile acidity</th>\n",
       "      <th>citric acid</th>\n",
       "      <th>residual sugar</th>\n",
       "      <th>chlorides</th>\n",
       "      <th>free sulfur dioxide</th>\n",
       "      <th>total sulfur dioxide</th>\n",
       "      <th>density</th>\n",
       "      <th>pH</th>\n",
       "      <th>sulphates</th>\n",
       "      <th>alcohol</th>\n",
       "    </tr>\n",
       "  </thead>\n",
       "  <tbody>\n",
       "    <tr>\n",
       "      <th>0</th>\n",
       "      <td>-0.442666</td>\n",
       "      <td>0.995542</td>\n",
       "      <td>-1.531109</td>\n",
       "      <td>-0.597145</td>\n",
       "      <td>-0.172896</td>\n",
       "      <td>-0.268045</td>\n",
       "      <td>-0.124411</td>\n",
       "      <td>0.564442</td>\n",
       "      <td>1.275690</td>\n",
       "      <td>-0.581650</td>\n",
       "      <td>-1.075025</td>\n",
       "    </tr>\n",
       "    <tr>\n",
       "      <th>1</th>\n",
       "      <td>-0.161308</td>\n",
       "      <td>1.771299</td>\n",
       "      <td>-1.531109</td>\n",
       "      <td>0.556565</td>\n",
       "      <td>0.786204</td>\n",
       "      <td>0.993852</td>\n",
       "      <td>0.854954</td>\n",
       "      <td>0.036967</td>\n",
       "      <td>-0.709517</td>\n",
       "      <td>0.395140</td>\n",
       "      <td>-0.500860</td>\n",
       "    </tr>\n",
       "    <tr>\n",
       "      <th>2</th>\n",
       "      <td>-0.161308</td>\n",
       "      <td>1.269801</td>\n",
       "      <td>-1.255359</td>\n",
       "      <td>0.152372</td>\n",
       "      <td>0.560696</td>\n",
       "      <td>0.193450</td>\n",
       "      <td>0.540394</td>\n",
       "      <td>0.142851</td>\n",
       "      <td>-0.310054</td>\n",
       "      <td>0.183772</td>\n",
       "      <td>-0.500860</td>\n",
       "    </tr>\n",
       "    <tr>\n",
       "      <th>3</th>\n",
       "      <td>1.522582</td>\n",
       "      <td>-1.550050</td>\n",
       "      <td>1.398471</td>\n",
       "      <td>-0.597145</td>\n",
       "      <td>-0.226113</td>\n",
       "      <td>0.385115</td>\n",
       "      <td>0.693699</td>\n",
       "      <td>0.669354</td>\n",
       "      <td>-0.980154</td>\n",
       "      <td>-0.392318</td>\n",
       "      <td>-0.500860</td>\n",
       "    </tr>\n",
       "    <tr>\n",
       "      <th>4</th>\n",
       "      <td>-0.442666</td>\n",
       "      <td>0.995542</td>\n",
       "      <td>-1.531109</td>\n",
       "      <td>-0.597145</td>\n",
       "      <td>-0.172896</td>\n",
       "      <td>-0.268045</td>\n",
       "      <td>-0.124411</td>\n",
       "      <td>0.564442</td>\n",
       "      <td>1.275690</td>\n",
       "      <td>-0.581650</td>\n",
       "      <td>-1.075025</td>\n",
       "    </tr>\n",
       "    <tr>\n",
       "      <th>...</th>\n",
       "      <td>...</td>\n",
       "      <td>...</td>\n",
       "      <td>...</td>\n",
       "      <td>...</td>\n",
       "      <td>...</td>\n",
       "      <td>...</td>\n",
       "      <td>...</td>\n",
       "      <td>...</td>\n",
       "      <td>...</td>\n",
       "      <td>...</td>\n",
       "      <td>...</td>\n",
       "    </tr>\n",
       "    <tr>\n",
       "      <th>1594</th>\n",
       "      <td>-1.461202</td>\n",
       "      <td>0.497996</td>\n",
       "      <td>-0.993315</td>\n",
       "      <td>-0.380998</td>\n",
       "      <td>0.480036</td>\n",
       "      <td>1.397043</td>\n",
       "      <td>0.244351</td>\n",
       "      <td>-0.978746</td>\n",
       "      <td>0.906172</td>\n",
       "      <td>-0.392318</td>\n",
       "      <td>0.292864</td>\n",
       "    </tr>\n",
       "    <tr>\n",
       "      <th>1595</th>\n",
       "      <td>-1.767458</td>\n",
       "      <td>0.227895</td>\n",
       "      <td>-0.867068</td>\n",
       "      <td>-0.008632</td>\n",
       "      <td>-1.013159</td>\n",
       "      <td>1.727353</td>\n",
       "      <td>0.457504</td>\n",
       "      <td>-0.860223</td>\n",
       "      <td>1.336627</td>\n",
       "      <td>0.874884</td>\n",
       "      <td>0.888124</td>\n",
       "    </tr>\n",
       "    <tr>\n",
       "      <th>1596</th>\n",
       "      <td>-1.364367</td>\n",
       "      <td>0.000387</td>\n",
       "      <td>-0.683294</td>\n",
       "      <td>0.152372</td>\n",
       "      <td>-0.172896</td>\n",
       "      <td>1.235044</td>\n",
       "      <td>0.107498</td>\n",
       "      <td>-0.527497</td>\n",
       "      <td>0.718869</td>\n",
       "      <td>0.820841</td>\n",
       "      <td>0.734558</td>\n",
       "    </tr>\n",
       "    <tr>\n",
       "      <th>1597</th>\n",
       "      <td>-1.767458</td>\n",
       "      <td>0.728553</td>\n",
       "      <td>-0.743826</td>\n",
       "      <td>-0.380998</td>\n",
       "      <td>-0.226113</td>\n",
       "      <td>1.397043</td>\n",
       "      <td>0.244351</td>\n",
       "      <td>-0.672160</td>\n",
       "      <td>1.638595</td>\n",
       "      <td>0.588344</td>\n",
       "      <td>-0.018800</td>\n",
       "    </tr>\n",
       "    <tr>\n",
       "      <th>1598</th>\n",
       "      <td>-1.662640</td>\n",
       "      <td>-1.320459</td>\n",
       "      <td>1.031070</td>\n",
       "      <td>1.375435</td>\n",
       "      <td>-0.688299</td>\n",
       "      <td>0.473632</td>\n",
       "      <td>0.177479</td>\n",
       "      <td>-0.661432</td>\n",
       "      <td>0.529832</td>\n",
       "      <td>0.256369</td>\n",
       "      <td>0.734558</td>\n",
       "    </tr>\n",
       "  </tbody>\n",
       "</table>\n",
       "<p>1558 rows × 11 columns</p>\n",
       "</div>"
      ],
      "text/plain": [
       "      fixed acidity  volatile acidity  citric acid  residual sugar  chlorides  \\\n",
       "0         -0.442666          0.995542    -1.531109       -0.597145  -0.172896   \n",
       "1         -0.161308          1.771299    -1.531109        0.556565   0.786204   \n",
       "2         -0.161308          1.269801    -1.255359        0.152372   0.560696   \n",
       "3          1.522582         -1.550050     1.398471       -0.597145  -0.226113   \n",
       "4         -0.442666          0.995542    -1.531109       -0.597145  -0.172896   \n",
       "...             ...               ...          ...             ...        ...   \n",
       "1594      -1.461202          0.497996    -0.993315       -0.380998   0.480036   \n",
       "1595      -1.767458          0.227895    -0.867068       -0.008632  -1.013159   \n",
       "1596      -1.364367          0.000387    -0.683294        0.152372  -0.172896   \n",
       "1597      -1.767458          0.728553    -0.743826       -0.380998  -0.226113   \n",
       "1598      -1.662640         -1.320459     1.031070        1.375435  -0.688299   \n",
       "\n",
       "      free sulfur dioxide  total sulfur dioxide   density        pH  \\\n",
       "0               -0.268045             -0.124411  0.564442  1.275690   \n",
       "1                0.993852              0.854954  0.036967 -0.709517   \n",
       "2                0.193450              0.540394  0.142851 -0.310054   \n",
       "3                0.385115              0.693699  0.669354 -0.980154   \n",
       "4               -0.268045             -0.124411  0.564442  1.275690   \n",
       "...                   ...                   ...       ...       ...   \n",
       "1594             1.397043              0.244351 -0.978746  0.906172   \n",
       "1595             1.727353              0.457504 -0.860223  1.336627   \n",
       "1596             1.235044              0.107498 -0.527497  0.718869   \n",
       "1597             1.397043              0.244351 -0.672160  1.638595   \n",
       "1598             0.473632              0.177479 -0.661432  0.529832   \n",
       "\n",
       "      sulphates   alcohol  \n",
       "0     -0.581650 -1.075025  \n",
       "1      0.395140 -0.500860  \n",
       "2      0.183772 -0.500860  \n",
       "3     -0.392318 -0.500860  \n",
       "4     -0.581650 -1.075025  \n",
       "...         ...       ...  \n",
       "1594  -0.392318  0.292864  \n",
       "1595   0.874884  0.888124  \n",
       "1596   0.820841  0.734558  \n",
       "1597   0.588344 -0.018800  \n",
       "1598   0.256369  0.734558  \n",
       "\n",
       "[1558 rows x 11 columns]"
      ]
     },
     "execution_count": 111,
     "metadata": {},
     "output_type": "execute_result"
    }
   ],
   "source": [
    "x_new"
   ]
  },
  {
   "cell_type": "markdown",
   "id": "5514f55d",
   "metadata": {},
   "source": [
    "#### Since the 'quality' variable has only 2 variables we will use binary classification algorithm"
   ]
  },
  {
   "cell_type": "code",
   "execution_count": 150,
   "id": "5f78140c",
   "metadata": {},
   "outputs": [],
   "source": [
    "from sklearn.linear_model import LogisticRegression\n",
    "from sklearn.metrics import accuracy_score ,classification_report,confusion_matrix\n",
    "lr=LogisticRegression()"
   ]
  },
  {
   "cell_type": "markdown",
   "id": "896406b3",
   "metadata": {},
   "source": [
    "\n",
    "**will try to find out best value Random State** "
   ]
  },
  {
   "cell_type": "code",
   "execution_count": 121,
   "id": "e4d159a5",
   "metadata": {},
   "outputs": [
    {
     "name": "stdout",
     "output_type": "stream",
     "text": [
      "At random state  96 model performs very well\n",
      "Random state value is : 96\n",
      "Training accuracy score is : 88.4\n",
      "Testing accuracy score is : 88.4 \n",
      "\n",
      "\n",
      "At random state  97 model performs very well\n",
      "Random state value is : 97\n",
      "Training accuracy score is : 88.4\n",
      "Testing accuracy score is : 88.4 \n",
      "\n",
      "\n",
      "At random state  99 model performs very well\n",
      "Random state value is : 99\n",
      "Training accuracy score is : 88.4\n",
      "Testing accuracy score is : 88.4 \n",
      "\n",
      "\n",
      "At random state  134 model performs very well\n",
      "Random state value is : 134\n",
      "Training accuracy score is : 88.4\n",
      "Testing accuracy score is : 88.4 \n",
      "\n",
      "\n",
      "At random state  188 model performs very well\n",
      "Random state value is : 188\n",
      "Training accuracy score is : 88.4\n",
      "Testing accuracy score is : 88.4 \n",
      "\n",
      "\n",
      "At random state  231 model performs very well\n",
      "Random state value is : 231\n",
      "Training accuracy score is : 88.4\n",
      "Testing accuracy score is : 88.4 \n",
      "\n",
      "\n",
      "At random state  239 model performs very well\n",
      "Random state value is : 239\n",
      "Training accuracy score is : 88.1\n",
      "Testing accuracy score is : 88.1 \n",
      "\n",
      "\n",
      "At random state  240 model performs very well\n",
      "Random state value is : 240\n",
      "Training accuracy score is : 88.4\n",
      "Testing accuracy score is : 88.4 \n",
      "\n",
      "\n",
      "At random state  243 model performs very well\n",
      "Random state value is : 243\n",
      "Training accuracy score is : 88.4\n",
      "Testing accuracy score is : 88.4 \n",
      "\n",
      "\n",
      "At random state  298 model performs very well\n",
      "Random state value is : 298\n",
      "Training accuracy score is : 88.4\n",
      "Testing accuracy score is : 88.4 \n",
      "\n",
      "\n",
      "At random state  380 model performs very well\n",
      "Random state value is : 380\n",
      "Training accuracy score is : 88.4\n",
      "Testing accuracy score is : 88.4 \n",
      "\n",
      "\n",
      "At random state  425 model performs very well\n",
      "Random state value is : 425\n",
      "Training accuracy score is : 88.1\n",
      "Testing accuracy score is : 88.1 \n",
      "\n",
      "\n",
      "At random state  437 model performs very well\n",
      "Random state value is : 437\n",
      "Training accuracy score is : 88.1\n",
      "Testing accuracy score is : 88.1 \n",
      "\n",
      "\n",
      "At random state  548 model performs very well\n",
      "Random state value is : 548\n",
      "Training accuracy score is : 88.4\n",
      "Testing accuracy score is : 88.4 \n",
      "\n",
      "\n",
      "At random state  654 model performs very well\n",
      "Random state value is : 654\n",
      "Training accuracy score is : 88.4\n",
      "Testing accuracy score is : 88.4 \n",
      "\n",
      "\n",
      "At random state  655 model performs very well\n",
      "Random state value is : 655\n",
      "Training accuracy score is : 88.1\n",
      "Testing accuracy score is : 88.1 \n",
      "\n",
      "\n",
      "At random state  675 model performs very well\n",
      "Random state value is : 675\n",
      "Training accuracy score is : 88.4\n",
      "Testing accuracy score is : 88.4 \n",
      "\n",
      "\n",
      "At random state  712 model performs very well\n",
      "Random state value is : 712\n",
      "Training accuracy score is : 88.4\n",
      "Testing accuracy score is : 88.4 \n",
      "\n",
      "\n",
      "At random state  785 model performs very well\n",
      "Random state value is : 785\n",
      "Training accuracy score is : 88.1\n",
      "Testing accuracy score is : 88.1 \n",
      "\n",
      "\n",
      "At random state  791 model performs very well\n",
      "Random state value is : 791\n",
      "Training accuracy score is : 88.1\n",
      "Testing accuracy score is : 88.1 \n",
      "\n",
      "\n",
      "At random state  844 model performs very well\n",
      "Random state value is : 844\n",
      "Training accuracy score is : 88.1\n",
      "Testing accuracy score is : 88.1 \n",
      "\n",
      "\n",
      "At random state  846 model performs very well\n",
      "Random state value is : 846\n",
      "Training accuracy score is : 88.1\n",
      "Testing accuracy score is : 88.1 \n",
      "\n",
      "\n",
      "At random state  907 model performs very well\n",
      "Random state value is : 907\n",
      "Training accuracy score is : 88.1\n",
      "Testing accuracy score is : 88.1 \n",
      "\n",
      "\n",
      "At random state  976 model performs very well\n",
      "Random state value is : 976\n",
      "Training accuracy score is : 88.1\n",
      "Testing accuracy score is : 88.1 \n",
      "\n",
      "\n"
     ]
    }
   ],
   "source": [
    "for i in range (0,1000):\n",
    "    x_train,x_test,y_train,y_test = train_test_split(x,y,test_size=0.2, random_state=i)\n",
    "    lr.fit(x_train,y_train)\n",
    "    pred_train=lr.predict(x_train)\n",
    "    pred_test=lr.predict(x_test)\n",
    "    if round(accuracy_score(y_train,pred_train)*100 ,1)== round(accuracy_score(y_test,pred_test)*100 ,1):\n",
    "        print(\"At random state \",i,\"model performs very well\")\n",
    "        print(\"Random state value is :\",i)\n",
    "        print(\"Training accuracy score is :\",round(accuracy_score(y_train,pred_train)*100 ,1))\n",
    "        print(\"Testing accuracy score is :\", round(accuracy_score(y_test,pred_test)*100 ,1),'\\n\\n')\n",
    "        "
   ]
  },
  {
   "cell_type": "markdown",
   "id": "76151a2b",
   "metadata": {},
   "source": [
    "#### will consider Random state = 96"
   ]
  },
  {
   "cell_type": "code",
   "execution_count": 127,
   "id": "c56bed9a",
   "metadata": {},
   "outputs": [],
   "source": [
    "x_train,x_test,y_train,y_test = train_test_split(x,y,test_size=0.2, random_state=96)\n",
    "    "
   ]
  },
  {
   "cell_type": "code",
   "execution_count": 128,
   "id": "5535c6f6",
   "metadata": {},
   "outputs": [
    {
     "name": "stdout",
     "output_type": "stream",
     "text": [
      "Classification report :\n",
      "\n",
      "              precision    recall  f1-score   support\n",
      "\n",
      "           0       0.87      0.93      0.90       280\n",
      "           1       0.10      0.05      0.07        40\n",
      "\n",
      "    accuracy                           0.82       320\n",
      "   macro avg       0.48      0.49      0.48       320\n",
      "weighted avg       0.78      0.82      0.80       320\n",
      "\n"
     ]
    }
   ],
   "source": [
    "from sklearn.metrics import classification_report\n",
    "print(\"Classification report :\\n\")\n",
    "print(classification_report(y_test,pred_test))"
   ]
  },
  {
   "cell_type": "markdown",
   "id": "3998efab",
   "metadata": {},
   "source": [
    "#### convert imbalanced dataset into balanced dataset by using SMOT"
   ]
  },
  {
   "cell_type": "markdown",
   "id": "b44d168f",
   "metadata": {},
   "source": [
    "#### Cross validation report for logistic regression"
   ]
  },
  {
   "cell_type": "code",
   "execution_count": 145,
   "id": "ed007b62",
   "metadata": {},
   "outputs": [
    {
     "name": "stdout",
     "output_type": "stream",
     "text": [
      "At Cv: 2\n",
      "Cross validation score is : 86.05\n",
      "Accuracy score is : 87.81 \n",
      "\n",
      "At Cv: 3\n",
      "Cross validation score is : 86.62\n",
      "Accuracy score is : 87.81 \n",
      "\n",
      "At Cv: 4\n",
      "Cross validation score is : 87.56\n",
      "Accuracy score is : 87.81 \n",
      "\n",
      "At Cv: 5\n",
      "Cross validation score is : 86.99\n",
      "Accuracy score is : 87.81 \n",
      "\n",
      "At Cv: 6\n",
      "Cross validation score is : 87.55\n",
      "Accuracy score is : 87.81 \n",
      "\n",
      "At Cv: 7\n",
      "Cross validation score is : 87.12\n",
      "Accuracy score is : 87.81 \n",
      "\n",
      "At Cv: 8\n",
      "Cross validation score is : 87.24\n",
      "Accuracy score is : 87.81 \n",
      "\n",
      "At Cv: 9\n",
      "Cross validation score is : 87.55\n",
      "Accuracy score is : 87.81 \n",
      "\n",
      "At Cv: 10\n",
      "Cross validation score is : 87.87\n",
      "Accuracy score is : 87.81 \n",
      "\n",
      "At Cv: 11\n",
      "Cross validation score is : 87.12\n",
      "Accuracy score is : 87.81 \n",
      "\n"
     ]
    }
   ],
   "source": [
    "from sklearn.model_selection import cross_val_score\n",
    "\n",
    "pred_lr=lr.predict(x_test)\n",
    "lr_accu_score = accuracy_score(y_test,pred_lr)\n",
    "for j in range(2,12):\n",
    "    lr_crosval_score = cross_val_score(lr,x,y,cv=j)\n",
    "    lr_crosval_score_mean = lr_crosval_score.mean() \n",
    "    print(\"At Cv:\" ,j)\n",
    "    print(\"Cross validation score is :\",round(lr_crosval_score_mean*100,2))\n",
    "    \n",
    "    print(\"Accuracy score is :\" ,round(lr_accu_score*100,2) ,'\\n')"
   ]
  },
  {
   "cell_type": "raw",
   "id": "f7217ed0",
   "metadata": {},
   "source": [
    "Since our cross validation score is almost same for all values of cv will consider it 9"
   ]
  },
  {
   "cell_type": "code",
   "execution_count": 146,
   "id": "0cc71d82",
   "metadata": {},
   "outputs": [
    {
     "name": "stdout",
     "output_type": "stream",
     "text": [
      "Cross validation score is : 87.55\n"
     ]
    }
   ],
   "source": [
    "cross_val_score=cross_val_score(lr,x,y,cv=9).mean()\n",
    "print(\"Cross validation score is :\",round(cross_val_score*100,2))"
   ]
  },
  {
   "cell_type": "markdown",
   "id": "e3d1ed7e",
   "metadata": {},
   "source": [
    "#### Random Forest Classifier"
   ]
  },
  {
   "cell_type": "code",
   "execution_count": 162,
   "id": "90bdf180",
   "metadata": {},
   "outputs": [],
   "source": [
    "from sklearn.ensemble import RandomForestClassifier\n",
    "from sklearn.model_selection import cross_val_score"
   ]
  },
  {
   "cell_type": "code",
   "execution_count": 159,
   "id": "ac51cd9e",
   "metadata": {},
   "outputs": [
    {
     "name": "stdout",
     "output_type": "stream",
     "text": [
      "Accuracy score is : 90.62\n",
      "[[272   8]\n",
      " [ 22  18]]\n",
      "              precision    recall  f1-score   support\n",
      "\n",
      "           0       0.93      0.97      0.95       280\n",
      "           1       0.69      0.45      0.55        40\n",
      "\n",
      "    accuracy                           0.91       320\n",
      "   macro avg       0.81      0.71      0.75       320\n",
      "weighted avg       0.90      0.91      0.90       320\n",
      "\n"
     ]
    }
   ],
   "source": [
    "rf = RandomForestClassifier()\n",
    "rf.fit(x_train,y_train)\n",
    "predrf=rf.predict(x_test)\n",
    "print(\"Accuracy score is :\",round(accuracy_score(y_test,predrf)*100 ,2))\n",
    "print(confusion_matrix(y_test,predrf))\n",
    "print(classification_report(y_test,predrf))"
   ]
  },
  {
   "cell_type": "code",
   "execution_count": 152,
   "id": "8b206c18",
   "metadata": {},
   "outputs": [],
   "source": [
    "from sklearn.svm import SVC"
   ]
  },
  {
   "cell_type": "code",
   "execution_count": 153,
   "id": "5ddc753a",
   "metadata": {},
   "outputs": [
    {
     "name": "stdout",
     "output_type": "stream",
     "text": [
      "Accuracy score is : 88.12\n",
      "[[273   7]\n",
      " [ 31   9]]\n",
      "              precision    recall  f1-score   support\n",
      "\n",
      "           0       0.90      0.97      0.93       280\n",
      "           1       0.56      0.23      0.32        40\n",
      "\n",
      "    accuracy                           0.88       320\n",
      "   macro avg       0.73      0.60      0.63       320\n",
      "weighted avg       0.86      0.88      0.86       320\n",
      "\n"
     ]
    }
   ],
   "source": [
    "sv = SVC()\n",
    "sv.fit(x_train,y_train)\n",
    "predrf=sv.predict(x_test)\n",
    "print(\"Accuracy score is :\",round(accuracy_score(y_test,predrf)*100 ,2))\n",
    "print(confusion_matrix(y_test,predrf))\n",
    "print(classification_report(y_test,predrf))"
   ]
  },
  {
   "cell_type": "code",
   "execution_count": 176,
   "id": "2e918bc6",
   "metadata": {},
   "outputs": [
    {
     "name": "stdout",
     "output_type": "stream",
     "text": [
      "cross val score for SVC : 0.8767889008795504 accuracy score is : 88.12\n"
     ]
    }
   ],
   "source": [
    "from sklearn.model_selection import cross_val_score\n",
    "cv_sv = cross_val_score(sv , x,y,cv=9)\n",
    "print(\"cross val score for SVC :\" ,cv_sv.mean(),\"accuracy score is :\" ,88.12)"
   ]
  },
  {
   "cell_type": "code",
   "execution_count": 175,
   "id": "6004db4b",
   "metadata": {},
   "outputs": [
    {
     "name": "stdout",
     "output_type": "stream",
     "text": [
      "cross val score for Random forest : 0.87493034836398 accuracy score is : 90.62\n"
     ]
    }
   ],
   "source": [
    "cv_rf = cross_val_score(rf , x,y,cv=9)\n",
    "print(\"cross val score for Random forest :\" ,cv_rf.mean(),\"accuracy score is :\" ,90.62)"
   ]
  },
  {
   "cell_type": "code",
   "execution_count": 174,
   "id": "847605aa",
   "metadata": {},
   "outputs": [
    {
     "name": "stdout",
     "output_type": "stream",
     "text": [
      "cross val score for logistic regression : 0.8755439880939787 accuracy score is : 88.4\n"
     ]
    }
   ],
   "source": [
    "cv_lr = cross_val_score(lr , x,y,cv=9)\n",
    "print(\"cross val score for logistic regression :\" ,cv_lr.mean(),\"accuracy score is :\" ,88.4)"
   ]
  },
  {
   "cell_type": "markdown",
   "id": "373451e0",
   "metadata": {},
   "source": [
    "After compairing Cross validation score , confusion matrix and accuracy score \n",
    "Random forest is performing well amongst all.we will continue with Random forest algorithm."
   ]
  },
  {
   "cell_type": "markdown",
   "id": "1eaafbd9",
   "metadata": {},
   "source": [
    "#### Hyper parameter tuning"
   ]
  },
  {
   "cell_type": "code",
   "execution_count": 177,
   "id": "ead9d9c6",
   "metadata": {},
   "outputs": [],
   "source": [
    "from sklearn.model_selection import GridSearchCV"
   ]
  },
  {
   "cell_type": "code",
   "execution_count": 178,
   "id": "d6bc46f9",
   "metadata": {},
   "outputs": [],
   "source": [
    "#creating parameter list to pass to GridSearchCV\n",
    "parameters={'max_features':['auto','sqrt','log'],\n",
    "            'max_depth':[5,6,7,8,9],\n",
    "             'criterion':['ginni','entropy']}"
   ]
  },
  {
   "cell_type": "code",
   "execution_count": 183,
   "id": "775aaa61",
   "metadata": {},
   "outputs": [
    {
     "data": {
      "text/plain": [
       "{'criterion': 'entropy', 'max_depth': 9, 'max_features': 'auto'}"
      ]
     },
     "execution_count": 183,
     "metadata": {},
     "output_type": "execute_result"
    }
   ],
   "source": [
    "\n",
    "GS_CV= GridSearchCV(RandomForestClassifier(),parameters ,cv=5, scoring='accuracy')\n",
    "GS_CV.fit(x_train,y_train)\n",
    "GS_CV.best_params_"
   ]
  },
  {
   "cell_type": "code",
   "execution_count": 184,
   "id": "59581aba",
   "metadata": {},
   "outputs": [
    {
     "data": {
      "text/plain": [
       "0.915625"
      ]
     },
     "execution_count": 184,
     "metadata": {},
     "output_type": "execute_result"
    }
   ],
   "source": [
    "#prediction with best parameter\n",
    "gride_pred=GS_CV.best_estimator_.predict(x_test) \n",
    "# best score \n",
    "accuracy_score(y_test,gride_pred)"
   ]
  },
  {
   "cell_type": "markdown",
   "id": "ae1a5c53",
   "metadata": {},
   "source": [
    "#### ROC AUC plot"
   ]
  },
  {
   "cell_type": "code",
   "execution_count": 186,
   "id": "bd2b10fa",
   "metadata": {},
   "outputs": [
    {
     "data": {
      "text/plain": [
       "Text(0.5, 1.0, 'ROC AUC PLOT')"
      ]
     },
     "execution_count": 186,
     "metadata": {},
     "output_type": "execute_result"
    },
    {
     "data": {
      "image/png": "[encoded data removed]",
      "text/plain": [
       "<Figure size 576x360 with 1 Axes>"
      ]
     },
     "metadata": {},
     "output_type": "display_data"
    }
   ],
   "source": [
    "from sklearn.metrics import plot_roc_curve\n",
    "plot_roc_curve(GS_CV.best_estimator_,x_test , y_test)\n",
    "plt.title(\"ROC AUC PLOT\")"
   ]
  },
  {
   "cell_type": "markdown",
   "id": "793a2fba",
   "metadata": {},
   "source": [
    "AUC =0.92 and accuracy = 0.912 which is very good"
   ]
  },
  {
   "cell_type": "markdown",
   "id": "49046d23",
   "metadata": {},
   "source": [
    "#### Saving model in pickel format"
   ]
  },
  {
   "cell_type": "code",
   "execution_count": 189,
   "id": "f76f6221",
   "metadata": {},
   "outputs": [
    {
     "data": {
      "text/plain": [
       "['Red_wine_quality.pkl']"
      ]
     },
     "execution_count": 189,
     "metadata": {},
     "output_type": "execute_result"
    }
   ],
   "source": [
    "import joblib\n",
    "joblib.dump(GS_CV.best_estimator_,\"Red_wine_quality.pkl\")"
   ]
  },
  {
   "cell_type": "code",
   "execution_count": null,
   "id": "977a61a1",
   "metadata": {},
   "outputs": [],
   "source": []
  }
 ],
 "metadata": {
  "kernelspec": {
   "display_name": "Python 3",
   "language": "python",
   "name": "python3"
  },
  "language_info": {
   "codemirror_mode": {
    "name": "ipython",
    "version": 3
   },
   "file_extension": ".py",
   "mimetype": "text/x-python",
   "name": "python",
   "nbconvert_exporter": "python",
   "pygments_lexer": "ipython3",
   "version": "3.8.8"
  }
 },
 "nbformat": 4,
 "nbformat_minor": 5
}
