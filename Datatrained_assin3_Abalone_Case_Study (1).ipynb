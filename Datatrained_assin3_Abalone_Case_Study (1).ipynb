{
 "cells": [
  {
   "cell_type": "code",
   "execution_count": null,
   "id": "5f770855",
   "metadata": {},
   "outputs": [],
   "source": [
    "import pandas as pd\n",
    "import numpy as np\n",
    "import matplotlib.pyplot as plt\n",
    "import seaborn as sns\n",
    "import warnings\n",
    "warnings.filterwarnings('ignore')"
   ]
  },
  {
   "cell_type": "code",
   "execution_count": null,
   "id": "77fdd328",
   "metadata": {},
   "outputs": [],
   "source": [
    "#loading dataset\n",
    "df=pd.read_csv('abalone.csv')\n",
    "df.head(5)"
   ]
  },
  {
   "cell_type": "code",
   "execution_count": null,
   "id": "e2e86d7c",
   "metadata": {},
   "outputs": [],
   "source": [
    "df.info()"
   ]
  },
  {
   "cell_type": "code",
   "execution_count": null,
   "id": "85380be7",
   "metadata": {},
   "outputs": [],
   "source": [
    "df.isna().sum()"
   ]
  },
  {
   "cell_type": "markdown",
   "id": "71cb5c25",
   "metadata": {},
   "source": [
    "**no null record**"
   ]
  },
  {
   "cell_type": "code",
   "execution_count": null,
   "id": "19669c42",
   "metadata": {},
   "outputs": [],
   "source": [
    "df.shape"
   ]
  },
  {
   "cell_type": "code",
   "execution_count": null,
   "id": "1f1a9a1b",
   "metadata": {
    "scrolled": true
   },
   "outputs": [],
   "source": [
    "# fetch columns in dataset\n",
    "df.columns"
   ]
  },
  {
   "cell_type": "markdown",
   "id": "274637da",
   "metadata": {},
   "source": [
    "**EDA**"
   ]
  },
  {
   "cell_type": "code",
   "execution_count": null,
   "id": "6b3511d8",
   "metadata": {},
   "outputs": [],
   "source": [
    "#setting graph parameters\n",
    "sns.set_style('darkgrid')\n",
    "plt.rcParams['figure.figsize']=(20,6)\n",
    "plt.rcParams['figure.facecolor']='FFFFCB'"
   ]
  },
  {
   "cell_type": "code",
   "execution_count": null,
   "id": "dc8f8cb7",
   "metadata": {},
   "outputs": [],
   "source": [
    "# Rings vs Sex\n",
    "sns.barplot(x='Rings',y='Sex',data=df)\n",
    "plt.title('Rings vs Sex')\n",
    "plt.show()"
   ]
  },
  {
   "cell_type": "markdown",
   "id": "26082751",
   "metadata": {},
   "source": [
    "**Rings count is more in Female(F) then in male(M) n less in Infant(I)**"
   ]
  },
  {
   "cell_type": "code",
   "execution_count": null,
   "id": "490fef5e",
   "metadata": {},
   "outputs": [],
   "source": [
    "#'Length vs Rings'\n",
    "sns.barplot(x='Length',y='Rings',data=df )\n",
    "plt.title('Length vs Rings')\n",
    "plt.show()"
   ]
  },
  {
   "cell_type": "markdown",
   "id": "b1aff373",
   "metadata": {},
   "source": [
    "**Rings are less with increase in length(-ve correlation) range is between(3.5-17)**"
   ]
  },
  {
   "cell_type": "code",
   "execution_count": null,
   "id": "86190045",
   "metadata": {},
   "outputs": [],
   "source": [
    "# 'Diameter vs Rings'\n",
    "sns.barplot(x='Diameter',y='Rings',data=df)\n",
    "plt.title('Diameter vs Rings')\n",
    "plt.show()"
   ]
  },
  {
   "cell_type": "markdown",
   "id": "ec63060e",
   "metadata": {},
   "source": [
    "**Diameter and rings has +ve correlation rings**"
   ]
  },
  {
   "cell_type": "code",
   "execution_count": null,
   "id": "e15eef80",
   "metadata": {},
   "outputs": [],
   "source": [
    "# Height vs Rings\n",
    "sns.barplot(x='Height',y='Rings',data=df ,)\n",
    "plt.title('Height vs Rings')\n",
    "plt.show()"
   ]
  },
  {
   "cell_type": "markdown",
   "id": "49b1b151",
   "metadata": {},
   "source": [
    "**Height and Rings having +ve correlationat . at .225 heighest rings count is present around 16. **"
   ]
  },
  {
   "cell_type": "code",
   "execution_count": null,
   "id": "4e483975",
   "metadata": {},
   "outputs": [],
   "source": [
    "# Whole weight vs Rings\n",
    "sns.barplot(x='Whole weight',y='Rings',data=df)\n",
    "plt.title('Whole weight vs Rings')\n",
    "plt.show()"
   ]
  },
  {
   "cell_type": "code",
   "execution_count": null,
   "id": "0d53e333",
   "metadata": {},
   "outputs": [],
   "source": [
    "# Shucked weight vs Rings\n",
    "sns.barplot(x='Shucked weight',y='Rings',data=df)\n",
    "plt.title('Shucked weight vs Rings')\n",
    "plt.show()"
   ]
  },
  {
   "cell_type": "code",
   "execution_count": null,
   "id": "07261445",
   "metadata": {
    "scrolled": true
   },
   "outputs": [],
   "source": [
    "# Viscera weight vs Rings\n",
    "sns.barplot(x='Viscera weight',y='Rings',data=df)\n",
    "plt.title('Viscera weight vs Rings')\n",
    "plt.show()"
   ]
  },
  {
   "cell_type": "code",
   "execution_count": null,
   "id": "f8b1c96c",
   "metadata": {
    "scrolled": false
   },
   "outputs": [],
   "source": [
    "# Shell weight vs Rings\n",
    "sns.barplot(x='Shell weight',y='Rings',data=df)\n",
    "plt.title('Shell weight vs Rings')\n",
    "plt.show()"
   ]
  },
  {
   "cell_type": "code",
   "execution_count": null,
   "id": "4e1701fe",
   "metadata": {
    "scrolled": true
   },
   "outputs": [],
   "source": [
    "sns.countplot(x='Sex' ,data=df)\n",
    "print(df['Sex'].value_counts())"
   ]
  },
  {
   "cell_type": "markdown",
   "id": "1c700743",
   "metadata": {},
   "source": [
    "Data is balanced"
   ]
  },
  {
   "cell_type": "code",
   "execution_count": 155,
   "id": "bedb31b1",
   "metadata": {},
   "outputs": [],
   "source": [
    "# Catagorical data column encoding using ordinal encoder\n",
    "from sklearn.preprocessing import OrdinalEncoder\n",
    "onc= OrdinalEncoder()\n",
    "df['Sex']=onc.fit_transform(df['Sex'].values.reshape(-1,1))"
   ]
  },
  {
   "cell_type": "code",
   "execution_count": 156,
   "id": "8c950103",
   "metadata": {},
   "outputs": [
    {
     "data": {
      "text/html": [
       "<div>\n",
       "<style scoped>\n",
       "    .dataframe tbody tr th:only-of-type {\n",
       "        vertical-align: middle;\n",
       "    }\n",
       "\n",
       "    .dataframe tbody tr th {\n",
       "        vertical-align: top;\n",
       "    }\n",
       "\n",
       "    .dataframe thead th {\n",
       "        text-align: right;\n",
       "    }\n",
       "</style>\n",
       "<table border=\"1\" class=\"dataframe\">\n",
       "  <thead>\n",
       "    <tr style=\"text-align: right;\">\n",
       "      <th></th>\n",
       "      <th>Sex</th>\n",
       "      <th>Length</th>\n",
       "      <th>Diameter</th>\n",
       "      <th>Height</th>\n",
       "      <th>Whole weight</th>\n",
       "      <th>Shucked weight</th>\n",
       "      <th>Viscera weight</th>\n",
       "      <th>Shell weight</th>\n",
       "      <th>Rings</th>\n",
       "    </tr>\n",
       "  </thead>\n",
       "  <tbody>\n",
       "    <tr>\n",
       "      <th>0</th>\n",
       "      <td>2.0</td>\n",
       "      <td>0.455</td>\n",
       "      <td>0.365</td>\n",
       "      <td>0.095</td>\n",
       "      <td>0.5140</td>\n",
       "      <td>0.2245</td>\n",
       "      <td>0.1010</td>\n",
       "      <td>0.1500</td>\n",
       "      <td>15</td>\n",
       "    </tr>\n",
       "    <tr>\n",
       "      <th>1</th>\n",
       "      <td>2.0</td>\n",
       "      <td>0.350</td>\n",
       "      <td>0.265</td>\n",
       "      <td>0.090</td>\n",
       "      <td>0.2255</td>\n",
       "      <td>0.0995</td>\n",
       "      <td>0.0485</td>\n",
       "      <td>0.0700</td>\n",
       "      <td>7</td>\n",
       "    </tr>\n",
       "    <tr>\n",
       "      <th>2</th>\n",
       "      <td>0.0</td>\n",
       "      <td>0.530</td>\n",
       "      <td>0.420</td>\n",
       "      <td>0.135</td>\n",
       "      <td>0.6770</td>\n",
       "      <td>0.2565</td>\n",
       "      <td>0.1415</td>\n",
       "      <td>0.2100</td>\n",
       "      <td>9</td>\n",
       "    </tr>\n",
       "    <tr>\n",
       "      <th>3</th>\n",
       "      <td>2.0</td>\n",
       "      <td>0.440</td>\n",
       "      <td>0.365</td>\n",
       "      <td>0.125</td>\n",
       "      <td>0.5160</td>\n",
       "      <td>0.2155</td>\n",
       "      <td>0.1140</td>\n",
       "      <td>0.1550</td>\n",
       "      <td>10</td>\n",
       "    </tr>\n",
       "    <tr>\n",
       "      <th>4</th>\n",
       "      <td>1.0</td>\n",
       "      <td>0.330</td>\n",
       "      <td>0.255</td>\n",
       "      <td>0.080</td>\n",
       "      <td>0.2050</td>\n",
       "      <td>0.0895</td>\n",
       "      <td>0.0395</td>\n",
       "      <td>0.0550</td>\n",
       "      <td>7</td>\n",
       "    </tr>\n",
       "    <tr>\n",
       "      <th>...</th>\n",
       "      <td>...</td>\n",
       "      <td>...</td>\n",
       "      <td>...</td>\n",
       "      <td>...</td>\n",
       "      <td>...</td>\n",
       "      <td>...</td>\n",
       "      <td>...</td>\n",
       "      <td>...</td>\n",
       "      <td>...</td>\n",
       "    </tr>\n",
       "    <tr>\n",
       "      <th>4172</th>\n",
       "      <td>0.0</td>\n",
       "      <td>0.565</td>\n",
       "      <td>0.450</td>\n",
       "      <td>0.165</td>\n",
       "      <td>0.8870</td>\n",
       "      <td>0.3700</td>\n",
       "      <td>0.2390</td>\n",
       "      <td>0.2490</td>\n",
       "      <td>11</td>\n",
       "    </tr>\n",
       "    <tr>\n",
       "      <th>4173</th>\n",
       "      <td>2.0</td>\n",
       "      <td>0.590</td>\n",
       "      <td>0.440</td>\n",
       "      <td>0.135</td>\n",
       "      <td>0.9660</td>\n",
       "      <td>0.4390</td>\n",
       "      <td>0.2145</td>\n",
       "      <td>0.2605</td>\n",
       "      <td>10</td>\n",
       "    </tr>\n",
       "    <tr>\n",
       "      <th>4174</th>\n",
       "      <td>2.0</td>\n",
       "      <td>0.600</td>\n",
       "      <td>0.475</td>\n",
       "      <td>0.205</td>\n",
       "      <td>1.1760</td>\n",
       "      <td>0.5255</td>\n",
       "      <td>0.2875</td>\n",
       "      <td>0.3080</td>\n",
       "      <td>9</td>\n",
       "    </tr>\n",
       "    <tr>\n",
       "      <th>4175</th>\n",
       "      <td>0.0</td>\n",
       "      <td>0.625</td>\n",
       "      <td>0.485</td>\n",
       "      <td>0.150</td>\n",
       "      <td>1.0945</td>\n",
       "      <td>0.5310</td>\n",
       "      <td>0.2610</td>\n",
       "      <td>0.2960</td>\n",
       "      <td>10</td>\n",
       "    </tr>\n",
       "    <tr>\n",
       "      <th>4176</th>\n",
       "      <td>2.0</td>\n",
       "      <td>0.710</td>\n",
       "      <td>0.555</td>\n",
       "      <td>0.195</td>\n",
       "      <td>1.9485</td>\n",
       "      <td>0.9455</td>\n",
       "      <td>0.3765</td>\n",
       "      <td>0.4950</td>\n",
       "      <td>12</td>\n",
       "    </tr>\n",
       "  </tbody>\n",
       "</table>\n",
       "<p>4177 rows × 9 columns</p>\n",
       "</div>"
      ],
      "text/plain": [
       "      Sex  Length  Diameter  Height  Whole weight  Shucked weight  \\\n",
       "0     2.0   0.455     0.365   0.095        0.5140          0.2245   \n",
       "1     2.0   0.350     0.265   0.090        0.2255          0.0995   \n",
       "2     0.0   0.530     0.420   0.135        0.6770          0.2565   \n",
       "3     2.0   0.440     0.365   0.125        0.5160          0.2155   \n",
       "4     1.0   0.330     0.255   0.080        0.2050          0.0895   \n",
       "...   ...     ...       ...     ...           ...             ...   \n",
       "4172  0.0   0.565     0.450   0.165        0.8870          0.3700   \n",
       "4173  2.0   0.590     0.440   0.135        0.9660          0.4390   \n",
       "4174  2.0   0.600     0.475   0.205        1.1760          0.5255   \n",
       "4175  0.0   0.625     0.485   0.150        1.0945          0.5310   \n",
       "4176  2.0   0.710     0.555   0.195        1.9485          0.9455   \n",
       "\n",
       "      Viscera weight  Shell weight  Rings  \n",
       "0             0.1010        0.1500     15  \n",
       "1             0.0485        0.0700      7  \n",
       "2             0.1415        0.2100      9  \n",
       "3             0.1140        0.1550     10  \n",
       "4             0.0395        0.0550      7  \n",
       "...              ...           ...    ...  \n",
       "4172          0.2390        0.2490     11  \n",
       "4173          0.2145        0.2605     10  \n",
       "4174          0.2875        0.3080      9  \n",
       "4175          0.2610        0.2960     10  \n",
       "4176          0.3765        0.4950     12  \n",
       "\n",
       "[4177 rows x 9 columns]"
      ]
     },
     "execution_count": 156,
     "metadata": {},
     "output_type": "execute_result"
    }
   ],
   "source": [
    "df\n"
   ]
  },
  {
   "cell_type": "code",
   "execution_count": 162,
   "id": "1ea5e543",
   "metadata": {},
   "outputs": [
    {
     "data": {
      "text/plain": [
       "0       14\n",
       "1        6\n",
       "2        8\n",
       "3        9\n",
       "4        6\n",
       "        ..\n",
       "4172    10\n",
       "4173     9\n",
       "4174     8\n",
       "4175     9\n",
       "4176    11\n",
       "Name: Rings, Length: 4177, dtype: int64"
      ]
     },
     "execution_count": 162,
     "metadata": {},
     "output_type": "execute_result"
    }
   ],
   "source": [
    "from sklearn.preprocessing import LabelEncoder\n",
    "encoder = LabelEncoder()\n",
    "target_encoded = encoder.fit_transform(df['Rings'].values)\n",
    "df['Rings'] = target_encoded\n",
    "df['Rings']"
   ]
  },
  {
   "cell_type": "markdown",
   "id": "5e1ef613",
   "metadata": {},
   "source": [
    "**separate out dependent and independent features for train n test purpose**"
   ]
  },
  {
   "cell_type": "code",
   "execution_count": 163,
   "id": "89a52d2a",
   "metadata": {},
   "outputs": [],
   "source": [
    "# x : independent features ,y:dependent features\n",
    "x=df.drop('Rings',axis=1)\n",
    "y=df[\"Rings\"]"
   ]
  },
  {
   "cell_type": "code",
   "execution_count": null,
   "id": "8d2056ea",
   "metadata": {
    "scrolled": true
   },
   "outputs": [],
   "source": [
    "# finding out skewness presnt in independent features\n",
    "x.skew()"
   ]
  },
  {
   "cell_type": "markdown",
   "id": "99521d23",
   "metadata": {},
   "source": [
    "considering acceptable range as +/- 0.5 .we can see skewness present in all features:\n",
    "Height(3.12) ,Whole weight( 0.53) ,Shucked weight(0.71) ,Viscera weight(0.59),Shell weight(0.62) ,Length(-0.64) ,Diameter(-0.61) \n"
   ]
  },
  {
   "cell_type": "markdown",
   "id": "6843e29f",
   "metadata": {},
   "source": [
    "**Dealing with skewness**"
   ]
  },
  {
   "cell_type": "code",
   "execution_count": null,
   "id": "cba82924",
   "metadata": {},
   "outputs": [],
   "source": [
    "\n",
    "## lets remove skewness (outlier removal) by using power_transform\n",
    "\n",
    "from sklearn.preprocessing import power_transform\n",
    "x_new =power_transform(x ,method='yeo-johnson')\n",
    "cols=['Sex', 'Length', 'Diameter', 'Height', 'Whole weight', 'Shucked weight',\n",
    "       'Viscera weight', 'Shell weight']\n",
    "x=pd.DataFrame(x_new ,columns=cols)\n",
    "# checking skewness after transforming data\n",
    "x.skew()"
   ]
  },
  {
   "cell_type": "markdown",
   "id": "7d371954",
   "metadata": {},
   "source": [
    "We can see skewness in data has been removed "
   ]
  },
  {
   "cell_type": "code",
   "execution_count": null,
   "id": "f160abbd",
   "metadata": {},
   "outputs": [],
   "source": [
    "df.corr()['Rings'].sort_values(ascending=False)"
   ]
  },
  {
   "cell_type": "code",
   "execution_count": null,
   "id": "a22d06d7",
   "metadata": {
    "scrolled": true
   },
   "outputs": [],
   "source": [
    "df.corr()['Rings'].sort_values(ascending=False).drop(['Rings']).plot(kind='bar',color='c')\n",
    "plt.xlabel('Features',fontsize=20)\n",
    "plt.ylabel('Rings')\n",
    "plt.title('Correlation with target')"
   ]
  },
  {
   "cell_type": "markdown",
   "id": "e4e3b8ec",
   "metadata": {},
   "source": [
    "highest correlation is with Shell weight  and lowest is with "
   ]
  },
  {
   "cell_type": "code",
   "execution_count": null,
   "id": "87360ee9",
   "metadata": {},
   "outputs": [],
   "source": [
    "x.head()"
   ]
  },
  {
   "cell_type": "markdown",
   "id": "5768bbab",
   "metadata": {},
   "source": [
    "#### Data Cleaning : outliers detection"
   ]
  },
  {
   "cell_type": "code",
   "execution_count": null,
   "id": "a79d0845",
   "metadata": {},
   "outputs": [],
   "source": [
    "#outliers detection\n",
    "x.boxplot(figsize=(20,8))\n",
    "\n",
    "plt.show()\n"
   ]
  },
  {
   "cell_type": "raw",
   "id": "62324fb7",
   "metadata": {},
   "source": [
    "from above graph we can see outliers are present in \n",
    "1)length :few are there  but very close to upper Whiskers .\n",
    "2)Diameter:few are there  but very close to upper Whiskers .\n",
    "3)Shuked weight : only 1 outlier that too very close to upper whiskers level.\n",
    "4)Viscera weight :only 1 outlier that too very close to upper whiskers level.\n",
    "5)Shell weight:few are there but very close to upper Whiskers.\n",
    "6)Height : it has many outliers present .    "
   ]
  },
  {
   "cell_type": "code",
   "execution_count": null,
   "id": "36e9f3fb",
   "metadata": {},
   "outputs": [],
   "source": [
    "# Z score for outlier removal \n",
    "from scipy import stats\n",
    "import numpy as np\n",
    " \n",
    "z = np.abs(stats.zscore(x))\n",
    "print(z.shape)\n"
   ]
  },
  {
   "cell_type": "code",
   "execution_count": null,
   "id": "c2325a8e",
   "metadata": {},
   "outputs": [],
   "source": [
    "threshold=3\n",
    "#print index no\n",
    "print(\"Indexes at which Outliers are present.\")\n",
    "print(np.where(z>3))\n"
   ]
  },
  {
   "cell_type": "code",
   "execution_count": null,
   "id": "387d31e2",
   "metadata": {},
   "outputs": [],
   "source": [
    "# No of outliers present\n",
    "len(np.where(z>3)[0])"
   ]
  },
  {
   "cell_type": "code",
   "execution_count": null,
   "id": "8522f2ba",
   "metadata": {},
   "outputs": [],
   "source": [
    "x_new=x.drop([ 163,  166,  236,  237,  238,  306,  694,  719,  720,  891, 1174,\n",
    "       1209, 1257, 1417, 1428, 1428, 1763, 1987, 2051, 2108, 2161, 2169,\n",
    "       2171, 2172, 2334, 2381, 2711, 3190, 3902, 3996])"
   ]
  },
  {
   "cell_type": "code",
   "execution_count": null,
   "id": "9a3e2b30",
   "metadata": {},
   "outputs": [],
   "source": [
    "#% data loss\n",
    "loss=100-((4177-30)/4177*100)\n",
    "print(\"% data loss due to droping outliers is :\",loss)"
   ]
  },
  {
   "cell_type": "code",
   "execution_count": null,
   "id": "f70c9cea",
   "metadata": {},
   "outputs": [],
   "source": [
    "y.head()"
   ]
  },
  {
   "cell_type": "code",
   "execution_count": null,
   "id": "d6f6e7cb",
   "metadata": {},
   "outputs": [],
   "source": [
    "\n",
    "# function to select for highly correlated features. \n",
    "#will remove first feature which is highly correlared with any other feature\n",
    "\n",
    "def correlation(dataset , threshold):\n",
    "    col_corr =set() # set of all names of correlated features we have taken st from preventing duplicate entries of columns\n",
    "    corr_matrix = dataset.corr()\n",
    "    for i in range(len(corr_matrix.columns)):\n",
    "        for j in range(i):\n",
    "            if(corr_matrix.iloc[i,j]> threshold):\n",
    "                col_name=corr_matrix.columns[i]\n",
    "                col_corr.add(col_name)\n",
    "    return col_corr"
   ]
  },
  {
   "cell_type": "code",
   "execution_count": null,
   "id": "d2722d7a",
   "metadata": {},
   "outputs": [],
   "source": [
    "#Finding Multicolinearity\n",
    "cor_features=correlation(x_train ,0.95)\n",
    "len(cor_features)"
   ]
  },
  {
   "cell_type": "code",
   "execution_count": null,
   "id": "20d711dc",
   "metadata": {},
   "outputs": [],
   "source": [
    "cor_features"
   ]
  },
  {
   "cell_type": "code",
   "execution_count": null,
   "id": "ab2a5ca8",
   "metadata": {},
   "outputs": [],
   "source": [
    "#separate dataset into train and test\n",
    "\n",
    "from sklearn.model_selection import train_test_split\n",
    "\n",
    "x_train,x_test,y_train,y_test = train_test_split(x,y,test_size=0.3, random_state=3)\n",
    "x_train.shape ,x_test.shape"
   ]
  },
  {
   "cell_type": "code",
   "execution_count": null,
   "id": "aa3d9b3a",
   "metadata": {},
   "outputs": [],
   "source": [
    "# using pearson correlation\n",
    "plt.figure(figsize=(12,8))\n",
    "cor=x.corr()\n",
    "sns.heatmap(cor ,annot=True )"
   ]
  },
  {
   "cell_type": "code",
   "execution_count": null,
   "id": "b7395ca3",
   "metadata": {},
   "outputs": [],
   "source": [
    "x.corr()"
   ]
  },
  {
   "cell_type": "markdown",
   "id": "44e3b90d",
   "metadata": {},
   "source": [
    "#### Transforming Data to remove skewness"
   ]
  },
  {
   "cell_type": "code",
   "execution_count": null,
   "id": "be65a65f",
   "metadata": {},
   "outputs": [],
   "source": [
    "## lets remove skewness (outlier removal) by using power_transform\n",
    "\n",
    "from sklearn.preprocessing import power_transform\n",
    "x_new =power_transform(x ,method='yeo-johnson')\n",
    "cols=['Sex', 'Length', 'Diameter', 'Height', 'Whole weight', 'Shucked weight',\n",
    "       'Viscera weight', 'Shell weight']\n",
    "x=pd.DataFrame(x_new ,columns=cols)\n",
    "# checking skewness after transforming data\n",
    "x.skew()"
   ]
  },
  {
   "cell_type": "markdown",
   "id": "a2c2fb58",
   "metadata": {},
   "source": [
    "#### start applying classifictaion algorithm"
   ]
  },
  {
   "cell_type": "markdown",
   "id": "eeb8d00d",
   "metadata": {},
   "source": [
    "#### Logistic Regression"
   ]
  },
  {
   "cell_type": "code",
   "execution_count": 127,
   "id": "2ce1c2a4",
   "metadata": {},
   "outputs": [],
   "source": [
    "from sklearn.linear_model import LogisticRegression\n",
    "from sklearn.metrics import accuracy_score ,classification_report ,confusion_matrix\n",
    "lr=LogisticRegression()"
   ]
  },
  {
   "cell_type": "markdown",
   "id": "92906721",
   "metadata": {},
   "source": [
    "**will try to find out best value Random State** "
   ]
  },
  {
   "cell_type": "code",
   "execution_count": null,
   "id": "3e9235e1",
   "metadata": {},
   "outputs": [],
   "source": [
    "max_accu = 0\n",
    "max_randst = 0\n",
    "for i in range (0,1000):\n",
    "    x_train,x_test,y_train,y_test = train_test_split(x,y,test_size=0.2, random_state=i)\n",
    "    lr.fit(x_train,y_train)\n",
    "    \n",
    "    pred_lr=lr.predict(x_test)\n",
    "    accu_score= accuracy_score(y_test,pred_lr)\n",
    "    if max_accu<accu_score:\n",
    "        max_accu= accu_score\n",
    "        max_randst= i\n",
    "    if round(accuracy_score(y_train,pred_train)*100 ,1)== round(accuracy_score(y_test,pred_test)*100 ,1):\n",
    "\n",
    "\n",
    "        "
   ]
  },
  {
   "cell_type": "code",
   "execution_count": 120,
   "id": "d755cf81",
   "metadata": {},
   "outputs": [
    {
     "name": "stdout",
     "output_type": "stream",
     "text": [
      "max accuracy score is : 31.6 ar random state : 152\n"
     ]
    }
   ],
   "source": [
    "print(\"max accuracy score is :\", round(max_accu*100 ,1),\"ar random state :\",max_randst)"
   ]
  },
  {
   "cell_type": "code",
   "execution_count": 121,
   "id": "9b4986b2",
   "metadata": {},
   "outputs": [],
   "source": [
    "x_train,x_test,y_train,y_test = train_test_split(x,y,test_size=0.2, random_state=152)"
   ]
  },
  {
   "cell_type": "code",
   "execution_count": 122,
   "id": "1da8bacd",
   "metadata": {},
   "outputs": [
    {
     "name": "stdout",
     "output_type": "stream",
     "text": [
      "Classification report :\n",
      "\n",
      "              precision    recall  f1-score   support\n",
      "\n",
      "           3       0.00      0.00      0.00         4\n",
      "           4       0.13      0.18      0.15        11\n",
      "           5       0.00      0.00      0.00        24\n",
      "           6       0.00      0.00      0.00        52\n",
      "           7       0.14      0.18      0.16        71\n",
      "           8       0.18      0.18      0.18       136\n",
      "           9       0.18      0.26      0.22       140\n",
      "          10       0.19      0.25      0.21       137\n",
      "          11       0.10      0.09      0.09        94\n",
      "          12       0.00      0.00      0.00        48\n",
      "          13       0.00      0.00      0.00        32\n",
      "          14       0.00      0.00      0.00        27\n",
      "          15       0.00      0.00      0.00        11\n",
      "          16       0.00      0.00      0.00         9\n",
      "          17       0.00      0.00      0.00        11\n",
      "          18       0.00      0.00      0.00         5\n",
      "          19       0.00      0.00      0.00         7\n",
      "          20       0.00      0.00      0.00         5\n",
      "          21       0.00      0.00      0.00         6\n",
      "          22       0.00      0.00      0.00         4\n",
      "          23       0.00      0.00      0.00         2\n",
      "\n",
      "    accuracy                           0.14       836\n",
      "   macro avg       0.04      0.05      0.05       836\n",
      "weighted avg       0.11      0.14      0.13       836\n",
      "\n"
     ]
    }
   ],
   "source": [
    "from sklearn.metrics import classification_report\n",
    "print(\"Classification report :\\n\")\n",
    "print(classification_report(y_test,pred_test))"
   ]
  },
  {
   "cell_type": "markdown",
   "id": "812c1cd7",
   "metadata": {},
   "source": [
    "#### Random Forest Classifier"
   ]
  },
  {
   "cell_type": "code",
   "execution_count": 123,
   "id": "56f506a3",
   "metadata": {},
   "outputs": [],
   "source": [
    "from sklearn.ensemble import RandomForestClassifier\n"
   ]
  },
  {
   "cell_type": "code",
   "execution_count": 126,
   "id": "eebfbb0d",
   "metadata": {},
   "outputs": [
    {
     "name": "stdout",
     "output_type": "stream",
     "text": [
      "Accuracy score is : 24.4\n",
      "[[ 0  4  0  0  0  0  0  0  0  0  0  0  0  0  0  0  0  0  0  0  0]\n",
      " [ 0  2  5  4  0  0  0  0  0  0  0  0  0  0  0  0  0  0  0  0  0]\n",
      " [ 0  6  6  9  3  0  0  0  0  0  0  0  0  0  0  0  0  0  0  0  0]\n",
      " [ 0  1  5 21 14  7  1  2  1  0  0  0  0  0  0  0  0  0  0  0  0]\n",
      " [ 0  0  3 14 20 12 16  2  4  0  0  0  0  0  0  0  0  0  0  0  0]\n",
      " [ 0  0  2  5 28 44 42  8  6  0  0  1  0  0  0  0  0  0  0  0  0]\n",
      " [ 0  0  0  1  5 29 48 36 14  1  3  1  1  0  1  0  0  0  0  0  0]\n",
      " [ 0  0  0  0  6 12 43 28 39  5  1  1  1  0  1  0  0  0  0  0  0]\n",
      " [ 0  0  0  0  1  6 28 23 28  3  4  0  1  0  0  0  0  0  0  0  0]\n",
      " [ 0  0  0  0  1  3 12 10 12  3  3  2  0  2  0  0  0  0  0  0  0]\n",
      " [ 0  0  0  0  2  2  4  4 14  4  2  0  0  0  0  0  0  0  0  0  0]\n",
      " [ 0  0  0  0  0  1  7  9  3  2  1  2  1  1  0  0  0  0  0  0  0]\n",
      " [ 0  0  0  0  0  1  2  2  2  0  3  1  0  0  0  0  0  0  0  0  0]\n",
      " [ 0  0  0  0  0  0  1  2  3  1  1  0  0  0  0  0  0  1  0  0  0]\n",
      " [ 0  0  0  0  0  0  1  2  2  1  2  2  0  1  0  0  0  0  0  0  0]\n",
      " [ 0  0  0  0  0  0  0  1  0  0  1  0  0  2  0  0  0  1  0  0  0]\n",
      " [ 0  0  0  0  0  0  0  1  1  0  4  0  0  1  0  0  0  0  0  0  0]\n",
      " [ 0  0  0  0  0  0  0  2  0  0  2  0  1  0  0  0  0  0  0  0  0]\n",
      " [ 0  0  0  0  0  0  0  1  3  0  1  0  0  1  0  0  0  0  0  0  0]\n",
      " [ 0  0  0  0  0  0  0  0  0  1  0  0  2  1  0  0  0  0  0  0  0]\n",
      " [ 0  0  0  0  0  0  0  0  0  0  2  0  0  0  0  0  0  0  0  0  0]]\n",
      "              precision    recall  f1-score   support\n",
      "\n",
      "           3       0.00      0.00      0.00         4\n",
      "           4       0.15      0.18      0.17        11\n",
      "           5       0.29      0.25      0.27        24\n",
      "           6       0.39      0.40      0.40        52\n",
      "           7       0.25      0.28      0.26        71\n",
      "           8       0.38      0.32      0.35       136\n",
      "           9       0.23      0.34      0.28       140\n",
      "          10       0.21      0.20      0.21       137\n",
      "          11       0.21      0.30      0.25        94\n",
      "          12       0.14      0.06      0.09        48\n",
      "          13       0.07      0.06      0.06        32\n",
      "          14       0.20      0.07      0.11        27\n",
      "          15       0.00      0.00      0.00        11\n",
      "          16       0.00      0.00      0.00         9\n",
      "          17       0.00      0.00      0.00        11\n",
      "          18       0.00      0.00      0.00         5\n",
      "          19       0.00      0.00      0.00         7\n",
      "          20       0.00      0.00      0.00         5\n",
      "          21       0.00      0.00      0.00         6\n",
      "          22       0.00      0.00      0.00         4\n",
      "          23       0.00      0.00      0.00         2\n",
      "\n",
      "    accuracy                           0.24       836\n",
      "   macro avg       0.12      0.12      0.12       836\n",
      "weighted avg       0.23      0.24      0.23       836\n",
      "\n"
     ]
    }
   ],
   "source": [
    "rf = RandomForestClassifier()\n",
    "rf.fit(x_train,y_train)\n",
    "predrf=rf.predict(x_test)\n",
    "print(\"Accuracy score is :\",round(accuracy_score(y_test,predrf)*100 ,2))\n",
    "print(confusion_matrix(y_test,predrf))\n",
    "print(classification_report(y_test,predrf))"
   ]
  },
  {
   "cell_type": "code",
   "execution_count": 137,
   "id": "20ea5af6",
   "metadata": {},
   "outputs": [],
   "source": [
    "from sklearn.svm import SVC"
   ]
  },
  {
   "cell_type": "code",
   "execution_count": 138,
   "id": "26be216a",
   "metadata": {},
   "outputs": [
    {
     "name": "stdout",
     "output_type": "stream",
     "text": [
      "Accuracy score is : 30.26\n",
      "[[ 0  4  0  0  0  0  0  0  0  0  0  0  0  0  0  0  0  0  0  0  0]\n",
      " [ 0  2  7  2  0  0  0  0  0  0  0  0  0  0  0  0  0  0  0  0  0]\n",
      " [ 0  3 10  9  2  0  0  0  0  0  0  0  0  0  0  0  0  0  0  0  0]\n",
      " [ 0  0  4 13 29  3  2  1  0  0  0  0  0  0  0  0  0  0  0  0  0]\n",
      " [ 0  0  2  6 33 14 14  1  1  0  0  0  0  0  0  0  0  0  0  0  0]\n",
      " [ 0  0  1  4 31 44 46  9  1  0  0  0  0  0  0  0  0  0  0  0  0]\n",
      " [ 0  0  0  0  5 25 72 34  4  0  0  0  0  0  0  0  0  0  0  0  0]\n",
      " [ 0  0  0  0  4  6 52 56 19  0  0  0  0  0  0  0  0  0  0  0  0]\n",
      " [ 0  0  0  0  2  5 26 38 23  0  0  0  0  0  0  0  0  0  0  0  0]\n",
      " [ 0  0  0  0  1  1 13 20 13  0  0  0  0  0  0  0  0  0  0  0  0]\n",
      " [ 0  0  0  0  1  4 12  5 10  0  0  0  0  0  0  0  0  0  0  0  0]\n",
      " [ 0  0  0  0  0  0 11 13  3  0  0  0  0  0  0  0  0  0  0  0  0]\n",
      " [ 0  0  0  0  0  2  3  5  1  0  0  0  0  0  0  0  0  0  0  0  0]\n",
      " [ 0  0  0  0  0  1  2  3  3  0  0  0  0  0  0  0  0  0  0  0  0]\n",
      " [ 0  0  0  0  0  0  2  5  4  0  0  0  0  0  0  0  0  0  0  0  0]\n",
      " [ 0  0  0  0  0  0  0  4  1  0  0  0  0  0  0  0  0  0  0  0  0]\n",
      " [ 0  0  0  0  0  0  0  5  2  0  0  0  0  0  0  0  0  0  0  0  0]\n",
      " [ 0  0  0  0  0  0  1  2  1  0  1  0  0  0  0  0  0  0  0  0  0]\n",
      " [ 0  0  0  0  0  0  1  2  3  0  0  0  0  0  0  0  0  0  0  0  0]\n",
      " [ 0  0  0  0  0  0  0  3  1  0  0  0  0  0  0  0  0  0  0  0  0]\n",
      " [ 0  0  0  0  0  0  1  1  0  0  0  0  0  0  0  0  0  0  0  0  0]]\n",
      "              precision    recall  f1-score   support\n",
      "\n",
      "           3       0.00      0.00      0.00         4\n",
      "           4       0.22      0.18      0.20        11\n",
      "           5       0.42      0.42      0.42        24\n",
      "           6       0.38      0.25      0.30        52\n",
      "           7       0.31      0.46      0.37        71\n",
      "           8       0.42      0.32      0.37       136\n",
      "           9       0.28      0.51      0.36       140\n",
      "          10       0.27      0.41      0.33       137\n",
      "          11       0.26      0.24      0.25        94\n",
      "          12       0.00      0.00      0.00        48\n",
      "          13       0.00      0.00      0.00        32\n",
      "          14       0.00      0.00      0.00        27\n",
      "          15       0.00      0.00      0.00        11\n",
      "          16       0.00      0.00      0.00         9\n",
      "          17       0.00      0.00      0.00        11\n",
      "          18       0.00      0.00      0.00         5\n",
      "          19       0.00      0.00      0.00         7\n",
      "          20       0.00      0.00      0.00         5\n",
      "          21       0.00      0.00      0.00         6\n",
      "          22       0.00      0.00      0.00         4\n",
      "          23       0.00      0.00      0.00         2\n",
      "\n",
      "    accuracy                           0.30       836\n",
      "   macro avg       0.12      0.13      0.12       836\n",
      "weighted avg       0.25      0.30      0.27       836\n",
      "\n"
     ]
    }
   ],
   "source": [
    "sv = SVC()\n",
    "sv.fit(x_train,y_train)\n",
    "predrf=sv.predict(x_test)\n",
    "print(\"Accuracy score is :\",round(accuracy_score(y_test,predrf)*100 ,2))\n",
    "print(confusion_matrix(y_test,predrf))\n",
    "print(classification_report(y_test,predrf))"
   ]
  },
  {
   "cell_type": "markdown",
   "id": "643847c9",
   "metadata": {},
   "source": [
    "After compairing confusion matrix and Accuracy score SVC model is performing well.\n",
    "will continue with it"
   ]
  },
  {
   "cell_type": "markdown",
   "id": "3d51828d",
   "metadata": {},
   "source": [
    "#### Hyper parameter tuning"
   ]
  },
  {
   "cell_type": "code",
   "execution_count": 139,
   "id": "0a53ca55",
   "metadata": {},
   "outputs": [],
   "source": [
    "from sklearn.model_selection import GridSearchCV"
   ]
  },
  {
   "cell_type": "code",
   "execution_count": 149,
   "id": "8e29a30b",
   "metadata": {},
   "outputs": [],
   "source": [
    "#creating parameter list for SVC model to pass to GridSearchCV\n",
    "parameters={'C': [0.1, 1, 10, 100, 1000],\n",
    "              'gamma': [1, 0.1, 0.01, 0.001, 0.0001],\n",
    "              'kernel': ['rbf']}\n",
    " "
   ]
  },
  {
   "cell_type": "code",
   "execution_count": 150,
   "id": "7fe59a2a",
   "metadata": {},
   "outputs": [
    {
     "data": {
      "text/plain": [
       "{'C': 1000, 'gamma': 0.01, 'kernel': 'rbf'}"
      ]
     },
     "execution_count": 150,
     "metadata": {},
     "output_type": "execute_result"
    }
   ],
   "source": [
    "gride = GridSearchCV(SVC(), parameters,cv=5)\n",
    "gride.fit(x_train,y_train)\n",
    "gride.best_params_"
   ]
  },
  {
   "cell_type": "code",
   "execution_count": 151,
   "id": "5be04564",
   "metadata": {},
   "outputs": [
    {
     "data": {
      "text/plain": [
       "0.30861244019138756"
      ]
     },
     "execution_count": 151,
     "metadata": {},
     "output_type": "execute_result"
    }
   ],
   "source": [
    "#prediction with best parameter\n",
    "gride_pred=gride.best_estimator_.predict(x_test) \n",
    "# best score \n",
    "accuracy_score(y_test,gride_pred)"
   ]
  },
  {
   "cell_type": "code",
   "execution_count": 167,
   "id": "3b913cb9",
   "metadata": {},
   "outputs": [
    {
     "data": {
      "text/plain": [
       "['Abalone.pkl']"
      ]
     },
     "execution_count": 167,
     "metadata": {},
     "output_type": "execute_result"
    }
   ],
   "source": [
    "import joblib\n",
    "joblib.dump(gride.best_estimator_,\"Abalone.pkl\")"
   ]
  },
  {
   "cell_type": "code",
   "execution_count": null,
   "id": "75d35e93",
   "metadata": {},
   "outputs": [],
   "source": []
  }
 ],
 "metadata": {
  "kernelspec": {
   "display_name": "Python 3",
   "language": "python",
   "name": "python3"
  },
  "language_info": {
   "codemirror_mode": {
    "name": "ipython",
    "version": 3
   },
   "file_extension": ".py",
   "mimetype": "text/x-python",
   "name": "python",
   "nbconvert_exporter": "python",
   "pygments_lexer": "ipython3",
   "version": "3.8.8"
  }
 },
 "nbformat": 4,
 "nbformat_minor": 5
}
