{
 "cells": [
  {
   "cell_type": "code",
   "execution_count": null,
   "id": "f15f6c06",
   "metadata": {},
   "outputs": [],
   "source": []
  },
  {
   "cell_type": "code",
   "execution_count": null,
   "id": "d2407476",
   "metadata": {},
   "outputs": [],
   "source": []
  },
  {
   "cell_type": "code",
   "execution_count": 20,
   "id": "1e7a2470",
   "metadata": {},
   "outputs": [],
   "source": [
    "import pandas as pd\n",
    "import numpy as np\n",
    "import matplotlib.pyplot as plt\n",
    "import seaborn as sns\n",
    "import warnings\n",
    "warnings.filterwarnings('ignore')"
   ]
  },
  {
   "cell_type": "code",
   "execution_count": 21,
   "id": "20875164",
   "metadata": {},
   "outputs": [
    {
     "data": {
      "text/html": [
       "<div>\n",
       "<style scoped>\n",
       "    .dataframe tbody tr th:only-of-type {\n",
       "        vertical-align: middle;\n",
       "    }\n",
       "\n",
       "    .dataframe tbody tr th {\n",
       "        vertical-align: top;\n",
       "    }\n",
       "\n",
       "    .dataframe thead th {\n",
       "        text-align: right;\n",
       "    }\n",
       "</style>\n",
       "<table border=\"1\" class=\"dataframe\">\n",
       "  <thead>\n",
       "    <tr style=\"text-align: right;\">\n",
       "      <th></th>\n",
       "      <th>PassengerId</th>\n",
       "      <th>Survived</th>\n",
       "      <th>Pclass</th>\n",
       "      <th>Name</th>\n",
       "      <th>Sex</th>\n",
       "      <th>Age</th>\n",
       "      <th>SibSp</th>\n",
       "      <th>Parch</th>\n",
       "      <th>Ticket</th>\n",
       "      <th>Fare</th>\n",
       "      <th>Cabin</th>\n",
       "      <th>Embarked</th>\n",
       "    </tr>\n",
       "  </thead>\n",
       "  <tbody>\n",
       "    <tr>\n",
       "      <th>0</th>\n",
       "      <td>1</td>\n",
       "      <td>0</td>\n",
       "      <td>3</td>\n",
       "      <td>Braund, Mr. Owen Harris</td>\n",
       "      <td>male</td>\n",
       "      <td>22.0</td>\n",
       "      <td>1</td>\n",
       "      <td>0</td>\n",
       "      <td>A/5 21171</td>\n",
       "      <td>7.2500</td>\n",
       "      <td>NaN</td>\n",
       "      <td>S</td>\n",
       "    </tr>\n",
       "    <tr>\n",
       "      <th>1</th>\n",
       "      <td>2</td>\n",
       "      <td>1</td>\n",
       "      <td>1</td>\n",
       "      <td>Cumings, Mrs. John Bradley (Florence Briggs Th...</td>\n",
       "      <td>female</td>\n",
       "      <td>38.0</td>\n",
       "      <td>1</td>\n",
       "      <td>0</td>\n",
       "      <td>PC 17599</td>\n",
       "      <td>71.2833</td>\n",
       "      <td>C85</td>\n",
       "      <td>C</td>\n",
       "    </tr>\n",
       "    <tr>\n",
       "      <th>2</th>\n",
       "      <td>3</td>\n",
       "      <td>1</td>\n",
       "      <td>3</td>\n",
       "      <td>Heikkinen, Miss. Laina</td>\n",
       "      <td>female</td>\n",
       "      <td>26.0</td>\n",
       "      <td>0</td>\n",
       "      <td>0</td>\n",
       "      <td>STON/O2. 3101282</td>\n",
       "      <td>7.9250</td>\n",
       "      <td>NaN</td>\n",
       "      <td>S</td>\n",
       "    </tr>\n",
       "    <tr>\n",
       "      <th>3</th>\n",
       "      <td>4</td>\n",
       "      <td>1</td>\n",
       "      <td>1</td>\n",
       "      <td>Futrelle, Mrs. Jacques Heath (Lily May Peel)</td>\n",
       "      <td>female</td>\n",
       "      <td>35.0</td>\n",
       "      <td>1</td>\n",
       "      <td>0</td>\n",
       "      <td>113803</td>\n",
       "      <td>53.1000</td>\n",
       "      <td>C123</td>\n",
       "      <td>S</td>\n",
       "    </tr>\n",
       "    <tr>\n",
       "      <th>4</th>\n",
       "      <td>5</td>\n",
       "      <td>0</td>\n",
       "      <td>3</td>\n",
       "      <td>Allen, Mr. William Henry</td>\n",
       "      <td>male</td>\n",
       "      <td>35.0</td>\n",
       "      <td>0</td>\n",
       "      <td>0</td>\n",
       "      <td>373450</td>\n",
       "      <td>8.0500</td>\n",
       "      <td>NaN</td>\n",
       "      <td>S</td>\n",
       "    </tr>\n",
       "    <tr>\n",
       "      <th>...</th>\n",
       "      <td>...</td>\n",
       "      <td>...</td>\n",
       "      <td>...</td>\n",
       "      <td>...</td>\n",
       "      <td>...</td>\n",
       "      <td>...</td>\n",
       "      <td>...</td>\n",
       "      <td>...</td>\n",
       "      <td>...</td>\n",
       "      <td>...</td>\n",
       "      <td>...</td>\n",
       "      <td>...</td>\n",
       "    </tr>\n",
       "    <tr>\n",
       "      <th>886</th>\n",
       "      <td>887</td>\n",
       "      <td>0</td>\n",
       "      <td>2</td>\n",
       "      <td>Montvila, Rev. Juozas</td>\n",
       "      <td>male</td>\n",
       "      <td>27.0</td>\n",
       "      <td>0</td>\n",
       "      <td>0</td>\n",
       "      <td>211536</td>\n",
       "      <td>13.0000</td>\n",
       "      <td>NaN</td>\n",
       "      <td>S</td>\n",
       "    </tr>\n",
       "    <tr>\n",
       "      <th>887</th>\n",
       "      <td>888</td>\n",
       "      <td>1</td>\n",
       "      <td>1</td>\n",
       "      <td>Graham, Miss. Margaret Edith</td>\n",
       "      <td>female</td>\n",
       "      <td>19.0</td>\n",
       "      <td>0</td>\n",
       "      <td>0</td>\n",
       "      <td>112053</td>\n",
       "      <td>30.0000</td>\n",
       "      <td>B42</td>\n",
       "      <td>S</td>\n",
       "    </tr>\n",
       "    <tr>\n",
       "      <th>888</th>\n",
       "      <td>889</td>\n",
       "      <td>0</td>\n",
       "      <td>3</td>\n",
       "      <td>Johnston, Miss. Catherine Helen \"Carrie\"</td>\n",
       "      <td>female</td>\n",
       "      <td>NaN</td>\n",
       "      <td>1</td>\n",
       "      <td>2</td>\n",
       "      <td>W./C. 6607</td>\n",
       "      <td>23.4500</td>\n",
       "      <td>NaN</td>\n",
       "      <td>S</td>\n",
       "    </tr>\n",
       "    <tr>\n",
       "      <th>889</th>\n",
       "      <td>890</td>\n",
       "      <td>1</td>\n",
       "      <td>1</td>\n",
       "      <td>Behr, Mr. Karl Howell</td>\n",
       "      <td>male</td>\n",
       "      <td>26.0</td>\n",
       "      <td>0</td>\n",
       "      <td>0</td>\n",
       "      <td>111369</td>\n",
       "      <td>30.0000</td>\n",
       "      <td>C148</td>\n",
       "      <td>C</td>\n",
       "    </tr>\n",
       "    <tr>\n",
       "      <th>890</th>\n",
       "      <td>891</td>\n",
       "      <td>0</td>\n",
       "      <td>3</td>\n",
       "      <td>Dooley, Mr. Patrick</td>\n",
       "      <td>male</td>\n",
       "      <td>32.0</td>\n",
       "      <td>0</td>\n",
       "      <td>0</td>\n",
       "      <td>370376</td>\n",
       "      <td>7.7500</td>\n",
       "      <td>NaN</td>\n",
       "      <td>Q</td>\n",
       "    </tr>\n",
       "  </tbody>\n",
       "</table>\n",
       "<p>891 rows × 12 columns</p>\n",
       "</div>"
      ],
      "text/plain": [
       "     PassengerId  Survived  Pclass  \\\n",
       "0              1         0       3   \n",
       "1              2         1       1   \n",
       "2              3         1       3   \n",
       "3              4         1       1   \n",
       "4              5         0       3   \n",
       "..           ...       ...     ...   \n",
       "886          887         0       2   \n",
       "887          888         1       1   \n",
       "888          889         0       3   \n",
       "889          890         1       1   \n",
       "890          891         0       3   \n",
       "\n",
       "                                                  Name     Sex   Age  SibSp  \\\n",
       "0                              Braund, Mr. Owen Harris    male  22.0      1   \n",
       "1    Cumings, Mrs. John Bradley (Florence Briggs Th...  female  38.0      1   \n",
       "2                               Heikkinen, Miss. Laina  female  26.0      0   \n",
       "3         Futrelle, Mrs. Jacques Heath (Lily May Peel)  female  35.0      1   \n",
       "4                             Allen, Mr. William Henry    male  35.0      0   \n",
       "..                                                 ...     ...   ...    ...   \n",
       "886                              Montvila, Rev. Juozas    male  27.0      0   \n",
       "887                       Graham, Miss. Margaret Edith  female  19.0      0   \n",
       "888           Johnston, Miss. Catherine Helen \"Carrie\"  female   NaN      1   \n",
       "889                              Behr, Mr. Karl Howell    male  26.0      0   \n",
       "890                                Dooley, Mr. Patrick    male  32.0      0   \n",
       "\n",
       "     Parch            Ticket     Fare Cabin Embarked  \n",
       "0        0         A/5 21171   7.2500   NaN        S  \n",
       "1        0          PC 17599  71.2833   C85        C  \n",
       "2        0  STON/O2. 3101282   7.9250   NaN        S  \n",
       "3        0            113803  53.1000  C123        S  \n",
       "4        0            373450   8.0500   NaN        S  \n",
       "..     ...               ...      ...   ...      ...  \n",
       "886      0            211536  13.0000   NaN        S  \n",
       "887      0            112053  30.0000   B42        S  \n",
       "888      2        W./C. 6607  23.4500   NaN        S  \n",
       "889      0            111369  30.0000  C148        C  \n",
       "890      0            370376   7.7500   NaN        Q  \n",
       "\n",
       "[891 rows x 12 columns]"
      ]
     },
     "execution_count": 21,
     "metadata": {},
     "output_type": "execute_result"
    }
   ],
   "source": [
    "titanic_df = pd.read_csv(r'titanic_train.csv')\n",
    "#df=pd.read_csv(r'https://raw.githubusercontent.com/dsrscientist/dataset1/master/titanic_train.csv')\n",
    "titanic_df"
   ]
  },
  {
   "cell_type": "raw",
   "id": "ce7ca10b",
   "metadata": {},
   "source": [
    "we can see dataset is combination of both catagorical and continuous features:\n",
    "    Catagorical Features :\n",
    "        1) Survived\n",
    "        2) Pclass\n",
    "        3) Name\n",
    "        4) Sex\n",
    "        5) Ticket\n",
    "        6) Cabin\n",
    "        7) Embarked\n",
    "    Continuous Features:\n",
    "        1) PassengerId\n",
    "        2) Age\n",
    "        3) Fare\n",
    "      "
   ]
  },
  {
   "cell_type": "code",
   "execution_count": 22,
   "id": "3d1645e5",
   "metadata": {},
   "outputs": [
    {
     "data": {
      "text/plain": [
       "PassengerId    0.000000\n",
       "Survived       0.478523\n",
       "Pclass        -0.630548\n",
       "Age            0.389108\n",
       "SibSp          3.695352\n",
       "Parch          2.749117\n",
       "Fare           4.787317\n",
       "dtype: float64"
      ]
     },
     "execution_count": 22,
     "metadata": {},
     "output_type": "execute_result"
    }
   ],
   "source": [
    "titanic_df.skew()"
   ]
  },
  {
   "cell_type": "code",
   "execution_count": 23,
   "id": "9c443698",
   "metadata": {
    "scrolled": true
   },
   "outputs": [
    {
     "name": "stdout",
     "output_type": "stream",
     "text": [
      "<class 'pandas.core.frame.DataFrame'>\n",
      "RangeIndex: 891 entries, 0 to 890\n",
      "Data columns (total 12 columns):\n",
      " #   Column       Non-Null Count  Dtype  \n",
      "---  ------       --------------  -----  \n",
      " 0   PassengerId  891 non-null    int64  \n",
      " 1   Survived     891 non-null    int64  \n",
      " 2   Pclass       891 non-null    int64  \n",
      " 3   Name         891 non-null    object \n",
      " 4   Sex          891 non-null    object \n",
      " 5   Age          714 non-null    float64\n",
      " 6   SibSp        891 non-null    int64  \n",
      " 7   Parch        891 non-null    int64  \n",
      " 8   Ticket       891 non-null    object \n",
      " 9   Fare         891 non-null    float64\n",
      " 10  Cabin        204 non-null    object \n",
      " 11  Embarked     889 non-null    object \n",
      "dtypes: float64(2), int64(5), object(5)\n",
      "memory usage: 83.7+ KB\n"
     ]
    }
   ],
   "source": [
    "titanic_df.info()"
   ]
  },
  {
   "cell_type": "code",
   "execution_count": 24,
   "id": "0e616634",
   "metadata": {},
   "outputs": [
    {
     "data": {
      "text/plain": [
       "0    549\n",
       "1    342\n",
       "Name: Survived, dtype: int64"
      ]
     },
     "execution_count": 24,
     "metadata": {},
     "output_type": "execute_result"
    }
   ],
   "source": [
    "titanic_df['Survived'].value_counts()"
   ]
  },
  {
   "cell_type": "raw",
   "id": "01fdc4d9",
   "metadata": {},
   "source": [
    "We can see around 62 :38 target distribution is there so we can consider it as imbalanced dataset . \n",
    "    survived(1) =342\n",
    "    sunk(0) = 549"
   ]
  },
  {
   "cell_type": "code",
   "execution_count": 25,
   "id": "53060010",
   "metadata": {},
   "outputs": [
    {
     "data": {
      "text/plain": [
       "Index(['PassengerId', 'Survived', 'Pclass', 'Name', 'Sex', 'Age', 'SibSp',\n",
       "       'Parch', 'Ticket', 'Fare', 'Cabin', 'Embarked'],\n",
       "      dtype='object')"
      ]
     },
     "execution_count": 25,
     "metadata": {},
     "output_type": "execute_result"
    }
   ],
   "source": [
    "titanic_df.columns"
   ]
  },
  {
   "cell_type": "code",
   "execution_count": 26,
   "id": "f24062d2",
   "metadata": {},
   "outputs": [
    {
     "data": {
      "text/plain": [
       "3    491\n",
       "1    216\n",
       "2    184\n",
       "Name: Pclass, dtype: int64"
      ]
     },
     "execution_count": 26,
     "metadata": {},
     "output_type": "execute_result"
    }
   ],
   "source": [
    "titanic_df['Pclass'].value_counts()"
   ]
  },
  {
   "cell_type": "code",
   "execution_count": 27,
   "id": "edbf2581",
   "metadata": {},
   "outputs": [
    {
     "data": {
      "text/plain": [
       "<seaborn.axisgrid.FacetGrid at 0x1a6e1b4c220>"
      ]
     },
     "execution_count": 27,
     "metadata": {},
     "output_type": "execute_result"
    },
    {
     "data": {
      "image/png": "[encoded data removed]",
      "text/plain": [
       "<Figure size 411.875x360 with 1 Axes>"
      ]
     },
     "metadata": {
      "needs_background": "light"
     },
     "output_type": "display_data"
    }
   ],
   "source": [
    "# survival count of Pclass\n",
    "sns.catplot(x='Pclass' , hue='Survived' ,data=titanic_df ,kind='count')"
   ]
  },
  {
   "cell_type": "raw",
   "id": "1f3890ae",
   "metadata": {},
   "source": [
    "from the above information we can have following observations\n",
    "1)highest no. of serviaval is in 1st class out of 216 passengers around 145 saved saving rate is 67%\n",
    "2)Then in 3rd class out of 491 passengers around 140 saved but saving rate is 28%\n",
    "3)lowest no. of people servived in 3rd class out of 184 passengers around 90 saved but saving rate is 49%\n",
    "\n",
    "servival rate is highest in 1st class then 2nd class and lowest in 3rd class"
   ]
  },
  {
   "cell_type": "code",
   "execution_count": 28,
   "id": "ffbe42ce",
   "metadata": {},
   "outputs": [
    {
     "data": {
      "text/plain": [
       "<seaborn.axisgrid.FacetGrid at 0x1a6e1c08ca0>"
      ]
     },
     "execution_count": 28,
     "metadata": {},
     "output_type": "execute_result"
    },
    {
     "data": {
      "image/png": "[encoded data removed]",
      "text/plain": [
       "<Figure size 411.875x360 with 1 Axes>"
      ]
     },
     "metadata": {
      "needs_background": "light"
     },
     "output_type": "display_data"
    }
   ],
   "source": [
    "#survival count of Sex\n",
    "sns.catplot(x='Sex' , hue='Survived' ,data=titanic_df ,kind='count')"
   ]
  },
  {
   "cell_type": "code",
   "execution_count": 29,
   "id": "3cca3bae",
   "metadata": {},
   "outputs": [
    {
     "data": {
      "text/plain": [
       "male      577\n",
       "female    314\n",
       "Name: Sex, dtype: int64"
      ]
     },
     "execution_count": 29,
     "metadata": {},
     "output_type": "execute_result"
    }
   ],
   "source": [
    "titanic_df['Sex'].value_counts()"
   ]
  },
  {
   "cell_type": "code",
   "execution_count": 30,
   "id": "d6b5a112",
   "metadata": {},
   "outputs": [
    {
     "data": {
      "text/plain": [
       "Survived  Sex   \n",
       "0         male      468\n",
       "          female     81\n",
       "1         female    233\n",
       "          male      109\n",
       "Name: Sex, dtype: int64"
      ]
     },
     "execution_count": 30,
     "metadata": {},
     "output_type": "execute_result"
    }
   ],
   "source": [
    "titanic_df.groupby('Survived')['Sex'].value_counts()"
   ]
  },
  {
   "cell_type": "raw",
   "id": "132c8438",
   "metadata": {},
   "source": [
    "from above data we can see \n",
    "out of 577 males 109 survived  so survival rate is 18%\n",
    "out of 314 females 233 survived  so survival rate is 74%\n",
    "\n",
    "from \n",
    "this we can say female survival rate is much higher than male."
   ]
  },
  {
   "cell_type": "code",
   "execution_count": 31,
   "id": "93354b75",
   "metadata": {},
   "outputs": [
    {
     "data": {
      "image/png": "[encoded data removed]",
      "text/plain": [
       "<Figure size 1512x504 with 1 Axes>"
      ]
     },
     "metadata": {
      "needs_background": "light"
     },
     "output_type": "display_data"
    }
   ],
   "source": [
    "# histplot of to see distribution of servivied age\n",
    "sns.violinplot(x='Sex',y='Age',hue='Survived' ,data=titanic_df)\n",
    "plt.rcParams['figure.figsize']=(21,7)"
   ]
  },
  {
   "cell_type": "raw",
   "id": "e38f7c90",
   "metadata": {},
   "source": [
    "1) Male survival rate is less than Female .\n",
    "2) Servival rate in the range of 15-40 is high in both male and female .\n",
    "3) it is moderate in below 15 and lowest as age increases above 40.\n",
    "So, Age and sex are also some deciding suvival features. "
   ]
  },
  {
   "cell_type": "code",
   "execution_count": 32,
   "id": "21afe7e2",
   "metadata": {},
   "outputs": [
    {
     "data": {
      "text/plain": [
       "<seaborn.axisgrid.FacetGrid at 0x1a6e1ca8220>"
      ]
     },
     "execution_count": 32,
     "metadata": {},
     "output_type": "execute_result"
    },
    {
     "data": {
      "image/png": "[encoded data removed]",
      "text/plain": [
       "<Figure size 411.875x360 with 1 Axes>"
      ]
     },
     "metadata": {
      "needs_background": "light"
     },
     "output_type": "display_data"
    }
   ],
   "source": [
    "# survival count of Pclass\n",
    "sns.catplot(x='SibSp' , hue='Survived' ,data=titanic_df ,kind='count')"
   ]
  },
  {
   "cell_type": "markdown",
   "id": "ce07a447",
   "metadata": {},
   "source": [
    "passenger with SibSp=5 has less chances of servival , where as passenger with SibSp=1 has highest chances of servival."
   ]
  },
  {
   "cell_type": "code",
   "execution_count": 34,
   "id": "e30add28",
   "metadata": {},
   "outputs": [
    {
     "data": {
      "text/plain": [
       "0    608\n",
       "1    209\n",
       "2     28\n",
       "4     18\n",
       "3     16\n",
       "8      7\n",
       "5      5\n",
       "Name: SibSp, dtype: int64"
      ]
     },
     "execution_count": 34,
     "metadata": {},
     "output_type": "execute_result"
    }
   ],
   "source": [
    "titanic_df['SibSp'].value_counts()"
   ]
  },
  {
   "cell_type": "code",
   "execution_count": 35,
   "id": "02a72825",
   "metadata": {},
   "outputs": [
    {
     "data": {
      "text/plain": [
       "<seaborn.axisgrid.FacetGrid at 0x1a6e1c08dc0>"
      ]
     },
     "execution_count": 35,
     "metadata": {},
     "output_type": "execute_result"
    },
    {
     "data": {
      "image/png": "[encoded data removed]",
      "text/plain": [
       "<Figure size 411.875x360 with 1 Axes>"
      ]
     },
     "metadata": {
      "needs_background": "light"
     },
     "output_type": "display_data"
    }
   ],
   "source": [
    "sns.catplot(x='Parch' , hue='Survived' ,data=titanic_df ,kind='count')"
   ]
  },
  {
   "cell_type": "raw",
   "id": "7cd21cec",
   "metadata": {},
   "source": [
    "passenger with parch>3 has less chances of servival , where as passenger with parch=1 has highest chances of servival and  parch=2 has 50% chances of servival."
   ]
  },
  {
   "cell_type": "code",
   "execution_count": 36,
   "id": "df9743e9",
   "metadata": {},
   "outputs": [
    {
     "data": {
      "text/plain": [
       "Pclass  Fare \n",
       "1       26.55    15\n",
       "        52.00     7\n",
       "        0.00      5\n",
       "        30.00     5\n",
       "        30.50     5\n",
       "Name: Fare, dtype: int64"
      ]
     },
     "execution_count": 36,
     "metadata": {},
     "output_type": "execute_result"
    }
   ],
   "source": [
    "df=titanic_df.groupby('Pclass')['Fare'].value_counts()\n",
    "df.head()"
   ]
  },
  {
   "cell_type": "code",
   "execution_count": 37,
   "id": "38ec22dc",
   "metadata": {},
   "outputs": [
    {
     "data": {
      "text/plain": [
       "<AxesSubplot:xlabel='Fare', ylabel='Survived'>"
      ]
     },
     "execution_count": 37,
     "metadata": {},
     "output_type": "execute_result"
    },
    {
     "data": {
      "image/png": "[encoded data removed]",
      "text/plain": [
       "<Figure size 1512x504 with 1 Axes>"
      ]
     },
     "metadata": {
      "needs_background": "light"
     },
     "output_type": "display_data"
    }
   ],
   "source": [
    "df_Fair_range = pd.qcut(titanic_df['Fare'],3)\n",
    "sns.barplot(x=df_Fair_range ,y='Survived'  ,data=titanic_df)"
   ]
  },
  {
   "cell_type": "markdown",
   "id": "1df86d49",
   "metadata": {},
   "source": [
    "Fair and survival rate has positive correlation as fair increases survival rate incrases."
   ]
  },
  {
   "cell_type": "code",
   "execution_count": 38,
   "id": "330d4dd8",
   "metadata": {},
   "outputs": [
    {
     "data": {
      "text/plain": [
       "<seaborn.axisgrid.FacetGrid at 0x1a6e1db6ac0>"
      ]
     },
     "execution_count": 38,
     "metadata": {},
     "output_type": "execute_result"
    },
    {
     "data": {
      "image/png": "[encoded data removed]",
      "text/plain": [
       "<Figure size 411.875x360 with 1 Axes>"
      ]
     },
     "metadata": {
      "needs_background": "light"
     },
     "output_type": "display_data"
    }
   ],
   "source": [
    "sns.catplot(x='Embarked' ,hue='Survived' ,kind='count' ,data=titanic_df)"
   ]
  },
  {
   "cell_type": "markdown",
   "id": "d6539fb3",
   "metadata": {},
   "source": [
    "'C' catgory has heighest rate of survive as compired to 'S 'and 'Q'."
   ]
  },
  {
   "cell_type": "markdown",
   "id": "ce21e540",
   "metadata": {},
   "source": [
    "#### Feature selection "
   ]
  },
  {
   "cell_type": "markdown",
   "id": "01da5b79",
   "metadata": {},
   "source": [
    "we can see ['PassengerId','Name', 'Sex','Cabin'] are not Survival deciding features . So, we will drop them "
   ]
  },
  {
   "cell_type": "code",
   "execution_count": null,
   "id": "be4aaa25",
   "metadata": {},
   "outputs": [],
   "source": [
    " titanic_df.drop(['PassengerId','Name','Cabin'] ,axis=1 ,inplace=True)\n"
   ]
  },
  {
   "cell_type": "code",
   "execution_count": 40,
   "id": "076df9a9",
   "metadata": {},
   "outputs": [
    {
     "name": "stdout",
     "output_type": "stream",
     "text": [
      "Index(['Survived', 'Pclass', 'Sex', 'Age', 'SibSp', 'Parch', 'Ticket', 'Fare',\n",
      "       'Embarked'],\n",
      "      dtype='object')\n"
     ]
    }
   ],
   "source": [
    "print(titanic_df.columns)"
   ]
  },
  {
   "cell_type": "markdown",
   "id": "c83c058f",
   "metadata": {},
   "source": [
    "#### Check for null entries"
   ]
  },
  {
   "cell_type": "code",
   "execution_count": 41,
   "id": "2d81dae5",
   "metadata": {},
   "outputs": [
    {
     "data": {
      "text/plain": [
       "Survived      0\n",
       "Pclass        0\n",
       "Sex           0\n",
       "Age         177\n",
       "SibSp         0\n",
       "Parch         0\n",
       "Ticket        0\n",
       "Fare          0\n",
       "Embarked      2\n",
       "dtype: int64"
      ]
     },
     "execution_count": 41,
     "metadata": {},
     "output_type": "execute_result"
    }
   ],
   "source": [
    "titanic_df.isnull().sum()"
   ]
  },
  {
   "cell_type": "markdown",
   "id": "07ccdc83",
   "metadata": {},
   "source": [
    "Age has 177 null entries and Embarked has 2 null entries.will Age by mean"
   ]
  },
  {
   "cell_type": "code",
   "execution_count": 42,
   "id": "53ab8c72",
   "metadata": {},
   "outputs": [
    {
     "data": {
      "text/plain": [
       "S    644\n",
       "C    168\n",
       "Q     77\n",
       "Name: Embarked, dtype: int64"
      ]
     },
     "execution_count": 42,
     "metadata": {},
     "output_type": "execute_result"
    }
   ],
   "source": [
    "# calculating total number of count of each catagory in column\n",
    "titanic_df['Embarked'].value_counts()"
   ]
  },
  {
   "cell_type": "code",
   "execution_count": 43,
   "id": "75a9ebd9",
   "metadata": {},
   "outputs": [
    {
     "data": {
      "text/plain": [
       "0    S\n",
       "dtype: object"
      ]
     },
     "execution_count": 43,
     "metadata": {},
     "output_type": "execute_result"
    }
   ],
   "source": [
    "# calculating most frequently occured value in column\n",
    "titanic_df['Embarked'].mode()"
   ]
  },
  {
   "cell_type": "markdown",
   "id": "07490b57",
   "metadata": {},
   "source": [
    "we can see in 'Embarked' most frequently occured value in column is 'S' ,so will fill null values with it"
   ]
  },
  {
   "cell_type": "markdown",
   "id": "136a33ef",
   "metadata": {},
   "source": [
    "#### Filling data in 'Embarked'"
   ]
  },
  {
   "cell_type": "code",
   "execution_count": 44,
   "id": "223f8e7e",
   "metadata": {},
   "outputs": [
    {
     "data": {
      "text/plain": [
       "0"
      ]
     },
     "execution_count": 44,
     "metadata": {},
     "output_type": "execute_result"
    }
   ],
   "source": [
    "titanic_df['Embarked'].fillna('S',inplace=True)\n",
    "titanic_df['Embarked'].isnull().sum()"
   ]
  },
  {
   "cell_type": "markdown",
   "id": "28750504",
   "metadata": {},
   "source": [
    "#### Filling the null values in age column"
   ]
  },
  {
   "cell_type": "markdown",
   "id": "5c902188",
   "metadata": {},
   "source": [
    "since we have 177 NULL values in Age column we will fill them randomly with values in range of +/- 1 std deviation form mean."
   ]
  },
  {
   "cell_type": "code",
   "execution_count": 45,
   "id": "f8e8c054",
   "metadata": {},
   "outputs": [
    {
     "name": "stdout",
     "output_type": "stream",
     "text": [
      "Mean of Age : 29.69911764705882 \n",
      "Standard deviation of Age : 14.526497332334044\n"
     ]
    }
   ],
   "source": [
    "age_mean=titanic_df['Age'].mean()\n",
    "age_mean\n",
    "age_std_dev=titanic_df['Age'].std()\n",
    "print(\"Mean of Age :\",age_mean,'\\nStandard deviation of Age :',age_std_dev)"
   ]
  },
  {
   "cell_type": "code",
   "execution_count": 46,
   "id": "5e9c2202",
   "metadata": {},
   "outputs": [
    {
     "name": "stdout",
     "output_type": "stream",
     "text": [
      "Upper and Lower limits are : 44 15\n"
     ]
    }
   ],
   "source": [
    "age_upper=round(age_mean+age_std_dev)\n",
    "age_lower=round(age_mean-age_std_dev)\n",
    "print(\"Upper and Lower limits are :\",age_upper,age_lower)"
   ]
  },
  {
   "cell_type": "code",
   "execution_count": 47,
   "id": "420cdafe",
   "metadata": {},
   "outputs": [
    {
     "data": {
      "text/plain": [
       "[5,\n",
       " 17,\n",
       " 19,\n",
       " 26,\n",
       " 28,\n",
       " 29,\n",
       " 31,\n",
       " 32,\n",
       " 36,\n",
       " 42,\n",
       " 45,\n",
       " 46,\n",
       " 47,\n",
       " 48,\n",
       " 55,\n",
       " 64,\n",
       " 65,\n",
       " 76,\n",
       " 77,\n",
       " 82,\n",
       " 87,\n",
       " 95,\n",
       " 101,\n",
       " 107,\n",
       " 109,\n",
       " 121,\n",
       " 126,\n",
       " 128,\n",
       " 140,\n",
       " 154,\n",
       " 158,\n",
       " 159,\n",
       " 166,\n",
       " 168,\n",
       " 176,\n",
       " 180,\n",
       " 181,\n",
       " 185,\n",
       " 186,\n",
       " 196,\n",
       " 198,\n",
       " 201,\n",
       " 214,\n",
       " 223,\n",
       " 229,\n",
       " 235,\n",
       " 240,\n",
       " 241,\n",
       " 250,\n",
       " 256,\n",
       " 260,\n",
       " 264,\n",
       " 270,\n",
       " 274,\n",
       " 277,\n",
       " 284,\n",
       " 295,\n",
       " 298,\n",
       " 300,\n",
       " 301,\n",
       " 303,\n",
       " 304,\n",
       " 306,\n",
       " 324,\n",
       " 330,\n",
       " 334,\n",
       " 335,\n",
       " 347,\n",
       " 351,\n",
       " 354,\n",
       " 358,\n",
       " 359,\n",
       " 364,\n",
       " 367,\n",
       " 368,\n",
       " 375,\n",
       " 384,\n",
       " 388,\n",
       " 409,\n",
       " 410,\n",
       " 411,\n",
       " 413,\n",
       " 415,\n",
       " 420,\n",
       " 425,\n",
       " 428,\n",
       " 431,\n",
       " 444,\n",
       " 451,\n",
       " 454,\n",
       " 457,\n",
       " 459,\n",
       " 464,\n",
       " 466,\n",
       " 468,\n",
       " 470,\n",
       " 475,\n",
       " 481,\n",
       " 485,\n",
       " 490,\n",
       " 495,\n",
       " 497,\n",
       " 502,\n",
       " 507,\n",
       " 511,\n",
       " 517,\n",
       " 522,\n",
       " 524,\n",
       " 527,\n",
       " 531,\n",
       " 533,\n",
       " 538,\n",
       " 547,\n",
       " 552,\n",
       " 557,\n",
       " 560,\n",
       " 563,\n",
       " 564,\n",
       " 568,\n",
       " 573,\n",
       " 578,\n",
       " 584,\n",
       " 589,\n",
       " 593,\n",
       " 596,\n",
       " 598,\n",
       " 601,\n",
       " 602,\n",
       " 611,\n",
       " 612,\n",
       " 613,\n",
       " 629,\n",
       " 633,\n",
       " 639,\n",
       " 643,\n",
       " 648,\n",
       " 650,\n",
       " 653,\n",
       " 656,\n",
       " 667,\n",
       " 669,\n",
       " 674,\n",
       " 680,\n",
       " 692,\n",
       " 697,\n",
       " 709,\n",
       " 711,\n",
       " 718,\n",
       " 727,\n",
       " 732,\n",
       " 738,\n",
       " 739,\n",
       " 740,\n",
       " 760,\n",
       " 766,\n",
       " 768,\n",
       " 773,\n",
       " 776,\n",
       " 778,\n",
       " 783,\n",
       " 790,\n",
       " 792,\n",
       " 793,\n",
       " 815,\n",
       " 825,\n",
       " 826,\n",
       " 828,\n",
       " 832,\n",
       " 837,\n",
       " 839,\n",
       " 846,\n",
       " 849,\n",
       " 859,\n",
       " 863,\n",
       " 868,\n",
       " 878,\n",
       " 888]"
      ]
     },
     "execution_count": 47,
     "metadata": {},
     "output_type": "execute_result"
    }
   ],
   "source": [
    "index=titanic_df[titanic_df['Age'].isnull()].index.to_list()\n",
    "index"
   ]
  },
  {
   "cell_type": "code",
   "execution_count": 48,
   "id": "41e266b5",
   "metadata": {
    "scrolled": true
   },
   "outputs": [
    {
     "data": {
      "text/plain": [
       "0      22\n",
       "1      35\n",
       "2      31\n",
       "3      29\n",
       "4      42\n",
       "       ..\n",
       "172    39\n",
       "173    36\n",
       "174    37\n",
       "175    36\n",
       "176    25\n",
       "Length: 177, dtype: int32"
      ]
     },
     "execution_count": 48,
     "metadata": {},
     "output_type": "execute_result"
    }
   ],
   "source": [
    " \n",
    "fill=np.random.randint(15,44,size=177 )\n",
    "fill=pd.Series(fill)\n",
    "fill"
   ]
  },
  {
   "cell_type": "code",
   "execution_count": 49,
   "id": "0cd1e248",
   "metadata": {},
   "outputs": [],
   "source": [
    "# to iterate over multiple lists at a time\n",
    "import itertools "
   ]
  },
  {
   "cell_type": "code",
   "execution_count": 50,
   "id": "976b53fe",
   "metadata": {},
   "outputs": [
    {
     "name": "stdout",
     "output_type": "stream",
     "text": [
      "22 5\n",
      "15.0\n",
      "35 17\n",
      "42.0\n",
      "31 19\n",
      "nan\n",
      "29 26\n",
      "nan\n",
      "42 28\n",
      "nan\n",
      "31 29\n",
      "nan\n",
      "40 31\n",
      "40.0\n",
      "36 32\n",
      "nan\n",
      "28 36\n",
      "42.0\n",
      "39 42\n",
      "14.0\n",
      "22 45\n",
      "15.0\n",
      "43 46\n",
      "3.0\n",
      "25 47\n",
      "38.0\n",
      "19 48\n",
      "31.0\n",
      "34 55\n",
      "28.0\n",
      "31 64\n",
      "40.0\n",
      "38 65\n",
      "18.0\n",
      "15 76\n",
      "55.0\n",
      "38 77\n",
      "18.0\n",
      "42 82\n",
      "39.0\n",
      "34 87\n",
      "28.0\n",
      "18 95\n",
      "31.0\n",
      "43 101\n",
      "3.0\n",
      "15 107\n",
      "55.0\n",
      "23 109\n",
      "28.0\n",
      "21 121\n",
      "34.0\n",
      "21 126\n",
      "34.0\n",
      "27 128\n",
      "19.0\n",
      "40 140\n",
      "40.0\n",
      "43 154\n",
      "3.0\n",
      "30 158\n",
      "40.0\n",
      "18 159\n",
      "31.0\n",
      "32 166\n",
      "36.0\n",
      "43 168\n",
      "3.0\n",
      "40 176\n",
      "40.0\n",
      "17 180\n",
      "35.0\n",
      "40 181\n",
      "40.0\n",
      "32 185\n",
      "36.0\n",
      "20 186\n",
      "35.0\n",
      "19 196\n",
      "31.0\n",
      "37 198\n",
      "21.0\n",
      "41 201\n",
      "27.0\n",
      "28 214\n",
      "42.0\n",
      "36 223\n",
      "28.0\n",
      "43 229\n",
      "3.0\n",
      "18 235\n",
      "31.0\n",
      "34 240\n",
      "28.0\n",
      "35 241\n",
      "42.0\n",
      "43 250\n",
      "3.0\n",
      "32 256\n",
      "36.0\n",
      "35 260\n",
      "42.0\n",
      "39 264\n",
      "14.0\n",
      "19 270\n",
      "31.0\n",
      "15 274\n",
      "55.0\n",
      "15 277\n",
      "55.0\n",
      "34 284\n",
      "28.0\n",
      "43 295\n",
      "3.0\n",
      "19 298\n",
      "31.0\n",
      "17 300\n",
      "35.0\n",
      "18 301\n",
      "31.0\n",
      "36 303\n",
      "28.0\n",
      "31 304\n",
      "40.0\n",
      "18 306\n",
      "31.0\n",
      "32 324\n",
      "36.0\n",
      "19 330\n",
      "31.0\n",
      "32 334\n",
      "36.0\n",
      "17 335\n",
      "35.0\n",
      "15 347\n",
      "55.0\n",
      "26 351\n",
      "29.0\n",
      "41 354\n",
      "27.0\n",
      "19 358\n",
      "31.0\n",
      "35 359\n",
      "42.0\n",
      "35 364\n",
      "42.0\n",
      "36 367\n",
      "28.0\n",
      "42 368\n",
      "39.0\n",
      "33 375\n",
      "66.0\n",
      "27 384\n",
      "19.0\n",
      "26 388\n",
      "29.0\n",
      "30 409\n",
      "40.0\n",
      "24 410\n",
      "8.0\n",
      "24 411\n",
      "8.0\n",
      "19 413\n",
      "31.0\n",
      "41 415\n",
      "27.0\n",
      "19 420\n",
      "31.0\n",
      "16 425\n",
      "2.0\n",
      "25 428\n",
      "38.0\n",
      "42 431\n",
      "39.0\n",
      "30 444\n",
      "40.0\n",
      "43 451\n",
      "3.0\n",
      "32 454\n",
      "36.0\n",
      "41 457\n",
      "27.0\n",
      "30 459\n",
      "40.0\n",
      "22 464\n",
      "15.0\n",
      "37 466\n",
      "21.0\n",
      "20 468\n",
      "35.0\n",
      "17 470\n",
      "35.0\n",
      "15 475\n",
      "55.0\n",
      "29 481\n",
      "31.0\n",
      "34 485\n",
      "28.0\n",
      "29 490\n",
      "31.0\n",
      "20 495\n",
      "35.0\n",
      "30 497\n",
      "40.0\n",
      "36 502\n",
      "28.0\n",
      "17 507\n",
      "35.0\n",
      "37 511\n",
      "21.0\n",
      "20 517\n",
      "35.0\n",
      "21 522\n",
      "34.0\n",
      "26 524\n",
      "29.0\n",
      "39 527\n",
      "14.0\n",
      "23 531\n",
      "28.0\n",
      "23 533\n",
      "28.0\n",
      "23 538\n",
      "28.0\n",
      "32 547\n",
      "36.0\n",
      "23 552\n",
      "28.0\n",
      "37 557\n",
      "21.0\n",
      "40 560\n",
      "40.0\n",
      "19 563\n",
      "31.0\n",
      "17 564\n",
      "35.0\n",
      "26 568\n",
      "29.0\n",
      "23 573\n",
      "28.0\n",
      "17 578\n",
      "35.0\n",
      "36 584\n",
      "28.0\n",
      "20 589\n",
      "35.0\n",
      "30 593\n",
      "40.0\n",
      "22 596\n",
      "15.0\n",
      "32 598\n",
      "36.0\n",
      "33 601\n",
      "66.0\n",
      "21 602\n",
      "34.0\n",
      "38 611\n",
      "18.0\n",
      "42 612\n",
      "39.0\n",
      "39 613\n",
      "14.0\n",
      "23 629\n",
      "28.0\n",
      "33 633\n",
      "66.0\n",
      "38 639\n",
      "18.0\n",
      "42 643\n",
      "39.0\n",
      "43 648\n",
      "3.0\n",
      "41 650\n",
      "27.0\n",
      "25 653\n",
      "38.0\n",
      "35 656\n",
      "42.0\n",
      "41 667\n",
      "27.0\n",
      "17 669\n",
      "35.0\n",
      "31 674\n",
      "40.0\n",
      "28 680\n",
      "42.0\n",
      "16 692\n",
      "2.0\n",
      "22 697\n",
      "15.0\n",
      "42 709\n",
      "39.0\n",
      "43 711\n",
      "3.0\n",
      "22 718\n",
      "15.0\n",
      "41 727\n",
      "27.0\n",
      "40 732\n",
      "40.0\n",
      "36 738\n",
      "28.0\n",
      "17 739\n",
      "35.0\n",
      "21 740\n",
      "34.0\n",
      "36 760\n",
      "28.0\n",
      "43 766\n",
      "3.0\n",
      "38 768\n",
      "18.0\n",
      "27 773\n",
      "19.0\n",
      "28 776\n",
      "42.0\n",
      "29 778\n",
      "31.0\n",
      "16 783\n",
      "2.0\n",
      "25 790\n",
      "38.0\n",
      "31 792\n",
      "40.0\n",
      "19 793\n",
      "31.0\n",
      "23 815\n",
      "28.0\n",
      "29 825\n",
      "31.0\n",
      "32 826\n",
      "36.0\n",
      "37 828\n",
      "21.0\n",
      "25 832\n",
      "38.0\n",
      "18 837\n",
      "31.0\n",
      "35 839\n",
      "42.0\n",
      "15 846\n",
      "55.0\n",
      "43 849\n",
      "3.0\n",
      "39 859\n",
      "14.0\n",
      "36 863\n",
      "28.0\n",
      "37 868\n",
      "21.0\n",
      "36 878\n",
      "28.0\n",
      "25 888\n",
      "38.0\n"
     ]
    }
   ],
   "source": [
    "\n",
    "for i,j in  zip(fill ,index):\n",
    "    print(i,j)\n",
    "    titanic_df['Age'][j]=i\n",
    "    print(titanic_df['Age'][i])"
   ]
  },
  {
   "cell_type": "code",
   "execution_count": 51,
   "id": "31960ce8",
   "metadata": {},
   "outputs": [
    {
     "data": {
      "text/plain": [
       "0"
      ]
     },
     "execution_count": 51,
     "metadata": {},
     "output_type": "execute_result"
    }
   ],
   "source": [
    "#checking no of null values in Age Column\n",
    "titanic_df['Age'].isna().sum()"
   ]
  },
  {
   "cell_type": "markdown",
   "id": "c1cf275b",
   "metadata": {},
   "source": [
    "#### we can see there is no null value present in Age Column"
   ]
  },
  {
   "cell_type": "code",
   "execution_count": 52,
   "id": "80c4b4da",
   "metadata": {},
   "outputs": [
    {
     "data": {
      "text/plain": [
       "0     22.0\n",
       "1     38.0\n",
       "2     26.0\n",
       "3     35.0\n",
       "4     35.0\n",
       "5     22.0\n",
       "6     54.0\n",
       "7      2.0\n",
       "8     27.0\n",
       "9     14.0\n",
       "10     4.0\n",
       "11    58.0\n",
       "12    20.0\n",
       "13    39.0\n",
       "14    14.0\n",
       "15    55.0\n",
       "16     2.0\n",
       "17    35.0\n",
       "18    31.0\n",
       "19    31.0\n",
       "Name: Age, dtype: float64"
      ]
     },
     "execution_count": 52,
     "metadata": {},
     "output_type": "execute_result"
    }
   ],
   "source": [
    "#Dispalying Age column filled with new  values\n",
    "titanic_df['Age'].head(20)"
   ]
  },
  {
   "cell_type": "markdown",
   "id": "8ee7d2a1",
   "metadata": {},
   "source": [
    "#### Checking Collinearity "
   ]
  },
  {
   "cell_type": "code",
   "execution_count": 53,
   "id": "55a6ee6c",
   "metadata": {},
   "outputs": [
    {
     "data": {
      "text/html": [
       "<div>\n",
       "<style scoped>\n",
       "    .dataframe tbody tr th:only-of-type {\n",
       "        vertical-align: middle;\n",
       "    }\n",
       "\n",
       "    .dataframe tbody tr th {\n",
       "        vertical-align: top;\n",
       "    }\n",
       "\n",
       "    .dataframe thead th {\n",
       "        text-align: right;\n",
       "    }\n",
       "</style>\n",
       "<table border=\"1\" class=\"dataframe\">\n",
       "  <thead>\n",
       "    <tr style=\"text-align: right;\">\n",
       "      <th></th>\n",
       "      <th>Survived</th>\n",
       "      <th>Pclass</th>\n",
       "      <th>Age</th>\n",
       "      <th>SibSp</th>\n",
       "      <th>Parch</th>\n",
       "      <th>Fare</th>\n",
       "    </tr>\n",
       "  </thead>\n",
       "  <tbody>\n",
       "    <tr>\n",
       "      <th>Survived</th>\n",
       "      <td>1.000000</td>\n",
       "      <td>-0.338481</td>\n",
       "      <td>-0.066407</td>\n",
       "      <td>-0.035322</td>\n",
       "      <td>0.081629</td>\n",
       "      <td>0.257307</td>\n",
       "    </tr>\n",
       "    <tr>\n",
       "      <th>Pclass</th>\n",
       "      <td>-0.338481</td>\n",
       "      <td>1.000000</td>\n",
       "      <td>-0.324011</td>\n",
       "      <td>0.083081</td>\n",
       "      <td>0.018443</td>\n",
       "      <td>-0.549500</td>\n",
       "    </tr>\n",
       "    <tr>\n",
       "      <th>Age</th>\n",
       "      <td>-0.066407</td>\n",
       "      <td>-0.324011</td>\n",
       "      <td>1.000000</td>\n",
       "      <td>-0.226342</td>\n",
       "      <td>-0.172337</td>\n",
       "      <td>0.094921</td>\n",
       "    </tr>\n",
       "    <tr>\n",
       "      <th>SibSp</th>\n",
       "      <td>-0.035322</td>\n",
       "      <td>0.083081</td>\n",
       "      <td>-0.226342</td>\n",
       "      <td>1.000000</td>\n",
       "      <td>0.414838</td>\n",
       "      <td>0.159651</td>\n",
       "    </tr>\n",
       "    <tr>\n",
       "      <th>Parch</th>\n",
       "      <td>0.081629</td>\n",
       "      <td>0.018443</td>\n",
       "      <td>-0.172337</td>\n",
       "      <td>0.414838</td>\n",
       "      <td>1.000000</td>\n",
       "      <td>0.216225</td>\n",
       "    </tr>\n",
       "    <tr>\n",
       "      <th>Fare</th>\n",
       "      <td>0.257307</td>\n",
       "      <td>-0.549500</td>\n",
       "      <td>0.094921</td>\n",
       "      <td>0.159651</td>\n",
       "      <td>0.216225</td>\n",
       "      <td>1.000000</td>\n",
       "    </tr>\n",
       "  </tbody>\n",
       "</table>\n",
       "</div>"
      ],
      "text/plain": [
       "          Survived    Pclass       Age     SibSp     Parch      Fare\n",
       "Survived  1.000000 -0.338481 -0.066407 -0.035322  0.081629  0.257307\n",
       "Pclass   -0.338481  1.000000 -0.324011  0.083081  0.018443 -0.549500\n",
       "Age      -0.066407 -0.324011  1.000000 -0.226342 -0.172337  0.094921\n",
       "SibSp    -0.035322  0.083081 -0.226342  1.000000  0.414838  0.159651\n",
       "Parch     0.081629  0.018443 -0.172337  0.414838  1.000000  0.216225\n",
       "Fare      0.257307 -0.549500  0.094921  0.159651  0.216225  1.000000"
      ]
     },
     "execution_count": 53,
     "metadata": {},
     "output_type": "execute_result"
    }
   ],
   "source": [
    "## correlation metrics\n",
    "titanic_df.corr()"
   ]
  },
  {
   "cell_type": "code",
   "execution_count": 54,
   "id": "63c2b2e5",
   "metadata": {},
   "outputs": [
    {
     "data": {
      "text/plain": [
       "<AxesSubplot:>"
      ]
     },
     "execution_count": 54,
     "metadata": {},
     "output_type": "execute_result"
    },
    {
     "data": {
      "image/png": "[encoded data removed]",
      "text/plain": [
       "<Figure size 864x720 with 2 Axes>"
      ]
     },
     "metadata": {
      "needs_background": "light"
     },
     "output_type": "display_data"
    }
   ],
   "source": [
    "# using pearson correlation\n",
    "plt.figure(figsize=(12,10))\n",
    "cor=titanic_df.corr()\n",
    "sns.heatmap(cor ,annot=True )"
   ]
  },
  {
   "cell_type": "markdown",
   "id": "5c430ca6",
   "metadata": {},
   "source": [
    "#### Checking Collinearity of target variable with other independent variables"
   ]
  },
  {
   "cell_type": "code",
   "execution_count": 55,
   "id": "43886491",
   "metadata": {},
   "outputs": [
    {
     "data": {
      "text/plain": [
       "Survived    1.000000\n",
       "Fare        0.257307\n",
       "Parch       0.081629\n",
       "SibSp      -0.035322\n",
       "Age        -0.066407\n",
       "Pclass     -0.338481\n",
       "Name: Survived, dtype: float64"
      ]
     },
     "execution_count": 55,
     "metadata": {},
     "output_type": "execute_result"
    }
   ],
   "source": [
    "titanic_df.corr()['Survived'].sort_values(ascending=False)"
   ]
  },
  {
   "cell_type": "raw",
   "id": "87d5f563",
   "metadata": {},
   "source": [
    "1)We can observe 'Fair'(0.25) has heighest +ve correlation with 'Survived' .Other +ve correlated feature is 'Parch' .\n",
    "2)We can observe 'Pclass' (-0.33)   has heighest -ve correlation with 'Survived'  .Other -ve correlated features are\n",
    "'Age' and 'SibSp'\n"
   ]
  },
  {
   "cell_type": "code",
   "execution_count": 56,
   "id": "79597185",
   "metadata": {
    "scrolled": true
   },
   "outputs": [
    {
     "data": {
      "text/plain": [
       "Text(0.5, 1.0, 'Correlation with target')"
      ]
     },
     "execution_count": 56,
     "metadata": {},
     "output_type": "execute_result"
    },
    {
     "data": {
      "image/png": "[encoded data removed]",
      "text/plain": [
       "<Figure size 1512x504 with 1 Axes>"
      ]
     },
     "metadata": {
      "needs_background": "light"
     },
     "output_type": "display_data"
    }
   ],
   "source": [
    "titanic_df.corr()['Survived'].sort_values(ascending=False).drop(['Survived']).plot(kind='bar')\n",
    "plt.xlabel('Features',fontsize=20)\n",
    "plt.ylabel('Survived')\n",
    "plt.title('Correlation with target')"
   ]
  },
  {
   "cell_type": "markdown",
   "id": "a2205903",
   "metadata": {},
   "source": [
    "#### Data Preprocessing for 'sex' feature into a numeric value: male(1) and  female(0) and 'Embarked' feature"
   ]
  },
  {
   "cell_type": "code",
   "execution_count": 57,
   "id": "7c10375c",
   "metadata": {},
   "outputs": [],
   "source": [
    "from sklearn.preprocessing import LabelEncoder"
   ]
  },
  {
   "cell_type": "code",
   "execution_count": 58,
   "id": "5c6cfb3c",
   "metadata": {},
   "outputs": [],
   "source": [
    "LE = LabelEncoder()\n",
    "titanic_df['Sex'] = LE.fit_transform(titanic_df['Sex'])\n",
    "titanic_df['Embarked'] = LE.fit_transform(titanic_df['Embarked'])"
   ]
  },
  {
   "cell_type": "code",
   "execution_count": 59,
   "id": "2f943904",
   "metadata": {},
   "outputs": [
    {
     "name": "stdout",
     "output_type": "stream",
     "text": [
      "0      2\n",
      "1      0\n",
      "2      2\n",
      "3      2\n",
      "4      2\n",
      "      ..\n",
      "886    2\n",
      "887    2\n",
      "888    2\n",
      "889    0\n",
      "890    1\n",
      "Name: Embarked, Length: 891, dtype: int32\n"
     ]
    }
   ],
   "source": [
    "print(titanic_df['Embarked'])"
   ]
  },
  {
   "cell_type": "markdown",
   "id": "df554f8b",
   "metadata": {},
   "source": [
    "here we can find S,C and Q got transformed in 1,2 ,3 as S=2,C=0,Q =1 "
   ]
  },
  {
   "cell_type": "code",
   "execution_count": 60,
   "id": "1165baa9",
   "metadata": {
    "scrolled": true
   },
   "outputs": [
    {
     "name": "stdout",
     "output_type": "stream",
     "text": [
      "0      1\n",
      "1      0\n",
      "2      0\n",
      "3      0\n",
      "4      1\n",
      "      ..\n",
      "886    1\n",
      "887    0\n",
      "888    0\n",
      "889    1\n",
      "890    1\n",
      "Name: Sex, Length: 891, dtype: int32\n"
     ]
    }
   ],
   "source": [
    "print(titanic_df['Sex'])"
   ]
  },
  {
   "cell_type": "markdown",
   "id": "d8c6deef",
   "metadata": {},
   "source": [
    "Here we can find Male and Female got transformed in 0,1 as Male=1,Female=0"
   ]
  },
  {
   "cell_type": "markdown",
   "id": "1a278dd1",
   "metadata": {},
   "source": [
    "#### Splitting Data in to Train Test "
   ]
  },
  {
   "cell_type": "code",
   "execution_count": 63,
   "id": "e5881250",
   "metadata": {},
   "outputs": [],
   "source": [
    "# Catagorical data column encoding using ordinal encoder\n",
    "from sklearn.preprocessing import OrdinalEncoder\n",
    "onc= OrdinalEncoder()\n",
    "titanic_df['Ticket']=onc.fit_transform(titanic_df['Ticket'].values.reshape(-1,1))"
   ]
  },
  {
   "cell_type": "code",
   "execution_count": 64,
   "id": "20bd4787",
   "metadata": {
    "scrolled": false
   },
   "outputs": [
    {
     "data": {
      "text/html": [
       "<div>\n",
       "<style scoped>\n",
       "    .dataframe tbody tr th:only-of-type {\n",
       "        vertical-align: middle;\n",
       "    }\n",
       "\n",
       "    .dataframe tbody tr th {\n",
       "        vertical-align: top;\n",
       "    }\n",
       "\n",
       "    .dataframe thead th {\n",
       "        text-align: right;\n",
       "    }\n",
       "</style>\n",
       "<table border=\"1\" class=\"dataframe\">\n",
       "  <thead>\n",
       "    <tr style=\"text-align: right;\">\n",
       "      <th></th>\n",
       "      <th>Pclass</th>\n",
       "      <th>Sex</th>\n",
       "      <th>Age</th>\n",
       "      <th>SibSp</th>\n",
       "      <th>Parch</th>\n",
       "      <th>Ticket</th>\n",
       "      <th>Fare</th>\n",
       "      <th>Embarked</th>\n",
       "    </tr>\n",
       "  </thead>\n",
       "  <tbody>\n",
       "    <tr>\n",
       "      <th>0</th>\n",
       "      <td>3</td>\n",
       "      <td>1</td>\n",
       "      <td>22.0</td>\n",
       "      <td>1</td>\n",
       "      <td>0</td>\n",
       "      <td>523.0</td>\n",
       "      <td>7.2500</td>\n",
       "      <td>2</td>\n",
       "    </tr>\n",
       "    <tr>\n",
       "      <th>1</th>\n",
       "      <td>1</td>\n",
       "      <td>0</td>\n",
       "      <td>38.0</td>\n",
       "      <td>1</td>\n",
       "      <td>0</td>\n",
       "      <td>596.0</td>\n",
       "      <td>71.2833</td>\n",
       "      <td>0</td>\n",
       "    </tr>\n",
       "    <tr>\n",
       "      <th>2</th>\n",
       "      <td>3</td>\n",
       "      <td>0</td>\n",
       "      <td>26.0</td>\n",
       "      <td>0</td>\n",
       "      <td>0</td>\n",
       "      <td>669.0</td>\n",
       "      <td>7.9250</td>\n",
       "      <td>2</td>\n",
       "    </tr>\n",
       "    <tr>\n",
       "      <th>3</th>\n",
       "      <td>1</td>\n",
       "      <td>0</td>\n",
       "      <td>35.0</td>\n",
       "      <td>1</td>\n",
       "      <td>0</td>\n",
       "      <td>49.0</td>\n",
       "      <td>53.1000</td>\n",
       "      <td>2</td>\n",
       "    </tr>\n",
       "    <tr>\n",
       "      <th>4</th>\n",
       "      <td>3</td>\n",
       "      <td>1</td>\n",
       "      <td>35.0</td>\n",
       "      <td>0</td>\n",
       "      <td>0</td>\n",
       "      <td>472.0</td>\n",
       "      <td>8.0500</td>\n",
       "      <td>2</td>\n",
       "    </tr>\n",
       "    <tr>\n",
       "      <th>...</th>\n",
       "      <td>...</td>\n",
       "      <td>...</td>\n",
       "      <td>...</td>\n",
       "      <td>...</td>\n",
       "      <td>...</td>\n",
       "      <td>...</td>\n",
       "      <td>...</td>\n",
       "      <td>...</td>\n",
       "    </tr>\n",
       "    <tr>\n",
       "      <th>886</th>\n",
       "      <td>2</td>\n",
       "      <td>1</td>\n",
       "      <td>27.0</td>\n",
       "      <td>0</td>\n",
       "      <td>0</td>\n",
       "      <td>101.0</td>\n",
       "      <td>13.0000</td>\n",
       "      <td>2</td>\n",
       "    </tr>\n",
       "    <tr>\n",
       "      <th>887</th>\n",
       "      <td>1</td>\n",
       "      <td>0</td>\n",
       "      <td>19.0</td>\n",
       "      <td>0</td>\n",
       "      <td>0</td>\n",
       "      <td>14.0</td>\n",
       "      <td>30.0000</td>\n",
       "      <td>2</td>\n",
       "    </tr>\n",
       "    <tr>\n",
       "      <th>888</th>\n",
       "      <td>3</td>\n",
       "      <td>0</td>\n",
       "      <td>25.0</td>\n",
       "      <td>1</td>\n",
       "      <td>2</td>\n",
       "      <td>675.0</td>\n",
       "      <td>23.4500</td>\n",
       "      <td>2</td>\n",
       "    </tr>\n",
       "    <tr>\n",
       "      <th>889</th>\n",
       "      <td>1</td>\n",
       "      <td>1</td>\n",
       "      <td>26.0</td>\n",
       "      <td>0</td>\n",
       "      <td>0</td>\n",
       "      <td>8.0</td>\n",
       "      <td>30.0000</td>\n",
       "      <td>0</td>\n",
       "    </tr>\n",
       "    <tr>\n",
       "      <th>890</th>\n",
       "      <td>3</td>\n",
       "      <td>1</td>\n",
       "      <td>32.0</td>\n",
       "      <td>0</td>\n",
       "      <td>0</td>\n",
       "      <td>466.0</td>\n",
       "      <td>7.7500</td>\n",
       "      <td>1</td>\n",
       "    </tr>\n",
       "  </tbody>\n",
       "</table>\n",
       "<p>891 rows × 8 columns</p>\n",
       "</div>"
      ],
      "text/plain": [
       "     Pclass  Sex   Age  SibSp  Parch  Ticket     Fare  Embarked\n",
       "0         3    1  22.0      1      0   523.0   7.2500         2\n",
       "1         1    0  38.0      1      0   596.0  71.2833         0\n",
       "2         3    0  26.0      0      0   669.0   7.9250         2\n",
       "3         1    0  35.0      1      0    49.0  53.1000         2\n",
       "4         3    1  35.0      0      0   472.0   8.0500         2\n",
       "..      ...  ...   ...    ...    ...     ...      ...       ...\n",
       "886       2    1  27.0      0      0   101.0  13.0000         2\n",
       "887       1    0  19.0      0      0    14.0  30.0000         2\n",
       "888       3    0  25.0      1      2   675.0  23.4500         2\n",
       "889       1    1  26.0      0      0     8.0  30.0000         0\n",
       "890       3    1  32.0      0      0   466.0   7.7500         1\n",
       "\n",
       "[891 rows x 8 columns]"
      ]
     },
     "execution_count": 64,
     "metadata": {},
     "output_type": "execute_result"
    }
   ],
   "source": [
    "x = titanic_df.drop('Survived',axis=1)\n",
    "x"
   ]
  },
  {
   "cell_type": "code",
   "execution_count": 65,
   "id": "bc83377e",
   "metadata": {
    "scrolled": true
   },
   "outputs": [
    {
     "data": {
      "text/plain": [
       "0      0\n",
       "1      1\n",
       "2      1\n",
       "3      1\n",
       "4      0\n",
       "      ..\n",
       "886    0\n",
       "887    1\n",
       "888    0\n",
       "889    1\n",
       "890    0\n",
       "Name: Survived, Length: 891, dtype: int64"
      ]
     },
     "execution_count": 65,
     "metadata": {},
     "output_type": "execute_result"
    }
   ],
   "source": [
    "y=titanic_df['Survived']\n",
    "y"
   ]
  },
  {
   "cell_type": "markdown",
   "id": "6d13d070",
   "metadata": {},
   "source": [
    "### Logistic Regression  Model-1"
   ]
  },
  {
   "cell_type": "code",
   "execution_count": 66,
   "id": "fc9f857a",
   "metadata": {},
   "outputs": [],
   "source": [
    "from sklearn.model_selection import train_test_split\n",
    "from sklearn.linear_model import LogisticRegression\n",
    "from sklearn.metrics import accuracy_score ,classification_report,confusion_matrix\n",
    "lr=LogisticRegression()"
   ]
  },
  {
   "cell_type": "markdown",
   "id": "12fe2ab7",
   "metadata": {},
   "source": [
    "#### will try to find out best value Random State"
   ]
  },
  {
   "cell_type": "code",
   "execution_count": 69,
   "id": "77b13f65",
   "metadata": {},
   "outputs": [
    {
     "name": "stdout",
     "output_type": "stream",
     "text": [
      "[[103  12]\n",
      " [ 29  35]]\n"
     ]
    }
   ],
   "source": [
    "max_accu = 0\n",
    "max_randst = 0\n",
    "for i in range (0,1000):\n",
    "    x_train,x_test,y_train,y_test = train_test_split(x,y,test_size=0.2, random_state=i)\n",
    "    lr.fit(x_train,y_train)\n",
    "    \n",
    "    pred_test=lr.predict(x_test)\n",
    "    accu_score= accuracy_score(y_test,pred_test)\n",
    "    if max_accu<accu_score:\n",
    "        max_accu= accu_score\n",
    "        max_randst= i\n",
    "    \n",
    "print(confusion_matrix(y_test,pred_test))"
   ]
  },
  {
   "cell_type": "code",
   "execution_count": 70,
   "id": "0a3c60d7",
   "metadata": {},
   "outputs": [
    {
     "name": "stdout",
     "output_type": "stream",
     "text": [
      "max accuracy score is : 87.2 at random state : 455\n"
     ]
    }
   ],
   "source": [
    "print(\"max accuracy score is :\", round(max_accu*100 ,1),\"at random state :\",max_randst)"
   ]
  },
  {
   "cell_type": "code",
   "execution_count": 71,
   "id": "6651e2dc",
   "metadata": {},
   "outputs": [],
   "source": [
    "x_train,x_test,y_train,y_test = train_test_split(x,y,test_size=0.2, random_state=417)\n",
    "lr.fit(x_train,y_train)\n",
    "\n",
    "pred_test=lr.predict(x_test)\n",
    "accu_score= accuracy_score(y_test,pred_test)"
   ]
  },
  {
   "cell_type": "code",
   "execution_count": 72,
   "id": "97394a4c",
   "metadata": {},
   "outputs": [
    {
     "name": "stdout",
     "output_type": "stream",
     "text": [
      "Accuracy score is : 86.59 \n",
      "\n",
      "Confusion_matrix is :\n",
      "\n",
      "[[108   7]\n",
      " [ 17  47]] \n",
      "\n",
      "Classification report :\n",
      "\n",
      "              precision    recall  f1-score   support\n",
      "\n",
      "           0       0.86      0.94      0.90       115\n",
      "           1       0.87      0.73      0.80        64\n",
      "\n",
      "    accuracy                           0.87       179\n",
      "   macro avg       0.87      0.84      0.85       179\n",
      "weighted avg       0.87      0.87      0.86       179\n",
      "\n"
     ]
    }
   ],
   "source": [
    "from sklearn.metrics import accuracy_score ,classification_report,confusion_matrix\n",
    "print(\"Accuracy score is :\",round(accu_score*100 ,2),'\\n')\n",
    "print(\"Confusion_matrix is :\\n\")\n",
    "print(confusion_matrix(y_test,pred_test),'\\n')\n",
    "print(\"Classification report :\\n\")\n",
    "print(classification_report(y_test,pred_test))"
   ]
  },
  {
   "cell_type": "markdown",
   "id": "d1da4bd3",
   "metadata": {},
   "source": [
    "### Random Forest Classifier Model-2"
   ]
  },
  {
   "cell_type": "code",
   "execution_count": 73,
   "id": "6c7fba36",
   "metadata": {},
   "outputs": [],
   "source": [
    "from sklearn.ensemble import RandomForestClassifier"
   ]
  },
  {
   "cell_type": "code",
   "execution_count": 74,
   "id": "3f634e8f",
   "metadata": {},
   "outputs": [
    {
     "name": "stdout",
     "output_type": "stream",
     "text": [
      "Accuracy score is : 88.83 \n",
      "\n",
      "Confusion_matrix is :\n",
      "\n",
      "[[109   6]\n",
      " [ 14  50]] \n",
      "\n",
      "Classification Report score is :\n",
      "\n",
      "              precision    recall  f1-score   support\n",
      "\n",
      "           0       0.89      0.95      0.92       115\n",
      "           1       0.89      0.78      0.83        64\n",
      "\n",
      "    accuracy                           0.89       179\n",
      "   macro avg       0.89      0.86      0.87       179\n",
      "weighted avg       0.89      0.89      0.89       179\n",
      "\n"
     ]
    }
   ],
   "source": [
    "rf = RandomForestClassifier()\n",
    "rf.fit(x_train,y_train)\n",
    "predrf=rf.predict(x_test)\n",
    "print(\"Accuracy score is :\",round(accuracy_score(y_test,predrf)*100 ,2),'\\n')\n",
    "print(\"Confusion_matrix is :\\n\")\n",
    "print(confusion_matrix(y_test,predrf),'\\n')\n",
    "print(\"Classification Report score is :\\n\")\n",
    "print(classification_report(y_test,predrf))"
   ]
  },
  {
   "cell_type": "markdown",
   "id": "9ac83e22",
   "metadata": {},
   "source": [
    "### SVC Model-3"
   ]
  },
  {
   "cell_type": "code",
   "execution_count": 75,
   "id": "bea46bef",
   "metadata": {},
   "outputs": [],
   "source": [
    "from sklearn.svm import SVC"
   ]
  },
  {
   "cell_type": "code",
   "execution_count": 76,
   "id": "8ebfd0fc",
   "metadata": {},
   "outputs": [
    {
     "name": "stdout",
     "output_type": "stream",
     "text": [
      "Accuracy score is : 66.48 \n",
      "\n",
      "Confusion_matrix is :\n",
      "\n",
      "[[102  13]\n",
      " [ 47  17]] \n",
      "\n",
      "Classification Report score is :\n",
      "\n",
      "              precision    recall  f1-score   support\n",
      "\n",
      "           0       0.68      0.89      0.77       115\n",
      "           1       0.57      0.27      0.36        64\n",
      "\n",
      "    accuracy                           0.66       179\n",
      "   macro avg       0.63      0.58      0.57       179\n",
      "weighted avg       0.64      0.66      0.63       179\n",
      "\n"
     ]
    }
   ],
   "source": [
    "sv = SVC()\n",
    "sv.fit(x_train,y_train)\n",
    "predrf=sv.predict(x_test)\n",
    "print(\"Accuracy score is :\",round(accuracy_score(y_test,predrf)*100 ,2),'\\n')\n",
    "print(\"Confusion_matrix is :\\n\")      \n",
    "print(confusion_matrix(y_test,predrf),'\\n')\n",
    "print(\"Classification Report score is :\\n\")\n",
    "print(classification_report(y_test,predrf))"
   ]
  },
  {
   "cell_type": "markdown",
   "id": "1922df68",
   "metadata": {},
   "source": [
    "### Decision Tree Model-4"
   ]
  },
  {
   "cell_type": "code",
   "execution_count": 77,
   "id": "747028ef",
   "metadata": {},
   "outputs": [],
   "source": [
    "def model_implement(model_ref ,x_train,x_test,y_train,y_test):\n",
    "    model_ref.fit(x_train,y_train)\n",
    "    predrf=sv.predict(x_test)\n",
    "    print(\"Accuracy score is :\",round(accuracy_score(y_test,predrf)*100 ,2),'\\n')\n",
    "    print(confusion_matrix(y_test,predrf),'\\n')\n",
    "    print(\"Classification Report score is :\\n\")\n",
    "    print(classification_report(y_test,predrf))"
   ]
  },
  {
   "cell_type": "code",
   "execution_count": 78,
   "id": "f368a0a2",
   "metadata": {},
   "outputs": [],
   "source": [
    "from sklearn.tree import DecisionTreeClassifier"
   ]
  },
  {
   "cell_type": "code",
   "execution_count": 79,
   "id": "baf8fc1d",
   "metadata": {},
   "outputs": [
    {
     "name": "stdout",
     "output_type": "stream",
     "text": [
      "Accuracy score is : 66.48 \n",
      "\n",
      "[[102  13]\n",
      " [ 47  17]] \n",
      "\n",
      "Classification Report score is :\n",
      "\n",
      "              precision    recall  f1-score   support\n",
      "\n",
      "           0       0.68      0.89      0.77       115\n",
      "           1       0.57      0.27      0.36        64\n",
      "\n",
      "    accuracy                           0.66       179\n",
      "   macro avg       0.63      0.58      0.57       179\n",
      "weighted avg       0.64      0.66      0.63       179\n",
      "\n"
     ]
    }
   ],
   "source": [
    "dc= DecisionTreeClassifier()\n",
    "model_implement(dc ,x_train,x_test,y_train,y_test)"
   ]
  },
  {
   "cell_type": "code",
   "execution_count": 80,
   "id": "ae2770f4",
   "metadata": {},
   "outputs": [],
   "source": [
    "Model_report=pd.DataFrame()\n",
    "Model_report['Model_name']=['Logistic Regression','Random Forest Classifier','SVC','Decision Tree Classifier']\n",
    "Model_report['Accuracy_Score']=[87.71,85.47,65.92,70.39]\n",
    "Model_report['Confusion_matrix']=['[[106   9][ 13  51]]',\n",
    "                                 '[[104  11][ 15  49]]' ,\n",
    "                                  '[[101  14][ 47  17]]',\n",
    "                                  '[[104  11][ 42  22]]']"
   ]
  },
  {
   "cell_type": "markdown",
   "id": "e457df26",
   "metadata": {},
   "source": [
    "### Model_report"
   ]
  },
  {
   "cell_type": "code",
   "execution_count": 81,
   "id": "4496e4d7",
   "metadata": {},
   "outputs": [
    {
     "data": {
      "text/html": [
       "<div>\n",
       "<style scoped>\n",
       "    .dataframe tbody tr th:only-of-type {\n",
       "        vertical-align: middle;\n",
       "    }\n",
       "\n",
       "    .dataframe tbody tr th {\n",
       "        vertical-align: top;\n",
       "    }\n",
       "\n",
       "    .dataframe thead th {\n",
       "        text-align: right;\n",
       "    }\n",
       "</style>\n",
       "<table border=\"1\" class=\"dataframe\">\n",
       "  <thead>\n",
       "    <tr style=\"text-align: right;\">\n",
       "      <th></th>\n",
       "      <th>Model_name</th>\n",
       "      <th>Accuracy_Score</th>\n",
       "      <th>Confusion_matrix</th>\n",
       "    </tr>\n",
       "  </thead>\n",
       "  <tbody>\n",
       "    <tr>\n",
       "      <th>0</th>\n",
       "      <td>Logistic Regression</td>\n",
       "      <td>87.71</td>\n",
       "      <td>[[106   9][ 13  51]]</td>\n",
       "    </tr>\n",
       "    <tr>\n",
       "      <th>1</th>\n",
       "      <td>Random Forest Classifier</td>\n",
       "      <td>85.47</td>\n",
       "      <td>[[104  11][ 15  49]]</td>\n",
       "    </tr>\n",
       "    <tr>\n",
       "      <th>2</th>\n",
       "      <td>SVC</td>\n",
       "      <td>65.92</td>\n",
       "      <td>[[101  14][ 47  17]]</td>\n",
       "    </tr>\n",
       "    <tr>\n",
       "      <th>3</th>\n",
       "      <td>Decision Tree Classifier</td>\n",
       "      <td>70.39</td>\n",
       "      <td>[[104  11][ 42  22]]</td>\n",
       "    </tr>\n",
       "  </tbody>\n",
       "</table>\n",
       "</div>"
      ],
      "text/plain": [
       "                 Model_name  Accuracy_Score      Confusion_matrix\n",
       "0       Logistic Regression           87.71  [[106   9][ 13  51]]\n",
       "1  Random Forest Classifier           85.47  [[104  11][ 15  49]]\n",
       "2                       SVC           65.92  [[101  14][ 47  17]]\n",
       "3  Decision Tree Classifier           70.39  [[104  11][ 42  22]]"
      ]
     },
     "execution_count": 81,
     "metadata": {},
     "output_type": "execute_result"
    }
   ],
   "source": [
    "\n",
    "Model_report"
   ]
  },
  {
   "cell_type": "markdown",
   "id": "02f9946b",
   "metadata": {},
   "source": [
    "Since Logistic regression is performing better in terms of Accuracy_score and confusion matrix among rst of the all we will continue with it ."
   ]
  },
  {
   "cell_type": "markdown",
   "id": "26e592a8",
   "metadata": {},
   "source": [
    "### Hyper parameter tuning"
   ]
  },
  {
   "cell_type": "code",
   "execution_count": 82,
   "id": "70d4943d",
   "metadata": {},
   "outputs": [],
   "source": [
    "from sklearn.model_selection import GridSearchCV"
   ]
  },
  {
   "cell_type": "code",
   "execution_count": 83,
   "id": "83b0ee17",
   "metadata": {},
   "outputs": [
    {
     "data": {
      "text/plain": [
       "{'class_weight': 'balanced', 'multi_class': 'ovr', 'solver': 'newton-cg'}"
      ]
     },
     "execution_count": 83,
     "metadata": {},
     "output_type": "execute_result"
    }
   ],
   "source": [
    "solver_options = ['newton-cg', 'lbfgs', 'liblinear', 'sag']\n",
    "multi_class_options = ['ovr', 'multinomial']\n",
    "class_weight_options = ['None', 'balanced']\n",
    "\n",
    "param_grid = dict(solver = solver_options, multi_class = \n",
    "multi_class_options, class_weight = class_weight_options)\n",
    "grid = GridSearchCV(lr, param_grid, cv=12, scoring = \n",
    "'accuracy')\n",
    "grid.fit(x_train,y_train)\n",
    "grid.best_params_"
   ]
  },
  {
   "cell_type": "code",
   "execution_count": 84,
   "id": "221ec19e",
   "metadata": {},
   "outputs": [
    {
     "data": {
      "text/plain": [
       "0.8491620111731844"
      ]
     },
     "execution_count": 84,
     "metadata": {},
     "output_type": "execute_result"
    }
   ],
   "source": [
    "#prediction with best parameter\n",
    "grid_pred=grid.best_estimator_.predict(x_test) \n",
    "# best score \n",
    "accuracy_score(y_test,grid_pred)"
   ]
  },
  {
   "cell_type": "markdown",
   "id": "e4583bf1",
   "metadata": {},
   "source": [
    "#### ROC AUC plot\n"
   ]
  },
  {
   "cell_type": "code",
   "execution_count": 85,
   "id": "090a68ba",
   "metadata": {},
   "outputs": [
    {
     "data": {
      "text/plain": [
       "Text(0.5, 1.0, 'ROC AUC PLOT')"
      ]
     },
     "execution_count": 85,
     "metadata": {},
     "output_type": "execute_result"
    },
    {
     "data": {
      "image/png": "[encoded data removed]",
      "text/plain": [
       "<Figure size 1512x504 with 1 Axes>"
      ]
     },
     "metadata": {
      "needs_background": "light"
     },
     "output_type": "display_data"
    }
   ],
   "source": [
    "from sklearn.metrics import plot_roc_curve\n",
    "plot_roc_curve(grid.best_estimator_,x_test , y_test)\n",
    "plt.title(\"ROC AUC PLOT\")"
   ]
  },
  {
   "cell_type": "markdown",
   "id": "3997e1ef",
   "metadata": {},
   "source": [
    "AUC is 0.81 and Accuracy is 0.78 which is good ."
   ]
  },
  {
   "cell_type": "code",
   "execution_count": 86,
   "id": "ad6cd4bf",
   "metadata": {},
   "outputs": [
    {
     "data": {
      "text/plain": [
       "['Titanic_Prediction.pkl']"
      ]
     },
     "execution_count": 86,
     "metadata": {},
     "output_type": "execute_result"
    }
   ],
   "source": [
    "import joblib\n",
    "joblib.dump(grid.best_estimator_,\"Titanic_Prediction.pkl\")"
   ]
  },
  {
   "cell_type": "code",
   "execution_count": null,
   "id": "aeac117b",
   "metadata": {},
   "outputs": [],
   "source": []
  }
 ],
 "metadata": {
  "kernelspec": {
   "display_name": "Python 3",
   "language": "python",
   "name": "python3"
  },
  "language_info": {
   "codemirror_mode": {
    "name": "ipython",
    "version": 3
   },
   "file_extension": ".py",
   "mimetype": "text/x-python",
   "name": "python",
   "nbconvert_exporter": "python",
   "pygments_lexer": "ipython3",
   "version": "3.8.8"
  }
 },
 "nbformat": 4,
 "nbformat_minor": 5
}
